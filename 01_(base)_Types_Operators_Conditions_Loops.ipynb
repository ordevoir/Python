{
  "cells": [
    {
      "cell_type": "markdown",
      "metadata": {
        "id": "view-in-github",
        "colab_type": "text"
      },
      "source": [
        "<a href=\"https://colab.research.google.com/github/ordevoir/Python/blob/main/01_(base)_Types_Operators_Conditions_Loops.ipynb\" target=\"_parent\"><img src=\"https://colab.research.google.com/assets/colab-badge.svg\" alt=\"Open In Colab\"/></a>"
      ]
    },
    {
      "cell_type": "markdown",
      "metadata": {
        "id": "WRDkGjbFoQF8"
      },
      "source": [
        "Инструкции в python можно разделять переносом на следующую строку, а также символом \"`;`\". Принято разделять переносом. Воспользуемся двумя встроенными функциями:\n",
        "\n",
        "- [`print()`](https://docs.python.org/3/library/functions.html#print) выводит на печать значения выражений, переданных в аргументе\n",
        "- [`type()`](https://docs.python.org/3/library/functions.html#type) возвращает тип (класс) объекта, переданного в аргументе\n",
        "\n",
        "Полный список встроенных функций и их описание можно посмотреть в [документации](https://docs.python.org/3/library/functions.html)."
      ]
    },
    {
      "cell_type": "markdown",
      "metadata": {
        "id": "ULRVAMcIoQF_"
      },
      "source": [
        "# Создание переменных базовых типов\n",
        "\n",
        "Создадим несколько переменных, которые будут содержать данные базовых типов. Интерпретатор python самостоятельно решает, какого типа будет создан объект в зависимости от присваиваемых значений. За рамками рассмотрения остаются базовые типы `complex` и `byte`.\n",
        "\n",
        "Для того, чтобы произвести присванивание значения, используется символ `=`:"
      ]
    },
    {
      "cell_type": "code",
      "execution_count": 17,
      "metadata": {
        "id": "7n86brawoQF_",
        "outputId": "3510f3a7-de79-494d-d227-81be8bd14b4b",
        "colab": {
          "base_uri": "https://localhost:8080/"
        }
      },
      "outputs": [
        {
          "output_type": "stream",
          "name": "stdout",
          "text": [
            "<class 'int'>\n",
            "<class 'float'>\n",
            "<class 'str'>\n",
            "<class 'bool'>\n",
            "<class 'int'>\n",
            "<class 'NoneType'>\n"
          ]
        }
      ],
      "source": [
        "a = 5               # int\n",
        "b = 1.3             # float\n",
        "d = True            # bool\n",
        "n = None            # NoneType\n",
        "c = \"строка\"        # str\n",
        "\n",
        "h = a               # новое имя h ссылается на тот же объект, что и a\n",
        "\n",
        "print(type(a))\n",
        "print(type(b))\n",
        "print(type(c))\n",
        "print(type(d))\n",
        "print(type(h))\n",
        "print(type(n))"
      ]
    },
    {
      "cell_type": "markdown",
      "metadata": {
        "id": "0aRfUjF1oQGB"
      },
      "source": [
        "В python реализована динамическая типизация, поэтому, объявленной ранее переменной `a` можно присвоить другое значение любого типа. При этом, создается новый объект соответствующего типа, в данном случае – `str`, а целочисленный объект `5`, на который до этого ссылалась переменная `a`, уничтожается, если на него не ссылаются другие переменные. В данном случае имя `h` также ссылается на объект `5`, поэтому объект не уничтожится.\n",
        "\n",
        "Такая специфика поведения существенно отличается от поведения переменных в типизированных языках, за которыми строго закрепляется определенная область памяти, и при присвоениях меняется только содержимое этих областей. Для того, чтобы подчеркнуть это отличие, в Python принято использовать понятие **имя** (*name*) вместо понятия переменная."
      ]
    },
    {
      "cell_type": "code",
      "execution_count": 18,
      "metadata": {
        "id": "YHin42cGoQGB",
        "outputId": "a040480a-2f18-4015-8440-9d9b702904de",
        "colab": {
          "base_uri": "https://localhost:8080/"
        }
      },
      "outputs": [
        {
          "output_type": "stream",
          "name": "stdout",
          "text": [
            "Значение другого типа\n",
            "5\n"
          ]
        }
      ],
      "source": [
        "a = \"Значение другого типа\"\n",
        "print(a)\n",
        "print(h)"
      ]
    },
    {
      "cell_type": "markdown",
      "metadata": {
        "id": "nUOWQbDooQGB"
      },
      "source": [
        "# Арифметические операторы\n",
        "\n",
        "Оператор – это символ или ключевое слово, используемое для выполнения операции над одним или несколькими операндами и возвращающее результат."
      ]
    },
    {
      "cell_type": "code",
      "execution_count": 19,
      "metadata": {
        "id": "__ItsiThoQGC",
        "colab": {
          "base_uri": "https://localhost:8080/"
        },
        "outputId": "7a10623e-e955-4f14-9980-4050d1ab892b"
      },
      "outputs": [
        {
          "output_type": "stream",
          "name": "stdout",
          "text": [
            "5\n",
            "1\n",
            "6\n",
            "1.5\n",
            "9\n",
            "1\n",
            "1\n"
          ]
        }
      ],
      "source": [
        "print( 3 + 2 )      # сложение\n",
        "print( 3 - 2 )      # вычитание\n",
        "print( 3 * 2 )      # умножение\n",
        "print( 3 / 2 )      # деление\n",
        "print( 3 ** 2 )     # возведение в степень\n",
        "print( 3 % 2 )      # остаток от деления\n",
        "print( 3 // 2 )     # целочисленное деление\n",
        "# данные операторы возвращают число (int или float)"
      ]
    },
    {
      "cell_type": "markdown",
      "metadata": {
        "id": "4wXzlW7FoQGC"
      },
      "source": [
        "# Операторы сравнения"
      ]
    },
    {
      "cell_type": "code",
      "execution_count": 20,
      "metadata": {
        "id": "8MrO_BLPoQGC",
        "colab": {
          "base_uri": "https://localhost:8080/"
        },
        "outputId": "3e1c87f9-ac7b-4266-e1ef-6ef839a5fcb8"
      },
      "outputs": [
        {
          "output_type": "stream",
          "name": "stdout",
          "text": [
            "True\n",
            "False\n",
            "True\n",
            "False\n",
            "False\n",
            "True\n"
          ]
        }
      ],
      "source": [
        "print( 3 > 2 )      # больше\n",
        "print( 3 < 2 )      # меньше\n",
        "print( 3 >= 2 )     # больше либо равно\n",
        "print( 3 <= 2 )     # меньше либо равно\n",
        "print( 3 == 2 )     # равно\n",
        "print( 3 != 2 )     # не равно\n",
        "# эти операторы возвращают логический тип (False, True)"
      ]
    },
    {
      "cell_type": "markdown",
      "metadata": {
        "id": "u0j541ueoQGD"
      },
      "source": [
        "# Логические операторы\n",
        "\n",
        "- `not` – **отрицание** (*negation*)\n",
        "- `or` – **дизъюнкция** (*disjunction*)\n",
        "- `and` – **конъюнкция** (*conjunction*)"
      ]
    },
    {
      "cell_type": "code",
      "execution_count": 21,
      "metadata": {
        "id": "YW46zI_YoQGD",
        "outputId": "5f80e648-5ccf-47db-a66d-d5b777d0ffda",
        "colab": {
          "base_uri": "https://localhost:8080/"
        }
      },
      "outputs": [
        {
          "output_type": "stream",
          "name": "stdout",
          "text": [
            "False\n",
            "True\n",
            "\n",
            "True\n",
            "False\n"
          ]
        }
      ],
      "source": [
        "print( 1 == 2 )\n",
        "print( not 1 == 2 )                     # negation\n",
        "print()\n",
        "print( 1 == 2 or 1 == 1 or 2 != 3)      # disjunction\n",
        "print( 1 == 1 and 1 == 2 and 2 != 3)    # conjunction\n",
        "# эти операторы возвращают логический тип (False, True)"
      ]
    },
    {
      "cell_type": "markdown",
      "metadata": {
        "id": "KDqTK5hQoQGD"
      },
      "source": [
        "# Ветвление (*Conditional*)\n",
        "\n",
        "Интерпретатор Python выполняет инструкции последовательно (построчно), сверху вниз. Часто возникает необходимость выполнить те или иные инструкции в зависимости от условий. Т.е. мы хотим определить несколько ветвей развития событий. Например, мы хотим вывести на печать разные сообщения в зависимости от того, чему равно значение переменной `b`, которую мы определили ранее. В простейшем случае мы просто хотим вывести на печать некоторое сообщение, если значение `b` оказалось больше `0`.\n",
        "\n",
        "Опишем синтаксис. Для организации конструкции ветвления, используются **ключевые слова** (*keywords*) `if`, `elif` и `else`. После ключевого слова `if` идет **логическое выражение** (в данном случае `b < 5.3`). Логическое выражение возвращает значение булевого типа `False` или `True`. Далее, после двоеточия в последующих строках с отступом записывается блок инструкций (**вложенный код** или **тело блока**). Двоеточие служит разделителем (*delimiter*), который отделяет блок инструкций.  Если условное выражение возвращает `True`, то выполняется блок инструкций, в противном случае – блок инструкций пропускается."
      ]
    },
    {
      "cell_type": "code",
      "execution_count": 22,
      "metadata": {
        "id": "GAmIUW7EIJDd"
      },
      "outputs": [],
      "source": [
        "x = 5"
      ]
    },
    {
      "cell_type": "code",
      "execution_count": 23,
      "metadata": {
        "id": "-rl2FiJooQGD",
        "outputId": "d65cc408-b219-4f42-e100-2b27a2c15ef5",
        "colab": {
          "base_uri": "https://localhost:8080/"
        }
      },
      "outputs": [
        {
          "output_type": "stream",
          "name": "stdout",
          "text": [
            "x = 5\n"
          ]
        }
      ],
      "source": [
        "if x < 5.3:            # условное выражение\n",
        "    print(\"x =\", x)"
      ]
    },
    {
      "cell_type": "markdown",
      "metadata": {
        "id": "m3HwOmngoQGD"
      },
      "source": [
        "Предположим теперь, что мы хотим проверить несколько условий и, в зависимости от результатов проверок, выполнить определенный блок инструкций.\n",
        "\n",
        "Ключевое слово `elif` – сокращение от *else if*. Оно используется для разделения на несколько ветвей. Если условное выражение, идущее после `if` оказывается истинным, то выполняется только блок инструкций вложенный в заголовок, а все инструкции вложенные в `elif` игнорируются. Если условное выражение, идущее после `if` оказывается ложным, то блок инструкций вложенный в заголовок пропускается и проверяется условное выражение, идущее после `elif`. Если это выражение возвращает `True`, то выполняется блок инструкций, вложенный в этот `elif`.\n",
        "\n",
        "Блок инструкций, вложенный в `else` выполняется только в том случае, если ни одно условное выражение идущее после `if` или `elif` не оказалось истинным.\n",
        "\n",
        "Если отсутствует блок `else`, то возможен случай, при котором не выполняется ни один блок. В общем случае может быть выполнено не более одного блока инструкций, т.е. ситуация, при которой будет выполнено более одной ветви невозможно."
      ]
    },
    {
      "cell_type": "code",
      "execution_count": 33,
      "metadata": {
        "id": "GbTLhOMBoQGD",
        "outputId": "05d643e2-848f-4831-8665-c59c2c9eff1e",
        "colab": {
          "base_uri": "https://localhost:8080/"
        }
      },
      "outputs": [
        {
          "output_type": "stream",
          "name": "stdout",
          "text": [
            "и эта инструкция не будет выполнена\n"
          ]
        }
      ],
      "source": [
        "if b == 1:\n",
        "    print('инструкция, которая не будет выполнена')\n",
        "elif b != 1.3:\n",
        "    print('и эта инструкция не будет выполнена')\n",
        "elif False:\n",
        "    print('и еще одна инструкция, которая не будет выполнена')\n",
        "# элементов ветвления elif может быть произвольное количество\n",
        "else:\n",
        "    print('а эта инструкуия, пожалуй, выполнится')"
      ]
    },
    {
      "cell_type": "markdown",
      "metadata": {
        "id": "JoDG67c27BRQ"
      },
      "source": [
        "# Условное выражение (*Conditional Expression*)\n",
        "\n",
        "Конструкции ветвления, рассмотренные выше, представляют собой управляющие инструкции (*statements*). Ключевые слова `if` и `else` могут образовывать также условное выражение.\n",
        "\n",
        "Условное выражение возвращает одно из двух значений, в зависимости от условия. В выражении\n",
        "\n",
        "```python\n",
        "\"this\" if 10 > 12 else \"not this\"\n",
        "```\n",
        "\n",
        "условием является логическое выражение `10 > 12`. Выражение возвращает одно из возможных значение: `\"this\"` или `\"not this\"`"
      ]
    },
    {
      "cell_type": "code",
      "execution_count": 38,
      "metadata": {
        "id": "j_usv7kT7BRR",
        "outputId": "019c7b44-6bb5-446f-a757-7a9050484b15",
        "colab": {
          "base_uri": "https://localhost:8080/"
        }
      },
      "outputs": [
        {
          "output_type": "stream",
          "name": "stdout",
          "text": [
            "not this\n"
          ]
        }
      ],
      "source": [
        "s = \"this\" if 10 > 12 else \"not this\"   # Conditional Expression\n",
        "\n",
        "# равносильно условной инструкции:\n",
        "if 10 > 12:                             # Conditional Statement\n",
        "    s = \"this\"\n",
        "else:\n",
        "    s = \"not this\"\n",
        "print(s)"
      ]
    },
    {
      "cell_type": "code",
      "execution_count": 39,
      "metadata": {
        "colab": {
          "base_uri": "https://localhost:8080/",
          "height": 36
        },
        "id": "_hACXQqFIJDe",
        "outputId": "b0cdb6bb-8ae8-488a-d457-3e0a75cb0119"
      },
      "outputs": [
        {
          "output_type": "execute_result",
          "data": {
            "text/plain": [
              "'D'"
            ],
            "application/vnd.google.colaboratory.intrinsic+json": {
              "type": "string"
            }
          },
          "metadata": {},
          "execution_count": 39
        }
      ],
      "source": [
        "A = B = C = False\n",
        "D = True\n",
        "\n",
        "R = (    \"A\" if A\n",
        "    else \"B\" if B\n",
        "    else \"C\" if C\n",
        "    else \"D\" if D\n",
        "    else \"nothing\"\n",
        ")\n",
        "R"
      ]
    },
    {
      "cell_type": "markdown",
      "metadata": {
        "id": "Spva7qVxoQGE"
      },
      "source": [
        "# Циклы (*Loops*)\n",
        "\n",
        "Часто возникает необходимость многократно выполнять определенную последовательность инструкций при некотором меняющемся параметре. Каждое отдельное выполнение тела цикла называется **итерацией** (*iteration*)."
      ]
    },
    {
      "cell_type": "markdown",
      "metadata": {
        "id": "oe-miYPloQGE"
      },
      "source": [
        "## `while`\n",
        "\n",
        "После ключевого слова `while` идет **условие продолжения** цикла (в примере ниже это `number<6`). Итерации будут продолжаться до тех пор, пока условие продолжения будет оставаться истинным. Как только условие продолжения примет значение `False`, произойдет выход из цикла, и интерпретатор будет выполнять инструкции, идущие после тела цикла."
      ]
    },
    {
      "cell_type": "code",
      "execution_count": 40,
      "metadata": {
        "id": "5un_C-rpoQGE",
        "outputId": "dd11e6b3-eead-4483-9f94-01f7e42b8a1f",
        "colab": {
          "base_uri": "https://localhost:8080/"
        }
      },
      "outputs": [
        {
          "output_type": "stream",
          "name": "stdout",
          "text": [
            "number = 0\n",
            "number = 1\n",
            "number = 2\n",
            "number = 3\n",
            "number = 4\n",
            "number = 5\n",
            "эта инструкция выполняется после выхода из цикла\n"
          ]
        }
      ],
      "source": [
        "number = 0\n",
        "while number<6:\n",
        "    print(\"number =\", number)\n",
        "    number = number + 1\n",
        "\n",
        "print(\"эта инструкция выполняется после выхода из цикла\")"
      ]
    },
    {
      "cell_type": "markdown",
      "metadata": {
        "id": "_1P5aI3HoQGE"
      },
      "source": [
        "Расширенный синтаксис с заключительной инструкцией:"
      ]
    },
    {
      "cell_type": "code",
      "execution_count": 41,
      "metadata": {
        "id": "xbsbMC1KoQGE",
        "outputId": "bbaf8dfb-7a4e-49ca-e9a5-d7aa6189f13c",
        "colab": {
          "base_uri": "https://localhost:8080/"
        }
      },
      "outputs": [
        {
          "output_type": "stream",
          "name": "stdout",
          "text": [
            "10\n",
            "8\n",
            "6\n",
            "4\n",
            "заключительная инструкция\n"
          ]
        }
      ],
      "source": [
        "counter = 10\n",
        "c = \"строка\"\n",
        "while c == \"строка\":\n",
        "    if counter > 2:\n",
        "        print(counter)\n",
        "    else:\n",
        "        c = \"другая строка\"\n",
        "    counter -= 2\n",
        "else:\n",
        "    print(\"заключительная инструкция\")"
      ]
    },
    {
      "cell_type": "markdown",
      "metadata": {
        "id": "J8kZAdoqoQGE"
      },
      "source": [
        "## `for`\n",
        "\n",
        "Для того, чтобы организовать цикл, в котором некоторая переменная пробегает множество значений в диапозоне от `0` до `n`, можно использовать функцию `range()`. Функция возвращает последовательность (объект класса `range`), по которой можно \"пройтись\" оператором `in`. Есть три способа вызова функции `range()`:\n",
        "- `range(n)` - последовательность в диапазоне от `0` до `n` с шагом `1`\n",
        "- `range(m, n)` - последовательность в диапазоне от `m` до `n` с шагом `1`\n",
        "- `range(m, n, s)` - последовательность в диапазоне от `m` до `n` с шагом `s`\n",
        "\n",
        "Шаг может быть отрицательным."
      ]
    },
    {
      "cell_type": "code",
      "execution_count": 42,
      "metadata": {
        "id": "xM9lRj-EoQGE",
        "outputId": "b350f1da-3f36-418c-b827-3373324de7f0",
        "colab": {
          "base_uri": "https://localhost:8080/"
        }
      },
      "outputs": [
        {
          "output_type": "stream",
          "name": "stdout",
          "text": [
            "0\n",
            "1\n",
            "2\n",
            "3\n",
            "4\n"
          ]
        }
      ],
      "source": [
        "for i in range(5):\n",
        "    print(i)"
      ]
    },
    {
      "cell_type": "markdown",
      "metadata": {
        "id": "pVRE9JeOoQGF"
      },
      "source": [
        "Расширенный синтаксис с заключительной инструкцией:"
      ]
    },
    {
      "cell_type": "code",
      "execution_count": 43,
      "metadata": {
        "id": "6gskqwnnoQGF",
        "outputId": "b1942c9b-24e8-4b0f-bf0b-ffcedf9d3c3c",
        "colab": {
          "base_uri": "https://localhost:8080/"
        }
      },
      "outputs": [
        {
          "output_type": "stream",
          "name": "stdout",
          "text": [
            "20\n",
            "18\n",
            "16\n",
            "14\n",
            "12\n",
            "заключительная инструкция\n"
          ]
        }
      ],
      "source": [
        "for i in range(20, 10, -2):\n",
        "    print(i)\n",
        "else:\n",
        "    print('заключительная инструкция')"
      ]
    },
    {
      "cell_type": "markdown",
      "metadata": {
        "id": "wkEnihxWqwSh"
      },
      "source": [
        "# Множественное присваивание"
      ]
    },
    {
      "cell_type": "code",
      "execution_count": 31,
      "metadata": {
        "colab": {
          "base_uri": "https://localhost:8080/"
        },
        "id": "tI8rzHBvpcq0",
        "outputId": "bb90c586-5255-4f82-bda5-8e72cedc3086"
      },
      "outputs": [
        {
          "output_type": "stream",
          "name": "stdout",
          "text": [
            "1 2 3\n",
            "15 15 15\n"
          ]
        }
      ],
      "source": [
        "a, b, c = 1, 2, 3   # присвоение нескольких значений нескольким переменным\n",
        "x = y = z = 15      # присвоение одного значения нескольким переменным\n",
        "\n",
        "print(a, b, c)\n",
        "print(x, y, z)"
      ]
    },
    {
      "cell_type": "markdown",
      "metadata": {
        "id": "JaqZs1SNrsEL"
      },
      "source": [
        "# In-place версии операторов\n",
        "\n",
        "Многие операторы имеют *in-place* версии, позволяющие менять значения объекта **на месте**:"
      ]
    },
    {
      "cell_type": "code",
      "execution_count": 32,
      "metadata": {
        "id": "Sg4uIe2rrxcL"
      },
      "outputs": [],
      "source": [
        "x = 200\n",
        "x += 2      #   <=>   x = x + 2\n",
        "x -= 2      #   <=>   x = x - 2\n",
        "x *= 2      #   <=>   x = x * 2\n",
        "x /= 2      #   <=>   x = x / 2\n",
        "x %= 3      #   <=>   x = x % 3\n",
        "x **= 2     #   <=>   x = x ** 2\n",
        "x //= 2     #   <=>   x = x // 2"
      ]
    }
  ],
  "metadata": {
    "colab": {
      "provenance": [],
      "toc_visible": true,
      "include_colab_link": true
    },
    "kernelspec": {
      "display_name": "Python 3 (ipykernel)",
      "language": "python",
      "name": "python3"
    },
    "language_info": {
      "codemirror_mode": {
        "name": "ipython",
        "version": 3
      },
      "file_extension": ".py",
      "mimetype": "text/x-python",
      "name": "python",
      "nbconvert_exporter": "python",
      "pygments_lexer": "ipython3",
      "version": "3.11.5"
    },
    "vscode": {
      "interpreter": {
        "hash": "e20f72739ffc6c3cc505414aaab49afe57115ca17c783e620ccfd5d632835ddf"
      }
    }
  },
  "nbformat": 4,
  "nbformat_minor": 0
}