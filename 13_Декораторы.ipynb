{
 "cells": [
  {
   "cell_type": "markdown",
   "id": "7f424d6a-e540-4a0d-82d9-7d5103952765",
   "metadata": {
    "id": "7f424d6a-e540-4a0d-82d9-7d5103952765"
   },
   "source": [
    "# Декораторы\n",
    "Декоратор принимает в качестве аргумента функцию, и возвращает функцию обертку, в которой вызывается сама декорируемая функция, а так же некоторые инструкции до и после вызова функции."
   ]
  },
  {
   "cell_type": "code",
   "execution_count": null,
   "id": "OAyp0mO1iguM",
   "metadata": {
    "colab": {
     "base_uri": "https://localhost:8080/"
    },
    "id": "OAyp0mO1iguM",
    "outputId": "70de696a-7a38-4398-b3c1-0194cf657683"
   },
   "outputs": [
    {
     "name": "stdout",
     "output_type": "stream",
     "text": [
      "calling function 5\n",
      "execution time: 0.10800361633300781 ms\n"
     ]
    },
    {
     "data": {
      "text/plain": [
       "5"
      ]
     },
     "execution_count": 12,
     "metadata": {},
     "output_type": "execute_result"
    }
   ],
   "source": [
    "from time import time\n",
    "\n",
    "def decorator(function):\n",
    "    def wrapper(*args, **kwargs):\n",
    "        t = time()\n",
    "        value = function(*args, **kwargs)\n",
    "        print(f\"execution time: {(time()-t)*1000} ms\")\n",
    "        return value\n",
    "    return wrapper\n",
    "\n",
    "# определим функцию, которую нужно декорировать\n",
    "def f(a):\n",
    "    print('calling function', a)\n",
    "    return a\n",
    "\n",
    "# один из способов декорирования:\n",
    "f = decorator(f)\n",
    "f(5)"
   ]
  },
  {
   "cell_type": "markdown",
   "id": "c44712e2",
   "metadata": {},
   "source": [
    "Второй способ декорирования (при определении функции):"
   ]
  },
  {
   "cell_type": "code",
   "execution_count": null,
   "id": "5nQkPmCekhKx",
   "metadata": {
    "colab": {
     "base_uri": "https://localhost:8080/"
    },
    "id": "5nQkPmCekhKx",
    "outputId": "747ac233-7570-4da9-9513-a8b1280e0b98"
   },
   "outputs": [
    {
     "name": "stdout",
     "output_type": "stream",
     "text": [
      "calling another function\n",
      "execution time: 0.7295608520507812 ms\n"
     ]
    }
   ],
   "source": [
    "@decorator\n",
    "def g():\n",
    "    print('calling another function')\n",
    "\n",
    "g()"
   ]
  }
 ],
 "metadata": {
  "colab": {
   "include_colab_link": true,
   "provenance": [],
   "toc_visible": true
  },
  "kernelspec": {
   "display_name": "Python 3 (ipykernel)",
   "language": "python",
   "name": "python3"
  },
  "language_info": {
   "codemirror_mode": {
    "name": "ipython",
    "version": 3
   },
   "file_extension": ".py",
   "mimetype": "text/x-python",
   "name": "python",
   "nbconvert_exporter": "python",
   "pygments_lexer": "ipython3",
   "version": "3.10.10"
  }
 },
 "nbformat": 4,
 "nbformat_minor": 5
}
