{
  "cells": [
    {
      "cell_type": "markdown",
      "metadata": {
        "id": "view-in-github",
        "colab_type": "text"
      },
      "source": [
        "<a href=\"https://colab.research.google.com/github/ordevoir/Python/blob/main/17_%D0%A0%D0%B0%D0%B1%D0%BE%D1%82%D0%B0_%D1%81_%D1%84%D0%B0%D0%B9%D0%BB%D0%B0%D0%BC%D0%B8_%D0%B8_%D0%BA%D0%B0%D1%82%D0%B0%D0%BB%D0%BE%D0%B3%D0%B0%D0%BC%D0%B8.ipynb\" target=\"_parent\"><img src=\"https://colab.research.google.com/assets/colab-badge.svg\" alt=\"Open In Colab\"/></a>"
      ]
    },
    {
      "cell_type": "markdown",
      "id": "315bd737-7592-4568-a430-2f829c660efc",
      "metadata": {
        "id": "315bd737-7592-4568-a430-2f829c660efc"
      },
      "source": [
        "# Путь к интерпретатору"
      ]
    },
    {
      "cell_type": "code",
      "execution_count": null,
      "id": "e819b510-3ba2-4415-8722-d67933a3cff5",
      "metadata": {
        "id": "e819b510-3ba2-4415-8722-d67933a3cff5",
        "outputId": "08f45d8c-2117-44e9-fdfa-defdb2eb4437"
      },
      "outputs": [
        {
          "name": "stdout",
          "output_type": "stream",
          "text": [
            "c:\\Users\\wernadsky\\miniconda3\\envs\\tf\\python.exe\n"
          ]
        }
      ],
      "source": [
        "import sys\n",
        "print(sys.executable)"
      ]
    },
    {
      "cell_type": "markdown",
      "id": "09fd987e-fdcb-4223-b4b7-18db56a86a8e",
      "metadata": {
        "id": "09fd987e-fdcb-4223-b4b7-18db56a86a8e"
      },
      "source": [
        "# Путь к рабочему каталогу"
      ]
    },
    {
      "cell_type": "code",
      "execution_count": null,
      "id": "7fcb71d1-8d88-4877-8def-61c9a7c43b08",
      "metadata": {
        "id": "7fcb71d1-8d88-4877-8def-61c9a7c43b08",
        "outputId": "7a4c7260-2c82-4bf0-ca9e-690f2f2ebb8e"
      },
      "outputs": [
        {
          "name": "stdout",
          "output_type": "stream",
          "text": [
            "c:\\Users\\wernadsky\\Documents\\GitHub\n"
          ]
        }
      ],
      "source": [
        "import os\n",
        "work_dir = os.path.abspath(\"\")\n",
        "print(work_dir)"
      ]
    },
    {
      "cell_type": "code",
      "execution_count": null,
      "id": "8cbd514a-6f37-4374-abe5-7fb0387df2e9",
      "metadata": {
        "id": "8cbd514a-6f37-4374-abe5-7fb0387df2e9",
        "outputId": "a7813f2d-39ec-49f3-9169-815dce0c5f48"
      },
      "outputs": [
        {
          "name": "stdout",
          "output_type": "stream",
          "text": [
            "c:\\Users\\wernadsky\\Documents\\GitHub\n"
          ]
        }
      ],
      "source": [
        "import os\n",
        "work_dir = os.getcwd()           # возвращает путь к рабочему каталогу\n",
        "print(work_dir)"
      ]
    },
    {
      "cell_type": "markdown",
      "id": "85e989fa-5fe7-4b95-ac73-178f00e8db48",
      "metadata": {
        "id": "85e989fa-5fe7-4b95-ac73-178f00e8db48"
      },
      "source": [
        "# Путь к исполняемому файлу"
      ]
    },
    {
      "cell_type": "markdown",
      "id": "4042fed0-d0cc-4d48-a8fa-c8c19896cf61",
      "metadata": {
        "id": "4042fed0-d0cc-4d48-a8fa-c8c19896cf61"
      },
      "source": [
        ":## Для файлов `*.ipynb`"
      ]
    },
    {
      "cell_type": "code",
      "execution_count": null,
      "id": "39d0e4b1-bfb1-4d02-966a-07647af9d9ae",
      "metadata": {
        "id": "39d0e4b1-bfb1-4d02-966a-07647af9d9ae",
        "outputId": "e01be909-aba7-4d5a-a2c3-bbb4c0c2b603"
      },
      "outputs": [
        {
          "name": "stdout",
          "output_type": "stream",
          "text": [
            "c:\\Users\\wernadsky\\Documents\\GitHub\\Python\n"
          ]
        }
      ],
      "source": [
        "file_path = globals()['_dh'][0]     # путь к исполняемому файлу\n",
        "print(str(file_path))"
      ]
    },
    {
      "cell_type": "markdown",
      "id": "a5a3961b-4de6-4ee8-8ee2-68eca511c807",
      "metadata": {
        "id": "a5a3961b-4de6-4ee8-8ee2-68eca511c807"
      },
      "source": [
        "## Для файлов `*.py`"
      ]
    },
    {
      "cell_type": "code",
      "execution_count": null,
      "id": "69cdb9fd-91ef-4293-9844-a5633444f116",
      "metadata": {
        "id": "69cdb9fd-91ef-4293-9844-a5633444f116"
      },
      "outputs": [],
      "source": [
        "# from os.path import abspath, dirname\n",
        "# path = abspath(__file__)      # возвращает полное имя текущего файла\n",
        "# location = dirname(path)      # извлекает путь из полного имени файла"
      ]
    },
    {
      "cell_type": "markdown",
      "id": "547c2fae",
      "metadata": {
        "id": "547c2fae"
      },
      "source": [
        "## Универсальная функция\n",
        "\n",
        "В jupyter не определена переменная `__file__`, но определена функция `get_ipython()`, в отличие от файлов, запускаемых в режиме терминала. Это обстоятельство позволяет выяснить, запускается ли фрагмент кода в jupyter."
      ]
    },
    {
      "cell_type": "code",
      "execution_count": null,
      "id": "a4f40e02",
      "metadata": {
        "id": "a4f40e02",
        "outputId": "18501cff-cba6-4867-811d-8324ab9c21a1"
      },
      "outputs": [
        {
          "data": {
            "text/plain": [
              "True"
            ]
          },
          "execution_count": 1,
          "metadata": {},
          "output_type": "execute_result"
        }
      ],
      "source": [
        "def is_running_in_jupyter():\n",
        "    try:\n",
        "        __file__\n",
        "        return False\n",
        "    except NameError:\n",
        "        return True\n",
        "\n",
        "is_running_in_jupyter()"
      ]
    },
    {
      "cell_type": "markdown",
      "id": "82f10ae8",
      "metadata": {
        "id": "82f10ae8"
      },
      "source": [
        "Исходя из этого можно написать универсальную функцию, возвращающую путь к исполняемому файлу:"
      ]
    },
    {
      "cell_type": "code",
      "execution_count": null,
      "id": "74985fd4",
      "metadata": {
        "id": "74985fd4",
        "outputId": "f1d2fe9f-a9fe-4f12-ae5c-f1583dfacb75"
      },
      "outputs": [
        {
          "data": {
            "text/plain": [
              "'c:\\\\Users\\\\wernadsky\\\\Documents\\\\GitHub\\\\Python'"
            ]
          },
          "execution_count": 2,
          "metadata": {},
          "output_type": "execute_result"
        }
      ],
      "source": [
        "def get_abs_path():\n",
        "    if is_running_in_jupyter():\n",
        "        path = globals()['_dh'][0]\n",
        "    else:\n",
        "        from os.path import abspath\n",
        "        path = abspath(__file__)\n",
        "    return str(path)\n",
        "\n",
        "get_abs_path()"
      ]
    },
    {
      "cell_type": "markdown",
      "id": "c2f3f25a-7429-4bc2-8365-4b2a0278bdf8",
      "metadata": {
        "id": "c2f3f25a-7429-4bc2-8365-4b2a0278bdf8"
      },
      "source": [
        "> Пути к исполняемому файлу и рабочий каталог могут не совпадать. В общем случае рабочий каталог можно менять, в то время как расположение исполняемого файла будет прежним:"
      ]
    },
    {
      "cell_type": "code",
      "execution_count": null,
      "id": "137e56bf-9912-469b-9636-aa4fdfbd3814",
      "metadata": {
        "id": "137e56bf-9912-469b-9636-aa4fdfbd3814",
        "outputId": "3ca9ba78-defb-4530-f96c-72dee215a56a"
      },
      "outputs": [
        {
          "name": "stdout",
          "output_type": "stream",
          "text": [
            "file_path = 'c:\\\\Users\\\\wernadsky\\\\Documents\\\\GitHub\\\\Python'\n",
            "work_dir =  'c:\\\\Users\\\\wernadsky\\\\Documents\\\\GitHub'\n"
          ]
        }
      ],
      "source": [
        "import os\n",
        "\n",
        "origin_wd = os.getcwd()                 # текущий рабочий каталог\n",
        "os.chdir(\"..\")                          # сменим рабочий каталог\n",
        "file_path = get_abs_path()              # путь к исполняемому файлу\n",
        "work_dir = os.getcwd()                  # путь к рабочему каталогу\n",
        "os.chdir(origin_wd)                     # возврат к исходному каталогу\n",
        "print(f\"{file_path = }\\n{work_dir =  }\")"
      ]
    },
    {
      "cell_type": "markdown",
      "id": "0b7462dd-f091-4892-9558-9cf039f5e613",
      "metadata": {
        "id": "0b7462dd-f091-4892-9558-9cf039f5e613"
      },
      "source": [
        "По умолчанию текущим рабочим каталогом будет каталог, из которого запускается файл в коммандной сторке, а не каталог, в котором расположен исполняемый файл.\n",
        "\n",
        "Кроме того, пути поиска файлов не имеют никакого отношения к путям поиска модулей."
      ]
    },
    {
      "cell_type": "markdown",
      "id": "059e62d4-fffe-47e1-9ebe-198c9943206d",
      "metadata": {
        "id": "059e62d4-fffe-47e1-9ebe-198c9943206d"
      },
      "source": [
        "# Прочие функции\n",
        "\n",
        "\n",
        "`os.mkdir('folder')` создает новую директорию\n",
        "\n",
        "`os.makedirs('another1/another2/another3')` – сделать несколько вложенных папок.\n",
        "`os.rename(\"text.txt\", \"renamed-text.txt\")` – переименование файла или папки.\n",
        "\n",
        "Переместить (с заменой) файл в другой каталог (переименовать полный путь):\n",
        "`os.replace(\"renamed-text.txt\", \"folder/renamed-text.txt\")`.\n",
        "\n",
        "`os.path.isdir('folder')` возвращает `True`, если каталог `folder` существует.\n",
        "\n",
        "`os.path.exists()` возвращает `True`, если файл/каталог с заданным именем существует.\n",
        "\n",
        "`os.path.dirname()` отбрасывает имя файла и возвращает путь.\n",
        "\n",
        "`os.path.basename()` отбрасывает путь и оставляет только имя файла/каталога. Например, `'foo/bar'` превратится в `'bar'`, а `'foo/bar/'` превратится в `''`.\n",
        "\n",
        "`os.path.splitext()` позволяет отделить расширение от имени файла"
      ]
    },
    {
      "cell_type": "code",
      "execution_count": null,
      "id": "b834fceb",
      "metadata": {
        "id": "b834fceb",
        "outputId": "084b6bce-329c-4ac3-d89f-0fcb460e6dbf"
      },
      "outputs": [
        {
          "data": {
            "text/plain": [
              "('files/images', 'picture', '.png')"
            ]
          },
          "execution_count": 39,
          "metadata": {},
          "output_type": "execute_result"
        }
      ],
      "source": [
        "from os.path import dirname, basename, splitext\n",
        "\n",
        "path = \"files/images/picture.png\"\n",
        "location = dirname(path)\n",
        "filename, extension = splitext(basename(path))\n",
        "\n",
        "location, filename, extension"
      ]
    },
    {
      "cell_type": "code",
      "execution_count": null,
      "id": "f65d3808",
      "metadata": {
        "id": "f65d3808",
        "outputId": "305cbfa3-91e9-4dd3-f32e-0d741fc9f8ce"
      },
      "outputs": [
        {
          "data": {
            "text/plain": [
              "'images'"
            ]
          },
          "execution_count": 75,
          "metadata": {},
          "output_type": "execute_result"
        }
      ],
      "source": [
        "basename(location)"
      ]
    },
    {
      "cell_type": "markdown",
      "id": "a318dd03-23d2-41d7-80f1-fc684575eea0",
      "metadata": {
        "id": "a318dd03-23d2-41d7-80f1-fc684575eea0"
      },
      "source": [
        "# Чтение файла и запись"
      ]
    },
    {
      "cell_type": "code",
      "execution_count": null,
      "id": "87a7e7f7-96bb-4df6-879b-9552ca0b6832",
      "metadata": {
        "id": "87a7e7f7-96bb-4df6-879b-9552ca0b6832"
      },
      "outputs": [],
      "source": [
        "# Чтение\n",
        "with open('Python\\\\file', 'r') as file:\n",
        "    file.read()         # получить содержимое файла\n",
        "    file.readline()     # построчное стение\n",
        "    file.readlines()    # получить список строк\n",
        "    for line in file:   # перебор строк файла\n",
        "        print(line)\n",
        "\n",
        "# Запись\n",
        "with open('Python\\\\file', 'w') as file:\n",
        "    file.write('some text')            # запись в файл\n",
        "    file.writelines(['some', 'text'])  # запись списка строк в файл"
      ]
    },
    {
      "cell_type": "markdown",
      "id": "ea7e640e-7860-4add-b104-c6b02ff1cc81",
      "metadata": {
        "id": "ea7e640e-7860-4add-b104-c6b02ff1cc81"
      },
      "source": [
        "Переменная `file` является объектому класса _io.TextIOWrapper. С другими методами этого класса можно ознакомиться <a href=\"https://www.w3schools.com/python/python_ref_file.asp\">здесь</a>"
      ]
    },
    {
      "cell_type": "markdown",
      "id": "wp8d39jgixGz",
      "metadata": {
        "id": "wp8d39jgixGz"
      },
      "source": [
        "# Скачивание файла"
      ]
    },
    {
      "cell_type": "markdown",
      "id": "1d5d2f9f",
      "metadata": {
        "id": "1d5d2f9f"
      },
      "source": [
        "## `requests`\n",
        "\n",
        "Один из сопособов – воспользоваться модулем `requests`. Функция `get()` возвращает объект класса `Response`. Поле `status_code` содержит статус ответа, а поле `content` – содержимое ответа в байтовом представлении (объект `bytes`).\n",
        "\n",
        "Приведенная функция `download()` по умолчанию загружает файл в рабочий каталог, но также можно задать путь (абсолютный или относительный)."
      ]
    },
    {
      "cell_type": "code",
      "execution_count": null,
      "id": "c6ef0f79",
      "metadata": {
        "id": "c6ef0f79"
      },
      "outputs": [],
      "source": [
        "import requests\n",
        "from os import mkdir\n",
        "from os.path import basename, isdir\n",
        "\n",
        "def download(url, location='.'):\n",
        "    response = requests.get(url)\n",
        "    if response.status_code != 200:\n",
        "        raise IOError(f\"response statis code is {response.status_code}\")\n",
        "\n",
        "    if not isdir(location):\n",
        "        mkdir(location)\n",
        "\n",
        "    path = location + '/' + basename(url)\n",
        "    with open(path, \"wb\") as file:\n",
        "        file.write(response.content)\n",
        "\n",
        "    print(f'The file is successfully downloaded with path: \\n{path}')"
      ]
    },
    {
      "cell_type": "code",
      "execution_count": null,
      "id": "ivMQF-tALsTn",
      "metadata": {
        "colab": {
          "base_uri": "https://localhost:8080/"
        },
        "id": "ivMQF-tALsTn",
        "outputId": "077004a4-8f82-4fc1-fe7c-f8ade6d6d1f3"
      },
      "outputs": [
        {
          "name": "stdout",
          "output_type": "stream",
          "text": [
            "The file is successfully downloaded with path: \n",
            "./example_img.png\n"
          ]
        }
      ],
      "source": [
        "url = \"https://raw.githubusercontent.com/ordevoir/Python/main/images/example_img.png\"\n",
        "download(url)"
      ]
    },
    {
      "cell_type": "markdown",
      "id": "073475cf",
      "metadata": {
        "id": "073475cf"
      },
      "source": [
        "## `urlretrieve()`\n",
        "\n",
        "Другой сопосб – использование функции `urlretrieve()` из модуля `urllib.request`. Функция `urlretrieve` копирует объект на диск. Первый аргумент – **url** объекта. Если второй аргумент (`filename`) не задан, то объект будет сохранен во временных файлах. Можно задать `filename`, и тогда объект будет сохранен в соответствующем месте с соответствующим именем. Функция `urlretrieve` возвращает кортеж `(filename, headers)` – имя файла и заголовки запроса.\n",
        "\n",
        "Важное отличие следующей функции `download()` от предыдущей в том, что здесь файл не будет перезаписан, если он уже существует."
      ]
    },
    {
      "cell_type": "code",
      "execution_count": null,
      "id": "e1677dc6",
      "metadata": {
        "id": "e1677dc6"
      },
      "outputs": [],
      "source": [
        "from os.path import basename, exists\n",
        "from urllib.request import urlretrieve\n",
        "\n",
        "def download(url, location='.'):\n",
        "    path = location + '/' + basename(url)\n",
        "    if not exists(path):\n",
        "        local_filename, headers = urlretrieve(url, path)\n",
        "        print('Downloaded ' + path)\n",
        "    else:\n",
        "        print('file ' + path + ' already exists')"
      ]
    },
    {
      "cell_type": "markdown",
      "id": "f07080de",
      "metadata": {
        "id": "f07080de"
      },
      "source": [
        "## Скачивание модуля из репозитория\n",
        "\n",
        "Разместим файл модуля в той же директории, где и исполняемый файл:"
      ]
    },
    {
      "cell_type": "code",
      "execution_count": null,
      "id": "f8962b9a",
      "metadata": {
        "colab": {
          "base_uri": "https://localhost:8080/"
        },
        "id": "f8962b9a",
        "outputId": "3bf8ad11-171b-4dd9-ca04-3819357349e5"
      },
      "outputs": [
        {
          "name": "stdout",
          "output_type": "stream",
          "text": [
            "file /content/tools.py already exists\n"
          ]
        }
      ],
      "source": [
        "url = \"https://raw.githubusercontent.com/ordevoir/Miscellaneous/master/tools.py\"\n",
        "\n",
        "path = get_abs_path()\n",
        "download(url, path)"
      ]
    }
  ],
  "metadata": {
    "colab": {
      "provenance": [],
      "toc_visible": true,
      "include_colab_link": true
    },
    "kernelspec": {
      "display_name": "Python 3 (ipykernel)",
      "language": "python",
      "name": "python3"
    },
    "language_info": {
      "codemirror_mode": {
        "name": "ipython",
        "version": 3
      },
      "file_extension": ".py",
      "mimetype": "text/x-python",
      "name": "python",
      "nbconvert_exporter": "python",
      "pygments_lexer": "ipython3",
      "version": "3.11.5"
    }
  },
  "nbformat": 4,
  "nbformat_minor": 5
}