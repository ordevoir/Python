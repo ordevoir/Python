{
  "cells": [
    {
      "cell_type": "markdown",
      "metadata": {
        "id": "view-in-github",
        "colab_type": "text"
      },
      "source": [
        "<a href=\"https://colab.research.google.com/github/ordevoir/Python/blob/main/16_%D0%98%D1%81%D0%BA%D0%BB%D1%8E%D1%87%D0%B5%D0%BD%D0%B8%D1%8F.ipynb\" target=\"_parent\"><img src=\"https://colab.research.google.com/assets/colab-badge.svg\" alt=\"Open In Colab\"/></a>"
      ]
    },
    {
      "cell_type": "markdown",
      "source": [
        "# Исключения (*Exceptions*)\n",
        "\n",
        "Исключения в Python – это объекты, которые сообщают об ошибочной ситуации во время выполнения программы (например, деление на ноль или обращение к несуществующему ключу). Их можно **перехватывать** (*catch*) и **обрабатывать** (*handle*) с помощью блоков `try`/`except` (а также `else` и `finally`), чтобы программа не падала и завершала работу корректно.\n",
        "\n",
        "Исключения можно возбуждать через `raise` и определять свои классы, наследуясь от `Exception`, чтобы точнее описывать ошибки в коде.\n"
      ],
      "metadata": {
        "id": "JeoqCbPekIKu"
      }
    },
    {
      "cell_type": "markdown",
      "metadata": {
        "id": "sRGtqTvq7BRn"
      },
      "source": [
        "# Обработка исключений\n",
        "\n"
      ]
    },
    {
      "cell_type": "markdown",
      "metadata": {
        "id": "2xORET1IjLlI"
      },
      "source": [
        "## `try` / `except`\n",
        "\n",
        "Эта форма инструкции содержит одно или несколько ключевых слов `except` и необязательное ключевое слово `else`. Тело каждого блока `except` называется **обработчиком исключений** (*handler*).\n",
        "\n",
        "В коде блока `try` производится перехват исключения, после чего вызвается интерпретатор автоматически переходит к обработчику, соответствующему типу исключения.\n",
        "\n",
        "В коде ниже единственный обработчик `except` перехватывает любой тип исключения, так как ему не задан специфический вид исключения."
      ]
    },
    {
      "cell_type": "code",
      "execution_count": null,
      "metadata": {
        "id": "YaTVgO1m7BRn",
        "outputId": "617fc5d4-e403-423d-d2c5-2eb8a63aac55"
      },
      "outputs": [
        {
          "name": "stdout",
          "output_type": "stream",
          "text": [
            "Ошибка типов\n",
            "Программа продолжает работу, так как исключение было обработано...\n"
          ]
        }
      ],
      "source": [
        "try:\n",
        "    a = 1 + '2'\n",
        "except:\n",
        "    print('Ошибка типов')   # обработчик исклбючения\n",
        "\n",
        "print('Программа продолжает работу, так как исключение было обработано...')"
      ]
    },
    {
      "cell_type": "markdown",
      "metadata": {
        "id": "UCQJq_-HjLlK"
      },
      "source": [
        "### Общий синтаксис"
      ]
    },
    {
      "cell_type": "code",
      "execution_count": null,
      "metadata": {
        "id": "IAWf7BnNjLlK"
      },
      "outputs": [],
      "source": [
        "import sys\n",
        "x = 1; y = 0; z = '2'"
      ]
    },
    {
      "cell_type": "code",
      "execution_count": null,
      "metadata": {
        "id": "FLVzMBdk7BRn",
        "outputId": "9d1fd973-31f5-463f-afac-e1cf5946d6c7"
      },
      "outputs": [
        {
          "name": "stdout",
          "output_type": "stream",
          "text": [
            "(<class 'ZeroDivisionError'>, ZeroDivisionError('division by zero'), <traceback object at 0x00000277ED2CE5C0>)\n",
            "<class 'ZeroDivisionError'>\n",
            "target = ZeroDivisionError('division by zero')\n",
            "Иструкция выполняется в любом случае\n"
          ]
        }
      ],
      "source": [
        "try:\n",
        "    x / y\n",
        "    # x / z\n",
        "    # x / x\n",
        "except ZeroDivisionError as target:\n",
        "    print(sys.exc_info())       # получить текущий объект исключения\n",
        "    print(ZeroDivisionError)\n",
        "    print(f'{target = }')\n",
        "except:\n",
        "    print('Произошло некоторое исключение')\n",
        "else:       # Необязательное предложение else инструкции try / except\n",
        "    print('Инструкция выполняется только если исключений не произошло')\n",
        "finally:\n",
        "    print('Иструкция выполняется в любом случае')"
      ]
    },
    {
      "cell_type": "markdown",
      "metadata": {
        "id": "IzqM50Ds7BRo"
      },
      "source": [
        "`target` – идентификатор переменной которую Python связывает с объектом исключения непосредственно перед выполнением обработчика исключения.\n",
        "\n",
        "`else` содержит код, который выполняется только в случае успешного выполнения кода в `try` без возбуждения исключений.\n",
        "\n",
        "`finally` определяет так называемый обработчик очистки. Код этого обработчика выполняется всегда, независимо от того, каким образом было завершено выполнение кода в `try`. Код внутри `finally` обычно освобождает критически важный ресурс или восстанавливает временно измененное состояние.\n",
        "\n",
        "Обработчики специфических исключений всегда должны предшествовать обработчикам более общих исключений. Несоблюдение этого правила приведет к тому, что обработчики более специфических исключений никогда не смогут быть выполнены.\n",
        "\n",
        "Избегайте использования \"пустых\" инструкций `except` (в которых нет выражений): такой небрежный стиль может затруднить поиск причин возникновения ошибки, поскольку подобные инструкции слишком общие и могут маскировать ошибки в коде и другие виды логических ошибок. Однако в некоторых случаях пустые `except` может оказаться более удобной, чем перечисление всех возможных исключений в `try`."
      ]
    },
    {
      "cell_type": "markdown",
      "metadata": {
        "id": "oMJGLoTYjLlL"
      },
      "source": [
        "## `try` / `finally`\n",
        "\n",
        "Код в `finally` всегда запускается независимо от успешности выполнения кода в `try`:\n",
        "- Если во время выполнения блока `try` исключение не возникало, тогда интерпретатор Python переходит к выполнению блока `finally` и продолжает выполнение и идет дальше.\n",
        "- Если во время выполнения блока `try` возникло исключение, то Python по-прежнему выполняет блок `finally`, но программа не возобновляет выполнение с места ниже конструкции `finally`. То есть блок `finally` запускается, даже если генерируется исключение, но в отличие от `except` конструкция `finally` не останавливает исключение – после выполнения блока `finally` оно продолжает быть сгенерированным.\n",
        "\n",
        "Форма `try`/`finally` удобна, когда вы хотите иметь полную уверенность в том, что действие произойдет после выполнения определенного кода независимо от поведения программы, касающегося исключений. На практике она позволяет указывать действия по очистке, которые должны происходить всегда, такие как закрытие файлов и разрыв соединений с сервером, когда они требуются.\n",
        "\n",
        "> Ключевое слово `with` и его контекстные менеджеры предлагают основанный на объектах способ выполнения похожей работы для действий при выходе. В отличие от `finally` эта конструкция также поддерживает действия при входе, но его сфера ограничена объектами, которые реализуют используемый им протокол диспетчеров контекстов.``"
      ]
    },
    {
      "cell_type": "markdown",
      "metadata": {
        "id": "H46wKbVz7BRo"
      },
      "source": [
        "# Возбуждение исключения"
      ]
    },
    {
      "cell_type": "markdown",
      "metadata": {
        "id": "J2o_gbcWjLlL"
      },
      "source": [
        "## `raise`\n",
        "\n",
        "Возбуждение искключений производится при помощи ключевого слова `raise`. Генерируемые пользователем исключения перехватываются тем же способом, что и исключения, которые генерирует интерпретатор Python."
      ]
    },
    {
      "cell_type": "code",
      "execution_count": null,
      "metadata": {
        "id": "lhK_7oVI7BRo",
        "outputId": "d289beb4-1b05-40f9-f007-1e345e9203c5"
      },
      "outputs": [
        {
          "name": "stdout",
          "output_type": "stream",
          "text": [
            "got exception\n"
          ]
        }
      ],
      "source": [
        "try:\n",
        "    raise TypeError(\"This is exception\")\n",
        "except TypeError:\n",
        "    print('got exception')"
      ]
    },
    {
      "cell_type": "markdown",
      "metadata": {
        "id": "ZF6X_K1yjLlL"
      },
      "source": [
        "## `assert`\n",
        "Условная генерация исключения используется главным образом при отладке на стадии разработки. При этом возбуждается исключение `AssertionError`:"
      ]
    },
    {
      "cell_type": "code",
      "execution_count": null,
      "metadata": {
        "id": "uzTFTQ2RjLlL",
        "outputId": "3cfbdffa-9055-4552-a553-1dc4dfc199c0"
      },
      "outputs": [
        {
          "ename": "AssertionError",
          "evalue": "This is exception!",
          "output_type": "error",
          "traceback": [
            "\u001b[1;31m---------------------------------------------------------------------------\u001b[0m",
            "\u001b[1;31mAssertionError\u001b[0m                            Traceback (most recent call last)",
            "\u001b[1;32mc:\\Users\\wernadsky\\Documents\\GitHub\\Python\\Exceptions.ipynb Cell 13\u001b[0m line \u001b[0;36m1\n\u001b[1;32m----> <a href='vscode-notebook-cell:/c%3A/Users/wernadsky/Documents/GitHub/Python/Exceptions.ipynb#X30sZmlsZQ%3D%3D?line=0'>1</a>\u001b[0m \u001b[39massert\u001b[39;00m \u001b[39m10\u001b[39m \u001b[39m>\u001b[39m \u001b[39m20\u001b[39m, \u001b[39m\"\u001b[39m\u001b[39mThis is exception!\u001b[39m\u001b[39m\"\u001b[39m\n",
            "\u001b[1;31mAssertionError\u001b[0m: This is exception!"
          ]
        }
      ],
      "source": [
        "assert 10 > 20, \"This is exception!\""
      ]
    },
    {
      "cell_type": "code",
      "execution_count": null,
      "metadata": {
        "id": "bPtcLB8rjLlM",
        "outputId": "4d2fdba8-e583-4734-b6a9-d036a49a8e19"
      },
      "outputs": [
        {
          "name": "stdout",
          "output_type": "stream",
          "text": [
            "Этот блок выполнится, а исключение останется...\n"
          ]
        },
        {
          "ename": "ZeroDivisionError",
          "evalue": "division by zero",
          "output_type": "error",
          "traceback": [
            "\u001b[1;31m---------------------------------------------------------------------------\u001b[0m",
            "\u001b[1;31mZeroDivisionError\u001b[0m                         Traceback (most recent call last)",
            "\u001b[1;32mc:\\Users\\wernadsky\\Documents\\GitHub\\Python\\Exceptions.ipynb Cell 15\u001b[0m line \u001b[0;36m2\n\u001b[0;32m      <a href='vscode-notebook-cell:/c%3A/Users/wernadsky/Documents/GitHub/Python/Exceptions.ipynb#X34sZmlsZQ%3D%3D?line=0'>1</a>\u001b[0m \u001b[39mtry\u001b[39;00m:\n\u001b[1;32m----> <a href='vscode-notebook-cell:/c%3A/Users/wernadsky/Documents/GitHub/Python/Exceptions.ipynb#X34sZmlsZQ%3D%3D?line=1'>2</a>\u001b[0m     \u001b[39m1\u001b[39;49m \u001b[39m/\u001b[39;49m \u001b[39m0\u001b[39;49m\n\u001b[0;32m      <a href='vscode-notebook-cell:/c%3A/Users/wernadsky/Documents/GitHub/Python/Exceptions.ipynb#X34sZmlsZQ%3D%3D?line=2'>3</a>\u001b[0m \u001b[39mfinally\u001b[39;00m:\n\u001b[0;32m      <a href='vscode-notebook-cell:/c%3A/Users/wernadsky/Documents/GitHub/Python/Exceptions.ipynb#X34sZmlsZQ%3D%3D?line=3'>4</a>\u001b[0m     \u001b[39mprint\u001b[39m(\u001b[39m'\u001b[39m\u001b[39mЭтот блок выполнится, а исключение останется...\u001b[39m\u001b[39m'\u001b[39m)\n",
            "\u001b[1;31mZeroDivisionError\u001b[0m: division by zero"
          ]
        }
      ],
      "source": [
        "try:\n",
        "    1 / 0\n",
        "finally:\n",
        "    print('Этот блок выполнится, а исключение останется...')"
      ]
    },
    {
      "cell_type": "markdown",
      "metadata": {
        "id": "jWymzf_O7BRo"
      },
      "source": [
        "# Контекстные менеджеры и ключевое слово `with`\n",
        "\n",
        "Конструкция `with/as` была задумана как альтернатива конструкции `try/finally`, гарантирующей, что некоторая операция будет выполнена после блока, даже если этот блок прерван в результате исключения, ключевого слова `return` или вызова `sys.exit()`.\n",
        "\n",
        "Ключевое слово `with` работает с **контекстными менеджерами** (*context managers*), которые управляют его поведением (подобно тому, как итераторы управляют конструкцией `for`). Контекстные менеджеры представляют собой объекты, в которых реализованы методы `__enter__()` и `__exit__()`, которые определяют его протокол.\n",
        "\n",
        "В начале блока `with` вызывается метод `__enter__()` контекстного менеджера. А роль части `finally` играет обращение к методу `__exit__()` контекстного менеджера в конце блока `with`, т.е. метод вызвается после завершения блока `with` либо при возникновении исключения.\n",
        "\n",
        "Самый распространенный пример – гарантированное закрытие файла:"
      ]
    },
    {
      "cell_type": "code",
      "execution_count": null,
      "metadata": {
        "id": "bxuQf7Zt7BRo",
        "outputId": "d866bc12-1a95-4b63-cc10-70e670e8e51e"
      },
      "outputs": [
        {
          "name": "stdout",
          "output_type": "stream",
          "text": [
            "<class '_io.TextIOWrapper'>\n",
            "first line:  \"cells\": [\n",
            "\n"
          ]
        }
      ],
      "source": [
        "with open('Exceptions.ipynb', encoding='utf-8') as file:\n",
        "    print(type(file))         # объект контекстного мнеджера TextIOWrapper\n",
        "    lst = [line for line in file]       # записать все строки в список\n",
        "\n",
        "print('first line:', lst[1])"
      ]
    },
    {
      "cell_type": "markdown",
      "metadata": {
        "id": "Ap5m-pkVjLlM"
      },
      "source": [
        "Выражение, которое следует за `with` должно возвращать объект контекстного менеджера. Ключевое слово `with` вызывает у этого объекта метод `__enter__()`. В случае, если метод что-то возвращает, мы можем присвоить это некоторой переменной, которая следует за необязательным ключевым словом `as`.\n",
        "\n",
        "В рассматриваемом примере функция `open()` возвращает объект класса `TextIOWrapper`, а вызов у этого объекта метода `__enter__()` возвращается просто `self` – ссылка на сам объект менеджера. Таким образом переменная `file` ссылается на объект менеджера.\n",
        "\n",
        "При выходе из конструкии `with` вызывается метод `__exit__()` контекстного менеджера. В данном случае, метод `__exit__()` класса `TextIOWrapper` обеспечивает закрытие файла.\n",
        "\n",
        "Переменная `file` все еще доступна для чтения атрибутов, но выполнить операцию ввода-вывода для `file` по завершении блока with`` нельзя, т.к. уже был вызван метод `TextIOWrapper.__exit__()` при покидании блока `with` и файл закрыт."
      ]
    },
    {
      "cell_type": "code",
      "execution_count": null,
      "metadata": {
        "id": "1vtpcFTxjLlM",
        "outputId": "e7d266e7-6719-4471-d63e-4bcdaa38b545"
      },
      "outputs": [
        {
          "name": "stdout",
          "output_type": "stream",
          "text": [
            "True utf-8\n"
          ]
        }
      ],
      "source": [
        "print(file.closed, file.encoding)"
      ]
    },
    {
      "cell_type": "markdown",
      "metadata": {
        "id": "rc4QduxT7BRo"
      },
      "source": [
        "Часть `as` в конструкции `with` необязательна. В случае `open()` она необходима, чтобы работать с файлом, но некоторые контекстные менеджеры возвращают `None` за неимением чего-то полезного.\n",
        "\n",
        "> Инструкция `with/as` - это воплощение в Python известной идиомы С++ [получение ресурса есть инициализация](https://ru.wikipedia.org/wiki/Получение_ресурса_есть_инициализация).\n",
        "\n",
        "\n",
        "\n",
        "Подробнее: Рамально Лучано - Python к вершинам мастерства с. 482"
      ]
    },
    {
      "cell_type": "markdown",
      "metadata": {
        "id": "3D8Yp_KwjLlN"
      },
      "source": [
        "### Пользовательский класс контекстного менеджера\n",
        "\n",
        "Метод `__enter__()` вызывается перед выполнением блока инструкций `with`.\n",
        "\n",
        "Метод `__exit__()` вызывается после выполнения блока в любом случае,независимо от того, было исключение или нет. В качестве аргументов она принимает тип исключения, значение и диагностическую инфу (если исключения не возникало, то при вызове метода этим аргументам передается значение `None`)."
      ]
    },
    {
      "cell_type": "code",
      "execution_count": null,
      "metadata": {
        "id": "pW8iYLuV7BRo"
      },
      "outputs": [],
      "source": [
        "class TraceBlock:\n",
        "    def message(self, arg):             # некий метод класса\n",
        "        print('running', arg)\n",
        "\n",
        "    def __enter__(self):\n",
        "        print('starting with block')\n",
        "        return self\n",
        "\n",
        "    def __exit__(self, exc_type, exc_value, exc_tb):\n",
        "        if exc_type is None:\n",
        "            print('exited normally\\n')\n",
        "        else:\n",
        "            print('raise an exception!', exc_type)\n",
        "            return False"
      ]
    },
    {
      "cell_type": "markdown",
      "metadata": {
        "id": "MZk4zFfNjLlN"
      },
      "source": [
        "Успешное выполнение блока `with`:"
      ]
    },
    {
      "cell_type": "code",
      "execution_count": null,
      "metadata": {
        "id": "3TMy2sDRjLlN",
        "outputId": "8a21a8e2-1fe7-48b8-f59c-f1bc2b8530b7"
      },
      "outputs": [
        {
          "name": "stdout",
          "output_type": "stream",
          "text": [
            "starting with block\n",
            "running test 1\n",
            "reached\n",
            "exited normally\n",
            "\n"
          ]
        }
      ],
      "source": [
        "with TraceBlock() as action:\n",
        "    action.message('test 1')    # здесь нет исключений и мы\n",
        "    print('reached')            # достигаем конца блока"
      ]
    },
    {
      "cell_type": "markdown",
      "metadata": {
        "id": "nzRgaCi5jLlN"
      },
      "source": [
        "В следующем блоке `with` возникает исключение `TypeError` и последняя строка блока не выполняется. Однако будет вызван метод `__exit__()` конеткстного менеджера:"
      ]
    },
    {
      "cell_type": "code",
      "execution_count": null,
      "metadata": {
        "id": "iXgeJmXdjLlN",
        "outputId": "6d00c694-bff2-414e-ab10-15746ba28371"
      },
      "outputs": [
        {
          "name": "stdout",
          "output_type": "stream",
          "text": [
            "starting with block\n",
            "running test 2\n",
            "raise an exception! <class 'TypeError'>\n"
          ]
        },
        {
          "ename": "TypeError",
          "evalue": "",
          "output_type": "error",
          "traceback": [
            "\u001b[1;31m---------------------------------------------------------------------------\u001b[0m",
            "\u001b[1;31mTypeError\u001b[0m                                 Traceback (most recent call last)",
            "\u001b[1;32mc:\\Users\\wernadsky\\Documents\\GitHub\\Python\\Exceptions.ipynb Cell 25\u001b[0m line \u001b[0;36m3\n\u001b[0;32m      <a href='vscode-notebook-cell:/c%3A/Users/wernadsky/Documents/GitHub/Python/Exceptions.ipynb#X54sZmlsZQ%3D%3D?line=0'>1</a>\u001b[0m \u001b[39mwith\u001b[39;00m TraceBlock() \u001b[39mas\u001b[39;00m action:\n\u001b[0;32m      <a href='vscode-notebook-cell:/c%3A/Users/wernadsky/Documents/GitHub/Python/Exceptions.ipynb#X54sZmlsZQ%3D%3D?line=1'>2</a>\u001b[0m     action\u001b[39m.\u001b[39mmessage(\u001b[39m'\u001b[39m\u001b[39mtest 2\u001b[39m\u001b[39m'\u001b[39m)\n\u001b[1;32m----> <a href='vscode-notebook-cell:/c%3A/Users/wernadsky/Documents/GitHub/Python/Exceptions.ipynb#X54sZmlsZQ%3D%3D?line=2'>3</a>\u001b[0m     \u001b[39mraise\u001b[39;00m \u001b[39mTypeError\u001b[39;00m             \u001b[39m# возникает исключение и последняя\u001b[39;00m\n\u001b[0;32m      <a href='vscode-notebook-cell:/c%3A/Users/wernadsky/Documents/GitHub/Python/Exceptions.ipynb#X54sZmlsZQ%3D%3D?line=3'>4</a>\u001b[0m     \u001b[39mprint\u001b[39m(\u001b[39m'\u001b[39m\u001b[39mnot reached\u001b[39m\u001b[39m'\u001b[39m)        \u001b[39m# инструкция блока не достигается\u001b[39;00m\n",
            "\u001b[1;31mTypeError\u001b[0m: "
          ]
        }
      ],
      "source": [
        "with TraceBlock() as action:\n",
        "    action.message('test 2')\n",
        "    raise TypeError             # возникает исключение и последняя\n",
        "    print('not reached')        # инструкция блока не достигается"
      ]
    }
  ],
  "metadata": {
    "colab": {
      "provenance": [],
      "toc_visible": true,
      "include_colab_link": true
    },
    "kernelspec": {
      "display_name": "Python 3 (ipykernel)",
      "language": "python",
      "name": "python3"
    },
    "language_info": {
      "codemirror_mode": {
        "name": "ipython",
        "version": 3
      },
      "file_extension": ".py",
      "mimetype": "text/x-python",
      "name": "python",
      "nbconvert_exporter": "python",
      "pygments_lexer": "ipython3",
      "version": "3.10.10"
    },
    "vscode": {
      "interpreter": {
        "hash": "4f2921ce1fc527c47715aa0bb6344447b09c3d91cdf1e8e230806b0c3b3c2af0"
      }
    }
  },
  "nbformat": 4,
  "nbformat_minor": 0
}