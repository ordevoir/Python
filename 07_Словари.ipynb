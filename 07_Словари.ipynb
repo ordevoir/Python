{
  "cells": [
    {
      "cell_type": "markdown",
      "metadata": {
        "id": "XZ5lwJcflUEn"
      },
      "source": [
        "**Словарь** (*Dictionary*) или **Ассоциативный массив** (**Associative Array**) – абстрактный тип данных, представляющий собой отображение множества **ключей** (*keys*) на множество **значений** (*values*), с операциями добавления пары (key: value), получения значения по ключу и удаления пары (insert, find, remove). В одном ассоциативном массиве не должно храниться две пары с одинаковыми ключами. Также для пары (k: v) говорят, что значение v ассоциировано с ключом k.\n",
        "\n",
        "В Python ассоциативный массив реализован в виде структуры данных, представленного классом `dict`."
      ]
    },
    {
      "cell_type": "markdown",
      "metadata": {
        "id": "HOafHW04lUEn"
      },
      "source": [
        "# Способы создания словарей\n",
        "\n",
        "Можно задать пары (ключ: значение) при создании словаря. В роли ключей могут выступать разные типы данных. Ограничением является то, что эти типы должны быть неизменяемыми: назначить в качестве ключа список или словарь не получится."
      ]
    },
    {
      "cell_type": "code",
      "execution_count": 1,
      "metadata": {
        "id": "UQFmCdW3lUEn"
      },
      "outputs": [
        {
          "name": "stdout",
          "output_type": "stream",
          "text": [
            "{1: 23, 'a': [1, 3, 5]}\n"
          ]
        }
      ],
      "source": [
        "d = {1: 'value',\n",
        "     True: 23,\n",
        "     'a': [1, 3, 5]\n",
        "     }\n",
        "\n",
        "print(d)"
      ]
    },
    {
      "cell_type": "markdown",
      "metadata": {
        "id": "JfI3nbpClUEn"
      },
      "source": [
        "Можно создать пустой словарь и затем добавить пары:"
      ]
    },
    {
      "cell_type": "code",
      "execution_count": 2,
      "metadata": {
        "id": "BV9ZK6sclUEn"
      },
      "outputs": [
        {
          "name": "stdout",
          "output_type": "stream",
          "text": [
            "{'key_1': 13, 4: [1, 4, 10], (0, 1): 'value', 3.4: 23, False: {...}}\n"
          ]
        }
      ],
      "source": [
        "dictionary = dict()  # dictionary (словарь)\n",
        "\n",
        "# добавим несколько пар в формате dictionary[key] = value\n",
        "dictionary['key_1'] = 13\n",
        "dictionary[4] = [1, 4, 10]\n",
        "dictionary[(0,1)] = 'value'\n",
        "dictionary[3.4] = 23\n",
        "dictionary[False] = dictionary\n",
        "\n",
        "print(dictionary)"
      ]
    },
    {
      "cell_type": "markdown",
      "metadata": {
        "id": "6IdwfKLWbew5"
      },
      "source": [
        "Как видно, `dict` также является изменяемым типом данных."
      ]
    },
    {
      "cell_type": "markdown",
      "metadata": {
        "id": "dkmSZhqPlUEo"
      },
      "source": [
        "# Доступ к элементам словаря"
      ]
    },
    {
      "cell_type": "code",
      "execution_count": 3,
      "metadata": {
        "id": "7CdvXUSVlUEo"
      },
      "outputs": [
        {
          "name": "stdout",
          "output_type": "stream",
          "text": [
            "13\n",
            "{'key_1': 12, (0, 1): 'value', 3.4: 23, False: {...}}\n"
          ]
        }
      ],
      "source": [
        "a = dictionary['key_1']     # получить значение по ключу 'key_1'\n",
        "print(a)\n",
        "dictionary['key_1'] = 12    # изменить значение ассоциированное с ключом\n",
        "# если такого ключа нет в словаре, то создается новая пара\n",
        "\n",
        "del dictionary[4]           # удаляется пара по ключу 4\n",
        "print(dictionary)"
      ]
    },
    {
      "cell_type": "code",
      "execution_count": 4,
      "metadata": {
        "id": "jUVL37pmlUEo"
      },
      "outputs": [
        {
          "name": "stdout",
          "output_type": "stream",
          "text": [
            "23\n",
            "(False, {'key_1': 12, (0, 1): 'value'})\n",
            "{'key_1': 12, (0, 1): 'value', 'key_2': None, 'key_3': 65}\n"
          ]
        }
      ],
      "source": [
        "a = dictionary.pop(3.4)         # удаляет пару и возвращаяет значение по ключу\n",
        "print(a)\n",
        "b = dictionary.popitem()        # удаляет и возвращает пару в виде кортежа\n",
        "print(b)\n",
        "dictionary.setdefault('key_2')      # добавляет ключ со значением None\n",
        "dictionary.setdefault('key_3', 65)  # добавляет ключ со значением 65\n",
        "print(dictionary)"
      ]
    },
    {
      "cell_type": "markdown",
      "metadata": {
        "id": "vjZrOnn_lUEo"
      },
      "source": [
        "# Получение последовательностей ключей и значений"
      ]
    },
    {
      "cell_type": "code",
      "execution_count": 5,
      "metadata": {
        "id": "MCuGXw9glUEo"
      },
      "outputs": [
        {
          "name": "stdout",
          "output_type": "stream",
          "text": [
            "dict_keys(['key_1', (0, 1), 'key_2', 'key_3'])\n",
            "dict_values([12, 'value', None, 65])\n",
            "['key_1', (0, 1), 'key_2', 'key_3']\n"
          ]
        }
      ],
      "source": [
        "keys = dictionary.keys()        # получить набор ключей\n",
        "values = dictionary.values()    # получить набор значений\n",
        "print(keys)\n",
        "print(values)\n",
        "print(list(keys))       # набор можно преобразовать в список"
      ]
    },
    {
      "cell_type": "code",
      "execution_count": 6,
      "metadata": {
        "id": "WYalYHKulUEo"
      },
      "outputs": [
        {
          "data": {
            "text/plain": [
              "{'key_1': 12,\n",
              " (0, 1): 'value',\n",
              " 'key_2': None,\n",
              " 'key_3': 65,\n",
              " 'a': 11,\n",
              " 'b': 12,\n",
              " 'c': 13}"
            ]
          },
          "execution_count": 6,
          "metadata": {},
          "output_type": "execute_result"
        }
      ],
      "source": [
        "a = {'a': 11, 'b': 12, 'c': 13}\n",
        "dictionary.update(a)    # пополнение словаря парами из другого словаря\n",
        "dictionary"
      ]
    },
    {
      "cell_type": "code",
      "execution_count": 7,
      "metadata": {
        "id": "hXepVorRlUEo"
      },
      "outputs": [
        {
          "name": "stdout",
          "output_type": "stream",
          "text": [
            "object is a key in the dictionary: True\n",
            "key_1\n",
            "(0, 1)\n",
            "key_2\n",
            "key_3\n",
            "a\n",
            "b\n",
            "c\n",
            "12\n",
            "value\n",
            "None\n",
            "65\n",
            "11\n",
            "12\n",
            "13\n"
          ]
        }
      ],
      "source": [
        "# можно проверить, содержится ли такой ключ в словаре:\n",
        "isKey = (0, 1) in dictionary\n",
        "print('object is a key in the dictionary:', isKey)\n",
        "\n",
        "# перебор в цикле всех ключей словаря\n",
        "for key in dictionary:\n",
        "    print(key)\n",
        "# также можно перебрать непосредственно значения\n",
        "for value in dictionary.values():\n",
        "    print(value)"
      ]
    },
    {
      "cell_type": "code",
      "execution_count": 8,
      "metadata": {
        "id": "DrjpVeFKlUEo"
      },
      "outputs": [
        {
          "name": "stdout",
          "output_type": "stream",
          "text": [
            "c =     {'a': 11, 'b': 14, 'c': 13, 'd': 15, 'e': 16}\n",
            "a | b = {'a': 11, 'b': 14, 'c': 13, 'd': 15, 'e': 16}\n"
          ]
        }
      ],
      "source": [
        "a = {'a': 11, 'b': 12, 'c': 13}\n",
        "b = {'b': 14, 'd': 15, 'e': 16}\n",
        "c = {**a, **b}          # объединение словарей путем распаковки\n",
        "print(f'{c =     }')\n",
        "print(f'{a | b = }')   # начиная с версии python 3.9"
      ]
    },
    {
      "cell_type": "markdown",
      "metadata": {},
      "source": [
        "# Генерация словарей (dictcomp)\n",
        "\n",
        "По аналогии с генерацией списков, есть возможность генерировать словари (*dict comprehension*):"
      ]
    },
    {
      "cell_type": "code",
      "execution_count": 9,
      "metadata": {},
      "outputs": [
        {
          "name": "stdout",
          "output_type": "stream",
          "text": [
            "{'0': 0, '1': 0, '2': 1, '3': 1, '4': 2}\n"
          ]
        }
      ],
      "source": [
        "d = {str(n): n//2 for n in range(5)}    # dict comprehension\n",
        "print(d)"
      ]
    }
  ],
  "metadata": {
    "colab": {
      "include_colab_link": true,
      "provenance": [],
      "toc_visible": true
    },
    "kernelspec": {
      "display_name": "marl",
      "language": "python",
      "name": "python3"
    },
    "language_info": {
      "codemirror_mode": {
        "name": "ipython",
        "version": 3
      },
      "file_extension": ".py",
      "mimetype": "text/x-python",
      "name": "python",
      "nbconvert_exporter": "python",
      "pygments_lexer": "ipython3",
      "version": "3.12.11"
    }
  },
  "nbformat": 4,
  "nbformat_minor": 0
}
