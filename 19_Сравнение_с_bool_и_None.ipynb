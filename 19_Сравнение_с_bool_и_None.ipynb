{
 "cells": [
  {
   "cell_type": "markdown",
   "id": "122cee08",
   "metadata": {},
   "source": [
    "# Сравнение c `bool`\n",
    "\n",
    "Оператор `is` с операндом `False` возвращает `True`, в том, и только том случае, если второй операнд также является `False` (а не просто Falsy). Подобным образом оператор `is` работает и с операндом `True`. Это связано с тем, что оператор `is` проверяет, ссылаются ли операнды на один и тот же объект.\n",
    "\n",
    "Оператор `==` с операндом `False` возвращает `True` только если второй операнд является *числовым* Falsy объектом (т.е. **нулевым**) или же непосредственно объектом `False`.\n",
    "\n",
    "Оператор `==` с операндом `True` возвращает `True` только если второй операнд является *числовым* Truthy с **единичным** значением или же непосредственно объектом `True`.\n",
    "\n",
    "При сравнении остальных стандартных типов с `False` или `True` оператор `==` будет всегда возвращать `False` (так как для них `==` означает `is`).\n",
    "\n",
    ">При сравнении непосредственно булевых значений принято использовать оператор `is` вместо оператора `==`."
   ]
  },
  {
   "cell_type": "code",
   "execution_count": 1,
   "id": "a24febbc",
   "metadata": {},
   "outputs": [
    {
     "name": "stdout",
     "output_type": "stream",
     "text": [
      "  0 == False        = True\n",
      "  0. == False       = True\n",
      "  0j == False       = True\n",
      "  0 + 0j == False   = True\n",
      "  0 + 1j == False   = False\n",
      "\n",
      "  1 == True         = True\n",
      "  1. == True        = True\n",
      "  1 + 0j == True    = True\n",
      "  0 + 1j == True    = False\n",
      "\n",
      "  \"\" == False       = False\n",
      "  \"a\" == True       = False\n",
      "\n",
      "  None == False     = False\n",
      "  None is False     = False\n",
      "  not None is True  = True\n",
      "\n"
     ]
    }
   ],
   "source": [
    "# оператор == с нулями:\n",
    "print(f'{  0 == False        = }')\n",
    "print(f'{  0. == False       = }')\n",
    "print(f'{  0j == False       = }')\n",
    "print(f'{  0 + 0j == False   = }')\n",
    "print(f'{  0 + 1j == False   = }\\n')\n",
    "\n",
    "# оператор == с единицами:\n",
    "print(f'{  1 == True         = }')\n",
    "print(f'{  1. == True        = }')\n",
    "print(f'{  1 + 0j == True    = }')\n",
    "print(f'{  0 + 1j == True    = }\\n')\n",
    "\n",
    "# коллекции:\n",
    "print(f'{  \"\" == False       = }')       # пустой string\n",
    "print(f'{  \"a\" == True       = }\\n')       # пустой string\n",
    "\n",
    "# None:\n",
    "print(f'{  None == False     = }')\n",
    "print(f'{  None is False     = }')\n",
    "\n",
    "# здесь оператор not явно преобразовывает None в тип bool:\n",
    "print(f'{  not None is True  = }\\n')"
   ]
  },
  {
   "cell_type": "code",
   "execution_count": 2,
   "id": "b0565575",
   "metadata": {},
   "outputs": [
    {
     "name": "stdout",
     "output_type": "stream",
     "text": [
      "   False <= True  = True\n",
      "   False < True   = True\n",
      "   False > True   = False\n",
      "   False >= True  = False\n"
     ]
    }
   ],
   "source": [
    "print(f'{   False <= True  = }')\n",
    "print(f'{   False < True   = }')\n",
    "print(f'{   False > True   = }')\n",
    "print(f'{   False >= True  = }')"
   ]
  },
  {
   "cell_type": "markdown",
   "id": "8151205d",
   "metadata": {},
   "source": [
    "# Стравнение c `None`\n",
    "\n",
    "Выражение `x is None`  выдает всегда `True`, если `x` имеет значение `None`, и `False`, в любом другом случае.\n",
    "\n",
    "Выражение  `x is not None`  выдает всегда `False`, если `x` имеет значение `None`, и `True`, в любом другом случае."
   ]
  },
  {
   "cell_type": "code",
   "execution_count": 3,
   "id": "724eb41c",
   "metadata": {},
   "outputs": [
    {
     "name": "stdout",
     "output_type": "stream",
     "text": [
      "  None is None         = True\n",
      "  None == None         = True\n",
      "  value is None        = False\n",
      "  False is None        = False\n",
      "  True is None         = False\n",
      "\n",
      "  None is not None     = False\n",
      "  None != None         = False\n",
      "  value is not None    = True\n",
      "  False is not None    = True\n",
      "  True is not None     = True\n",
      "\n"
     ]
    }
   ],
   "source": [
    "value = 3\n",
    "\n",
    "print(f'{  None is None         = }')\n",
    "print(f'{  None == None         = }')\n",
    "\n",
    "print(f'{  value is None        = }')\n",
    "print(f'{  False is None        = }')\n",
    "print(f'{  True is None         = }\\n')\n",
    "\n",
    "print(f'{  None is not None     = }')\n",
    "print(f'{  None != None         = }')\n",
    "print(f'{  value is not None    = }')\n",
    "print(f'{  False is not None    = }')\n",
    "print(f'{  True is not None     = }\\n')"
   ]
  },
  {
   "cell_type": "markdown",
   "id": "b2798a6f",
   "metadata": {},
   "source": [
    "`is not` – это отдельный оператор, а не последовательность операторов `not` и `is`, поэтому `x is not None` не то же самое что и `x is (not None)`\n",
    "\n",
    "При сравнении оператором `==` с типом `None` фактически задействуется оператор `is`, поэтому лучше всегда явно использовать `is` вместо `==`"
   ]
  },
  {
   "cell_type": "code",
   "execution_count": 4,
   "id": "6e74ad30",
   "metadata": {},
   "outputs": [
    {
     "name": "stdout",
     "output_type": "stream",
     "text": [
      "  False is not None    = True\n",
      "  False is (not None)  = False\n",
      "  False == (not None)  = False\n",
      "  True  == (not None)  = True\n",
      "\n"
     ]
    }
   ],
   "source": [
    "print(f'{  False is not None    = }')\n",
    "print(f'{  False is (not None)  = }')\n",
    "print(f'{  False == (not None)  = }')\n",
    "print(f'{  True  == (not None)  = }\\n')"
   ]
  },
  {
   "cell_type": "markdown",
   "id": "afa31aa5",
   "metadata": {},
   "source": [
    "В одиночку, оператор `not` конвертирует `None` в булевый тип:"
   ]
  },
  {
   "cell_type": "code",
   "execution_count": 5,
   "id": "fb5e2ce8",
   "metadata": {},
   "outputs": [
    {
     "name": "stdout",
     "output_type": "stream",
     "text": [
      "  not None       = True\n",
      "  type(not None) = <class 'bool'>\n"
     ]
    }
   ],
   "source": [
    "print(f'{  not None       = }')\n",
    "print(f'{  type(not None) = }')"
   ]
  }
 ],
 "metadata": {
  "kernelspec": {
   "display_name": "marl",
   "language": "python",
   "name": "python3"
  },
  "language_info": {
   "codemirror_mode": {
    "name": "ipython",
    "version": 3
   },
   "file_extension": ".py",
   "mimetype": "text/x-python",
   "name": "python",
   "nbconvert_exporter": "python",
   "pygments_lexer": "ipython3",
   "version": "3.12.11"
  }
 },
 "nbformat": 4,
 "nbformat_minor": 5
}
