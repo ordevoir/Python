{
 "cells": [
  {
   "cell_type": "markdown",
   "id": "1dcfa716",
   "metadata": {},
   "source": [
    "# Функции высшего порядка\n",
    "\n",
    "**Функцией высшего порядка** называется функция, которая принимает функцию в качестве аргумента или возвращает в качестве значения. "
   ]
  },
  {
   "cell_type": "markdown",
   "id": "21b63ae3",
   "metadata": {},
   "source": [
    "### `sorted()`\n",
    "\n",
    "Примером может служить функция `sorted()`: ее необязательный аргумент `key` позволяет задать функцию, которая применяется к каждому сортируемому элементу. Например, чтобы упорядочить список слов по длине, достаточно передать функцию `len()` в качестве аргумента `key`. \n",
    ">Если не задавать значение для `key`, функция будет упорядочивать строки в лексигографическом порядке."
   ]
  },
  {
   "cell_type": "code",
   "execution_count": 19,
   "id": "4033fb56",
   "metadata": {},
   "outputs": [
    {
     "name": "stdout",
     "output_type": "stream",
     "text": [
      "s =                        ['This', 'is', '-', 'some', 'text']\n",
      "sorted(s) =                ['-', 'This', 'is', 'some', 'text']\n",
      "sorted(s, reverse=True) =  ['text', 'some', 'is', 'This', '-']\n",
      "sorted(s, key=len) =       ['-', 'is', 'This', 'some', 'text']\n"
     ]
    }
   ],
   "source": [
    "s = ['This', 'is', '-', 'some', 'text']\n",
    "print(f\"{s =                        }\")\n",
    "print(f\"{sorted(s) =                }\")     # в лексикографическом порядке\n",
    "print(f\"{sorted(s, reverse=True) =  }\")     # упорядочивание по убыванию\n",
    "print(f\"{sorted(s, key=len) =       }\")     # упорядочивание по длине элемента"
   ]
  },
  {
   "cell_type": "markdown",
   "id": "88064fdc",
   "metadata": {},
   "source": [
    "### `map()`\n",
    "\n",
    "Функция `map()` позволяет производить отображение одной последовательности в другую, в соотствии с заданной в аргументе функцией. Функцию преобразования можно задать первым аргументом по ссылке, либо определить `lambda`-функцию. Вторым аргументом задается последовательность. Функция `map()` возвращает итератор - объект класса `map`, который легко преобразовывается в `list`, `str` и тд."
   ]
  },
  {
   "cell_type": "code",
   "execution_count": 29,
   "id": "5a6ef63f",
   "metadata": {},
   "outputs": [
    {
     "name": "stdout",
     "output_type": "stream",
     "text": [
      "<class 'map'>\n"
     ]
    },
    {
     "data": {
      "text/plain": [
       "[1, 4, 9, 16, 25]"
      ]
     },
     "execution_count": 29,
     "metadata": {},
     "output_type": "execute_result"
    }
   ],
   "source": [
    "L = [1, 2, 3, 4, 5]\n",
    "M = map(lambda x: x ** 2, L)\n",
    "print(type(M))\n",
    "list(M)"
   ]
  },
  {
   "cell_type": "markdown",
   "id": "ddaa9644",
   "metadata": {},
   "source": [
    "### `filter()`\n",
    "\n",
    "Функция `filter()` позводяет отфильтровать последовательность в соответствии с заданной в аргументе фильтрационной функцией, которая должна возвращать булевый тип для всех элементов последовательности. Интерфейс функции похож на интерфейс функции `map()`, но возвращает итератор - объект класса `filter`, который тоже легко преобровывается в `list`, `str` и тд."
   ]
  },
  {
   "cell_type": "code",
   "execution_count": 38,
   "id": "2f8fb5df",
   "metadata": {},
   "outputs": [
    {
     "name": "stdout",
     "output_type": "stream",
     "text": [
      "<class 'filter'>\n"
     ]
    },
    {
     "data": {
      "text/plain": [
       "2"
      ]
     },
     "execution_count": 38,
     "metadata": {},
     "output_type": "execute_result"
    }
   ],
   "source": [
    "L = [1, 2, 3, 4, 5]\n",
    "F = filter(lambda x: True if x%2==0 else False, L)\n",
    "print(type(F))\n",
    "list(F)"
   ]
  },
  {
   "cell_type": "markdown",
   "id": "a2e8ea1a",
   "metadata": {},
   "source": [
    "> List Comprehension может делать все, что умеют функции `map()` и `filter()`..."
   ]
  },
  {
   "cell_type": "markdown",
   "id": "6cfb9cc4",
   "metadata": {},
   "source": [
    "### Редуцирующие функции\n",
    "\n",
    "Общая идея редуцирующих функций в том, чотбы применить некую операцию к каждому элементу последовательности с аккумулированием результатов и тем самым свести (агрегировать) последовательность значений к одному. Таковы, например, функции `sum()`, `all()` и `any()`:\n",
    "- `sum()` возвращает значение суммы всей последовательности;\n",
    "- `all()` возвращает `True`, если все элементы последовательности являются Truthy, и `False`, если есть хотя бы оди Falsy элемент;\n",
    "- `any()` возвращает `True`, если хотя быодин элемент последовательности является Truthy, и `False` – в противном случае."
   ]
  },
  {
   "cell_type": "code",
   "execution_count": 41,
   "id": "0b66e4ec",
   "metadata": {},
   "outputs": [
    {
     "name": "stdout",
     "output_type": "stream",
     "text": [
      "10\n",
      "False\n",
      "True\n"
     ]
    }
   ],
   "source": [
    "print(f\"{ sum([0, 1, 2, 3, 4]) }\")\n",
    "print(f\"{ all([0, 1, 2, 3, 4]) }\")\n",
    "print(f\"{ any([0, 1, 2, 3, 4]) }\")"
   ]
  },
  {
   "cell_type": "markdown",
   "id": "580b6f8c",
   "metadata": {},
   "source": [
    "### `reduce()`\n",
    "\n",
    "Функция `reduce()` из модуля `functools` кумулятивно применяет заданную агрегирующую функцию к элементам, агрегируя результаты. Задаваемая агрегирующая функция должна принимать два аргумента и возвращать одно значение. Функция `reduce()` сначала возьмет первую пару элементов последовательности и применит к ним агрегирующую функцию, затем, применит агрегирующую функцию к полученному результат и следующему в последовательности элементу, и так до конца последовательности. В результате будет получено одно значение.\n",
    "\n",
    "Рассмотрим в качестве примера агрегирующую функцию `mean()`, которая определена для пары значений и возвращает среднее арифметическое от них. Функция `reduce()` применит функцию `mean()` сначала для первой пары элементов (`1` и `2`), затем применит функцию `mean()` к полученному результату и следующему элементу (`3`) и тд. Заметим, что если поменять последовательность элементов в списке, результат изменится, так как результат в данном случае зависит от последовательности применения агрегирующей функции к элементам.\n"
   ]
  },
  {
   "cell_type": "code",
   "execution_count": 69,
   "id": "0baddde4",
   "metadata": {},
   "outputs": [
    {
     "data": {
      "text/plain": [
       "3.125"
      ]
     },
     "execution_count": 69,
     "metadata": {},
     "output_type": "execute_result"
    }
   ],
   "source": [
    "from functools import reduce\n",
    "\n",
    "def mean(x, y):\n",
    "    return (x + y) / 2\n",
    "\n",
    "reduce(mean, [1, 2, 3, 4])"
   ]
  },
  {
   "cell_type": "code",
   "execution_count": 70,
   "id": "1b612f7b",
   "metadata": {},
   "outputs": [
    {
     "data": {
      "text/plain": [
       "2.0"
      ]
     },
     "execution_count": 70,
     "metadata": {},
     "output_type": "execute_result"
    }
   ],
   "source": [
    "reduce(mean, [4, 2, 3, 1])"
   ]
  },
  {
   "cell_type": "markdown",
   "id": "89be186f",
   "metadata": {},
   "source": [
    "> Опционально можно задать третий аргумент `initial`. В этом случае функция `reduce()` начнет не с первых двух элементов последовательности, а передаст в агрегирующую функцию значение `initial` и первый элемент последовательности."
   ]
  },
  {
   "cell_type": "markdown",
   "id": "95388bac-3a3a-42c6-8bb4-618a8bd63dfb",
   "metadata": {
    "id": "k0BzGrU67BRj"
   },
   "source": [
    "# Аргументы функций"
   ]
  },
  {
   "cell_type": "markdown",
   "id": "e32d1466",
   "metadata": {},
   "source": [
    "## Аргументы при определении функции\n",
    "\n",
    "- `def f(n)` Нормальные: являются обязательными при вызове;\n",
    "- `def f(n=15)` Дефолтные: аргументы со значениями по умолчению, являются необязательными при вызове.\n",
    "\n",
    "Дефолтные аргументы должны следовать за нормальными аргументами.\n",
    "\n",
    "При вызове функции нормальные и дефолтные аргументы функции сопоставляются передаваемым в функцию значениями в соответсвтвии с позицией, для позиционных аргументов, или в соответствии с именами, для именованных аргументов.\n",
    "\n",
    "- `def f(*args)` Избыточные позиционные аргументы упаковываются оператором `*` в кортеж с именем `args`;\n",
    "- `def f(**kwargs)` Избыточные именованные аргументы упаковываются оператором `**` в слварь с имененм `kwargs`.\n",
    "\n"
   ]
  },
  {
   "cell_type": "code",
   "execution_count": 2,
   "id": "2f6842d0",
   "metadata": {},
   "outputs": [],
   "source": [
    "def printAll(a, b, c=True, d='None', *args, **kwargs):\n",
    "    print(f\"    {a = } {b = } {c = } {d = }\")\n",
    "    print(f'    {args = } {kwargs = }')"
   ]
  },
  {
   "cell_type": "markdown",
   "id": "432669ac",
   "metadata": {},
   "source": [
    "## Аргументы при вызове функции\n",
    "\n",
    "- `f(a, b, c)` Позиционные аргументы;\n",
    "- `f(x=4, y=2, z=5)` Именованные аргументы;\n",
    "- `f(*sequence)` Распаковка последовательности значений. Каждый элемент последовательности будет позиционным аргументом;\n",
    "- `f(**dict)` Распаковка словаря. Каждая запись словаря будет именованным аргументом, где ключ будет соответствовать имени аргумента, а значение по ключу будет значением аргумента.\n",
    "\n",
    "Именованные аргументы должны следовать за позиционными аргументами."
   ]
  },
  {
   "cell_type": "code",
   "execution_count": 73,
   "id": "38dd93d2",
   "metadata": {},
   "outputs": [
    {
     "name": "stdout",
     "output_type": "stream",
     "text": [
      "вызов с двумя позиционными аргументами:\n",
      "    a = 10 b = 11 c = True d = 'None'\n",
      "    args = () kwargs = {}\n",
      "вызов с множеством позиционных аргументов:\n",
      "    a = 10 b = 11 c = 14 d = 32\n",
      "    args = (12, 32, 31) kwargs = {}\n",
      "вызов с \"ожидаемыми\" именованными аргументами:\n",
      "    a = 10 b = 11 c = 31 d = 14\n",
      "    args = () kwargs = {}\n",
      "вызов с \"избыточными\" именованными аргументами:\n",
      "    a = 10 b = 11 c = True d = 'None'\n",
      "    args = () kwargs = {'y': 31, 'x': 14}\n",
      "вызов с множеством позиционных арг-тов и с \"незнакомыми\" именованными арг-ми:\n",
      "    a = 10 b = 11 c = 32 d = 12\n",
      "    args = (32, 31) kwargs = {'y': 31, 'x': 14}\n"
     ]
    }
   ],
   "source": [
    "print('вызов с двумя позиционными аргументами:')\n",
    "printAll(10, 11)\n",
    "print('вызов с множеством позиционных аргументов:')\n",
    "printAll(10, 11, 14, 32, 12, 32, 31)\n",
    "print('вызов с \"ожидаемыми\" именованными аргументами:')\n",
    "printAll(10, 11, c=31, d=14)\n",
    "print('вызов с \"избыточными\" именованными аргументами:')\n",
    "printAll(10, 11, y=31, x=14)\n",
    "print('вызов с множеством позиционных арг-тов и с \"незнакомыми\" именованными арг-ми:')\n",
    "printAll(10, 11, 32, 12, 32, 31, y=31, x=14)"
   ]
  },
  {
   "cell_type": "code",
   "execution_count": 75,
   "id": "799d3d4e",
   "metadata": {},
   "outputs": [
    {
     "name": "stdout",
     "output_type": "stream",
     "text": [
      "    a = 1 b = 2 c = 3 d = 4\n",
      "    args = (5, 6, 7) kwargs = {}\n"
     ]
    }
   ],
   "source": [
    "sequence = (1, 2, 3, 4, 5, 6, 7)\n",
    "printAll(*sequence)"
   ]
  },
  {
   "cell_type": "code",
   "execution_count": 103,
   "id": "16e92639",
   "metadata": {},
   "outputs": [
    {
     "name": "stdout",
     "output_type": "stream",
     "text": [
      "    a = 10 b = 20 c = 1 d = 2\n",
      "    args = (3, 4, 5, 6, 7) kwargs = {}\n"
     ]
    }
   ],
   "source": [
    "printAll(10, 20, *sequence)"
   ]
  },
  {
   "cell_type": "code",
   "execution_count": 108,
   "id": "faa519f9",
   "metadata": {},
   "outputs": [
    {
     "name": "stdout",
     "output_type": "stream",
     "text": [
      "    a = 100 b = 20 c = 11 d = 200\n",
      "    args = () kwargs = {'n': 1, 'm': 15}\n"
     ]
    }
   ],
   "source": [
    "dictionary = {'b': 20, 'c': 11, 'n': 1, 'm': 15}\n",
    "printAll(100, d=200, **dictionary)"
   ]
  },
  {
   "cell_type": "markdown",
   "id": "9e28c2b7-4ec2-4c72-b985-3c6d591c0d6a",
   "metadata": {
    "id": "YmkOJXMO7BRj"
   },
   "source": [
    "## Предостережение!\n",
    "\n",
    ">Не стоит задавать изменяемый объект в качестве значение аргумента функции по умолчанию!\n",
    "\n",
    "Значения по умлочанию аргументов функций задаются один раз при определении функции, а не отдельно во время вызова. Поэтому при каждом вызове функции его локальная перменная, соответствующая дефолтному аргументу, ссылается на тот объект, который создан при определении функции. Для неизменяемых значений это не проблема, но для изменяемых объектов это может привести к неприятностям: первый вызов функции может изменить дефолтный объект, и тогда следующий вызов функции будет иметь дело с измененным объектом."
   ]
  },
  {
   "cell_type": "code",
   "execution_count": 3,
   "id": "045ec7f5-a78f-4c16-8d61-9000f9131a18",
   "metadata": {
    "id": "NLHKDZIg7BRj",
    "outputId": "5436aac4-fecc-4021-df92-ef2460cdf121"
   },
   "outputs": [],
   "source": [
    "def f(a, b=[]):\n",
    "    b.append(a)\n",
    "    return b\n",
    "# дефолтный объект [] создан"
   ]
  },
  {
   "cell_type": "markdown",
   "id": "6d199bf0",
   "metadata": {},
   "source": [
    "В данном коде для функции `f` определяется один дефолтный объект – пустой список. Далее, при вызове функции локальная переменная `b` будет ссылаться на тот самый объект и изменит его при выполнении функции."
   ]
  },
  {
   "cell_type": "code",
   "execution_count": 111,
   "id": "94019ff6",
   "metadata": {},
   "outputs": [
    {
     "name": "stdout",
     "output_type": "stream",
     "text": [
      "[10]\n",
      "[10, 11]\n"
     ]
    }
   ],
   "source": [
    "c = f(10)   # в объект [] записывается значение 10\n",
    "print(c)    # функция возвращает этот список и на него теперь ссылается c\n",
    "d = f(11)   # в объект [10] записыается значение 11\n",
    "print(d)    # теперь и d ссылается на список, значение которого теперь [10, 11]"
   ]
  },
  {
   "cell_type": "markdown",
   "id": "13048cb2",
   "metadata": {},
   "source": [
    "Переменным `c` и `d` был присвоен один и тот же объект: список, созданный при определении функции, поэтому:"
   ]
  },
  {
   "cell_type": "code",
   "execution_count": 112,
   "id": "b64496cc",
   "metadata": {},
   "outputs": [
    {
     "data": {
      "text/plain": [
       "True"
      ]
     },
     "execution_count": 112,
     "metadata": {},
     "output_type": "execute_result"
    }
   ],
   "source": [
    "c is d"
   ]
  },
  {
   "cell_type": "markdown",
   "id": "769c6f1c",
   "metadata": {},
   "source": [
    "Если все же значением по умолчанию должен быть изменяемый объект, но уникальный при для каждого вызова функции, можно действовать так:"
   ]
  },
  {
   "cell_type": "code",
   "execution_count": 113,
   "id": "40a1ee08",
   "metadata": {},
   "outputs": [
    {
     "name": "stdout",
     "output_type": "stream",
     "text": [
      "[10]\n",
      "[11]\n",
      "False\n"
     ]
    }
   ],
   "source": [
    "def f(a, b=None):\n",
    "    if b == None:\n",
    "        b = []\n",
    "    b.append(a)\n",
    "    return b\n",
    "\n",
    "c = f(10)\n",
    "print(c)\n",
    "d = f(11)\n",
    "print(d)\n",
    "print(c is d)"
   ]
  },
  {
   "cell_type": "markdown",
   "id": "5e4ac336",
   "metadata": {},
   "source": [
    "В этом случае при определении функции создается объект `None`, а список создаются отдельно создается каждый раз при вызове функции."
   ]
  },
  {
   "cell_type": "markdown",
   "id": "7f424d6a-e540-4a0d-82d9-7d5103952765",
   "metadata": {
    "id": "jajz8flxKJlc"
   },
   "source": [
    "# Декораторы\n",
    "Декоратор принимает в качестве аргумента функцию, и возвращает функцию обертку, в которой вызывается сама декорируемая функция, а так же некоторые инструкции до и после вызова функции."
   ]
  },
  {
   "cell_type": "code",
   "execution_count": 4,
   "id": "4a224942-d565-48e8-9507-de02cfd4c2b7",
   "metadata": {
    "id": "1tgLZaF_KJld"
   },
   "outputs": [
    {
     "name": "stdout",
     "output_type": "stream",
     "text": [
      "before\n",
      "calling function 5\n",
      "after\n",
      "before\n",
      "calling another function\n",
      "after\n"
     ]
    }
   ],
   "source": [
    "def decorator(function):\n",
    "    def wrapper(*args, **kwargs):\n",
    "        print('before')\n",
    "        value = function(*args, **kwargs)\n",
    "        print('after')\n",
    "        return value\n",
    "    return wrapper\n",
    "\n",
    "# определим функцию, которую нужно декорировать\n",
    "def f(a):\n",
    "    print('calling function', a)\n",
    "    return a\n",
    "\n",
    "# один из способов декорирования:\n",
    "f = decorator(f)\n",
    "f(5)\n",
    "\n",
    "# второй способ декорирования (при определении функции):\n",
    "@decorator\n",
    "def g():\n",
    "    print('calling another function')\n",
    "\n",
    "g()"
   ]
  },
  {
   "cell_type": "markdown",
   "id": "ddb014b3-cd3c-4144-ba88-610266a20034",
   "metadata": {
    "id": "J3d3Ijj17BRk"
   },
   "source": [
    "# Классы"
   ]
  },
  {
   "cell_type": "markdown",
   "id": "3986c365",
   "metadata": {},
   "source": [
    "Класс можно охарактеризовать как пользовательский тип данных. С архитектурной точки зрения класс позовляет объединить в единую сущность формат данных и множество функций, которые непосредственно работают с этим форматом данных. С другой стороны классы позволяют разбить задачу на меньшие, относительно независимые подзадачи, которы решаются классами, и реализовать тем самым принцип разделяй и властвуй.\n",
    "\n",
    "Исходя из этого можно сделать вывод, что класс должен быть самодостаточным и решать некоторую локальную задачу, которая входит в зону его ответственности."
   ]
  },
  {
   "cell_type": "markdown",
   "id": "c5b60f2c",
   "metadata": {},
   "source": [
    "## Базовый синтаксис\n",
    "\n",
    "Для определения класса используется оператор `class`, за которым следует имя класса. После того, как экземпляр класса создан, вызвается метод `__init__()`, который инициализирует объект, т.е начальные значения его полей. Метод `__init__()` играет роль конструктора. \n",
    "\n",
    "В рассматриваемом примере создается класс `Rectangle`, в котором определены три метода. Заметим, что первый аргумент кадого метода носит имя `self`. При вызове метода объекта, в метод всегда первым аргументом передается ссылка на сам объект. Принято использовать имя перменной `self`,  В некоторых других языках импользуется имя `this` для обращения к самому объекту, но в методах как правило `this` не передается в качестве аргумента. Тем не менее методы имеют доступ к собственному объекту. В Python производится явная передача `self` в метод. Впрочем, ничего не мешает использовать имя `this` или любое другое имя вместо `self`.\n",
    "\n",
    "`__init__()` является конструктором класса. В сооответствии с переданными в аргумент значениями, полсе создания объекта класса, будут созданы два поля объекта `a` и `b`, котораые будут хранить значения длин сторон прямоугольника.\n",
    "\n",
    "`get_area()` вернет площадь прямоугольника. Доступ к полям объекта в блоке метода обеспечивается через `self`. Переменная `area` является локальной переменной метода, и поэтому после завершения метода будет уничтожена.\n",
    "\n",
    "`set_size()` позволяет установить значения полей. "
   ]
  },
  {
   "cell_type": "code",
   "execution_count": 3,
   "id": "118f9448",
   "metadata": {},
   "outputs": [
    {
     "data": {
      "text/plain": [
       "type"
      ]
     },
     "execution_count": 3,
     "metadata": {},
     "output_type": "execute_result"
    }
   ],
   "source": [
    "class Rectangle:\n",
    "    def __init__(self, a, b):\n",
    "        self.a = a\n",
    "        self.b = b\n",
    "\n",
    "    def get_area(self):\n",
    "        area = self.a * self.b \n",
    "        return area\n",
    "\n",
    "    def set_size(self, a=None, b=None):\n",
    "        if a is not None:\n",
    "            self.a = a\n",
    "        if b is not None:\n",
    "            self.b = b\n",
    "\n",
    "type(Rectangle)"
   ]
  },
  {
   "cell_type": "markdown",
   "id": "f57993d5",
   "metadata": {},
   "source": [
    "При вызове метода объекта, переданные позиционные аргументы будут присваиваться аргументам функции минуя первый аргумент `self`."
   ]
  },
  {
   "cell_type": "code",
   "execution_count": 10,
   "id": "56f3a0f2",
   "metadata": {},
   "outputs": [
    {
     "data": {
      "text/plain": [
       "12"
      ]
     },
     "execution_count": 10,
     "metadata": {},
     "output_type": "execute_result"
    }
   ],
   "source": [
    "rect1 = Rectangle(3, 4)  # создается объект класса\n",
    "rect1.get_area()         # вызывается метод объекта"
   ]
  },
  {
   "cell_type": "code",
   "execution_count": 13,
   "id": "b78b6e9c",
   "metadata": {},
   "outputs": [
    {
     "data": {
      "text/plain": [
       "40"
      ]
     },
     "execution_count": 13,
     "metadata": {},
     "output_type": "execute_result"
    }
   ],
   "source": [
    "rect2 = Rectangle(1, 2)\n",
    "rect2.set_size(4)\n",
    "rect2.set_size(b=10)\n",
    "rect2.get_area()"
   ]
  },
  {
   "cell_type": "markdown",
   "id": "6c3ad6b5-3b9f-469a-ac20-9a53ed640a4c",
   "metadata": {
    "id": "KdbG1opO7BRk",
    "jp-MarkdownHeadingCollapsed": true
   },
   "source": [
    "## `__new__` `__del__`\n",
    "\n",
    "`__new__()` вызывается перед созданием нового экземпляра класса и принимает обязательный параметр `cls` (сам класс), также ему передаются аргументы, получаемые в конструкторе, поэтому стоит задать универсальные аргументы `*args`, `**kwargs`. Метод должен возвращать экземпляр класса, поэтому в `return` стоит вызвать одноименный метод суперкласса и передать ему ссылку на класс. Возвращаемый экземпляр еще не инициализирован, поэтому его словарь полей `__dict__` пока пуст.\n",
    "<br>\n",
    "`__init__()` (инициализатор) вызывается после создания экземпляра и инициализирет его поля. <br>\n",
    "`__del__()` (финализатор) вызывается перед удалением (оператором `del` либо сборщиком мусора) экземпляра класса."
   ]
  },
  {
   "cell_type": "code",
   "execution_count": 15,
   "id": "c573c381-47ec-434d-a7ec-5e25bf710280",
   "metadata": {
    "colab": {
     "base_uri": "https://localhost:8080/"
    },
    "id": "T1DtLgGG7BRk",
    "outputId": "0e2f8ac1-01bb-4199-c097-9ab03fc9a5ee"
   },
   "outputs": [
    {
     "name": "stdout",
     "output_type": "stream",
     "text": [
      "позицинные аргументы   args   = (1, 2)\n",
      "именованные аргументы  kwargs = {}\n",
      "позицинные аргументы   args   = (3,)\n",
      "именованные аргументы  kwargs = {'b': 4}\n",
      "позицинные аргументы   args   = ()\n",
      "именованные аргументы  kwargs = {'a': 5, 'b': 6}\n",
      "Rectangle.counter = 3\n",
      "Rectangle.counter = 2\n"
     ]
    }
   ],
   "source": [
    "class Rectangle:\n",
    "    # поле класса, которое будет хранить число экземпляров:\n",
    "    counter = 0\n",
    "\n",
    "    def __new__(cls, *args, **kwargs):\n",
    "        print(f'позицинные аргументы   {args   = }')\n",
    "        print(f'именованные аргументы  {kwargs = }')\n",
    "        cls.counter += 1\n",
    "        return super().__new__(cls)\n",
    "\n",
    "    def __init__(self, a, b) -> None:\n",
    "        self.a, self.b = a, b\n",
    "\n",
    "    # так как при удалении экземпляра мы хотим менять поле\n",
    "    # класса, сделаем __del__ методом класса:\n",
    "    @classmethod\n",
    "    def __del__(cls):\n",
    "        cls.counter -= 1\n",
    "\n",
    "\n",
    "s1 = Rectangle(1, 2)\n",
    "s2 = Rectangle(3, b=4)\n",
    "s3 = Rectangle(a=5, b=6)\n",
    "print(f\"{Rectangle.counter = }\")\n",
    "del s1\n",
    "print(f\"{Rectangle.counter = }\")"
   ]
  },
  {
   "cell_type": "code",
   "execution_count": 16,
   "id": "c0c14992-a88c-47a6-abea-c10c8812b302",
   "metadata": {
    "colab": {
     "base_uri": "https://localhost:8080/"
    },
    "id": "y8U0uOC4Tx0o",
    "outputId": "8ddcf212-8200-40e2-cc82-14084baa24ed"
   },
   "outputs": [
    {
     "data": {
      "text/plain": [
       "{'a': 3, 'b': 4}"
      ]
     },
     "execution_count": 16,
     "metadata": {},
     "output_type": "execute_result"
    }
   ],
   "source": [
    "vars(s2)"
   ]
  },
  {
   "cell_type": "markdown",
   "id": "785cbdf3-0c8b-44c7-9af0-28158b6d8080",
   "metadata": {
    "id": "vA3uVMaf7BRk"
   },
   "source": [
    "## Параметры класса `__dict__` и `__doc__`\n",
    "`__dict__` содержит набор атрибутов класса<br>\n",
    "`__doc__` содержит строку с описанием класса/объекта"
   ]
  },
  {
   "cell_type": "code",
   "execution_count": 43,
   "id": "bd14d4ab-991f-48eb-9e6c-4903bb19eb25",
   "metadata": {
    "colab": {
     "base_uri": "https://localhost:8080/"
    },
    "id": "yF4wGAZI7BRk",
    "outputId": "9cdc2b3d-7b15-4a4c-adb0-b0bc08157194"
   },
   "outputs": [
    {
     "name": "stdout",
     "output_type": "stream",
     "text": [
      "__module__ : __main__\n",
      "__doc__ : Класс для создания прямоугольников\n",
      "_Rectangle__MIN_VALUE : 0\n",
      "MAX_VALUE : 100\n",
      "height : 50\n",
      "__init__ : <function Rectangle.__init__ at 0x7ffac8e12b90>\n",
      "__dict__ : <attribute '__dict__' of 'Rectangle' objects>\n",
      "__weakref__ : <attribute '__weakref__' of 'Rectangle' objects>\n",
      "\n",
      " Класс для создания прямоугольников\n"
     ]
    }
   ],
   "source": [
    "class Rectangle:\n",
    "    \"\"\"Класс для создания прямоугольников\"\"\"\n",
    "    __MIN_VALUE = 0             # приватное поле класса\n",
    "    MAX_VALUE = 100             # публичное поле класса\n",
    "    height = 50\n",
    "\n",
    "    def __init__(self, width, height) -> None:\n",
    "        self.__width = width    # приватное поле объекта\n",
    "        self.height = height    # публичное поле объекта\n",
    "\n",
    "d = Rectangle.__dict__              # набор атрибутов класса\n",
    "for key in d:\n",
    "    print(f\"{key} : {d[key]}\")\n",
    "\n",
    "print('\\n', Rectangle.__doc__)      # описание класса"
   ]
  },
  {
   "cell_type": "markdown",
   "id": "97f7fe47-526a-4234-9b38-66a00c0751ad",
   "metadata": {
    "id": "84rFXrBy7BRk"
   },
   "source": [
    "При обращении к полю объекта, возвращается значение поля объекта Если же, данное поле не определено для объекта, но определено для для класса, то возвращается значение поля класса. Однако изменить значение поля класса, обращаясь к полю через объект не получится. Если же поле отсутствует как для объекта так и для класса, то возникнет ошибка."
   ]
  },
  {
   "cell_type": "code",
   "execution_count": null,
   "id": "44795058-dfad-4327-a40e-d03331075ba8",
   "metadata": {
    "id": "5Ju3MZKp7BRk",
    "outputId": "8f910497-60bc-4ec1-e824-2362ecf526c7"
   },
   "outputs": [
    {
     "name": "stdout",
     "output_type": "stream",
     "text": [
      "\n",
      "r.__dict__ = {'_Rectangle__width': 3, 'height': 5}\n",
      "5\n",
      "100\n"
     ]
    }
   ],
   "source": [
    "r = Rectangle(3, 5)\n",
    "print(f\"\\n{r.__dict__ = }\")     # набор атрибутов объекта\n",
    "print(r.height)     # поле объекта\n",
    "print(r.MAX_VALUE)  # поле класса (у объекта нет MAX_VALUE)"
   ]
  },
  {
   "cell_type": "code",
   "execution_count": null,
   "id": "04d16456-16d4-413b-b8f8-f7909b92e384",
   "metadata": {
    "id": "Z7BvhF8V7BRk",
    "outputId": "0e6a842f-5a02-44ce-abc5-3f612e655063"
   },
   "outputs": [
    {
     "data": {
      "text/plain": [
       "False"
      ]
     },
     "execution_count": 78,
     "metadata": {},
     "output_type": "execute_result"
    }
   ],
   "source": [
    "getattr(r, 'deep', False)\n",
    "# функция getattr возращает значение поля deep, если такое\n",
    "# поле существует в r, в противном случае возвратит False"
   ]
  },
  {
   "cell_type": "markdown",
   "id": "c6c37b60-59cd-4181-834c-e9d9190f1540",
   "metadata": {
    "id": "gVDzeMOR7BRk"
   },
   "source": [
    "## Декораторы `@classmethod` и `@staticmethod`\n",
    "Аналогично тому, как методы объекта получают первым аргументом сам объект (`self`), **методы класса** получают первым аргументом сам класс (`cls`), что обеспечивает доступ к полям класса.\n",
    "\n",
    "**Статические методы** не имеют доступа ни к полям класса, ни к полям объектов (поэтому нет аргументов `self` и `cls`). Это самостоятельная независимая функция, объявленная внутри класса. Однако, как правило, эта функция связана с тематикой самого класса. Если предполагается, что метод будет обращаться к полям класса, то следует использовать метод класса.\n",
    "\n",
    "При вызове статического метода или метода класса внутри другого метода вызывающий метода не пытается передать ему экземпляр класс в качестве первого аргумента. При вызове метода класса ему передается первым аргументом сам класс, а при вызове статического метода, то ничего автоматически не передается."
   ]
  },
  {
   "cell_type": "code",
   "execution_count": null,
   "id": "6fe69950-6f98-4d14-9844-b922bed2af02",
   "metadata": {
    "id": "TO6NYHIk7BRl",
    "outputId": "e6781c3e-b674-41d5-edda-c2b3f5544029"
   },
   "outputs": [
    {
     "name": "stdout",
     "output_type": "stream",
     "text": [
      "17\n"
     ]
    },
    {
     "data": {
      "text/plain": [
       "12"
      ]
     },
     "execution_count": 79,
     "metadata": {},
     "output_type": "execute_result"
    }
   ],
   "source": [
    "class Rectangle:\n",
    "    \"\"\"Класс для создания прямоугольников\"\"\"\n",
    "    __MIN_VALUE = 0             # приватное поле класса\n",
    "    MAX_VALUE = 100             # публичное поле класса\n",
    "    height = 50\n",
    "\n",
    "    @classmethod\n",
    "    def setValues(cls, min_value, max_value):\n",
    "        cls.__MIN_VALUE = min_value\n",
    "        cls.MAX_VALUE = max_value\n",
    "\n",
    "    @classmethod\n",
    "    def validate(cls, value):\n",
    "        return cls.__MIN_VALUE <= value <= cls.MAX_VALUE\n",
    "\n",
    "    def __init__(self, width, height) -> None:\n",
    "        # self.validate()   < = >   Rectangle.validate()\n",
    "        if self.validate(width) and self.validate(height):\n",
    "            self.__width = width    # приватное поле объекта\n",
    "            self.height = height    # публичное поле объекта\n",
    "        else:\n",
    "            self.__width = self.height = 0\n",
    "        # вызов статического метода внутри другого метода\n",
    "        self.area = self.get_area(self.__width, self.height)\n",
    "\n",
    "    @staticmethod\n",
    "    def get_area(width, height):\n",
    "        return width * height\n",
    "\n",
    "r = Rectangle(3, 4)\n",
    "\n",
    "r.setValues(11, 23)             # вызов метода класса\n",
    "Rectangle.setValues(13, 17)     # вызов метода класса\n",
    "\n",
    "print(Rectangle.MAX_VALUE)\n",
    "\n",
    "Rectangle.get_area(3, 4)        # вызов статического метода\n",
    "r.get_area(3, 4)                # вызов статического метода"
   ]
  },
  {
   "cell_type": "markdown",
   "id": "fd3313ba-aebc-4b69-8e20-24d099933c19",
   "metadata": {
    "id": "az9aIGMR7BRl"
   },
   "source": [
    "## Getters, Setters and Deleters\n",
    "Определим геттеры, сеттеры и делеттеры для приватного поля `__width` импользуя фунуцию `property`. Для этого созадим соответствующием методу и передадим их в функцию `property`."
   ]
  },
  {
   "cell_type": "code",
   "execution_count": null,
   "id": "dd76af75-5555-4eb1-97f9-e1bb48ade9f6",
   "metadata": {
    "id": "4nYo-6fO7BRl"
   },
   "outputs": [],
   "source": [
    "class Rectangle:\n",
    "    def __init__(self, width, height) -> None:\n",
    "        self.__width = width\n",
    "        self.__height = height\n",
    "\n",
    "    def getWidth(self):\n",
    "        return self.__width\n",
    "\n",
    "    def setWidth(self, value):\n",
    "        if not isinstance(value, (int, float)):\n",
    "            raise TypeError('x is must be int or float')\n",
    "        else:\n",
    "            self.__width = value\n",
    "\n",
    "    def delWidth(self):\n",
    "        del self.__width\n",
    "\n",
    "    width = property(getWidth, setWidth, delWidth)"
   ]
  },
  {
   "cell_type": "markdown",
   "id": "42bd8aae-78cb-4320-b96e-5193b2a9adee",
   "metadata": {
    "id": "7scwdrDj7BRl"
   },
   "source": [
    "поле `__width` тогда можно будет получить/установить/удалить так, как если бы это просто было бы поле с именем `width`"
   ]
  },
  {
   "cell_type": "code",
   "execution_count": null,
   "id": "e16b8bbd-00fd-40af-bebe-fb9fb530fc34",
   "metadata": {
    "id": "r8X1QEBE7BRl",
    "outputId": "481190d6-ef02-4b3c-b474-517fd9c780b3"
   },
   "outputs": [
    {
     "name": "stdout",
     "output_type": "stream",
     "text": [
      "{'_Rectangle__width': 3, '_Rectangle__height': 5}\n",
      "3\n",
      "6\n"
     ]
    },
    {
     "data": {
      "text/plain": [
       "{'_Rectangle__height': 5}"
      ]
     },
     "execution_count": 81,
     "metadata": {},
     "output_type": "execute_result"
    }
   ],
   "source": [
    "r = Rectangle(3, 5)\n",
    "print(r.__dict__)\n",
    "print(r.width)\n",
    "r.width = 6\n",
    "print(r.width)\n",
    "del r.width\n",
    "# print(r.width)\n",
    "# print(dir(r))\n",
    "r.__dict__"
   ]
  },
  {
   "cell_type": "markdown",
   "id": "af29da8e-41e6-4552-9589-790925faabdd",
   "metadata": {
    "id": "fVV_2pJ-7BRl"
   },
   "source": [
    "Определим геттеры, сеттеры и делеттеры для приватного поля `__width` импользуя декораторы. Результат будет таким же, как и при использовании функции `property`, но данный способ предпочтительней."
   ]
  },
  {
   "cell_type": "code",
   "execution_count": null,
   "id": "dfe33af6-4480-40ef-9d92-b2f6808fcd70",
   "metadata": {
    "id": "-gQ8Slr67BRl"
   },
   "outputs": [],
   "source": [
    "class Rectangle:\n",
    "    def __init__(self, width, height) -> None:\n",
    "        self.__width = width\n",
    "        self.__height = height\n",
    "\n",
    "    @property\n",
    "    def width(self):            # геттер\n",
    "        return self.__width\n",
    "\n",
    "    @width.setter\n",
    "    def width(self, value):\n",
    "        if not isinstance(value, (int, float)):\n",
    "            raise TypeError('x is must be int or float')\n",
    "        else:\n",
    "            self.__width = value\n",
    "\n",
    "    @width.deleter\n",
    "    def width(self):\n",
    "        del self.__width\n",
    "\n",
    "    def __del__(self):\n",
    "        print(self, 'deleted')"
   ]
  },
  {
   "cell_type": "code",
   "execution_count": null,
   "id": "a6fd7a9e-1975-4403-b3cb-f4b6f893e861",
   "metadata": {
    "id": "oyUAOukZ7BRl",
    "outputId": "e3a2634b-efd8-4557-de91-1f45c042225e"
   },
   "outputs": [
    {
     "name": "stdout",
     "output_type": "stream",
     "text": [
      "3\n",
      "4\n",
      "['_Rectangle__height', '__class__', '__del__', '__delattr__', '__dict__', '__dir__', '__doc__', '__eq__', '__format__', '__ge__', '__getattribute__', '__gt__', '__hash__', '__init__', '__init_subclass__', '__le__', '__lt__', '__module__', '__ne__', '__new__', '__reduce__', '__reduce_ex__', '__repr__', '__setattr__', '__sizeof__', '__str__', '__subclasshook__', '__weakref__', 'width']\n"
     ]
    },
    {
     "data": {
      "text/plain": [
       "5"
      ]
     },
     "execution_count": 83,
     "metadata": {},
     "output_type": "execute_result"
    }
   ],
   "source": [
    "r = Rectangle(3, 5)\n",
    "print(r.width)\n",
    "r.width = 4\n",
    "print(r.width)\n",
    "del r.width\n",
    "print(dir(r))\n",
    "# в общем случае все можно получить доступ к приватному полю\n",
    "r._Rectangle__height"
   ]
  },
  {
   "cell_type": "markdown",
   "id": "10c1284b-421b-44d5-9ba9-3b482d78a166",
   "metadata": {
    "id": "jMKoH52T7BRl"
   },
   "source": [
    "#### `__setattr__` `__getattribute__` `__getattr__` `__delattr__`\n",
    "Данные методы вызываются в следующих случаях:\n",
    "\n",
    "`__setattr__` - при изменении поля<br>\n",
    "`__getattribute__` - при доступе к полю (как к существующему, так и несуществующему)<br>\n",
    "`__getattr__` - при попытке доступа к несуществующему полю<br>\n",
    "`__delattr__` - при удалении поля\n",
    "\n",
    "Во всех методах, кроме `__getattr__`, следует также вызывать одноименный метода класса `object`. Заметим, что если вызывать родительский метод напрямую через имя класса, то необходимо передавать первым аргументом объект (`self`), а если вызвать через `super()`, то передавать объект не нужно.<br> Метод `__setattr__` вызывается не только при изменении полей, но и про их создании в `__init__`. Здесь так же стоит вызывать одноименный метод суперкласса. Если вместо этого непосредственно внутри метода присваивать полю значение, то это в свою очередь снова вызовет метод `__setattr__`, что приведет к рекурсии.\n",
    "\n",
    "Определим поле класса `fields`, в котором будут содержаться имена допустимых аттрибутов, для того, чтобы нельзя было добавлять новые аттрибуты. В методе `__setattr__` возбуждается исключение `AttributeError`, когда возникает попытка присвоить значение несуществующему полю."
   ]
  },
  {
   "cell_type": "code",
   "execution_count": null,
   "id": "8eaa63d8-eb89-4977-8736-f27474c5246a",
   "metadata": {
    "id": "sRF2jjAD7BRl",
    "outputId": "1dce8886-3e65-4155-a9ce-6fb5f3e11eb3"
   },
   "outputs": [
    {
     "name": "stdout",
     "output_type": "stream",
     "text": [
      "get fields\n",
      "set value: width = 3\n",
      "get fields\n",
      "set value: height = 4\n",
      "<__main__.Rectangle object at 0x000002CDBED63FD0> deleted\n"
     ]
    }
   ],
   "source": [
    "class Rectangle:\n",
    "\n",
    "    fields = ('width', 'height')\n",
    "\n",
    "    def __init__(self, width, height):\n",
    "        self.width = width\n",
    "        self.height = height\n",
    "\n",
    "    def __getattribute__(self, __name):\n",
    "        # в аргументе item будет строка с именем получаемого поля:\n",
    "        print(f'get {__name}')\n",
    "        return object.__getattribute__(self, __name)\n",
    "        # return super().__getattribute__(__name)\n",
    "\n",
    "    def __getattr__(self, __name):\n",
    "        print('referencing a non-existing attribute')\n",
    "        return False\n",
    "\n",
    "    def __setattr__(self, __name, __value) -> None:\n",
    "        if not __name in self.fields:\n",
    "            raise AttributeError('attribute is not exist')\n",
    "        else:\n",
    "            print(f'set value: {__name} = {__value}')\n",
    "            object.__setattr__(self, __name, __value)\n",
    "\n",
    "    def __delattr__(self, __name: str) -> None:\n",
    "        print(f'delete attribute {__name}')\n",
    "        object.__delattr__(self, __name)\n",
    "\n",
    "\n",
    "r = Rectangle(3, 4)\n",
    "# метод __setattr__ двады обращается к fields при инициализации:"
   ]
  },
  {
   "cell_type": "code",
   "execution_count": null,
   "id": "8b65544d-a880-4f03-b352-606686ac3462",
   "metadata": {
    "id": "0g_SboxS7BRm",
    "outputId": "b1e26237-c79d-4086-f047-458550865078"
   },
   "outputs": [
    {
     "name": "stdout",
     "output_type": "stream",
     "text": [
      "get width\n",
      "3\n",
      "get fields\n",
      "set value: width = 15\n",
      "get deep\n",
      "referencing a non-existing attribute\n",
      "False\n",
      "delete attribute width\n"
     ]
    }
   ],
   "source": [
    "print(r.width)          # обращение к полю width\n",
    "r.width = 15            # установка значения width\n",
    "print(r.deep)           # обращение к несуществующему полю\n",
    "del r.width             # удаление поля width"
   ]
  },
  {
   "cell_type": "code",
   "execution_count": null,
   "id": "4fc30ad2-1025-4f4f-a63c-eecb11cb9fbf",
   "metadata": {
    "id": "X2_wrDun7BRm",
    "outputId": "3ff96edf-1419-419b-e7a2-1347e48cda6f"
   },
   "outputs": [
    {
     "name": "stdout",
     "output_type": "stream",
     "text": [
      "init\n",
      "call 20\n"
     ]
    }
   ],
   "source": [
    "class Rectangle:\n",
    "    def __init__(self) -> None:\n",
    "        print('init')\n",
    "        self.x = 10\n",
    "\n",
    "    def __call__(self, y):\n",
    "        print('call', self.x * y)\n",
    "\n",
    "r = Rectangle()\n",
    "r(2)"
   ]
  },
  {
   "cell_type": "markdown",
   "id": "fcc8c0db-1342-4fe8-b76c-895bff116dba",
   "metadata": {
    "id": "fn_00Mp27BRm"
   },
   "source": [
    "`__repr__` орпделеяет строковое представление класса (representation), т.е. как он будтет выводиться в `print`, и как его будет конвертировать функция `str()`. Метод `__del__` отвечает за финализацию: он вызывается перед удалением объекта."
   ]
  },
  {
   "cell_type": "code",
   "execution_count": null,
   "id": "1109b19e-19cf-4b30-9f78-593623ae00a3",
   "metadata": {
    "id": "bw9fJZ7i7BRm",
    "outputId": "54501e28-c70c-4398-9b80-9d7a4177e5f0"
   },
   "outputs": [
    {
     "name": "stdout",
     "output_type": "stream",
     "text": [
      "author: Hermann Hesse \n",
      "title: Das Glasperlenspiel\n"
     ]
    }
   ],
   "source": [
    "class Book(object):\n",
    "    def __init__(self, author, title):  # инициализатор\n",
    "        self.author = author\n",
    "        self.title = title\n",
    "\n",
    "    def __del__(self):                  # финализатор\n",
    "        print(self, 'is deleted')\n",
    "\n",
    "    def __repr__(self):\n",
    "        return f'author: {self.author} \\ntitle: {self.title}'\n",
    "\n",
    "book = Book('Hermann Hesse', title='Das Glasperlenspiel')\n",
    "print(book)"
   ]
  },
  {
   "cell_type": "code",
   "execution_count": null,
   "id": "28c40efc-02b6-44d7-9760-29f4f6d82db0",
   "metadata": {
    "id": "qsnJwJf_7BRm"
   },
   "outputs": [],
   "source": [
    "# __add__() переопределяет поведение оператора +, однако, этот\n",
    "#   метод работает тогда, когда объект находится слева от оператора\n",
    "# __radd__() позволяет определить поведение оператора + для случая,\n",
    "#   когда объект находится справа от + (right-sid-add)"
   ]
  },
  {
   "cell_type": "code",
   "execution_count": null,
   "id": "313062f7-163a-4d85-a890-bd92c411a323",
   "metadata": {
    "id": "S86ZBcFk7BRm",
    "outputId": "bbf9a481-d011-441b-bb15-5d480e8d4685"
   },
   "outputs": [
    {
     "name": "stdout",
     "output_type": "stream",
     "text": [
      "pageCount 255\n"
     ]
    }
   ],
   "source": [
    "# Вполне можно добавлять атрибуты к объектам в любой момент выполнения\n",
    "# программы, но, если у вас есть объекты одного типа, которые не имеют\n",
    "# одинаковых атрибутов, легко допустить ошибки. Поэтому рекомендуется\n",
    "# инициализация всех атрибутов объекта в методе __init__\n",
    "# атрибуты можно добавлять как внутри методов так и напрямую:\n",
    "book.pageCount = 255\n",
    "\n",
    "# hasattr() позволяет узнать, есть ли атрибут у объекта\n",
    "# getattr() позволяет получить значение атрибута объекта\n",
    "attr = 'pageCount'\n",
    "if hasattr(book, attr):\n",
    "    print(attr, getattr(book, attr))"
   ]
  },
  {
   "cell_type": "code",
   "execution_count": null,
   "id": "01c7595f-03b6-4b88-9814-522a86177669",
   "metadata": {
    "id": "C4b3qKkz7BRm",
    "outputId": "4b30a369-b440-4c2d-a37b-eb38e3c3a5d4"
   },
   "outputs": [
    {
     "name": "stdout",
     "output_type": "stream",
     "text": [
      "Queen of Hearts\n"
     ]
    }
   ],
   "source": [
    "class Card:\n",
    "    \"\"\" определяет игральную карту \"\"\"\n",
    "    def __init__(self, suit=0, rank=2) -> None:\n",
    "        # свойства экземпляра (instance attributes)\n",
    "        self.suit = suit\n",
    "        self.rank = rank\n",
    "\n",
    "    # свойства класса (class attributes) - общие для всех экземпляров\n",
    "    suitNames = ['Clubs', 'Diamonds', 'Hearts', 'Spades']\n",
    "    rankNames = [None, None, '2', '3', '4', '5', '6', '7', '8',\n",
    "                '9', '10', 'Jack', 'Queen', 'King', 'Ace']\n",
    "\n",
    "    def __str__(self):\n",
    "        # доступ к свойствам класса и к свойствам экземпляра внутри метода:\n",
    "        return f'{Card.rankNames[self.rank]} of {Card.suitNames[self.suit]}'\n",
    "\n",
    "    def __lt__(self, other):    # определение оператора < (less than)\n",
    "        temp_1 = self.suit, self.rank\n",
    "        temp_2 = other.suit, other.rank\n",
    "        return temp_1 < temp_2  # tuple comparison\n",
    "\n",
    "card = Card(2, 12)\n",
    "print(card)"
   ]
  },
  {
   "cell_type": "code",
   "execution_count": null,
   "id": "22592c40-a6c7-4fa4-8a69-e0b1aafbef7f",
   "metadata": {
    "id": "qfdZiT5Q7BRm"
   },
   "outputs": [],
   "source": [
    "import random\n",
    "\n",
    "class Deck:\n",
    "    def __init__(self):\n",
    "        self.cards = []\n",
    "        for suit in range(4):\n",
    "            for rank in range(2, 15):\n",
    "                card = Card(suit, rank)\n",
    "                self.cards.append(card)\n",
    "\n",
    "    def __str__(self) -> str:\n",
    "        res = []                    # в списке res соберутся все строковые\n",
    "        for card in self.cards:     # представления карт колоды и вернется\n",
    "            res.append(str(card))   # объединение всех элементов строки\n",
    "        return '\\n'.join(res)       # в одну строку с разделителем \\n\n",
    "\n",
    "    def pop_card(self):\n",
    "        return self.cards.pop()\n",
    "\n",
    "    def add_card(self, card):           # Подобный метод, который использует другой\n",
    "        return self.cards.append(card)  # метод, не выполняя дополнительной работы,\n",
    "                                        # иногда называют декорирующим (veneer)\n",
    "\n",
    "    def shuffle(self):\n",
    "        random.shuffle(self.cards)\n",
    "\n",
    "    def sort(self):\n",
    "        # можно использовать в функции сравнения tuple comparison:\n",
    "        # self.cards.sort(key=lambda card: (card.suit, card.rank))\n",
    "        # однако, так как для элементов списка cards определен метод\n",
    "        # сравнения __lt__(), метод sort() сможет на его основе\n",
    "        # отсортировать список cards:\n",
    "        self.cards.sort()\n",
    "\n",
    "deck = Deck()\n",
    "deck.shuffle()\n",
    "deck.sort()\n",
    "# print(deck)"
   ]
  },
  {
   "cell_type": "code",
   "execution_count": null,
   "id": "accff20f-8947-4a1b-8671-879663c09954",
   "metadata": {
    "id": "2tJkgBRO7BRn"
   },
   "outputs": [],
   "source": [
    "# Иногда в случае цепочки наследований сложно отследить в каком классе\n",
    "# определен метод, вызываемый у объекта. Можно воспользоваться функцией:\n",
    "\n",
    "def findDefiningClass(obj, methonName):\n",
    "    \"\"\" первый аргумент - объект, второй аргумент - искомый метод в виде строки\n",
    "    возвращает тип класса, к которому принадлежит метод с именем methonName \"\"\"\n",
    "\n",
    "    typeOfObject = type(obj)            # это объект типа type\n",
    "    for t in typeOfObject.mro():        # перебирается список иерархии классов;\n",
    "        if methonName in t.__dict__:    # если имя методая обнаруживается в\n",
    "            return t                    # словаре атрибутов класса t, возващается t\n",
    "\n",
    "# метод mro() объекта класса type (Method Resolution Order - порядок разешения метоов)\n",
    "# возвращает список классов ровно в том порядке, в котором Python будет искать методы\n",
    "# (или атрибуты) в иерархии классов пока не найдет нужный или не выдаст ошибку."
   ]
  },
  {
   "cell_type": "code",
   "execution_count": null,
   "id": "48ac3416-d0e8-41d6-8e50-2e79bf8877b6",
   "metadata": {
    "id": "KfLRQYqg7BRn",
    "outputId": "bd15be75-ca99-4e96-d1fb-9de4ae317dca",
    "scrolled": true
   },
   "outputs": [
    {
     "name": "stdout",
     "output_type": "stream",
     "text": [
      "<class '__main__.Deck'>\n"
     ]
    }
   ],
   "source": [
    "# таким образом можно получить имя класса, в котором определен атрибут\n",
    "print(findDefiningClass(deck, 'add_card'))"
   ]
  }
 ],
 "metadata": {
  "kernelspec": {
   "display_name": "Python 3 (ipykernel)",
   "language": "python",
   "name": "python3"
  },
  "language_info": {
   "codemirror_mode": {
    "name": "ipython",
    "version": 3
   },
   "file_extension": ".py",
   "mimetype": "text/x-python",
   "name": "python",
   "nbconvert_exporter": "python",
   "pygments_lexer": "ipython3",
   "version": "3.10.10"
  }
 },
 "nbformat": 4,
 "nbformat_minor": 5
}
