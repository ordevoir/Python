{
  "cells": [
    {
      "cell_type": "markdown",
      "metadata": {
        "id": "v_8uCYaNlUEZ"
      },
      "source": [
        "# Множества\n",
        "\n",
        "Абстрактная структура данных множеств реализована в Python в виде структуры данных set. Множества в Python являются объектами класса `set`. В множествах элементы не могут повторяться, и элементы не расположены в определенном порядке."
      ]
    },
    {
      "cell_type": "markdown",
      "metadata": {
        "id": "sr2c-PnMlUEZ"
      },
      "source": [
        "## Способы создания множеств\n",
        "\n",
        "Множество можно указать путем явного указания элементов множества:"
      ]
    },
    {
      "cell_type": "code",
      "execution_count": null,
      "metadata": {
        "id": "Y7An_VfZlUEZ"
      },
      "outputs": [],
      "source": [
        "A = {0, 1, 2, 3, 4, 5}"
      ]
    },
    {
      "cell_type": "markdown",
      "metadata": {
        "id": "k_m-38GclUEZ"
      },
      "source": [
        "Можно создать пустое множество и затем добавить в него элементы. Это возможно благодаря тому, что `set` является изменяемым типом."
      ]
    },
    {
      "cell_type": "code",
      "execution_count": null,
      "metadata": {
        "id": "hiNPLdXklUEZ"
      },
      "outputs": [],
      "source": [
        "B = set()\n",
        "for i in range(11):\n",
        "    if i%2 == 0:\n",
        "        B.add(i)\n",
        "\n",
        "print(B)"
      ]
    },
    {
      "cell_type": "markdown",
      "metadata": {
        "id": "OuladWsglUEZ"
      },
      "source": [
        "*Set Comprehention*:"
      ]
    },
    {
      "cell_type": "code",
      "execution_count": null,
      "metadata": {
        "id": "43PzceVPlUEa"
      },
      "outputs": [],
      "source": [
        "C = {i for i in range(0, 11, 2)}\n",
        "print(C)"
      ]
    },
    {
      "cell_type": "markdown",
      "metadata": {
        "id": "MPZDS1umlUEa"
      },
      "source": [
        "## Доступ к элементам множества в цикле"
      ]
    },
    {
      "cell_type": "code",
      "execution_count": null,
      "metadata": {
        "id": "JE31Dh-ulUEa"
      },
      "outputs": [],
      "source": [
        "for i in A:\n",
        "    print(i)"
      ]
    },
    {
      "cell_type": "markdown",
      "metadata": {
        "id": "xSuystzClUEa"
      },
      "source": [
        "## Основные методы класса `set`"
      ]
    },
    {
      "cell_type": "markdown",
      "metadata": {
        "id": "RuiF9NLxlUEa"
      },
      "source": [
        "### Операции над парой множеств\n",
        "\n",
        "![euler](https://github.com/ordevoir/Python/blob/main/images/euler.png?raw=1)"
      ]
    },
    {
      "cell_type": "code",
      "execution_count": null,
      "metadata": {
        "id": "Z2mrahABlUEa"
      },
      "outputs": [],
      "source": [
        "print('A =', A, '    B =', B)\n",
        "\n",
        "# выражения, возвращающие объекты класса set\n",
        "print(f'{A.union(B) = }')                   # объединение             A | B\n",
        "print(f'{A.intersection(B) = }')            # пересечение             A & B\n",
        "print(f'{A.difference(B) = }')              # разность                A - B\n",
        "print(f'{A.symmetric_difference(B) = }')    # симметрическая разность A ^ B"
      ]
    },
    {
      "cell_type": "markdown",
      "metadata": {
        "id": "0ODFE7tZlUEa"
      },
      "source": [
        "Следующие методы работают как и предыдущие, но вместо того, чтобы возвратить результат операции, они перезаписывают его в множество `A` (из которого вызваны)."
      ]
    },
    {
      "cell_type": "code",
      "execution_count": null,
      "metadata": {
        "id": "gOYRdSsTlUEa"
      },
      "outputs": [],
      "source": [
        "# A.update(B)                         # A |= B\n",
        "# A.intersection_update(B)            # A &= B\n",
        "# A.difference_update(B)              # A -= B\n",
        "# A.symmetric_difference_update(B)    # A ^= B"
      ]
    },
    {
      "cell_type": "code",
      "execution_count": null,
      "metadata": {
        "id": "om662kwjlUEa"
      },
      "outputs": [],
      "source": [
        "# отношения между двумя множествами (выражения возвращают логический тип)\n",
        "print(f\"{ A.issubset(B)   = }\")     # является ли A подмножеством B\n",
        "print(f\"{ A.issuperset(B) = }\")     # является ли A надмножеством B\n",
        "print(f\"{ A.isdisjoint(B) = }\")     # являются ли A и B непересекающимися"
      ]
    },
    {
      "cell_type": "markdown",
      "metadata": {
        "id": "0TFTDL3WlUEa"
      },
      "source": [
        "### Операции над элементами множества"
      ]
    },
    {
      "cell_type": "code",
      "execution_count": null,
      "metadata": {
        "id": "C_Yv6hqRlUEb"
      },
      "outputs": [],
      "source": [
        "A = {0, 1, 2, 3, 4, 5}\n",
        "\n",
        "A.add(12)           # в множество A добавляется элемент 12\n",
        "A.discard(12)       # удаляется элемент 12, если он есть\n",
        "\n",
        "# A.remove(12)      # удаляется элемент 12 в отличие от discard,\n",
        "# метод remove возбуждает исключение, если элемент не найден\n",
        "\n",
        "print(f\"{A.pop() = }\")      # извлекается произвольный элемент\n",
        "print(f\"{2 in A = }\")       # проверяем принадлежность элемента 2 множеству A\n",
        "print(f\"{len(A) = }\")       # мощность множества (количество элементов)\n",
        "A.clear()                   # опустошение всего множетства\n",
        "print(f\"{A = }\")"
      ]
    },
    {
      "cell_type": "code",
      "execution_count": null,
      "metadata": {
        "id": "ai_klYX7lUEb"
      },
      "outputs": [],
      "source": [
        "C = A.copy() # в C запишется поверхностная копия множества A"
      ]
    },
    {
      "cell_type": "markdown",
      "metadata": {
        "id": "YIigyehwlUEb"
      },
      "source": [
        "## Поведение бинарных операторов"
      ]
    },
    {
      "cell_type": "code",
      "execution_count": null,
      "metadata": {
        "id": "8rUB5D1QlUEb"
      },
      "outputs": [],
      "source": [
        "# объединение двух множеств\n",
        "A = {1, 2, 3}\n",
        "B = {3, 4, 5}\n",
        "D = {*A, *B}    # объединение путем распаковки\n",
        "\n",
        "print(f'{ A = }')\n",
        "print(f'{ B = }')\n",
        "print(f'{ D = }')\n",
        "print(f' Объединение:    { A | B = }')   # объединение оператором\n",
        "print(f' Пересечение:    { A & B = }')\n",
        "print(f' Разность:       { A - B = }')\n",
        "print(f' Симм. разность: { A ^ B = }')\n",
        "\n",
        "# также доступны и такие операторы:\n",
        "A |= B      # объединение\n",
        "A &= B      # пересечение\n",
        "A -= B      # разность\n",
        "A ^= B      # симметрическая разность\n",
        "print(f'{ A = }')"
      ]
    },
    {
      "cell_type": "markdown",
      "metadata": {
        "id": "MN-eSh47lUEb"
      },
      "source": [
        "Сравнение множеств"
      ]
    },
    {
      "cell_type": "code",
      "execution_count": null,
      "metadata": {
        "id": "8xc2ZeiJlUEn"
      },
      "outputs": [],
      "source": [
        "A = {1, 2}\n",
        "B = {1, 2}\n",
        "C = A\n",
        "print(A.__eq__(B))          #  <=>  A == B\n",
        "print(A.__contains__(2))    #  <=>  2 in A\n",
        "\n",
        "print(f\"{ B == A = }\")      # равны ли множества; равносильно A.__eq__(B)\n",
        "print(f\"{ B is A = }\")      # выражение будет давать True, только если\n",
        "print(f\"{ C is A = }\")      # имена указывают на один и тот же объект"
      ]
    },
    {
      "cell_type": "markdown",
      "metadata": {},
      "source": [
        "## Генерация множеств (setcomp)\n",
        "\n",
        "По аналогии с генерацией списков, есть возможность генерировать множества (*set comprehension*):"
      ]
    },
    {
      "cell_type": "code",
      "execution_count": null,
      "metadata": {},
      "outputs": [],
      "source": [
        "m = {n//2 for n in range(5)}            # set comprehension\n",
        "print(m)"
      ]
    },
    {
      "cell_type": "markdown",
      "metadata": {
        "id": "F3xq3atMlUEn"
      },
      "source": [
        "# `frozenset`\n",
        "\n",
        "Следует упомянуть, что в Python реализован также класс `frozenset`, отличающийся от `set` тем, что это неизменяемый тип данных, и, соответственно, набор его методов не содержит возможностей изменять объект."
      ]
    }
  ],
  "metadata": {
    "colab": {
      "include_colab_link": true,
      "provenance": [],
      "toc_visible": true
    },
    "kernelspec": {
      "display_name": "Python 3 (ipykernel)",
      "language": "python",
      "name": "python3"
    },
    "language_info": {
      "codemirror_mode": {
        "name": "ipython",
        "version": 3
      },
      "file_extension": ".py",
      "mimetype": "text/x-python",
      "name": "python",
      "nbconvert_exporter": "python",
      "pygments_lexer": "ipython3",
      "version": "3.10.10"
    },
    "vscode": {
      "interpreter": {
        "hash": "e20f72739ffc6c3cc505414aaab49afe57115ca17c783e620ccfd5d632835ddf"
      }
    }
  },
  "nbformat": 4,
  "nbformat_minor": 0
}
