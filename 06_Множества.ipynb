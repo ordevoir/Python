{
  "cells": [
    {
      "cell_type": "markdown",
      "metadata": {
        "id": "view-in-github",
        "colab_type": "text"
      },
      "source": [
        "<a href=\"https://colab.research.google.com/github/ordevoir/Python/blob/main/06_%D0%9C%D0%BD%D0%BE%D0%B6%D0%B5%D1%81%D1%82%D0%B2%D0%B0.ipynb\" target=\"_parent\"><img src=\"https://colab.research.google.com/assets/colab-badge.svg\" alt=\"Open In Colab\"/></a>"
      ]
    },
    {
      "cell_type": "markdown",
      "metadata": {
        "id": "v_8uCYaNlUEZ"
      },
      "source": [
        "# Множества\n",
        "\n",
        "Абстрактная структура данных множеств реализована в Python в виде структуры данных set. Множества в Python являются объектами класса `set`. В множествах элементы не могут повторяться, и элементы не расположены в определенном порядке."
      ]
    },
    {
      "cell_type": "markdown",
      "metadata": {
        "id": "sr2c-PnMlUEZ"
      },
      "source": [
        "## Способы создания множеств\n",
        "\n",
        "Множество можно указать путем явного указания элементов множества:"
      ]
    },
    {
      "cell_type": "code",
      "execution_count": 1,
      "metadata": {
        "id": "Y7An_VfZlUEZ"
      },
      "outputs": [],
      "source": [
        "A = {0, 1, 2, 3, 4, 5}"
      ]
    },
    {
      "cell_type": "markdown",
      "metadata": {
        "id": "k_m-38GclUEZ"
      },
      "source": [
        "Можно создать пустое множество и затем добавить в него элементы. Это возможно благодаря тому, что `set` является изменяемым типом."
      ]
    },
    {
      "cell_type": "code",
      "execution_count": 2,
      "metadata": {
        "id": "hiNPLdXklUEZ",
        "outputId": "6faca060-c84b-4236-8a37-27c97ba0f93a",
        "colab": {
          "base_uri": "https://localhost:8080/"
        }
      },
      "outputs": [
        {
          "output_type": "stream",
          "name": "stdout",
          "text": [
            "{0, 2, 4, 6, 8, 10}\n"
          ]
        }
      ],
      "source": [
        "B = set()\n",
        "for i in range(11):\n",
        "    if i%2 == 0:\n",
        "        B.add(i)\n",
        "\n",
        "print(B)"
      ]
    },
    {
      "cell_type": "markdown",
      "metadata": {
        "id": "OuladWsglUEZ"
      },
      "source": [
        "*Set Comprehention*:"
      ]
    },
    {
      "cell_type": "code",
      "execution_count": 3,
      "metadata": {
        "id": "43PzceVPlUEa",
        "outputId": "7172afd6-c185-4fc8-c015-e51f332480f0",
        "colab": {
          "base_uri": "https://localhost:8080/"
        }
      },
      "outputs": [
        {
          "output_type": "stream",
          "name": "stdout",
          "text": [
            "{0, 2, 4, 6, 8, 10}\n"
          ]
        }
      ],
      "source": [
        "C = {i for i in range(0, 11, 2)}\n",
        "print(C)"
      ]
    },
    {
      "cell_type": "markdown",
      "metadata": {
        "id": "MPZDS1umlUEa"
      },
      "source": [
        "## Доступ к элементам множества в цикле"
      ]
    },
    {
      "cell_type": "code",
      "execution_count": 4,
      "metadata": {
        "id": "JE31Dh-ulUEa",
        "outputId": "867d5dcb-6e65-4696-d7ac-9c01188cc97f",
        "colab": {
          "base_uri": "https://localhost:8080/"
        }
      },
      "outputs": [
        {
          "output_type": "stream",
          "name": "stdout",
          "text": [
            "0\n",
            "1\n",
            "2\n",
            "3\n",
            "4\n",
            "5\n"
          ]
        }
      ],
      "source": [
        "for i in A:\n",
        "    print(i)"
      ]
    },
    {
      "cell_type": "markdown",
      "metadata": {
        "id": "xSuystzClUEa"
      },
      "source": [
        "## Основные методы класса `set`"
      ]
    },
    {
      "cell_type": "markdown",
      "metadata": {
        "id": "RuiF9NLxlUEa"
      },
      "source": [
        "### Операции над парой множеств\n",
        "\n",
        "![euler](https://github.com/ordevoir/Python/blob/main/images/euler.png?raw=1)"
      ]
    },
    {
      "cell_type": "code",
      "execution_count": 5,
      "metadata": {
        "id": "Z2mrahABlUEa",
        "outputId": "bc5961c7-6155-4822-c858-e42cb0ef85ac",
        "colab": {
          "base_uri": "https://localhost:8080/"
        }
      },
      "outputs": [
        {
          "output_type": "stream",
          "name": "stdout",
          "text": [
            "A = {0, 1, 2, 3, 4, 5}     B = {0, 2, 4, 6, 8, 10}\n",
            "A.union(B) = {0, 1, 2, 3, 4, 5, 6, 8, 10}\n",
            "A.intersection(B) = {0, 2, 4}\n",
            "A.difference(B) = {1, 3, 5}\n",
            "A.symmetric_difference(B) = {1, 3, 5, 6, 8, 10}\n"
          ]
        }
      ],
      "source": [
        "print('A =', A, '    B =', B)\n",
        "\n",
        "# выражения, возвращающие объекты класса set\n",
        "print(f'{A.union(B) = }')                   # объединение             A | B\n",
        "print(f'{A.intersection(B) = }')            # пересечение             A & B\n",
        "print(f'{A.difference(B) = }')              # разность                A - B\n",
        "print(f'{A.symmetric_difference(B) = }')    # симметрическая разность A ^ B"
      ]
    },
    {
      "cell_type": "markdown",
      "metadata": {
        "id": "0ODFE7tZlUEa"
      },
      "source": [
        "Следующие методы работают как и предыдущие, но вместо того, чтобы возвратить результат операции, они перезаписывают его в множество `A` (из которого вызваны)."
      ]
    },
    {
      "cell_type": "code",
      "execution_count": 6,
      "metadata": {
        "id": "gOYRdSsTlUEa"
      },
      "outputs": [],
      "source": [
        "# A.update(B)                         # A |= B\n",
        "# A.intersection_update(B)            # A &= B\n",
        "# A.difference_update(B)              # A -= B\n",
        "# A.symmetric_difference_update(B)    # A ^= B"
      ]
    },
    {
      "cell_type": "code",
      "execution_count": 7,
      "metadata": {
        "id": "om662kwjlUEa",
        "outputId": "22f5a308-ae20-42a1-a5b8-5b7fb35aeb0e",
        "colab": {
          "base_uri": "https://localhost:8080/"
        }
      },
      "outputs": [
        {
          "output_type": "stream",
          "name": "stdout",
          "text": [
            " A.issubset(B)   = False\n",
            " A.issuperset(B) = False\n",
            " A.isdisjoint(B) = False\n"
          ]
        }
      ],
      "source": [
        "# отношения между двумя множествами (выражения возвращают логический тип)\n",
        "print(f\"{ A.issubset(B)   = }\")     # является ли A подмножеством B\n",
        "print(f\"{ A.issuperset(B) = }\")     # является ли A надмножеством B\n",
        "print(f\"{ A.isdisjoint(B) = }\")     # являются ли A и B непересекающимися"
      ]
    },
    {
      "cell_type": "markdown",
      "metadata": {
        "id": "0TFTDL3WlUEa"
      },
      "source": [
        "### Операции над элементами множества"
      ]
    },
    {
      "cell_type": "code",
      "execution_count": 8,
      "metadata": {
        "id": "C_Yv6hqRlUEb",
        "outputId": "87b156ac-7e5a-4905-9522-a9385b2ea35f",
        "colab": {
          "base_uri": "https://localhost:8080/"
        }
      },
      "outputs": [
        {
          "output_type": "stream",
          "name": "stdout",
          "text": [
            "A.pop() = 0\n",
            "2 in A = True\n",
            "len(A) = 5\n",
            "A = set()\n"
          ]
        }
      ],
      "source": [
        "A = {0, 1, 2, 3, 4, 5}\n",
        "\n",
        "A.add(12)           # в множество A добавляется элемент 12\n",
        "A.discard(12)       # удаляется элемент 12, если он есть\n",
        "\n",
        "# A.remove(12)      # удаляется элемент 12 в отличие от discard,\n",
        "# метод remove возбуждает исключение, если элемент не найден\n",
        "\n",
        "print(f\"{A.pop() = }\")      # извлекается произвольный элемент\n",
        "print(f\"{2 in A = }\")       # проверяем принадлежность элемента 2 множеству A\n",
        "print(f\"{len(A) = }\")       # мощность множества (количество элементов)\n",
        "A.clear()                   # опустошение всего множетства\n",
        "print(f\"{A = }\")"
      ]
    },
    {
      "cell_type": "code",
      "execution_count": 9,
      "metadata": {
        "id": "ai_klYX7lUEb"
      },
      "outputs": [],
      "source": [
        "C = A.copy() # в C запишется поверхностная копия множества A"
      ]
    },
    {
      "cell_type": "markdown",
      "metadata": {
        "id": "YIigyehwlUEb"
      },
      "source": [
        "## Поведение бинарных операторов"
      ]
    },
    {
      "cell_type": "code",
      "execution_count": 10,
      "metadata": {
        "id": "8rUB5D1QlUEb",
        "outputId": "3f0d61dd-4f73-494f-fee9-d2dffca0ea9e",
        "colab": {
          "base_uri": "https://localhost:8080/"
        }
      },
      "outputs": [
        {
          "output_type": "stream",
          "name": "stdout",
          "text": [
            " A = {1, 2, 3}\n",
            " B = {3, 4, 5}\n",
            " D = {1, 2, 3, 4, 5}\n",
            " Объединение:     A | B = {1, 2, 3, 4, 5}\n",
            " Пересечение:     A & B = {3}\n",
            " Разность:        A - B = {1, 2}\n",
            " Симм. разность:  A ^ B = {1, 2, 4, 5}\n",
            " A = {3, 4, 5}\n"
          ]
        }
      ],
      "source": [
        "# объединение двух множеств\n",
        "A = {1, 2, 3}\n",
        "B = {3, 4, 5}\n",
        "D = {*A, *B}    # объединение путем распаковки\n",
        "\n",
        "print(f'{ A = }')\n",
        "print(f'{ B = }')\n",
        "print(f'{ D = }')\n",
        "print(f' Объединение:    { A | B = }')   # объединение оператором\n",
        "print(f' Пересечение:    { A & B = }')\n",
        "print(f' Разность:       { A - B = }')\n",
        "print(f' Симм. разность: { A ^ B = }')\n",
        "\n",
        "# также доступны и такие операторы:\n",
        "A |= B      # объединение\n",
        "A &= B      # пересечение\n",
        "A -= B      # разность\n",
        "A ^= B      # симметрическая разность\n",
        "print(f'{ A = }')"
      ]
    },
    {
      "cell_type": "markdown",
      "metadata": {
        "id": "MN-eSh47lUEb"
      },
      "source": [
        "Сравнение множеств"
      ]
    },
    {
      "cell_type": "code",
      "execution_count": 11,
      "metadata": {
        "id": "8xc2ZeiJlUEn",
        "outputId": "81446fa2-43c3-4a53-d82b-5041e0b4d1c8",
        "colab": {
          "base_uri": "https://localhost:8080/"
        }
      },
      "outputs": [
        {
          "output_type": "stream",
          "name": "stdout",
          "text": [
            "True\n",
            "True\n",
            " B == A = True\n",
            " B is A = False\n",
            " C is A = True\n"
          ]
        }
      ],
      "source": [
        "A = {1, 2}\n",
        "B = {1, 2}\n",
        "C = A\n",
        "print(A.__eq__(B))          #  <=>  A == B\n",
        "print(A.__contains__(2))    #  <=>  2 in A\n",
        "\n",
        "print(f\"{ B == A = }\")      # равны ли множества; равносильно A.__eq__(B)\n",
        "print(f\"{ B is A = }\")      # выражение будет давать True, только если\n",
        "print(f\"{ C is A = }\")      # имена указывают на один и тот же объект"
      ]
    },
    {
      "cell_type": "markdown",
      "metadata": {
        "id": "VdhzALD_JjDk"
      },
      "source": [
        "## Генерация множеств (setcomp)\n",
        "\n",
        "По аналогии с генерацией списков, есть возможность генерировать множества (*set comprehension*):"
      ]
    },
    {
      "cell_type": "code",
      "execution_count": 12,
      "metadata": {
        "id": "iKp6zaIOJjDk",
        "outputId": "4b9e535e-84ec-4f3f-e85a-3590a0a55b0a",
        "colab": {
          "base_uri": "https://localhost:8080/"
        }
      },
      "outputs": [
        {
          "output_type": "stream",
          "name": "stdout",
          "text": [
            "{0, 1, 2}\n"
          ]
        }
      ],
      "source": [
        "m = {n//2 for n in range(5)}            # set comprehension\n",
        "print(m)"
      ]
    },
    {
      "cell_type": "markdown",
      "metadata": {
        "id": "F3xq3atMlUEn"
      },
      "source": [
        "# `frozenset`\n",
        "\n",
        "Следует упомянуть, что в Python реализован также класс `frozenset`, отличающийся от `set` тем, что это неизменяемый тип данных, и, соответственно, набор его методов не содержит возможностей изменять объект."
      ]
    }
  ],
  "metadata": {
    "colab": {
      "provenance": [],
      "toc_visible": true,
      "include_colab_link": true
    },
    "kernelspec": {
      "display_name": "Python 3 (ipykernel)",
      "language": "python",
      "name": "python3"
    },
    "language_info": {
      "codemirror_mode": {
        "name": "ipython",
        "version": 3
      },
      "file_extension": ".py",
      "mimetype": "text/x-python",
      "name": "python",
      "nbconvert_exporter": "python",
      "pygments_lexer": "ipython3",
      "version": "3.10.10"
    },
    "vscode": {
      "interpreter": {
        "hash": "e20f72739ffc6c3cc505414aaab49afe57115ca17c783e620ccfd5d632835ddf"
      }
    }
  },
  "nbformat": 4,
  "nbformat_minor": 0
}