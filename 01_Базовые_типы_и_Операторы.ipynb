{
  "cells": [
    {
      "cell_type": "markdown",
      "metadata": {
        "colab_type": "text",
        "id": "view-in-github"
      },
      "source": [
        "<a href=\"https://colab.research.google.com/github/ordevoir/Python/blob/main/01_(base)_Types_Operators_Conditionals_Loops.ipynb\" target=\"_parent\"><img src=\"https://colab.research.google.com/assets/colab-badge.svg\" alt=\"Open In Colab\"/></a>"
      ]
    },
    {
      "cell_type": "markdown",
      "metadata": {
        "id": "WRDkGjbFoQF8"
      },
      "source": [
        "Инструкции в python можно разделять переносом на следующую строку, а также символом \"`;`\". Принято разделять переносом. Воспользуемся двумя встроенными функциями:\n",
        "\n",
        "- [`print()`](https://docs.python.org/3/library/functions.html#print) выводит на печать значения выражений, переданных в аргументе\n",
        "- [`type()`](https://docs.python.org/3/library/functions.html#type) возвращает тип (класс) объекта, переданного в аргументе\n",
        "\n",
        "Полный список встроенных функций и их описание можно посмотреть в [документации](https://docs.python.org/3/library/functions.html).\n"
      ]
    },
    {
      "cell_type": "markdown",
      "metadata": {
        "id": "ULRVAMcIoQF_"
      },
      "source": [
        "# Создание переменных базовых типов\n",
        "\n",
        "Создадим несколько переменных, которые будут содержать данные базовых типов. Интерпретатор python самостоятельно решает, какого типа будет создан объект в зависимости от присваиваемых значений. За рамками рассмотрения остаются базовые типы `complex` и `bytes`.\n",
        "\n",
        "Для того, чтобы произвести присваивание значения, используется символ `=`:"
      ]
    },
    {
      "cell_type": "code",
      "execution_count": null,
      "metadata": {
        "colab": {
          "base_uri": "https://localhost:8080/"
        },
        "id": "7n86brawoQF_",
        "outputId": "e37b543d-6791-4a4a-fced-cda8747610b7"
      },
      "outputs": [
        {
          "name": "stdout",
          "output_type": "stream",
          "text": [
            "<class 'int'>\n",
            "<class 'float'>\n",
            "<class 'str'>\n",
            "<class 'bool'>\n",
            "<class 'int'>\n",
            "<class 'NoneType'>\n"
          ]
        }
      ],
      "source": [
        "a = 5               # int\n",
        "b = 1.3             # float\n",
        "d = True            # bool\n",
        "n = None            # NoneType\n",
        "c = \"строка\"        # str\n",
        "\n",
        "h = a               # новое имя h ссылается на тот же объект, что и a\n",
        "\n",
        "print(type(a))\n",
        "print(type(b))\n",
        "print(type(c))\n",
        "print(type(d))\n",
        "print(type(h))\n",
        "print(type(n))"
      ]
    },
    {
      "cell_type": "markdown",
      "metadata": {
        "id": "0aRfUjF1oQGB"
      },
      "source": [
        "В python реализована динамическая типизация, поэтому, объявленной ранее переменной `a` можно присвоить другое значение любого типа. При этом, создается новый объект соответствующего типа, в данном случае – `str`, а целочисленный объект `5`, на который до этого ссылалась переменная `a`, уничтожается, если на него не ссылаются другие переменные. В данном случае имя `h` также ссылается на объект `5`, поэтому объект не уничтожится.\n",
        "\n",
        "Такая специфика поведения существенно отличается от поведения переменных в типизированных языках, за которыми строго закрепляется определенная область памяти, и при присвоениях меняется только содержимое этих областей. Для того, чтобы подчеркнуть это отличие, в Python принято использовать понятие **имя** (*name*) вместо понятия переменная."
      ]
    },
    {
      "cell_type": "code",
      "execution_count": null,
      "metadata": {
        "colab": {
          "base_uri": "https://localhost:8080/"
        },
        "id": "YHin42cGoQGB",
        "outputId": "f52e2100-4319-4963-d33b-45a25703f069"
      },
      "outputs": [
        {
          "name": "stdout",
          "output_type": "stream",
          "text": [
            "Значение другого типа\n",
            "5\n"
          ]
        }
      ],
      "source": [
        "a = \"Значение другого типа\"\n",
        "print(a)\n",
        "print(h)"
      ]
    },
    {
      "cell_type": "markdown",
      "metadata": {
        "id": "nUOWQbDooQGB"
      },
      "source": [
        "# Арифметические операторы\n",
        "\n",
        "Оператор – это символ или ключевое слово, используемое для выполнения операции над одним или несколькими операндами и возвращающее результат."
      ]
    },
    {
      "cell_type": "code",
      "execution_count": null,
      "metadata": {
        "colab": {
          "base_uri": "https://localhost:8080/"
        },
        "id": "__ItsiThoQGC",
        "outputId": "95782388-6ac8-4d9a-bbea-f01727e00d7b"
      },
      "outputs": [
        {
          "name": "stdout",
          "output_type": "stream",
          "text": [
            "5\n",
            "1\n",
            "6\n",
            "1.5\n",
            "9\n",
            "1\n",
            "1\n"
          ]
        }
      ],
      "source": [
        "print( 3 + 2 )      # сложение\n",
        "print( 3 - 2 )      # вычитание\n",
        "print( 3 * 2 )      # умножение\n",
        "print( 3 / 2 )      # деление (всегда дает float)\n",
        "print( 3 ** 2 )     # возведение в степень\n",
        "print( 3 % 2 )      # остаток от деления\n",
        "print( 3 // 2 )     # целочисленное деление (округление вниз!)\n",
        "# данные операторы возвращают число (int или float)"
      ]
    },
    {
      "cell_type": "markdown",
      "metadata": {
        "id": "4wXzlW7FoQGC"
      },
      "source": [
        "# Операторы сравнения"
      ]
    },
    {
      "cell_type": "code",
      "execution_count": null,
      "metadata": {
        "colab": {
          "base_uri": "https://localhost:8080/"
        },
        "id": "8MrO_BLPoQGC",
        "outputId": "cade94c7-b42b-422c-fdb9-be34fcf67eaa"
      },
      "outputs": [
        {
          "name": "stdout",
          "output_type": "stream",
          "text": [
            "True\n",
            "False\n",
            "True\n",
            "False\n",
            "False\n",
            "True\n"
          ]
        }
      ],
      "source": [
        "print( 3 > 2 )      # больше\n",
        "print( 3 < 2 )      # меньше\n",
        "print( 3 >= 2 )     # больше либо равно\n",
        "print( 3 <= 2 )     # меньше либо равно\n",
        "print( 3 == 2 )     # равно\n",
        "print( 3 != 2 )     # не равно\n",
        "# эти операторы возвращают логический тип (False, True)"
      ]
    },
    {
      "cell_type": "markdown",
      "metadata": {
        "id": "u0j541ueoQGD"
      },
      "source": [
        "# Логические операторы\n",
        "\n",
        "- `not` – **отрицание** (*negation*)\n",
        "- `or` – **дизъюнкция** (*disjunction*)\n",
        "- `and` – **конъюнкция** (*conjunction*)"
      ]
    },
    {
      "cell_type": "code",
      "execution_count": null,
      "metadata": {
        "colab": {
          "base_uri": "https://localhost:8080/"
        },
        "id": "YW46zI_YoQGD",
        "outputId": "86b6b24c-680c-42cf-d8ca-7dc76a79336d"
      },
      "outputs": [
        {
          "name": "stdout",
          "output_type": "stream",
          "text": [
            "False\n",
            "True\n",
            "\n",
            "True\n",
            "False\n"
          ]
        }
      ],
      "source": [
        "print( 1 == 2 )\n",
        "print( not 1 == 2 )                     # negation\n",
        "print()\n",
        "print( 1 == 2 or 1 == 1 or 2 != 3)      # disjunction\n",
        "print( 1 == 1 and 1 == 2 and 2 != 3)    # conjunction\n",
        "# эти операторы возвращают логический тип (False, True)"
      ]
    },
    {
      "cell_type": "markdown",
      "metadata": {
        "id": "wkEnihxWqwSh"
      },
      "source": [
        "# Множественное присваивание"
      ]
    },
    {
      "cell_type": "code",
      "execution_count": null,
      "metadata": {
        "colab": {
          "base_uri": "https://localhost:8080/"
        },
        "id": "tI8rzHBvpcq0",
        "outputId": "f0c91c07-406b-4cb5-d095-da9e92c3fc01"
      },
      "outputs": [
        {
          "name": "stdout",
          "output_type": "stream",
          "text": [
            "1 2 3\n",
            "15 15 15\n"
          ]
        }
      ],
      "source": [
        "a, b, c = 1, 2, 3   # присвоение нескольких значений нескольким переменным\n",
        "x = y = z = 15      # присвоение одного значения нескольким переменным\n",
        "\n",
        "print(a, b, c)\n",
        "print(x, y, z)"
      ]
    },
    {
      "cell_type": "markdown",
      "metadata": {
        "id": "JaqZs1SNrsEL"
      },
      "source": [
        "# In-place версии операторов\n",
        "\n",
        "Многие операторы имеют *in-place* версии, позволяющие менять значения объекта **на месте**. Строго говоря, в этих примерах создается новый объект, который затем присваивается имени. Такая инструкция называется *augmented assignment*. Непосредственно изменение самого объекта производится только в том случае, когда имя ссылается на изменяемый объект."
      ]
    },
    {
      "cell_type": "code",
      "execution_count": null,
      "metadata": {
        "id": "Sg4uIe2rrxcL"
      },
      "outputs": [],
      "source": [
        "x = 200\n",
        "x += 2      #   <=>   x = x + 2\n",
        "x -= 2      #   <=>   x = x - 2\n",
        "x *= 2      #   <=>   x = x * 2\n",
        "x /= 2      #   <=>   x = x / 2\n",
        "x %= 3      #   <=>   x = x % 3\n",
        "x **= 2     #   <=>   x = x ** 2\n",
        "x //= 2     #   <=>   x = x // 2"
      ]
    }
  ],
  "metadata": {
    "colab": {
      "include_colab_link": true,
      "provenance": [],
      "toc_visible": true
    },
    "kernelspec": {
      "display_name": "Python 3 (ipykernel)",
      "language": "python",
      "name": "python3"
    },
    "language_info": {
      "codemirror_mode": {
        "name": "ipython",
        "version": 3
      },
      "file_extension": ".py",
      "mimetype": "text/x-python",
      "name": "python",
      "nbconvert_exporter": "python",
      "pygments_lexer": "ipython3",
      "version": "3.11.5"
    },
    "vscode": {
      "interpreter": {
        "hash": "e20f72739ffc6c3cc505414aaab49afe57115ca17c783e620ccfd5d632835ddf"
      }
    }
  },
  "nbformat": 4,
  "nbformat_minor": 0
}
