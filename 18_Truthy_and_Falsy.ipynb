{
  "cells": [
    {
      "cell_type": "markdown",
      "id": "6883eafe",
      "metadata": {
        "id": "6883eafe"
      },
      "source": [
        "Falsy значениями являются такие значения, которые при преобразовании в булевый тип дают `False`. Значения, которые при преобразовании дают `True` называются Truthy значениями.\n",
        "\n",
        "В условных выражениях операторов `for`, `while`, `if`, `elif` значения Falsy интерпретируются как `False`, а значения Truthy – как `True`.\n",
        "\n",
        "Числовыми Falsy значениями являются **нули**, остальные числовые значения являются Truthy.\n",
        "\n",
        "Пустые коллекции являются Falsy, а непустые – Truthy.\n",
        "\n",
        "Объект `None` является Falsy значением."
      ]
    },
    {
      "cell_type": "code",
      "execution_count": null,
      "id": "3f63a358",
      "metadata": {
        "id": "3f63a358",
        "outputId": "4e01bba1-a0cd-4ea9-c148-34ca76f0f3e3"
      },
      "outputs": [
        {
          "name": "stdout",
          "output_type": "stream",
          "text": [
            "  bool(0)          = False\n",
            "  bool(0.)         = False\n",
            "  bool(0j)         = False\n",
            "  bool(0 + 0j)     = False\n",
            "\n",
            "  bool(\"\")         = False\n",
            "  bool([])         = False\n",
            "  bool(())         = False\n",
            "  bool({})         = False\n",
            "  bool(dict())     = False\n",
            "  bool(range(0))   = False\n",
            "\n",
            "  bool(None)       = False\n",
            "  not None         = True\n",
            "\n",
            "  bool(NaN)        = True\n"
          ]
        }
      ],
      "source": [
        "# числа:\n",
        "print(f'{  bool(0)          = }')\n",
        "print(f'{  bool(0.)         = }')\n",
        "print(f'{  bool(0j)         = }')\n",
        "print(f'{  bool(0 + 0j)     = }\\n')\n",
        "# коллекции:\n",
        "print(f'{  bool(\"\")         = }')       # пустой string\n",
        "print(f'{  bool([])         = }')       # пустой list\n",
        "print(f'{  bool(())         = }')       # пустой tuple\n",
        "print(f'{  bool({})         = }')       # пустой set\n",
        "print(f'{  bool(dict())     = }')       # пустой dictionary\n",
        "print(f'{  bool(range(0))   = }\\n')     # пустой range\n",
        "# тип None:\n",
        "print(f'{  bool(None)       = }')\n",
        "print(f'{  not None         = }\\n')\n",
        "# Not a number не является Falsy!\n",
        "NaN = float('nan')\n",
        "print(f'{  bool(NaN)        = }')"
      ]
    }
  ],
  "metadata": {
    "kernelspec": {
      "display_name": "marl",
      "language": "python",
      "name": "python3"
    },
    "language_info": {
      "codemirror_mode": {
        "name": "ipython",
        "version": 3
      },
      "file_extension": ".py",
      "mimetype": "text/x-python",
      "name": "python",
      "nbconvert_exporter": "python",
      "pygments_lexer": "ipython3",
      "version": "3.12.11"
    },
    "colab": {
      "provenance": []
    }
  },
  "nbformat": 4,
  "nbformat_minor": 5
}