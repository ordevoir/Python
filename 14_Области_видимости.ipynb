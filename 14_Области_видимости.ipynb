{
  "cells": [
    {
      "cell_type": "markdown",
      "id": "781305a1-3d88-4661-b207-86307b7d97d4",
      "metadata": {
        "id": "781305a1-3d88-4661-b207-86307b7d97d4"
      },
      "source": [
        "# Области видимости\n",
        "\n",
        "**Область видимости** (*scope*) – это участок программы, в пределах которого доступно имя (переменная/функция) и где Python его ищет.\n",
        "\n",
        "Когда производится обращение к переменной, интерпертатор ищет ее в следующем порядке (правило **LEGB**):\n",
        "- в локальной области видимости самой функции (**Local** Scope)\n",
        "- в локальной области видимости объемлющей функции (**Enclosing** Scope)\n",
        "- в глобальной области видимости модуля (**Global** Scope)\n",
        "- во встроенной области видимости (**Built-in** Scope)\n",
        "\n",
        "Последная область относится к встроенному модулю с именем `builtins` стандартной библиотеки. Имена этого модуля представляют собой встроенные функции, такие как `print()`, `range()`, `len()`, `list()`, `object()` и т.д. Подробнее [здесь](https://docs.python.org/3/library/functions.html).\n",
        "\n",
        "Часто глобальные переменные используются в качестве флагов логических переменных, которые могут играть роль режимов или настроек программы.\n"
      ]
    },
    {
      "cell_type": "markdown",
      "id": "2bbc7175-ddc0-459b-b937-c3ad6217b2e5",
      "metadata": {
        "id": "2bbc7175-ddc0-459b-b937-c3ad6217b2e5"
      },
      "source": [
        "# `global` и `nonlocal`\n",
        "\n",
        "Для изменение значения неизменяемой глобальной переменной внутри функции, или присвоения ей нового значения, необходимо в теле функции объявить имена переменных глобальными при помощи оператора `global`.\n",
        "\n",
        "В коде ниже содержимое глобальных перменных `a` и `b` изменится внутри функции `example()`. Перменная `c` не будет изменена: инструкция `c = 10` создаст локальную переменнус `c`."
      ]
    },
    {
      "cell_type": "code",
      "execution_count": null,
      "id": "161fd503-4f21-48af-bbc1-8c16fa92609d",
      "metadata": {
        "colab": {
          "base_uri": "https://localhost:8080/"
        },
        "id": "161fd503-4f21-48af-bbc1-8c16fa92609d",
        "outputId": "ed8ebb50-6f40-4f72-f1ae-f706b581d8ec"
      },
      "outputs": [
        {
          "name": "stdout",
          "output_type": "stream",
          "text": [
            "a = 2, b = 5, c = 3\n"
          ]
        }
      ],
      "source": [
        "a, b, c = 1, 2, 3   # глобальная переменная\n",
        "def example1():\n",
        "    global a, b     # без этой строки не сработает\n",
        "    a += 1          # изменение глобальной переменной\n",
        "    b = 5           # присвоение нового значения глобальной переменной\n",
        "    c = 10          # создание локальной переменной внутри функции\n",
        "\n",
        "example1()\n",
        "print(f\"{a = }, {b = }, {c = }\")"
      ]
    },
    {
      "cell_type": "markdown",
      "id": "5ac9aa78-ab7e-4942-a827-88f1136a78a6",
      "metadata": {
        "id": "5ac9aa78-ab7e-4942-a827-88f1136a78a6"
      },
      "source": [
        "Если глобальной переменной указанной в `global` не существует, она будет создана, однако при этом необходимо произвести инициализацию значения."
      ]
    },
    {
      "cell_type": "code",
      "execution_count": null,
      "id": "093c93f9-2e39-430b-9e20-aabe774d7a6c",
      "metadata": {
        "id": "093c93f9-2e39-430b-9e20-aabe774d7a6c"
      },
      "outputs": [],
      "source": [
        "def example2():\n",
        "    global x    # объявление глобальной переменной x\n",
        "    x = 15      # инициализация глобальной переменной\n",
        "\n",
        "def f():\n",
        "    global x    # использовать глобальную переменную x\n",
        "    x += 15     # изменение глобальной переменно внутри другой функции"
      ]
    },
    {
      "cell_type": "code",
      "execution_count": null,
      "id": "6d6c1339-69c4-4cb9-89d0-cdf9170540fe",
      "metadata": {
        "colab": {
          "base_uri": "https://localhost:8080/"
        },
        "id": "6d6c1339-69c4-4cb9-89d0-cdf9170540fe",
        "outputId": "de5a44bc-3ac3-4a7b-fe6f-ac54fccf334b"
      },
      "outputs": [
        {
          "name": "stdout",
          "output_type": "stream",
          "text": [
            "15\n",
            "30\n",
            "40\n"
          ]
        }
      ],
      "source": [
        "example2()      # создание и инициализация глобальной переменной x внутри функции\n",
        "print(x)\n",
        "\n",
        "f()             # изменение глобальной переменно внутри другой функции\n",
        "print(x)\n",
        "\n",
        "x += 10         # изменение глобальной переменной за пределами функции\n",
        "print(x)"
      ]
    },
    {
      "cell_type": "markdown",
      "id": "fc168a22-34d8-4316-bd00-2d3a454c3c31",
      "metadata": {
        "id": "fc168a22-34d8-4316-bd00-2d3a454c3c31"
      },
      "source": [
        "> Оператор `nonlocal`, в отличие от `global` сделат переменную видимой не в глобальной области, а лишь в локальной области видимости объемлющей функции (Enclosing scope)."
      ]
    },
    {
      "cell_type": "markdown",
      "id": "e72dee66-cac4-4ca4-b580-25e4f50a9df5",
      "metadata": {
        "id": "e72dee66-cac4-4ca4-b580-25e4f50a9df5"
      },
      "source": [
        "# `globals()` и `locals()`\n",
        "\n",
        "Функция `globals()` возвращает словарь, содержащий глобальные переменные.\n",
        "\n",
        "Функция `locals()` возвращает словарь, содержащий имена в локальной области видимости, внутри которой вызывается функция. Непосретственно список с именами локальных переменных возвращает функция `dir()`.\n",
        "\n",
        "> Словарь, возвращаемый функцией `locals()` при вызове из глобальной области видимости, будет совпадать со словарем, возвращаемым функцией `globals()`."
      ]
    },
    {
      "cell_type": "code",
      "execution_count": null,
      "id": "ef444ee3-19a3-4af3-acce-306507e03a2c",
      "metadata": {
        "colab": {
          "base_uri": "https://localhost:8080/"
        },
        "id": "ef444ee3-19a3-4af3-acce-306507e03a2c",
        "outputId": "0dd0e6a7-87da-48f7-c585-b6e139ba8556"
      },
      "outputs": [
        {
          "name": "stdout",
          "output_type": "stream",
          "text": [
            "Function's local variables: dict_keys(['x', 'a'])\n",
            "Function's local variables: ['a', 'x']\n",
            "Global variables: dict_keys(['__name__', '__doc__', '__package__', '__loader__', '__spec__', '__builtin__', '__builtins__', '_ih', '_oh', '_dh', 'In', 'Out', 'get_ipython', 'exit', 'quit', '_', '__', '___', '_i', '_ii', '_iii', '_i1', '_1', '_i2', '_2', '_i3', '_3', '_i4', '_4', '_i5', '_5', '_i6', '_6', '_i7', '_i8', '_i9', 'f', '_9', '_i10', '_10', '_i11', 'c', '_i12', '_12', '_i13', '_13', '_i14', '_14', '_i15', '_15', '_i16', '_16', '_i17', '_17', '_i18', '_18', '_i19', '_19', '_i20', '_20', '_i21', '_21', '_i22', '_22', '_i23', '_i24', '_24', '_i25', '_25', '_i26', '_26', '_i27', '_27', '_i28', '_i29', '_i30', 'L', '_i31', '_31', '_i32', '_i33', '_i34', 'Rectangle', 's2', 's3', '_i35', '_i36', '_i37', '_i38', '_i39', '_39', '_i40', '_i41', '_41', '_i42'])\n"
          ]
        },
        {
          "data": {
            "text/plain": [
              "True"
            ]
          },
          "execution_count": 42,
          "metadata": {},
          "output_type": "execute_result"
        }
      ],
      "source": [
        "def f(x):\n",
        "    a = 2\n",
        "    print(f\"Function's local variables: {locals().keys()}\")\n",
        "    print(f\"Function's local variables: {dir()}\")\n",
        "    print(f\"Global variables: {globals().keys()}\")\n",
        "\n",
        "c = 3\n",
        "\n",
        "f(c)\n",
        "\n",
        "locals() is globals()"
      ]
    },
    {
      "cell_type": "markdown",
      "id": "17c77019",
      "metadata": {},
      "source": [
        ">Следует иметь в виду, что словарь, возвращаемый при вызове `globals()` в модуле, не будет содержать глобальные переменные: в словаре будут содержаться только глобальные имена самого модуля."
      ]
    },
    {
      "cell_type": "markdown",
      "id": "9d5bdea9",
      "metadata": {},
      "source": [
        "# Получение имен переменных в виде строки"
      ]
    },
    {
      "cell_type": "markdown",
      "id": "10651cc8",
      "metadata": {},
      "source": [
        "## Using `globals()`"
      ]
    },
    {
      "cell_type": "code",
      "execution_count": 3,
      "id": "2186ab43",
      "metadata": {},
      "outputs": [],
      "source": [
        "def get_name_of_variable(var):\n",
        "    g = globals()\n",
        "    keys = g.keys()\n",
        "    for key in keys:\n",
        "        if globals()[key] is var and not key.startswith('_'):\n",
        "            return key"
      ]
    },
    {
      "cell_type": "code",
      "execution_count": 4,
      "id": "0bc81089",
      "metadata": {},
      "outputs": [
        {
          "data": {
            "text/plain": [
              "'some_variable'"
            ]
          },
          "execution_count": 4,
          "metadata": {},
          "output_type": "execute_result"
        }
      ],
      "source": [
        "some_variable = 1\n",
        "get_name_of_variable(some_variable)"
      ]
    },
    {
      "cell_type": "markdown",
      "id": "fe3861f3",
      "metadata": {},
      "source": [
        "## Using f-string"
      ]
    },
    {
      "cell_type": "code",
      "execution_count": 7,
      "id": "0ef54004",
      "metadata": {},
      "outputs": [
        {
          "data": {
            "text/plain": [
              "'some_variable'"
            ]
          },
          "execution_count": 7,
          "metadata": {},
          "output_type": "execute_result"
        }
      ],
      "source": [
        "f\"{some_variable=}\".split(\"=\")[0]"
      ]
    },
    {
      "cell_type": "markdown",
      "id": "e54483eb-8a2e-41f8-bc61-2290b0c9e616",
      "metadata": {
        "id": "e54483eb-8a2e-41f8-bc61-2290b0c9e616"
      },
      "source": [
        "# Замыкания (closure)"
      ]
    },
    {
      "cell_type": "markdown",
      "id": "d558d10a-e498-43c0-b5b4-383883046e41",
      "metadata": {
        "id": "d558d10a-e498-43c0-b5b4-383883046e41"
      },
      "source": [
        "Замыкание – это особый вид функции. Она определена в теле другой функции и создаётся каждый раз во время её выполнения. Синтаксически это выглядит как функция, находящаяся целиком в теле другой функции. При этом вложенная внутренняя функция содержит ссылки на локальные переменные внешней функции (для внутренней функции это область видимости Enclosing Scope). Каждый раз при выполнении внешней функции происходит создание нового экземпляра внутренней функции, с новыми ссылками на переменные внешней функции. Поэтому замыкания можно определить как функции с расширенной областью видииости, которая охватывает все неглобальные переменные, на которые есть ссылки в теле функции, хотя они в нем не определены.\n",
        "\n",
        "\n",
        "Ссылки на переменные внешней функции действительны внутри вложенной функции до тех пор, пока работает вложенная функция, даже если внешняя функция закончила работу, и переменные вышли из области видимости. <br>\n",
        "Замыкание связывает код функции с её лексическим окружением (местом, в котором она определена в коде). Лексические переменные замыкания отличаются от глобальных переменных тем, что они не занимают глобальное пространство имён. От переменных в объектах они отличаются тем, что привязаны к функциям, а не объектам."
      ]
    },
    {
      "cell_type": "code",
      "execution_count": null,
      "id": "d29b8eda-c1fd-4627-adf2-40be676c4d81",
      "metadata": {
        "id": "d29b8eda-c1fd-4627-adf2-40be676c4d81",
        "outputId": "c3c130b5-53f5-4d25-ba72-cbf8ae57a596"
      },
      "outputs": [
        {
          "name": "stdout",
          "output_type": "stream",
          "text": [
            "6 32\n"
          ]
        }
      ],
      "source": [
        "def f(a):\n",
        "    b = 2\n",
        "    def g(c=10):\n",
        "        \"\"\" Функция - замыкание \"\"\"\n",
        "        print(a*b, b**c)\n",
        "    return g\n",
        "\n",
        "h = f(3)\n",
        "h(5)"
      ]
    },
    {
      "cell_type": "markdown",
      "id": "3b072ebf-f610-4ee9-8d75-a42bccfd3c95",
      "metadata": {
        "id": "3b072ebf-f610-4ee9-8d75-a42bccfd3c95"
      },
      "source": [
        "![](https://github.com/ordevoir/Python/blob/main/images/closure.jpg?raw=1)"
      ]
    },
    {
      "cell_type": "markdown",
      "id": "150c364c-3407-4e42-b3b2-6859ff552623",
      "metadata": {
        "id": "150c364c-3407-4e42-b3b2-6859ff552623"
      },
      "source": [
        "В данном примере в теле внешней функции `f` определена внутренняя функция `g`, которая для своей работы ссылается на переменные `a` и `b` области видимости Enclosing Scope - локальная область видимости внешней функции. При вызове функции ее локальные переменные существуют только в процессе выполнения функции, после чего их убирает сборщик мусора. Интуитивно кажется, что после выполнения функции `f` переменные `a` и `b` должны были бы уничтожиться. Однако, внешняя функции возвращает внутреннюю фунцию `g`, которая сохраняется в перменной `h`, в результате чего она появляется в глобальной области видимости (как и функция `f`). Так как `h` ссылается на функцию `g`, определенную в ходе выполнения функции `f`, а функция `g` в свою очередь ссылается на локальные переменные фунции `f`, то после выполнения фунции `f` объекты, на которые ссылались соответствующие локальные переменные не уничтожаются, так как на них продолжает ссылаться функция `g`.\n",
        "\n",
        "Объекты замыкания содержатся в поле `__closure__` объекта функции, который представляет собой кортеж объектов класса `cell`. Для того, чтобы получить доступ непосредственно к объекту замыкания, нужно обратиться к полю `cell_contents` соответствующего объекта класса `cell`:"
      ]
    },
    {
      "cell_type": "code",
      "execution_count": null,
      "id": "0b04aefe-9f81-4879-9136-3671108888f9",
      "metadata": {
        "id": "0b04aefe-9f81-4879-9136-3671108888f9",
        "outputId": "e6b708a6-3fd6-4a48-b695-ed7e4fccca7e"
      },
      "outputs": [
        {
          "name": "stdout",
          "output_type": "stream",
          "text": [
            "<class 'tuple'> <class 'cell'>\n",
            "3 2\n"
          ]
        }
      ],
      "source": [
        "print(type(h.__closure__), type(h.__closure__[0]))\n",
        "print(h.__closure__[0].cell_contents, h.__closure__[1].cell_contents)"
      ]
    },
    {
      "cell_type": "markdown",
      "id": "111d24b8-d20f-4d1c-9904-b25d14f132bb",
      "metadata": {
        "id": "111d24b8-d20f-4d1c-9904-b25d14f132bb"
      },
      "source": [
        "`a` и `b` – локальные переменные функции `f`, так как их инициализация происходит в теле функции `f`. Внутри `h` переменные `a` и `b` являются свободными, т.е. переменные не связаны с ее локальной областью видимости.\n",
        "\n",
        "Инспекция возвращенного объекта `h` показывает, что Python хранит имена локальных и свободных переменных в атрибуте `__code__` (объект класса `code`), который представляет собой откомпилированное тело функции. Каждому элементу кортежа `h.__closure__` соответствует имя в `h.__code__.co_freevars`, в котором содержатся имена свободных переменных. В `h.__code__.co_namevars` содержатся имена локальных переменных."
      ]
    },
    {
      "cell_type": "code",
      "execution_count": null,
      "id": "173ee71a-2bc5-4069-ae08-0c9b90257409",
      "metadata": {
        "id": "173ee71a-2bc5-4069-ae08-0c9b90257409",
        "outputId": "cd42d6f2-c023-4dbc-e55f-cc70d64b87aa"
      },
      "outputs": [
        {
          "name": "stdout",
          "output_type": "stream",
          "text": [
            "<class 'code'>\n",
            "('c',) ('a', 'b')\n"
          ]
        }
      ],
      "source": [
        "print(type(h.__code__))\n",
        "print(h.__code__.co_varnames, h.__code__.co_freevars)"
      ]
    },
    {
      "cell_type": "markdown",
      "id": "0c0e97a0-08b8-4dd8-b684-ed96b56ea934",
      "metadata": {
        "id": "0c0e97a0-08b8-4dd8-b684-ed96b56ea934"
      },
      "source": [
        "Следующий пример. Реализуем счетчик как фунцию-замыкание:"
      ]
    },
    {
      "cell_type": "code",
      "execution_count": null,
      "id": "96db5913-fe1b-489d-9d79-ac66d0cf5cf6",
      "metadata": {
        "id": "96db5913-fe1b-489d-9d79-ac66d0cf5cf6"
      },
      "outputs": [],
      "source": [
        "def make_counter(count=0):\n",
        "    def counter():\n",
        "        # сделаем count нелокальным, чтобы можно было его изменять\n",
        "        nonlocal count\n",
        "        count += 1\n",
        "        return count\n",
        "    return counter\n",
        "\n",
        "c = make_counter()"
      ]
    },
    {
      "cell_type": "code",
      "execution_count": null,
      "id": "f8ce442c-ab68-46c6-a2e7-e669b4ca0aed",
      "metadata": {
        "id": "f8ce442c-ab68-46c6-a2e7-e669b4ca0aed",
        "outputId": "b6016b29-a673-44c2-a917-2854fe6df0f9"
      },
      "outputs": [
        {
          "data": {
            "text/plain": [
              "9"
            ]
          },
          "execution_count": 69,
          "metadata": {},
          "output_type": "execute_result"
        }
      ],
      "source": [
        "c()     # каждый вызов увеличивает значение count"
      ]
    },
    {
      "cell_type": "markdown",
      "id": "c2b75ab4-09f9-49b3-8c07-159170053024",
      "metadata": {
        "id": "c2b75ab4-09f9-49b3-8c07-159170053024"
      },
      "source": [
        "## `__name__`\n",
        "\n",
        "В программах, которые будут импортированы как модули, часто используется инструкция вида:"
      ]
    },
    {
      "cell_type": "code",
      "execution_count": null,
      "id": "ccba574e-c04f-4398-a11f-aac1a255bc3d",
      "metadata": {
        "id": "ccba574e-c04f-4398-a11f-aac1a255bc3d",
        "outputId": "c2512fae-09aa-48d7-8af3-fc954b321854",
        "scrolled": true
      },
      "outputs": [
        {
          "name": "stdout",
          "output_type": "stream",
          "text": [
            "code...\n"
          ]
        }
      ],
      "source": [
        "if __name__ == '__main__':\n",
        "    print('code...')"
      ]
    },
    {
      "cell_type": "markdown",
      "id": "5d779833-9113-47da-bbc5-4d633ec7a868",
      "metadata": {
        "id": "5d779833-9113-47da-bbc5-4d633ec7a868"
      },
      "source": [
        "`__name__` – это специальная переменная, которая получает значение в зависимости от того, как запускается файл с кодом Python. Если файл запускается как основная программа, то переменная `__name__` принимает значение `\"__main__\"`. Если же файл импортируется из другого файла, то значением переменной `__name__` будет название имя модуля. Поэтому выражение `__name__ == \"__main__\"` будет возвращать `True` только в том случае, если файл запускается как основная программа, а не модуль."
      ]
    }
  ],
  "metadata": {
    "colab": {
      "include_colab_link": true,
      "provenance": [],
      "toc_visible": true
    },
    "kernelspec": {
      "display_name": "Python 3 (ipykernel)",
      "language": "python",
      "name": "python3"
    },
    "language_info": {
      "codemirror_mode": {
        "name": "ipython",
        "version": 3
      },
      "file_extension": ".py",
      "mimetype": "text/x-python",
      "name": "python",
      "nbconvert_exporter": "python",
      "pygments_lexer": "ipython3",
      "version": "3.11.5"
    }
  },
  "nbformat": 4,
  "nbformat_minor": 5
}
