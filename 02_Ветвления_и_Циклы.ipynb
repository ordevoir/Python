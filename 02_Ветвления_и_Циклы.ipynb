{
  "cells": [
    {
      "cell_type": "markdown",
      "metadata": {
        "id": "KDqTK5hQoQGD"
      },
      "source": [
        "# Ветвление (*Conditionals*)\n",
        "\n",
        "Интерпретатор Python выполняет инструкции последовательно (построчно), сверху вниз. Часто возникает необходимость выполнить те или иные инструкции в зависимости от условий. Т.е. мы хотим определить несколько ветвей развития событий. Например, мы хотим вывести на печать разные сообщения в зависимости от того, чему равно значение переменной `b`, которую мы определили ранее. В простейшем случае мы просто хотим вывести на печать некоторое сообщение, если значение `b` оказалось больше `0`.\n",
        "\n",
        "Опишем синтаксис. Для организации конструкции ветвления, используются **ключевые слова** (*keywords*) `if`, `elif` и `else`. После ключевого слова `if` идет **логическое выражение** (в данном случае `b < 5.3`). Логическое выражение возвращает значение булевого типа `False` или `True`. Далее, после двоеточия в последующих строках с отступом записывается блок инструкций (**вложенный код** или **тело блока**). Двоеточие служит разделителем (*delimiter*), который отделяет блок инструкций.  Если условное выражение возвращает `True`, то выполняется блок инструкций, в противном случае – блок инструкций пропускается."
      ]
    },
    {
      "cell_type": "code",
      "execution_count": 1,
      "metadata": {
        "id": "GAmIUW7EIJDd"
      },
      "outputs": [],
      "source": [
        "x = 5"
      ]
    },
    {
      "cell_type": "code",
      "execution_count": 2,
      "metadata": {
        "colab": {
          "base_uri": "https://localhost:8080/"
        },
        "id": "-rl2FiJooQGD",
        "outputId": "6f001559-6d2f-4277-e38d-50517df65c38"
      },
      "outputs": [
        {
          "name": "stdout",
          "output_type": "stream",
          "text": [
            "x = 5\n"
          ]
        }
      ],
      "source": [
        "if x < 5.3:            # условное выражение\n",
        "    print(\"x =\", x)"
      ]
    },
    {
      "cell_type": "markdown",
      "metadata": {
        "id": "m3HwOmngoQGD"
      },
      "source": [
        "Предположим теперь, что мы хотим проверить несколько условий и, в зависимости от результатов проверок, выполнить определенный блок инструкций.\n",
        "\n",
        "Ключевое слово `elif` – сокращение от *else if*. Оно используется для разделения на несколько ветвей. Если условное выражение, идущее после `if` оказывается истинным, то выполняется только блок инструкций вложенный в заголовок, а все инструкции вложенные в `elif` игнорируются. Если условное выражение, идущее после `if` оказывается ложным, то блок инструкций вложенный в заголовок пропускается и проверяется условное выражение, идущее после `elif`. Если это выражение возвращает `True`, то выполняется блок инструкций, вложенный в этот `elif`.\n",
        "\n",
        "Блок инструкций, вложенный в `else` выполняется только в том случае, если ни одно условное выражение идущее после `if` или `elif` не оказалось истинным.\n",
        "\n",
        "Если отсутствует блок `else`, то возможен случай, при котором не выполняется ни один блок. В общем случае может быть выполнено не более одного блока инструкций, т.е. ситуация, при которой будет выполнено более одной ветви невозможно."
      ]
    },
    {
      "cell_type": "code",
      "execution_count": 3,
      "metadata": {
        "colab": {
          "base_uri": "https://localhost:8080/"
        },
        "id": "GbTLhOMBoQGD",
        "outputId": "22ad0aa3-ec9f-4ba2-e499-bd2e668880d7"
      },
      "outputs": [
        {
          "ename": "NameError",
          "evalue": "name 'b' is not defined",
          "output_type": "error",
          "traceback": [
            "\u001b[31m---------------------------------------------------------------------------\u001b[39m",
            "\u001b[31mNameError\u001b[39m                                 Traceback (most recent call last)",
            "\u001b[36mCell\u001b[39m\u001b[36m \u001b[39m\u001b[32mIn[3]\u001b[39m\u001b[32m, line 1\u001b[39m\n\u001b[32m----> \u001b[39m\u001b[32m1\u001b[39m \u001b[38;5;28;01mif\u001b[39;00m \u001b[43mb\u001b[49m == \u001b[32m1\u001b[39m:\n\u001b[32m      2\u001b[39m     \u001b[38;5;28mprint\u001b[39m(\u001b[33m'\u001b[39m\u001b[33mинструкция, которая не будет выполнена\u001b[39m\u001b[33m'\u001b[39m)\n\u001b[32m      3\u001b[39m \u001b[38;5;28;01melif\u001b[39;00m b != \u001b[32m1.3\u001b[39m:\n",
            "\u001b[31mNameError\u001b[39m: name 'b' is not defined"
          ]
        }
      ],
      "source": [
        "if b == 1:\n",
        "    print('инструкция, которая не будет выполнена')\n",
        "elif b != 1.3:\n",
        "    print('и эта инструкция не будет выполнена')\n",
        "elif False:\n",
        "    print('и еще одна инструкция, которая не будет выполнена')\n",
        "# элементов ветвления elif может быть произвольное количество\n",
        "else:\n",
        "    print('а эта инструкция, пожалуй, выполнится')"
      ]
    },
    {
      "cell_type": "markdown",
      "metadata": {
        "id": "JoDG67c27BRQ"
      },
      "source": [
        "# Условное выражение (*Conditional Expression*)\n",
        "\n",
        "Конструкции ветвления, рассмотренные выше, представляют собой управляющие инструкции (*statements*). Ключевые слова `if` и `else` могут образовывать также условное выражение.\n",
        "\n",
        "Условное выражение возвращает одно из двух значений, в зависимости от условия. В выражении\n",
        "\n",
        "```python\n",
        "\"this\" if 10 > 12 else \"not this\"\n",
        "```\n",
        "\n",
        "условием является логическое выражение `10 > 12`. Выражение возвращает одно из возможных значение: `\"this\"` или `\"not this\"`.\n",
        "\n",
        "Условное выражение иногда называют **тернарным оператором**."
      ]
    },
    {
      "cell_type": "code",
      "execution_count": null,
      "metadata": {
        "colab": {
          "base_uri": "https://localhost:8080/"
        },
        "id": "j_usv7kT7BRR",
        "outputId": "84c94a03-3d27-4bf4-d16c-d7bf46f1eeac"
      },
      "outputs": [
        {
          "name": "stdout",
          "output_type": "stream",
          "text": [
            "not this\n"
          ]
        }
      ],
      "source": [
        "s = \"this\" if 10 > 12 else \"not this\"   # Conditional Expression\n",
        "\n",
        "# равносильно условной инструкции:\n",
        "if 10 > 12:                             # Conditional Statement\n",
        "    s = \"this\"\n",
        "else:\n",
        "    s = \"not this\"\n",
        "print(s)"
      ]
    },
    {
      "cell_type": "code",
      "execution_count": null,
      "metadata": {
        "colab": {
          "base_uri": "https://localhost:8080/",
          "height": 36
        },
        "id": "_hACXQqFIJDe",
        "outputId": "41dcb41e-bb2c-4428-93f9-0c61e61dc22b"
      },
      "outputs": [
        {
          "data": {
            "application/vnd.google.colaboratory.intrinsic+json": {
              "type": "string"
            },
            "text/plain": [
              "'D'"
            ]
          },
          "execution_count": 53,
          "metadata": {},
          "output_type": "execute_result"
        }
      ],
      "source": [
        "A = B = C = False\n",
        "D = True\n",
        "\n",
        "R = (    \"A\" if A\n",
        "    else \"B\" if B\n",
        "    else \"C\" if C\n",
        "    else \"D\" if D\n",
        "    else \"nothing\"\n",
        ")\n",
        "R"
      ]
    },
    {
      "cell_type": "markdown",
      "metadata": {
        "id": "Spva7qVxoQGE"
      },
      "source": [
        "# Циклы (*Loops*)\n",
        "\n",
        "Часто возникает необходимость многократно выполнять определенную последовательность инструкций при некотором меняющемся параметре. Каждое отдельное выполнение тела цикла называется **итерацией** (*iteration*)."
      ]
    },
    {
      "cell_type": "markdown",
      "metadata": {
        "id": "oe-miYPloQGE"
      },
      "source": [
        "## `while`\n",
        "\n",
        "После ключевого слова `while` идет **условие продолжения** цикла (в примере ниже это `number<6`). Итерации будут продолжаться до тех пор, пока условие продолжения будет оставаться истинным. Как только условие продолжения примет значение `False`, произойдет выход из цикла, и интерпретатор будет выполнять инструкции, идущие после тела цикла."
      ]
    },
    {
      "cell_type": "code",
      "execution_count": null,
      "metadata": {
        "colab": {
          "base_uri": "https://localhost:8080/"
        },
        "id": "5un_C-rpoQGE",
        "outputId": "a7490f4f-7bb5-49a8-cad2-d05a2d39b092"
      },
      "outputs": [
        {
          "name": "stdout",
          "output_type": "stream",
          "text": [
            "number = 0\n",
            "number = 1\n",
            "number = 2\n",
            "number = 3\n",
            "number = 4\n",
            "number = 5\n",
            "эта инструкция выполняется после выхода из цикла\n"
          ]
        }
      ],
      "source": [
        "number = 0\n",
        "while number < 6:\n",
        "    print(\"number =\", number)\n",
        "    number = number + 1\n",
        "\n",
        "print(\"эта инструкция выполняется после выхода из цикла\")"
      ]
    },
    {
      "cell_type": "markdown",
      "metadata": {
        "id": "_1P5aI3HoQGE"
      },
      "source": [
        "Расширенный синтаксис с заключительной инструкцией:"
      ]
    },
    {
      "cell_type": "code",
      "execution_count": null,
      "metadata": {
        "colab": {
          "base_uri": "https://localhost:8080/"
        },
        "id": "xbsbMC1KoQGE",
        "outputId": "15847739-b457-48e0-a3c7-98f3f1e87b49"
      },
      "outputs": [
        {
          "name": "stdout",
          "output_type": "stream",
          "text": [
            "10\n",
            "8\n",
            "6\n",
            "4\n",
            "заключительная инструкция\n"
          ]
        }
      ],
      "source": [
        "counter = 10\n",
        "c = \"строка\"\n",
        "while c == \"строка\":\n",
        "    if counter > 2:\n",
        "        print(counter)\n",
        "    else:\n",
        "        c = \"другая строка\"\n",
        "    counter -= 2\n",
        "else:\n",
        "    print(\"заключительная инструкция\")"
      ]
    },
    {
      "cell_type": "markdown",
      "metadata": {
        "id": "J8kZAdoqoQGE"
      },
      "source": [
        "## `for`\n",
        "\n",
        "Для того, чтобы организовать цикл, в котором некоторая переменная пробегает множество значений в диапозоне от `m` до `n`, можно использовать функцию `range()`. Функция возвращает последовательность (объект класса `range`), по которой можно \"пройтись\" оператором `in`. Есть три способа вызова функции `range()`:\n",
        "- `range(n)` - последовательность в диапазоне от `0` до `n` с шагом `1`\n",
        "- `range(m, n)` - последовательность в диапазоне от `m` до `n` с шагом `1`\n",
        "- `range(m, n, s)` - последовательность в диапазоне от `m` до `n` с шагом `s`\n",
        "\n",
        "Шаг может быть отрицательным. Само значение `n` не входит в диапазон!"
      ]
    },
    {
      "cell_type": "code",
      "execution_count": null,
      "metadata": {
        "colab": {
          "base_uri": "https://localhost:8080/"
        },
        "id": "xM9lRj-EoQGE",
        "outputId": "d05b9ba8-f552-447f-fffb-4b9860534c94"
      },
      "outputs": [
        {
          "name": "stdout",
          "output_type": "stream",
          "text": [
            "0\n",
            "1\n",
            "2\n",
            "3\n",
            "4\n"
          ]
        }
      ],
      "source": [
        "for i in range(5):\n",
        "    print(i)"
      ]
    },
    {
      "cell_type": "markdown",
      "metadata": {
        "id": "pVRE9JeOoQGF"
      },
      "source": [
        "Расширенный синтаксис с заключительной инструкцией:"
      ]
    },
    {
      "cell_type": "code",
      "execution_count": null,
      "metadata": {
        "colab": {
          "base_uri": "https://localhost:8080/"
        },
        "id": "6gskqwnnoQGF",
        "outputId": "b3b51f9d-85b3-41ff-e555-deef93052553"
      },
      "outputs": [
        {
          "name": "stdout",
          "output_type": "stream",
          "text": [
            "20\n",
            "18\n",
            "16\n",
            "14\n",
            "12\n",
            "заключительная инструкция\n"
          ]
        }
      ],
      "source": [
        "for i in range(20, 10, -2):\n",
        "    print(i)\n",
        "else:\n",
        "    print('заключительная инструкция')"
      ]
    }
  ],
  "metadata": {
    "colab": {
      "include_colab_link": true,
      "provenance": [],
      "toc_visible": true
    },
    "kernelspec": {
      "display_name": "marl",
      "language": "python",
      "name": "python3"
    },
    "language_info": {
      "codemirror_mode": {
        "name": "ipython",
        "version": 3
      },
      "file_extension": ".py",
      "mimetype": "text/x-python",
      "name": "python",
      "nbconvert_exporter": "python",
      "pygments_lexer": "ipython3",
      "version": "3.12.11"
    }
  },
  "nbformat": 4,
  "nbformat_minor": 0
}
