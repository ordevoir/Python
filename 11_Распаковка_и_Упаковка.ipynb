{
  "cells": [
    {
      "cell_type": "markdown",
      "metadata": {
        "id": "view-in-github",
        "colab_type": "text"
      },
      "source": [
        "<a href=\"https://colab.research.google.com/github/ordevoir/Python/blob/main/11_%D0%A0%D0%B0%D1%81%D0%BF%D0%B0%D0%BA%D0%BE%D0%B2%D0%BA%D0%B0_%D0%B8_%D0%A3%D0%BF%D0%B0%D0%BA%D0%BE%D0%B2%D0%BA%D0%B0.ipynb\" target=\"_parent\"><img src=\"https://colab.research.google.com/assets/colab-badge.svg\" alt=\"Open In Colab\"/></a>"
      ]
    },
    {
      "cell_type": "markdown",
      "id": "00a4e70f-7d5b-4893-b973-e84d494270f2",
      "metadata": {
        "id": "00a4e70f-7d5b-4893-b973-e84d494270f2"
      },
      "source": [
        "# Распаковка"
      ]
    },
    {
      "cell_type": "markdown",
      "id": "6b34d76b-264f-48cb-8a50-d9d47c1bc578",
      "metadata": {
        "id": "6b34d76b-264f-48cb-8a50-d9d47c1bc578"
      },
      "source": [
        "## Распаковка последовательностей\n",
        "Синтаксис **распаковок** (*unpacking*) одинаков для всех любых итерируемых объектов: `list`, `str`, `tuple`, `ndarray` и тд.\n",
        "\n",
        "Распаковка при **параллельном присваивании** (*parallel assignment*), т.е. присваивание элементов итерируемого объекта кортежу переменных:"
      ]
    },
    {
      "cell_type": "code",
      "execution_count": null,
      "id": "2ce148e3-c125-45fa-abaf-3b179fae5165",
      "metadata": {
        "id": "2ce148e3-c125-45fa-abaf-3b179fae5165",
        "outputId": "d9daff18-9e10-4ae8-d908-5a27c703dda4"
      },
      "outputs": [
        {
          "name": "stdout",
          "output_type": "stream",
          "text": [
            "t e x t\n"
          ]
        }
      ],
      "source": [
        "a, b, c, d = 'text'         # распаковка\n",
        "print(a, b, c, d)"
      ]
    },
    {
      "cell_type": "markdown",
      "id": "aba11f0e-9366-4680-8159-dfd7f98b889a",
      "metadata": {
        "id": "aba11f0e-9366-4680-8159-dfd7f98b889a"
      },
      "source": [
        "Распаковка кортежей в цикле, которые являются элементами списка. Кортежи сами содержат вложенные кортежи, но если выражение соответствует структуре вложенности, Python правильно заполнит переменные:"
      ]
    },
    {
      "cell_type": "code",
      "execution_count": null,
      "id": "b4202168-8fb7-40d1-98b6-187d4e07f9a0",
      "metadata": {
        "id": "b4202168-8fb7-40d1-98b6-187d4e07f9a0",
        "outputId": "4318468c-f693-4acc-e321-b2fb956c9c6a"
      },
      "outputs": [
        {
          "name": "stdout",
          "output_type": "stream",
          "text": [
            "[(0, 0, (0, 0)), (0, -1, (0, 1)), (-1, 0, (1, 0)), (-1, -1, (1, 1))]\n",
            "0 0 0 0\n",
            "0 -1 0 1\n",
            "-1 0 1 0\n",
            "-1 -1 1 1\n"
          ]
        }
      ],
      "source": [
        "L = [(-i, -j, (i, j)) for i in range(2) for j in range(2)]\n",
        "print(L)\n",
        "\n",
        "for k, p, (i, j) in L:\n",
        "    print(k, p, i, j)"
      ]
    },
    {
      "cell_type": "markdown",
      "id": "a9e66f45-fc23-4e8b-8387-088334bee06c",
      "metadata": {
        "id": "a9e66f45-fc23-4e8b-8387-088334bee06c"
      },
      "source": [
        "Распаковка последовательности при передаче в качестве аргумента при вызове функции:"
      ]
    },
    {
      "cell_type": "code",
      "execution_count": null,
      "id": "fa8967ee-803a-41f3-a9c7-f8a1f429eb25",
      "metadata": {
        "id": "fa8967ee-803a-41f3-a9c7-f8a1f429eb25",
        "outputId": "561cc14d-782f-449f-e5df-15605467ea93"
      },
      "outputs": [
        {
          "data": {
            "text/plain": [
              "(2, 4)"
            ]
          },
          "execution_count": 137,
          "metadata": {},
          "output_type": "execute_result"
        }
      ],
      "source": [
        "t = [20, 8]\n",
        "a, b = divmod(*t)\n",
        "a, b"
      ]
    },
    {
      "cell_type": "markdown",
      "id": "56cfc16c-bcb3-49a8-a87f-8163f9ee7ae6",
      "metadata": {
        "id": "56cfc16c-bcb3-49a8-a87f-8163f9ee7ae6"
      },
      "source": [
        "## Распаковка словарей\n",
        "\n",
        "Избыток аргументов функции может быть запакован в `**kwargs`. Но также можно распаковать словарь при передаче его в функцию в качестве аргумента, используя оператор `**`."
      ]
    },
    {
      "cell_type": "code",
      "execution_count": null,
      "id": "d2a6df19-2c4d-4eaf-89be-ad6368d5216f",
      "metadata": {
        "id": "d2a6df19-2c4d-4eaf-89be-ad6368d5216f",
        "outputId": "a819469f-5c4d-4b78-b709-e5710807261d"
      },
      "outputs": [
        {
          "name": "stdout",
          "output_type": "stream",
          "text": [
            "24\n"
          ]
        }
      ],
      "source": [
        "def f(a, b, c):\n",
        "    print(a * b * c)\n",
        "\n",
        "d = {\"c\": 3, \"b\": 2}\n",
        "\n",
        "f(4, **d)"
      ]
    },
    {
      "cell_type": "code",
      "execution_count": null,
      "id": "3354629e-d98c-4677-a299-9f68ef89b96b",
      "metadata": {
        "id": "3354629e-d98c-4677-a299-9f68ef89b96b",
        "outputId": "be06939f-7c27-42ef-e98b-0abfd5f745c9"
      },
      "outputs": [
        {
          "name": "stdout",
          "output_type": "stream",
          "text": [
            "c 3\n",
            "b 2\n"
          ]
        }
      ],
      "source": [
        "def f(**kwargs):\n",
        "    for key, value in kwargs.items():\n",
        "        print(key, value)\n",
        "\n",
        "d = {\"c\": 3, \"b\": 2}\n",
        "f(**d)"
      ]
    },
    {
      "cell_type": "markdown",
      "id": "60f8a2e3-790b-41ec-812d-23fc2a64ffb2",
      "metadata": {
        "id": "60f8a2e3-790b-41ec-812d-23fc2a64ffb2"
      },
      "source": [
        "> Распаковка словаря при помощи оператора `*` приведет к тому, что распаконы будут только ключи"
      ]
    },
    {
      "cell_type": "code",
      "execution_count": null,
      "id": "5e8e5bd0-98ff-4607-a412-35d17594f3db",
      "metadata": {
        "id": "5e8e5bd0-98ff-4607-a412-35d17594f3db",
        "outputId": "8ca926f9-5960-41b7-81b7-fe5dbc2b705b"
      },
      "outputs": [
        {
          "name": "stdout",
          "output_type": "stream",
          "text": [
            "c b\n"
          ]
        }
      ],
      "source": [
        "d = {\"c\": 3, \"b\": 2}\n",
        "print(*d)"
      ]
    },
    {
      "cell_type": "markdown",
      "id": "afdf0d56-061c-4df3-b26a-123425e72faa",
      "metadata": {
        "id": "afdf0d56-061c-4df3-b26a-123425e72faa"
      },
      "source": [
        "# Упаковка\n",
        "\n",
        "При параллельном присваивании число переменных должно соответствовать длине последовательности. Однако аналогично тому, как в функциях избыток аргументов запаковывается в `*args`, при параллельном присваивании также есть возможность извлечь из последовательности некоторые элементы в переменные, а остальное запаковать в список. Для этого используется оператор `*` перед одной из переменных, которой и будет присвоен этот список. Переменная с `*` может занимать любую позицию:"
      ]
    },
    {
      "cell_type": "code",
      "execution_count": null,
      "id": "7be6432d-21b5-43e8-8cb6-24b1b5837a45",
      "metadata": {
        "id": "7be6432d-21b5-43e8-8cb6-24b1b5837a45",
        "outputId": "67120ce4-41b0-4956-92e3-d20d4dbb9fc9"
      },
      "outputs": [
        {
          "name": "stdout",
          "output_type": "stream",
          "text": [
            "['t', 'e', 'x'] t\n",
            "t ['e', 'x'] t\n",
            "t e x t []\n"
          ]
        }
      ],
      "source": [
        "*a, b = 'text'\n",
        "print(a, b)\n",
        "\n",
        "a, *b, c = 'text'\n",
        "print(a, b, c)\n",
        "\n",
        "a, b, c, d, *e = 'text'\n",
        "print(a, b, c, d, e)"
      ]
    }
  ],
  "metadata": {
    "colab": {
      "provenance": [],
      "toc_visible": true,
      "include_colab_link": true
    },
    "kernelspec": {
      "display_name": "Python 3 (ipykernel)",
      "language": "python",
      "name": "python3"
    },
    "language_info": {
      "codemirror_mode": {
        "name": "ipython",
        "version": 3
      },
      "file_extension": ".py",
      "mimetype": "text/x-python",
      "name": "python",
      "nbconvert_exporter": "python",
      "pygments_lexer": "ipython3",
      "version": "3.10.10"
    }
  },
  "nbformat": 4,
  "nbformat_minor": 5
}