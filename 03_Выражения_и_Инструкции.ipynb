{
  "cells": [
    {
      "cell_type": "markdown",
      "metadata": {
        "id": "WlFXiWVMsYfX"
      },
      "source": [
        "# Выражения\n",
        "\n",
        "**Выражение** (*Expression*) представляет собой фрагмент кода, выдающий в результате выполнения некоторый результат, который можно вывести на печать, либо присвоить некоторой переменной.\n",
        "\n",
        "Простые выражения представляют собой просто некоторую константу, переменную или вызов функции:"
      ]
    },
    {
      "cell_type": "code",
      "execution_count": 20,
      "metadata": {
        "colab": {
          "base_uri": "https://localhost:8080/"
        },
        "id": "C0HjHJxWsYfe",
        "outputId": "b47838cc-9ea3-450d-9818-ebb9bb2137d1"
      },
      "outputs": [
        {
          "data": {
            "text/plain": [
              "10"
            ]
          },
          "execution_count": 20,
          "metadata": {},
          "output_type": "execute_result"
        }
      ],
      "source": [
        "10"
      ]
    },
    {
      "cell_type": "code",
      "execution_count": 21,
      "metadata": {
        "colab": {
          "base_uri": "https://localhost:8080/"
        },
        "id": "In_spfkesYfg",
        "outputId": "e3938aa5-625d-4a8e-cd9c-f67b428f1880"
      },
      "outputs": [
        {
          "data": {
            "text/plain": [
              "int"
            ]
          },
          "execution_count": 21,
          "metadata": {},
          "output_type": "execute_result"
        }
      ],
      "source": [
        "type(10)"
      ]
    },
    {
      "cell_type": "markdown",
      "metadata": {
        "id": "qSGIV9v-sYfh"
      },
      "source": [
        "Сложные выражения содержат некоторые операторы, или композицию функций:"
      ]
    },
    {
      "cell_type": "code",
      "execution_count": 22,
      "metadata": {
        "colab": {
          "base_uri": "https://localhost:8080/"
        },
        "id": "1q4yyoTKsYfi",
        "outputId": "33c25e3e-2478-4860-b087-0c37d1576b6a"
      },
      "outputs": [
        {
          "data": {
            "text/plain": [
              "25"
            ]
          },
          "execution_count": 22,
          "metadata": {},
          "output_type": "execute_result"
        }
      ],
      "source": [
        "10 + 15"
      ]
    },
    {
      "cell_type": "code",
      "execution_count": 23,
      "metadata": {
        "colab": {
          "base_uri": "https://localhost:8080/"
        },
        "id": "ysqy9vJAsYfi",
        "outputId": "99d9678e-06a5-415c-8ce0-f47a666319a2"
      },
      "outputs": [
        {
          "data": {
            "text/plain": [
              "20.0"
            ]
          },
          "execution_count": 23,
          "metadata": {},
          "output_type": "execute_result"
        }
      ],
      "source": [
        "float((10 + 15 * 2) // 2)"
      ]
    },
    {
      "cell_type": "code",
      "execution_count": 24,
      "metadata": {
        "colab": {
          "base_uri": "https://localhost:8080/",
          "height": 36
        },
        "id": "zoizRIqRsYfj",
        "outputId": "c1d9d091-4e20-438b-9e81-5889e58699af"
      },
      "outputs": [
        {
          "data": {
            "application/vnd.google.colaboratory.intrinsic+json": {
              "type": "string"
            },
            "text/plain": [
              "\"<class 'int'>\""
            ]
          },
          "execution_count": 24,
          "metadata": {},
          "output_type": "execute_result"
        }
      ],
      "source": [
        "str(type(10))   # композиция функций"
      ]
    },
    {
      "cell_type": "markdown",
      "metadata": {
        "id": "VFoNGm2IsYfl"
      },
      "source": [
        "Само по себе выражение не вносит изменений в среду выполнения, поэтому, следов от выполненных выражений мы не обнаружим в последующих секциях с кодом.\n",
        "\n",
        "Вот еще пример замысловатого выражения, результатом выполнения которого является список:"
      ]
    },
    {
      "cell_type": "code",
      "execution_count": 25,
      "metadata": {
        "colab": {
          "base_uri": "https://localhost:8080/"
        },
        "id": "OLoYPQaLsYfl",
        "outputId": "219602fb-1bf8-4839-f41d-e51f147e0929"
      },
      "outputs": [
        {
          "data": {
            "text/plain": [
              "[0, 1, 2, 3, 4, 5, 6, 7, 8, 9]"
            ]
          },
          "execution_count": 25,
          "metadata": {},
          "output_type": "execute_result"
        }
      ],
      "source": [
        "[x for x in range(10)]"
      ]
    },
    {
      "cell_type": "markdown",
      "metadata": {
        "id": "nfrekIvgsYfm"
      },
      "source": [
        "# Инструкции\n",
        "\n",
        "**Инструкция** (*Statement*) представляет собой фрагмент кода, при выполнении которого совершается действие, приводящее к изменению в среде выполнения. Инструкции не возвращают значений. В частности, инструкция присваивания приводит к тому, что в среде создается новая переменная, либо меняется значение уже существующей. Инструкции циклов и ветвлений управляют действиями, но ничего не возвращают."
      ]
    },
    {
      "cell_type": "code",
      "execution_count": 26,
      "metadata": {
        "id": "AXRIvT0KsYfm"
      },
      "outputs": [],
      "source": [
        "a = 10  # инструкция"
      ]
    },
    {
      "cell_type": "markdown",
      "metadata": {
        "id": "dkQbCswDsYfm"
      },
      "source": [
        "Так как в последней ячейке с кодом выполнена инструкция, мы не получили под ячейкой никакого выходного значения. Было бы бессмысленно пытаться вывести на печать результат выполнения операции присовения `print(a = 10)`.\n",
        "\n",
        "Но так как в программе среде выполнения произошло изменение, мы можем обнаружить следы инструкции в следующей ячейке: в ячейке будет теперь доступна переменная `a`, которая была создана в результате выполнения инструкции:"
      ]
    },
    {
      "cell_type": "code",
      "execution_count": 27,
      "metadata": {
        "colab": {
          "base_uri": "https://localhost:8080/"
        },
        "id": "U6r8mQcBsYfn",
        "outputId": "678d60f7-98d3-4e0e-fca3-b751f4c2fb94"
      },
      "outputs": [
        {
          "data": {
            "text/plain": [
              "10"
            ]
          },
          "execution_count": 27,
          "metadata": {},
          "output_type": "execute_result"
        }
      ],
      "source": [
        "a"
      ]
    },
    {
      "cell_type": "markdown",
      "metadata": {
        "id": "Q8p7N3W3sYfn"
      },
      "source": [
        "Следует отметить, что в инструкции `a = 10` содержалось и выражение: то, что напечатано справа от символа присвоения `=`. Это простое выражение `10`, результатом выполнения которого является значение типа `int`. Это значение присваивается переменной `a` в инструкции.\n",
        "\n",
        "В инструкции `a = 10.0` выражение `10.0` возвращало бы значение типа `float`.\n",
        "\n",
        "В общем случае, конечно, инструкция может и не оставить следов в среде выполнения. Рассмотрим, к примеру цикл:"
      ]
    },
    {
      "cell_type": "code",
      "execution_count": 28,
      "metadata": {
        "id": "cTcCcwy6sYfo"
      },
      "outputs": [],
      "source": [
        "while True:\n",
        "    break"
      ]
    },
    {
      "cell_type": "markdown",
      "metadata": {
        "id": "M-J6nQ1ysYfo"
      },
      "source": [
        "Морфологически мы имеем дело с инструкцией. Этот фрагмент кода ничего не возвращает, однако в среде выполнения никаких изменений в результате выполнения не произошло."
      ]
    }
  ],
  "metadata": {
    "colab": {
      "include_colab_link": true,
      "provenance": [],
      "toc_visible": true
    },
    "kernelspec": {
      "display_name": "Python 3 (ipykernel)",
      "language": "python",
      "name": "python3"
    },
    "language_info": {
      "codemirror_mode": {
        "name": "ipython",
        "version": 3
      },
      "file_extension": ".py",
      "mimetype": "text/x-python",
      "name": "python",
      "nbconvert_exporter": "python",
      "pygments_lexer": "ipython3",
      "version": "3.10.10"
    },
    "vscode": {
      "interpreter": {
        "hash": "e20f72739ffc6c3cc505414aaab49afe57115ca17c783e620ccfd5d632835ddf"
      }
    }
  },
  "nbformat": 4,
  "nbformat_minor": 0
}
