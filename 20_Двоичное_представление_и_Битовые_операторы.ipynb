{
  "cells": [
    {
      "cell_type": "markdown",
      "metadata": {
        "colab_type": "text",
        "id": "view-in-github"
      },
      "source": [
        "<a href=\"https://colab.research.google.com/github/ordevoir/Python/blob/main/20_%D0%94%D0%B2%D0%BE%D0%B8%D1%87%D0%BD%D0%BE%D0%B5_%D0%BF%D1%80%D0%B5%D0%B4%D1%81%D1%82%D0%B0%D0%B2%D0%BB%D0%B5%D0%BD%D0%B8%D0%B5_%D0%B8_%D0%91%D0%B8%D1%82%D0%BE%D0%B2%D1%8B%D0%B5_%D0%BE%D0%BF%D0%B5%D1%80%D0%B0%D1%82%D0%BE%D1%80%D1%8B.ipynb\" target=\"_parent\"><img src=\"https://colab.research.google.com/assets/colab-badge.svg\" alt=\"Open In Colab\"/></a>"
      ]
    },
    {
      "cell_type": "markdown",
      "id": "e035a4b3",
      "metadata": {
        "id": "e035a4b3"
      },
      "source": [
        "# Двоичное представление\n",
        "\n",
        "## Двоичная система счисления\n",
        "\n",
        "Целое число может быть задано **двоичным целочисленным литералом** (*binary integer literal*). Например, число 12 может быть задано литералом `-0b1100`.\n",
        "\n",
        "Целое число может быть представлено в двоичном представлении (в виде) при помощи функции `bin()`. При этом у двоичного представления будет префикс `0b`.\n",
        "\n",
        "F-string также предоставляет возможность представления целого числа в виде строки, содержащей двоичное представление."
      ]
    },
    {
      "cell_type": "code",
      "execution_count": null,
      "id": "4349a5b5",
      "metadata": {
        "id": "4349a5b5",
        "outputId": "2e6dee5e-26bb-498d-cc2f-9f51e13dd56b"
      },
      "outputs": [
        {
          "data": {
            "text/plain": [
              "('0b1010', '-1100', '-0001100')"
            ]
          },
          "execution_count": 183,
          "metadata": {},
          "output_type": "execute_result"
        }
      ],
      "source": [
        "# Двоичный целочисленный литерал\n",
        "x =  0b1010  #  10\n",
        "y = -0b1100  # -12\n",
        "\n",
        "# Представление в двоичной системе счисления виде строки\n",
        "bin(x), f\"{y:b}\", f\"{y:08b}\""
      ]
    },
    {
      "cell_type": "markdown",
      "id": "a2665752",
      "metadata": {
        "id": "a2665752"
      },
      "source": [
        "Заметим, что производится представление именно в двоичной системе, а не кодирование дополнительном коде. В ячейках памяти целые числа хранятся в дополнительном коде, поэтому нужно всегда учитывать, что последовательности нулей и единиц, возвращаемые функцией `bin()` и форматированием F-string – это представление чисел именно в двоичной системе счисления."
      ]
    },
    {
      "cell_type": "markdown",
      "id": "5765bca2",
      "metadata": {
        "id": "5765bca2"
      },
      "source": [
        "### Методы `bit_length()` и `bit_count()`\n",
        "\n",
        "У объектов `int` имеются методы `bit_length()` и `bit_count()`.\n",
        "\n",
        "Метод `bit_length()` возвращает количество бит, нужных для представления абсолютного значения числа в двоичном виде (без знака и ведущих нулей).\n",
        "\n",
        "Метод `bit_count()` возвращает установленных битов (единиц) в двоичном представлении абсолютного значения числа."
      ]
    },
    {
      "cell_type": "code",
      "execution_count": null,
      "id": "7eb3541d",
      "metadata": {
        "id": "7eb3541d",
        "outputId": "f330cdb6-ca25-4da3-b0a3-147380df0b8e"
      },
      "outputs": [
        {
          "data": {
            "text/plain": [
              "' 1101,  100001'"
            ]
          },
          "execution_count": 184,
          "metadata": {},
          "output_type": "execute_result"
        }
      ],
      "source": [
        "x, y = 13, 33\n",
        "\n",
        "f\"{x: b}, {y: b}\""
      ]
    },
    {
      "cell_type": "code",
      "execution_count": null,
      "id": "1856d2cb",
      "metadata": {
        "id": "1856d2cb",
        "outputId": "2f0081c0-59fc-4cc5-ce54-acf1d8a9c16f"
      },
      "outputs": [
        {
          "data": {
            "text/plain": [
              "(4, 6)"
            ]
          },
          "execution_count": 185,
          "metadata": {},
          "output_type": "execute_result"
        }
      ],
      "source": [
        "x.bit_length(), y.bit_length()"
      ]
    },
    {
      "cell_type": "code",
      "execution_count": null,
      "id": "095674c0",
      "metadata": {
        "id": "095674c0",
        "outputId": "39a39a2b-8b64-4929-d252-f5d51928a3f5"
      },
      "outputs": [
        {
          "data": {
            "text/plain": [
              "(3, 2)"
            ]
          },
          "execution_count": 186,
          "metadata": {},
          "output_type": "execute_result"
        }
      ],
      "source": [
        "x.bit_count(), y.bit_count()"
      ]
    },
    {
      "cell_type": "markdown",
      "id": "4b2d5530",
      "metadata": {
        "id": "4b2d5530"
      },
      "source": [
        "## Дополнительный код\n",
        "\n",
        "**Дополнительный код** (*two’s complement*) используется для представления целых отрицательных чисел. Положительные числа совпадают с прямым кодированием, а вот отрицательные числа представляют собой инверсию положительных, с последующим прибавлением единицы. Например число $42$ будет кодировано в `00101010`, а число $-42$ – в `11010110`. Таким образом старший бит также является знаковым. Если число представляется одним байтом, то при такой кодировке\n",
        "\n",
        "- Имеется только один ноль: `00000000`.\n",
        "- $-1$ кодируется сплошными единицами: `11111111`.\n",
        "- Минимальное число $-128$ кодируется `10000000`.\n",
        "- Максимальное число $127$ кодируется `01111111`.\n",
        "\n",
        "Инверсия этого числа используется для кодирования предельного отрицательного числа ($-128$). Диапазон возможных значений $[-128, 127]$.\n"
      ]
    },
    {
      "cell_type": "markdown",
      "id": "09042e2c",
      "metadata": {
        "id": "09042e2c"
      },
      "source": [
        "### Функция для отображения в дополнительном коде\n",
        "\n",
        "Напишем функцию, которая возвращает строку, которая содержит дополнительный код числа, ограниченный слева. Для этого сформируем положительное число, двоичное представление которого соответствует дополнительному коду заданного числа:\n",
        "- Выражение `1 << bits` возвращает $2^{\\mathrm{bits}}$. При `bits=8` это будет число $256$ и его двоичное представление  `...0001_0000_0000`.\n",
        "- Выражение `(1 << bits) - 1` возвращает значение $255$, и его двоичное представление – `...0000_1111_1111`. Таким образом мы сделали маску, которая будет обрезать слева все что левее восьмого бита при операции побитовой дизъюнкции `&`.\n",
        "- В выражении `twos_zero & n` производится побитовая дизъюнкция. Оператор `&` работает непосредственно с дополнительным кодом чисел. Дополнительный код положительного числа $255$ совпадает с его двоичным представлением. Дополнительный код отрицательного числа имеет бесконечный префикс из единиц. Например, число $-12$ в дополнительном коде – `...1111_1111_0100`. Дизъюнкция с `mask` обнулит все, что левее восьмого бита, остальное останется без изменений и получится `...0000_1111_0100`.\n",
        "\n",
        "Фактически `...0000_1111_0100` – это положительное число в дополнительном коде, равное 244. Но здесь мы получаем такое число для того, чтобы сформировать строку, содержащую дополнительный код, обрезанный слева."
      ]
    },
    {
      "cell_type": "code",
      "execution_count": null,
      "id": "4486c077",
      "metadata": {
        "id": "4486c077",
        "outputId": "4a710ff2-a6d4-4cd7-8eea-43b324241228"
      },
      "outputs": [
        {
          "data": {
            "text/plain": [
              "('11111111', '0000000000000001')"
            ]
          },
          "execution_count": 187,
          "metadata": {},
          "output_type": "execute_result"
        }
      ],
      "source": [
        "def to_twos(n:int, bits: int=8) -> str:\n",
        "    mask = (1 << bits) - 1   # при bits=8 это будет ...000011111111\n",
        "    twos_n = mask & n        # mask обнулит все, что левее 8-го бита\n",
        "    return f\"{twos_n:0{bits}b}\"\n",
        "\n",
        "to_twos(-1), to_twos(1, bits=16)"
      ]
    },
    {
      "cell_type": "markdown",
      "id": "04ba425b",
      "metadata": {
        "id": "04ba425b"
      },
      "source": [
        "# Битовый сдвиг\n",
        "\n",
        "**Битовый сдвиг** (*circular shift*) двоичного представления числа приводит эквивалентен умножению/делению на степени двойки.\n",
        "\n",
        "Влево на $k$ битов (младшие нули добавляются справа):\n",
        "\n",
        "$$\n",
        "x \\ll k \\;=\\; x · 2^k\n",
        "$$"
      ]
    },
    {
      "cell_type": "code",
      "execution_count": null,
      "id": "759eba14",
      "metadata": {
        "id": "759eba14",
        "outputId": "89ae670d-8200-4354-f3ed-9e2fd7158272"
      },
      "outputs": [
        {
          "data": {
            "text/plain": [
              "(3, 3)"
            ]
          },
          "execution_count": 188,
          "metadata": {},
          "output_type": "execute_result"
        }
      ],
      "source": [
        "x = 25\n",
        "x >> 3, x // 2**3"
      ]
    },
    {
      "cell_type": "markdown",
      "id": "1cf37b42",
      "metadata": {},
      "source": [
        "\n",
        "Вправо на $k$ битов (младшие разряды удаляются):\n",
        "$$\n",
        "x \\gg k \\;=\\; \\left\\lfloor \\frac{x}{2^k} \\right\\rfloor\n",
        "$$\n",
        "\n",
        "Сдвиг вправо приводит к делению числа на $2^k$ с округлением вниз."
      ]
    },
    {
      "cell_type": "code",
      "execution_count": null,
      "id": "b6ba60d8",
      "metadata": {
        "id": "b6ba60d8",
        "outputId": "690bb958-1362-4518-9b3e-deebf1412b79"
      },
      "outputs": [
        {
          "data": {
            "text/plain": [
              "(-100, -100)"
            ]
          },
          "execution_count": 189,
          "metadata": {},
          "output_type": "execute_result"
        }
      ],
      "source": [
        "x = -25\n",
        "x << 2, x * 2**2"
      ]
    },
    {
      "cell_type": "markdown",
      "id": "d566d5a7",
      "metadata": {},
      "source": [
        "Это позволяет эффективно перевести целое десятичное число из двоичное:\n"
      ]
    },
    {
      "cell_type": "markdown",
      "id": "38aa98a1",
      "metadata": {},
      "source": [
        "# Двоичное представление числа\n",
        "\n",
        "Получить двоичное представление числа $n$ из десятичного можно путем деления на степени $2$ с округлением вниз. Степени двойки начинаются с $0$ и возрастают на единицу, образуя последовательность $1, 2, 4, 8, \\dots$ Если делить $n$ на эти числа, то получим невозрастающую последовательность, которая сходится к $0$. Четные элементы этой последовательности соответствуют нулям, нечетные – единицам (в двоичном представлении числа). Первый элемент последовательности – младший бит, и далее по возрастанию, т.е. четность числа $\\left\\lfloor {n}/{2^k} \\right\\rfloor$ определяет $k$-ый бит числа. \n",
        "\n",
        "На практике вместо возведения в степень и целочисленного деления, эффективнее использовать битовые сдвиги: операции `n >> k` дают $\\left\\lfloor {n}/{2^k} \\right\\rfloor$. Проверку на четность можно осуществлять битовой конъюнкцией: `x & 1` возвращает $0$, если число четное, и $1$ – если нечетное. "
      ]
    },
    {
      "cell_type": "code",
      "execution_count": 10,
      "id": "98428710",
      "metadata": {},
      "outputs": [
        {
          "name": "stdout",
          "output_type": "stream",
          "text": [
            "ns = array([7, 6, 5, 4, 3, 2, 1, 0])\n",
            "shifteds = array([ 0,  0,  1,  2,  5, 10, 21, 42])\n",
            "odds = array([0, 0, 1, 0, 1, 0, 1, 0])\n"
          ]
        }
      ],
      "source": [
        "# пошаговые инструкции\n",
        "import numpy as np\n",
        "\n",
        "x = 42\n",
        "ns = np.arange(7, -1, -1)\n",
        "print(f\"{ns = }\")\n",
        "shifteds = x >> ns        # результаты деления на степени двойки с округлением вниз\n",
        "print(f\"{shifteds = }\")\n",
        "odds = shifteds & 1\n",
        "print(f\"{odds = }\")"
      ]
    },
    {
      "cell_type": "markdown",
      "id": "eaf4a134",
      "metadata": {},
      "source": [
        "Напишем функцию, для перевода чисел в двоичное представление в виде массива."
      ]
    },
    {
      "cell_type": "code",
      "execution_count": 12,
      "id": "5b0365a2",
      "metadata": {},
      "outputs": [],
      "source": [
        "import numpy as np\n",
        "\n",
        "def int_to_bits(n: int) -> np.ndarray:\n",
        "    width = n.bit_length()\n",
        "    n_bytes = (width + 7) >> 3  # или // 8 \n",
        "    shifts = np.arange(n_bytes*8-1, -1, -1, dtype=np.uint64)\n",
        "    return (n >> shifts) & 1"
      ]
    },
    {
      "cell_type": "code",
      "execution_count": 13,
      "id": "7051cc81",
      "metadata": {},
      "outputs": [
        {
          "name": "stdout",
          "output_type": "stream",
          "text": [
            "[0 0 1 0 1 0 1 0]\n",
            "00101010\n"
          ]
        }
      ],
      "source": [
        "x = 42\n",
        "\n",
        "bynary_lst = int_to_bits(x)\n",
        "print(bynary_lst)\n",
        "bynary_str = \"\".join(bynary_lst.astype(str))\n",
        "print(bynary_str)"
      ]
    },
    {
      "cell_type": "markdown",
      "id": "23ee9f47",
      "metadata": {
        "id": "23ee9f47"
      },
      "source": [
        "# Инверсия\n",
        "\n",
        "Инверсия целого числа $x$, закодированного в дополнительном коде, эквивалентна операции $-x - 1$. Повторное применение оператора `~`, конечно же, возвращает исходное число."
      ]
    },
    {
      "cell_type": "code",
      "execution_count": null,
      "id": "9641b7fb",
      "metadata": {
        "id": "9641b7fb",
        "outputId": "4b36f46e-f638-4c89-bd47-6b0c8e624fd3"
      },
      "outputs": [
        {
          "data": {
            "text/plain": [
              "(-26, 25)"
            ]
          },
          "execution_count": 190,
          "metadata": {},
          "output_type": "execute_result"
        }
      ],
      "source": [
        "x = 25\n",
        "~x, ~~x"
      ]
    },
    {
      "cell_type": "code",
      "execution_count": null,
      "id": "7b8df796",
      "metadata": {
        "id": "7b8df796",
        "outputId": "8aa0cbf4-bb0c-45d6-ab37-3ab2e64f37fe"
      },
      "outputs": [
        {
          "data": {
            "text/plain": [
              "('00011001', '11100110', '00011001')"
            ]
          },
          "execution_count": 191,
          "metadata": {},
          "output_type": "execute_result"
        }
      ],
      "source": [
        "to_twos(x), to_twos(~x), to_twos(~~x)   # дополнительный код"
      ]
    },
    {
      "cell_type": "markdown",
      "id": "a2786696",
      "metadata": {
        "id": "a2786696"
      },
      "source": [
        "# AND, OR, XOR\n",
        "\n",
        "Оператор конъюнкции `&` и оператор дизъюнкции `|` производят битовые операции над разрядами чисел, представленных дополнительным кодом.  Например, число $-12$, который имеет двоичное представление `1100`, в дополнительном коде с 8 разрядами будет `11110100` – т.е. производится инверсия двоичного представления положительного числа прибавляется единица.\n",
        "\n",
        "Исключающее ИЛИ производится оператором `^`.\n",
        "\n",
        "В Python побитовые операторы работают так, как будто числа представлены в дополнительном коде с бесконочным количеством бит. У отрицательных чисел – «бесконечные» ведущие `1`, а у положительных – `0`."
      ]
    },
    {
      "cell_type": "code",
      "execution_count": null,
      "id": "819515e9",
      "metadata": {
        "id": "819515e9",
        "outputId": "a68dde86-6701-409f-8595-83c748e81659"
      },
      "outputs": [
        {
          "name": "stdout",
          "output_type": "stream",
          "text": [
            "10 -13\n"
          ]
        }
      ],
      "source": [
        "x =      10  #  11\n",
        "y = -0b1101  # -13\n",
        "\n",
        "print(x, y)             # десятичное представление"
      ]
    },
    {
      "cell_type": "markdown",
      "id": "4878f0e0",
      "metadata": {
        "id": "4878f0e0"
      },
      "source": [
        "Для демонстрации того, что происходит на уровне дополнительного кода, воспользуемся функцией `to_twos()`."
      ]
    },
    {
      "cell_type": "markdown",
      "id": "6c3b95c5",
      "metadata": {},
      "source": [
        "## Конъюнкция битов (AND)"
      ]
    },
    {
      "cell_type": "code",
      "execution_count": null,
      "id": "c28f988e",
      "metadata": {
        "id": "c28f988e",
        "outputId": "b8b0bfd3-0e94-48c5-eefd-42d512c5192f"
      },
      "outputs": [
        {
          "name": "stdout",
          "output_type": "stream",
          "text": [
            "00001010, decimal: 10\n",
            "11110011, decimal: -13\n",
            "00000010, decimal: 2\n"
          ]
        }
      ],
      "source": [
        "x_twos, y_twos = to_twos(x), to_twos(y)  # дополнительный код\n",
        "\n",
        "print(f\"{x_twos}, decimal: {x}\")\n",
        "print(f\"{y_twos}, decimal: {y}\")\n",
        "\n",
        "disjunct = x & y\n",
        "disjunct_twos = to_twos(disjunct)\n",
        "\n",
        "print(f\"{disjunct_twos}, decimal: {disjunct}\")\n"
      ]
    },
    {
      "cell_type": "markdown",
      "id": "6be09e9f",
      "metadata": {},
      "source": [
        "Конъюнкция с единицей всегда возращает `1`, если второй операнд является нечетным числом, и `0`, если число четное."
      ]
    },
    {
      "cell_type": "code",
      "execution_count": 4,
      "id": "b3ca12aa",
      "metadata": {},
      "outputs": [
        {
          "data": {
            "text/plain": [
              "(1, 0, 0, 1)"
            ]
          },
          "execution_count": 4,
          "metadata": {},
          "output_type": "execute_result"
        }
      ],
      "source": [
        "1 & 5, 1 & 6, 1 & 0, 1 & -1"
      ]
    },
    {
      "cell_type": "markdown",
      "id": "4f068573",
      "metadata": {
        "id": "4f068573"
      },
      "source": [
        "## Дизъюнкция битов (OR)"
      ]
    },
    {
      "cell_type": "code",
      "execution_count": null,
      "id": "774c5bb3",
      "metadata": {
        "id": "774c5bb3",
        "outputId": "97263fc4-24f8-41b7-d801-97bce42b4e89"
      },
      "outputs": [
        {
          "name": "stdout",
          "output_type": "stream",
          "text": [
            "00001010, decimal: 10\n",
            "11110011, decimal: -13\n",
            "11111011, decimal: -5\n"
          ]
        }
      ],
      "source": [
        "print(f\"{x_twos}, decimal: {x}\")\n",
        "print(f\"{y_twos}, decimal: {y}\")\n",
        "\n",
        "conjunct = x | y\n",
        "conjunct_twos = to_twos(conjunct)\n",
        "\n",
        "print(f\"{conjunct_twos}, decimal: {conjunct}\")"
      ]
    },
    {
      "cell_type": "markdown",
      "id": "4a202c83",
      "metadata": {
        "id": "4a202c83"
      },
      "source": [
        "## Исключающее ИЛИ (XOR)"
      ]
    },
    {
      "cell_type": "code",
      "execution_count": null,
      "id": "350bbf21",
      "metadata": {
        "id": "350bbf21",
        "outputId": "f1be1f3f-723a-4790-8b1d-7ffa0a59958f"
      },
      "outputs": [
        {
          "name": "stdout",
          "output_type": "stream",
          "text": [
            "00001010, decimal: 10\n",
            "11110011, decimal: -13\n",
            "11111001, decimal: -7\n"
          ]
        }
      ],
      "source": [
        "print(f\"{x_twos}, decimal: {x}\")\n",
        "print(f\"{y_twos}, decimal: {y}\")\n",
        "\n",
        "xor = x ^ y\n",
        "xor_twos = to_twos(xor)\n",
        "\n",
        "print(f\"{xor_twos}, decimal: {xor}\")"
      ]
    }
  ],
  "metadata": {
    "colab": {
      "include_colab_link": true,
      "provenance": []
    },
    "kernelspec": {
      "display_name": "marl",
      "language": "python",
      "name": "python3"
    },
    "language_info": {
      "codemirror_mode": {
        "name": "ipython",
        "version": 3
      },
      "file_extension": ".py",
      "mimetype": "text/x-python",
      "name": "python",
      "nbconvert_exporter": "python",
      "pygments_lexer": "ipython3",
      "version": "3.12.11"
    }
  },
  "nbformat": 4,
  "nbformat_minor": 5
}
