{
 "cells": [
  {
   "cell_type": "markdown",
   "id": "fc3e93c6-da33-4404-a390-42b3c8e378f5",
   "metadata": {
    "id": "NZbJWb3q7BRX"
   },
   "source": [
    "## Поверхностное копирование"
   ]
  },
  {
   "cell_type": "markdown",
   "id": "a7b72159-9c42-483c-b475-c91ce67cf247",
   "metadata": {
    "id": "Ih5EocyPKJkl"
   },
   "source": [
    "### Копирование списков"
   ]
  },
  {
   "cell_type": "code",
   "execution_count": null,
   "id": "117dd1ce-cac4-47bb-8fbd-6202198f9ebb",
   "metadata": {
    "id": "kRWyWhPM7BRX"
   },
   "outputs": [],
   "source": [
    "from copy import copy\n",
    "\n",
    "L = [1, 3, 5]\n",
    "\n",
    "L_1 = L[:]      # первый способ\n",
    "L_2 = list(L)   # второй способ\n",
    "L_3 = copy(L)   # третий способ"
   ]
  },
  {
   "cell_type": "markdown",
   "id": "23caca98-cbb7-4d04-ba7e-33bb4c9df62a",
   "metadata": {
    "id": "V9-6StCoKJkl"
   },
   "source": [
    "> Подобным же образом можно скопировать также кортежи и строки. Однако, так как это итак неизменяемые типы данных, смысла в этом не много. Нобходимость скорее будет возникать в глубоком копировании."
   ]
  },
  {
   "cell_type": "markdown",
   "id": "3101d9a8-7294-4fc6-8f59-5f9d19fafc32",
   "metadata": {
    "id": "ht06lUHxKJkm"
   },
   "source": [
    "### Копирование множеств и словарей"
   ]
  },
  {
   "cell_type": "code",
   "execution_count": null,
   "id": "36880d8a-4a1e-4b97-80e4-4a819fc14067",
   "metadata": {
    "id": "VBvXEfPyKJkm"
   },
   "outputs": [],
   "source": [
    "from copy import copy\n",
    "\n",
    "D = {\"a\": 3, \"b\":3}\n",
    "D_2 = dict(D)\n",
    "D_3 = copy(D)\n",
    "\n",
    "S = {0, 1, 2, 3, 4}\n",
    "S_2 = set(S)\n",
    "S_3 = copy(S)"
   ]
  },
  {
   "cell_type": "markdown",
   "id": "6a226cf8-d439-48c5-b305-cb9d320fd897",
   "metadata": {
    "id": "eSXMxoQCKJkm"
   },
   "source": [
    "## Глубокое копирование"
   ]
  },
  {
   "cell_type": "code",
   "execution_count": null,
   "id": "6d3a9a20-0ee3-4e2e-9d05-e84eaf2c8b89",
   "metadata": {
    "id": "CEUFi-mqKJkn"
   },
   "outputs": [],
   "source": [
    "from copy import deepcopy\n",
    "\n",
    "L_4 = deepcopy(L)\n",
    "D_4 = deepcopy(D)\n",
    "S_4 = deepcopy(S)"
   ]
  },
  {
   "cell_type": "markdown",
   "id": "bc1ffcda-5f48-4569-9a79-bfb7fa55930f",
   "metadata": {
    "id": "8RfFFIWZ7BRa"
   },
   "source": [
    "## Срезы"
   ]
  },
  {
   "cell_type": "code",
   "execution_count": null,
   "id": "00aa74dc-6c98-4a36-838d-eec74efc3a71",
   "metadata": {
    "id": "2YBjII6a7BRa",
    "outputId": "3753c9b4-f2af-4e5e-8aa2-24f5c95c7d6e"
   },
   "outputs": [
    {
     "name": "stdout",
     "output_type": "stream",
     "text": [
      "Te xt Te xt\n",
      "Tex t\n",
      "T e xt\n"
     ]
    }
   ],
   "source": [
    "s = 'Text'\n",
    "\n",
    "a, b, c, d = s[:2], s[2:], s[:-2], s[-2:]\n",
    "print(a, b, c, d)\n",
    "\n",
    "a, b, = s[:-1], s[-1]\n",
    "print(a, b)\n",
    "\n",
    "(a, b), c = s[:2], s[2:]\n",
    "print(a, b, c)"
   ]
  },
  {
   "cell_type": "markdown",
   "id": "e8fc11f2",
   "metadata": {},
   "source": [
    "Более общий синтаксис:\n",
    "\n",
    "    L[start: end: step]\n"
   ]
  },
  {
   "cell_type": "code",
   "execution_count": null,
   "id": "60178437-68a3-4bf1-8d7a-b7932c1e62ad",
   "metadata": {
    "id": "rEIQgm0H7BRa",
    "outputId": "15fcf8c6-ae04-4412-887e-ed2599da3d46"
   },
   "outputs": [
    {
     "name": "stdout",
     "output_type": "stream",
     "text": [
      "  L        = [0, 1, 2, 3, 4, 5, 6, 7, 8, 9, 10, 11]\n",
      "  L[1::2]  = [1, 3, 5, 7, 9, 11]\n",
      "  L[::2]   = [0, 2, 4, 6, 8, 10]\n",
      "  L[::3]   = [0, 3, 6, 9]\n",
      "  L[5::4]  = [5, 9]\n"
     ]
    }
   ],
   "source": [
    "L = list(range(12))\n",
    "print(f'{  L         = }')\n",
    "print(f'{  L[3:10:2] = }')  # каждый второй элемент в диапазоне от 3 до 10\n",
    "print(f'{  L[5::4]   = }')  # каждый четвертый элемент начиная с 5\n",
    "print(f'{  L[1::2]   = }')  # все элементы с нечетными индексами\n",
    "print(f'{  L[::2]    = }')  # все элементы с четными индексами [0::2]\n",
    "print(f'{  L[::3]    = }')  # каждый третий элемент начиная с нулевого"
   ]
  },
  {
   "cell_type": "code",
   "execution_count": null,
   "id": "9258b599-0575-44e1-9e63-45d4541076ad",
   "metadata": {
    "id": "ErfnzYjX7BRa",
    "outputId": "8b3569df-60bd-4d25-fb67-4ecc2f2c59fe"
   },
   "outputs": [
    {
     "name": "stdout",
     "output_type": "stream",
     "text": [
      " L       = [0, 1, 2, 3, 4, 5, 6, 7, 8, 9, 10, 11]\n",
      " L[::-1] = [11, 10, 9, 8, 7, 6, 5, 4, 3, 2, 1, 0]\n",
      " L[::-3] = [11, 8, 5, 2]\n",
      " L[3::-1] = [3, 2, 1, 0]\n",
      " L[10:3:-2] = [10, 8, 6, 4]\n"
     ]
    }
   ],
   "source": [
    "# срезы в обратном порядке:\n",
    "print(f'{ L       = }')\n",
    "print(f'{ L[10:3:-2] = }') # каждый второй элемент в диапазоне от 10 до 3\n",
    "print(f'{ L[3::-1] = }')   # первые 4 элемента в обратном порядке\n",
    "print(f'{ L[::-1] = }')    # все элементы в обратном порядке\n",
    "print(f'{ L[::-3] = }')    # каждый третий эл. с конца начиная с последнего"
   ]
  },
  {
   "cell_type": "markdown",
   "id": "93245cf8-8436-4700-93bd-466a06fcad49",
   "metadata": {
    "id": "aKmlR4_LKJks"
   },
   "source": [
    "> Пусть матрица `A` задана в виде списка списков. Получить копию строки можно примерно так же, как и для матрицы NumPy: `A[1][:]`, но вот с копией колонки такой номер не пройдет: `A[:][1]` также возрващает копию строки с индексом `1`:"
   ]
  },
  {
   "cell_type": "code",
   "execution_count": null,
   "id": "6d189a72-3caf-4e9e-8c82-499e6582070c",
   "metadata": {
    "colab": {
     "base_uri": "https://localhost:8080/"
    },
    "id": "1ZZneOfm7BRb",
    "outputId": "bd330087-55a9-411b-e1fa-08a964a24ef3"
   },
   "outputs": [
    {
     "name": "stdout",
     "output_type": "stream",
     "text": [
      "  A[1][:]   = [5, 6, 7, 8]\n",
      "  A[:][1]   = [5, 6, 7, 8]\n"
     ]
    }
   ],
   "source": [
    "A = [\n",
    "    [ 1,  2,  3,  4],\n",
    "    [ 5,  6,  7,  8],\n",
    "    [ 9, 10, 11, 12],\n",
    "    [13, 14, 15, 16]\n",
    "]\n",
    "print(f\"{  A[1][:]   = }\")      # копия строки с индексом 1\n",
    "print(f\"{  A[:][1]   = }\")      # копия строки с индексом 1"
   ]
  },
  {
   "cell_type": "markdown",
   "id": "d58a76f1-b276-4029-b870-25dc3d9aa925",
   "metadata": {
    "id": "bRDfmcqhKJkt"
   },
   "source": [
    "### Срезы в NumPy"
   ]
  },
  {
   "cell_type": "code",
   "execution_count": null,
   "id": "0d2416c6-cd74-476e-a698-e618d9866256",
   "metadata": {
    "id": "g9ON9f7gKJkt",
    "outputId": "5910abff-28c8-41a4-d9ef-9802f2238b35"
   },
   "outputs": [
    {
     "name": "stdout",
     "output_type": "stream",
     "text": [
      "  A[1, :]   = array([5, 6, 7, 8])\n",
      "  A[:, 1]   = array([ 2,  6, 10, 14])\n",
      "  A[1, 2:]  = array([7, 8])\n",
      "  A[:2, 1]  = array([2, 6])\n",
      "  A[::2, 1] = array([ 2, 10])\n"
     ]
    }
   ],
   "source": [
    "import numpy as np\n",
    "\n",
    "A = np.array(A)\n",
    "print(f\"{  A[1, :]   = }\")      # строка с индексом 1\n",
    "print(f\"{  A[:, 1]   = }\")      # колонка с индексом 1\n",
    "print(f\"{  A[1, 2:]  = }\")      # строка с индексом 1\n",
    "print(f\"{  A[:2, 1]  = }\")      # колонка с индексом 1\n",
    "print(f\"{  A[::2, 1] = }\")      # колонка с индексом 1"
   ]
  },
  {
   "cell_type": "markdown",
   "id": "d148d2ec-b31d-4978-8c3b-39cbc9db11b2",
   "metadata": {
    "id": "t_ZhPdYW7BRb"
   },
   "source": [
    "## Фильтрация массива по маске"
   ]
  },
  {
   "cell_type": "markdown",
   "id": "c226c8c2-61be-46f3-8c74-41d4ef3a1318",
   "metadata": {
    "id": "fLpB8g8QKJkv"
   },
   "source": [
    "### Создание маски\n",
    "\n",
    "Для массива `b` выражение `b%2==0` возвращает булевый массив, содержащий `True` в тех позициях, где элемент массива `b` является четным, и `False` – где элемент массива `b` является четным."
   ]
  },
  {
   "cell_type": "code",
   "execution_count": null,
   "id": "a87e76a5-02a1-4f87-b6cd-18b4c367a366",
   "metadata": {
    "id": "5m_dNSeD7BRb",
    "outputId": "51e97a4f-1c95-4ba7-e4aa-0180f32e8a0f"
   },
   "outputs": [
    {
     "name": "stdout",
     "output_type": "stream",
     "text": [
      "a = array([0, 1, 2, 3, 4, 5, 6, 7])\n",
      "b = array([84, 32, 43, 86, 70, 23, 62, 22])\n",
      "b_odd = array([ True,  True, False,  True,  True, False,  True,  True])\n",
      "b_odd.dtype = dtype('bool')\n"
     ]
    }
   ],
   "source": [
    "import numpy as np\n",
    "\n",
    "a = np.arange(8)\n",
    "b = np.random.randint(0, 100, 8)\n",
    "\n",
    "b_odd = b%2==0\n",
    "\n",
    "print(f'{a = }')\n",
    "print(f'{b = }')\n",
    "print(f'{b_odd = }')\n",
    "print(f'{b_odd.dtype = }')"
   ]
  },
  {
   "cell_type": "markdown",
   "id": "486ebaa9-c256-40ac-9af4-d93bd5f8f475",
   "metadata": {
    "id": "o82wAl78KJkw"
   },
   "source": [
    "### Наложение маски\n",
    "В данном случае массив `b_odd` той же формы что и массив `a`, можно использовать в качестве фильтрующего массива для `a`, если передать его в квадратные скобки:"
   ]
  },
  {
   "cell_type": "code",
   "execution_count": null,
   "id": "bb131099-cc25-4989-942d-26ca71be47fe",
   "metadata": {
    "id": "YolfjMZQKJkx",
    "outputId": "01c48439-a7cb-4a6b-98fb-a14ecfee9672"
   },
   "outputs": [
    {
     "name": "stdout",
     "output_type": "stream",
     "text": [
      "a_filtered = array([0, 1, 3, 4, 6, 7])\n"
     ]
    }
   ],
   "source": [
    "a_filtered = a[b_odd]\n",
    "print(f'{a_filtered = }')"
   ]
  },
  {
   "cell_type": "code",
   "execution_count": null,
   "id": "369c76fc-56e6-405d-b647-fbcfd63c452e",
   "metadata": {
    "id": "6lCRMKJd7BRb",
    "outputId": "906e63f8-b55c-4bb0-9d9a-2fe1bc9d7c94"
   },
   "outputs": [
    {
     "name": "stdout",
     "output_type": "stream",
     "text": [
      "a_filtered = array([0, 1, 3, 4, 6, 7])\n"
     ]
    }
   ],
   "source": [
    "# можно было бы сразу записать так:\n",
    "a_filtered = a[b%2==0]\n",
    "print(f'{a_filtered = }')"
   ]
  },
  {
   "cell_type": "markdown",
   "id": "58100f01-7324-4f0b-a2c4-46c98c838806",
   "metadata": {
    "id": "ueX06Dy9KJk0"
   },
   "source": [
    "### Получение строк и колонок матрицы по маске"
   ]
  },
  {
   "cell_type": "code",
   "execution_count": null,
   "id": "a324dd25-03fc-4ffe-9c10-3c33cff2f882",
   "metadata": {
    "id": "tXtsLqp-KJk1",
    "outputId": "e27f5ad7-cd83-4ee1-c12f-6fd5b7a1da2e"
   },
   "outputs": [
    {
     "name": "stdout",
     "output_type": "stream",
     "text": [
      "[[4 1 2 1 9 4]\n",
      " [2 4 0 6 8 7]\n",
      " [0 9 9 0 7 1]\n",
      " [0 7 5 2 9 4]\n",
      " [8 7 3 6 4 5]\n",
      " [6 8 4 3 6 6]]\n",
      "\n",
      "[False False False False  True  True]\n"
     ]
    },
    {
     "data": {
      "text/plain": [
       "array([[8, 7, 3, 6, 4, 5],\n",
       "       [6, 8, 4, 3, 6, 6]])"
      ]
     },
     "execution_count": 68,
     "metadata": {},
     "output_type": "execute_result"
    }
   ],
   "source": [
    "import numpy as np\n",
    "\n",
    "X = np.random.randint(0, 10, (6, 6))    # двумерный маcсив\n",
    "mask = X[:, 0] > 5                      # маска по колонке с индексом 0\n",
    "print(f\"{ X }\\n\\n{ mask }\")\n",
    "X[X[:, 0] > 5]                          # получение строк по маске"
   ]
  },
  {
   "cell_type": "code",
   "execution_count": null,
   "id": "36e75e43-92cd-46d5-ad80-2f60fef07292",
   "metadata": {
    "id": "PV74znhJ7BRb",
    "outputId": "f555fc7f-6851-4c15-eaf2-6ffd4a3d945f"
   },
   "outputs": [
    {
     "data": {
      "text/plain": [
       "array([[4, 1, 4],\n",
       "       [2, 4, 7],\n",
       "       [0, 9, 1],\n",
       "       [0, 7, 4],\n",
       "       [8, 7, 5],\n",
       "       [6, 8, 6]])"
      ]
     },
     "execution_count": 70,
     "metadata": {},
     "output_type": "execute_result"
    }
   ],
   "source": [
    "obj = np.array([2, 4, 6, 8, 5, 3])\n",
    "X[:, (5 > obj)]                         # получение колонок по маске"
   ]
  },
  {
   "cell_type": "markdown",
   "id": "95c19f76-9763-41bc-94e6-507f9d3401e6",
   "metadata": {
    "id": "2g1tY2OZKJk4"
   },
   "source": [
    "## Fancy Indexing\n",
    "\n",
    "В NumPy вы можете использовать список индексов в квадратных скобках для выбора элементов из массива."
   ]
  },
  {
   "cell_type": "code",
   "execution_count": null,
   "id": "c24f4ca4-16cf-4344-9efb-61abe6337647",
   "metadata": {
    "id": "5Kzz8Xf97BRc",
    "outputId": "ea673c6f-da56-45b5-9a62-f8ad7e9486c7"
   },
   "outputs": [
    {
     "data": {
      "text/plain": [
       "array([1.1, 4.4, 3.3, 4.4, 5.5])"
      ]
     },
     "execution_count": 87,
     "metadata": {},
     "output_type": "execute_result"
    }
   ],
   "source": [
    "import numpy as np\n",
    "\n",
    "tags = np.array([0.0, 1.1, 2.2, 3.3, 4.4, 5.5])\n",
    "tags[[1, 4, 3, 4, -1]]"
   ]
  },
  {
   "cell_type": "markdown",
   "id": "2f8cd848-2ee5-48d8-b6bd-f77fa431b408",
   "metadata": {
    "id": "RbJeyuFoKJk5"
   },
   "source": [
    "Для многомерных массивов:"
   ]
  },
  {
   "cell_type": "code",
   "execution_count": null,
   "id": "5b11955a-3a9e-4556-94d5-3f7739f04f15",
   "metadata": {
    "id": "KpQw1T4vKJk5",
    "outputId": "df68a3b7-263f-41b0-c419-e9c00465f752"
   },
   "outputs": [
    {
     "name": "stdout",
     "output_type": "stream",
     "text": [
      "[[5 8 6]\n",
      " [6 5 0]\n",
      " [8 8 2]]\n"
     ]
    },
    {
     "data": {
      "text/plain": [
       "array([6, 0])"
      ]
     },
     "execution_count": 92,
     "metadata": {},
     "output_type": "execute_result"
    }
   ],
   "source": [
    "X = np.random.randint(0, 10, (3, 3))    # двумерный маcсив\n",
    "print(X)\n",
    "X[[0, 1], [2, 2]]"
   ]
  },
  {
   "cell_type": "markdown",
   "id": "00a4e70f-7d5b-4893-b973-e84d494270f2",
   "metadata": {
    "id": "0hP5uRcx7BRc"
   },
   "source": [
    "## Распаковка, операторы `*` и `**`"
   ]
  },
  {
   "cell_type": "markdown",
   "id": "6b34d76b-264f-48cb-8a50-d9d47c1bc578",
   "metadata": {
    "id": "tk5rMRHb06QM"
   },
   "source": [
    "### Распаковка последовательностей\n",
    "Синтаксис **распоковок** (*unpacking*) одинаков для всех любых итерируемых объектов: `list`, `str`, `tuple`, `ndarray` и тд.\n",
    "\n",
    "Распаковка при **параллельном присваивании** (*parallel assignment*), т.е. присваивание элементов итерируемого объекта кортежу переменных:"
   ]
  },
  {
   "cell_type": "code",
   "execution_count": null,
   "id": "2ce148e3-c125-45fa-abaf-3b179fae5165",
   "metadata": {
    "id": "u9LHMPou7BRc",
    "outputId": "d9daff18-9e10-4ae8-d908-5a27c703dda4"
   },
   "outputs": [
    {
     "name": "stdout",
     "output_type": "stream",
     "text": [
      "t e x t\n"
     ]
    }
   ],
   "source": [
    "a, b, c, d = 'text'         # распаковка\n",
    "print(a, b, c, d)"
   ]
  },
  {
   "cell_type": "markdown",
   "id": "aba11f0e-9366-4680-8159-dfd7f98b889a",
   "metadata": {
    "id": "aBdtjh77ZbTU"
   },
   "source": [
    "Распаковка кортежей в цикле, которые являются элементами списка. Кортежи сами содержат вложенные кортежи, но если выражение соответствует структуре вложенности, Python правильно заполнит переменные:"
   ]
  },
  {
   "cell_type": "code",
   "execution_count": null,
   "id": "b4202168-8fb7-40d1-98b6-187d4e07f9a0",
   "metadata": {
    "id": "vDIR0lYoZbTV",
    "outputId": "4318468c-f693-4acc-e321-b2fb956c9c6a"
   },
   "outputs": [
    {
     "name": "stdout",
     "output_type": "stream",
     "text": [
      "[(0, 0, (0, 0)), (0, -1, (0, 1)), (-1, 0, (1, 0)), (-1, -1, (1, 1))]\n",
      "0 0 0 0\n",
      "0 -1 0 1\n",
      "-1 0 1 0\n",
      "-1 -1 1 1\n"
     ]
    }
   ],
   "source": [
    "L = [(-i, -j, (i, j)) for i in range(2) for j in range(2)]\n",
    "print(L)\n",
    "\n",
    "for k, p, (i, j) in L:\n",
    "    print(k, p, i, j)"
   ]
  },
  {
   "cell_type": "markdown",
   "id": "a9e66f45-fc23-4e8b-8387-088334bee06c",
   "metadata": {
    "id": "rAjOBqqvZbTV"
   },
   "source": [
    "Распаковка последовательности при передаче в качестве аргумента при вызове функции:"
   ]
  },
  {
   "cell_type": "code",
   "execution_count": null,
   "id": "fa8967ee-803a-41f3-a9c7-f8a1f429eb25",
   "metadata": {
    "id": "aeTfvNsnZbTW",
    "outputId": "561cc14d-782f-449f-e5df-15605467ea93"
   },
   "outputs": [
    {
     "data": {
      "text/plain": [
       "(2, 4)"
      ]
     },
     "execution_count": 137,
     "metadata": {},
     "output_type": "execute_result"
    }
   ],
   "source": [
    "t = [20, 8]\n",
    "a, b = divmod(*t)\n",
    "a, b"
   ]
  },
  {
   "cell_type": "markdown",
   "id": "56cfc16c-bcb3-49a8-a87f-8163f9ee7ae6",
   "metadata": {
    "id": "MEcUDcS8ZbTW"
   },
   "source": [
    "## Распаковка словарей\n",
    "\n",
    "Избыток аргументов функции может быть запакован в `**kwargs`. Но также можно распаковать словарь при передаче его в функцию в качестве аргумента, используя оператор `**`."
   ]
  },
  {
   "cell_type": "code",
   "execution_count": null,
   "id": "d2a6df19-2c4d-4eaf-89be-ad6368d5216f",
   "metadata": {
    "id": "iswOOHLeZbTW",
    "outputId": "a819469f-5c4d-4b78-b709-e5710807261d"
   },
   "outputs": [
    {
     "name": "stdout",
     "output_type": "stream",
     "text": [
      "24\n"
     ]
    }
   ],
   "source": [
    "def f(a, b, c):\n",
    "    print(a * b * c)\n",
    "\n",
    "d = {\"c\": 3, \"b\": 2}\n",
    "\n",
    "f(4, **d)"
   ]
  },
  {
   "cell_type": "code",
   "execution_count": null,
   "id": "3354629e-d98c-4677-a299-9f68ef89b96b",
   "metadata": {
    "id": "aGwQ0w4VZbTX",
    "outputId": "be06939f-7c27-42ef-e98b-0abfd5f745c9"
   },
   "outputs": [
    {
     "name": "stdout",
     "output_type": "stream",
     "text": [
      "c 3\n",
      "b 2\n"
     ]
    }
   ],
   "source": [
    "def f(**kwargs):\n",
    "    for key, value in kwargs.items():\n",
    "        print(key, value)\n",
    "\n",
    "d = {\"c\": 3, \"b\": 2}\n",
    "f(**d)"
   ]
  },
  {
   "cell_type": "markdown",
   "id": "60f8a2e3-790b-41ec-812d-23fc2a64ffb2",
   "metadata": {
    "id": "Mnw78WrSZbTX"
   },
   "source": [
    "> Распаковка словаря при помощи оператора `*` приведет к тому, что распаконы будут только ключи"
   ]
  },
  {
   "cell_type": "code",
   "execution_count": null,
   "id": "5e8e5bd0-98ff-4607-a412-35d17594f3db",
   "metadata": {
    "id": "BoO1R4GsZbTX",
    "outputId": "8ca926f9-5960-41b7-81b7-fe5dbc2b705b"
   },
   "outputs": [
    {
     "name": "stdout",
     "output_type": "stream",
     "text": [
      "c b\n"
     ]
    }
   ],
   "source": [
    "d = {\"c\": 3, \"b\": 2}\n",
    "print(*d)"
   ]
  },
  {
   "cell_type": "markdown",
   "id": "afdf0d56-061c-4df3-b26a-123425e72faa",
   "metadata": {
    "id": "Ar3OwZPsZbTX"
   },
   "source": [
    "## Упаковка\n",
    "\n",
    "При параллельном присваивании число переменных должно соответствовать длине последовательности. Однако аналогично тому, как в функциях избыток аргументов запаковывается в `*args`, при параллельном присваивании также есть возможность извлечь из последовательности некоторые элементы в переменные, а остальное запаковать в список. Для этого используется оператор `*` перед одной из переменных, которой и будет присвоен этот список. Перменная с `*` может занимать любую позицию:"
   ]
  },
  {
   "cell_type": "code",
   "execution_count": null,
   "id": "7be6432d-21b5-43e8-8cb6-24b1b5837a45",
   "metadata": {
    "id": "RwckDVU9ZbTY",
    "outputId": "67120ce4-41b0-4956-92e3-d20d4dbb9fc9"
   },
   "outputs": [
    {
     "name": "stdout",
     "output_type": "stream",
     "text": [
      "['t', 'e', 'x'] t\n",
      "t ['e', 'x'] t\n",
      "t e x t []\n"
     ]
    }
   ],
   "source": [
    "*a, b = 'text'\n",
    "print(a, b)\n",
    "\n",
    "a, *b, c = 'text'\n",
    "print(a, b, c)\n",
    "\n",
    "a, b, c, d, *e = 'text'\n",
    "print(a, b, c, d, e)"
   ]
  }
 ],
 "metadata": {
  "kernelspec": {
   "display_name": "Python 3 (ipykernel)",
   "language": "python",
   "name": "python3"
  },
  "language_info": {
   "codemirror_mode": {
    "name": "ipython",
    "version": 3
   },
   "file_extension": ".py",
   "mimetype": "text/x-python",
   "name": "python",
   "nbconvert_exporter": "python",
   "pygments_lexer": "ipython3",
   "version": "3.10.10"
  }
 },
 "nbformat": 4,
 "nbformat_minor": 5
}
