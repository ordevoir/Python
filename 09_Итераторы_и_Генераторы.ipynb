{
  "cells": [
    {
      "cell_type": "markdown",
      "id": "6d350a46-a044-4330-8bcf-846e331e88cc",
      "metadata": {
        "id": "6d350a46-a044-4330-8bcf-846e331e88cc"
      },
      "source": [
        "# Итераторы"
      ]
    },
    {
      "cell_type": "markdown",
      "id": "bd006a78-52be-4848-9769-371b6428b398",
      "metadata": {
        "id": "bd006a78-52be-4848-9769-371b6428b398"
      },
      "source": [
        "Если просматривается набор данных, не помещающийся целиком в память, то нужен способ выполнять ее отложенно, т.е. по одному элементу и по запросу. Именно в этом смысл паттерна **Итератор**.\n",
        "\n",
        "**Итератором** является любой объект, в котором реализован метод `__next__()`, т.е. объект, с которым может работать функция `next()`.\n",
        "\n",
        "Объект явяется **итерируемым** если выполняется хотя бы одно из условий:\n",
        "- он является физически последовательностью, и потому в нем реализован метод `__getitem__()` (который принимает индексы, начинающиеся с нуля) на основе которого из объекта можно сделать итератор;\n",
        "- в нем реализован метод `__iter__()`, который возвращает итератор;\n",
        "- в нем реализован метод `__next__()`, т.е. объект уже является итератором.\n",
        "\n",
        "Для того, чтобы выяснить, является ли объект *итератором*, можно импортировать класс `Iterator` и проверить, является ли объект экземпляром этого класса:"
      ]
    },
    {
      "cell_type": "code",
      "execution_count": null,
      "id": "03685ec6-6142-403a-baaf-96e5ee765b87",
      "metadata": {
        "colab": {
          "base_uri": "https://localhost:8080/"
        },
        "id": "03685ec6-6142-403a-baaf-96e5ee765b87",
        "outputId": "b9418014-b24d-4dad-d16a-470027adc8b2"
      },
      "outputs": [
        {
          "data": {
            "text/plain": [
              "False"
            ]
          },
          "execution_count": 73,
          "metadata": {},
          "output_type": "execute_result"
        }
      ],
      "source": [
        "from collections.abc import Iterator\n",
        "L = [1, 2, 3]\n",
        "isinstance(L, Iterator)"
      ]
    },
    {
      "cell_type": "markdown",
      "id": "cbacddba-a1e6-4d0c-bb04-4c0830195b02",
      "metadata": {
        "id": "cbacddba-a1e6-4d0c-bb04-4c0830195b02"
      },
      "source": [
        "> Проверить, является ли объект `x` *итерируемым*, можно вызвав функцию `iter()`, и перехватив исключение `TypeError`, если оно возникает. Это надежнее, чем использование `isinstance(x, Iterable)` (как то делалось выше для проверки, является ли объект итератором), так как в этом случае фактически проверяется реализован ли в объекте метод `__iter__()`. В общем случае, объект может быть итерируемым и без метода `__iter__()`."
      ]
    },
    {
      "cell_type": "markdown",
      "id": "741e7627-0caf-4c4e-8d4e-09b956d2fc56",
      "metadata": {
        "id": "741e7627-0caf-4c4e-8d4e-09b956d2fc56"
      },
      "source": [
        "### `iter()`\n",
        "\n",
        "Из итерируемого объекта всегда можно получить итератор при помощи встроенной функции `iter()`. Функция выполняет следующие действия:\n",
        "1. Проверяется, реализует ли объект метод `__iter__()`, и, если да, вызывает его, чтобы получить итератор.\n",
        "1. Если метод `__iter__()` не реализован, но реализован метод `__getitem__()`, то Python создает итератор, который пытается извлекать элементы по порядку, начиная с индекса `0`.\n",
        "1. Если и это не получается, то возбуждается исключение – обычно с сообщением `object is not iterable`.\n",
        "\n",
        "Создадим итератор из списка. Так как в классе `list` определен метод `__iter__()`, функция `iter()` вызовет этот метод и вернет итератор (объект класса `list_iterator`), возращаемый методом."
      ]
    },
    {
      "cell_type": "code",
      "execution_count": null,
      "id": "2052d65e-c3a7-45df-9bbf-569c2e7eeeb0",
      "metadata": {
        "colab": {
          "base_uri": "https://localhost:8080/"
        },
        "id": "2052d65e-c3a7-45df-9bbf-569c2e7eeeb0",
        "outputId": "079eda18-0c43-4af6-a738-73d4aba60f16"
      },
      "outputs": [
        {
          "data": {
            "text/plain": [
              "list_iterator"
            ]
          },
          "execution_count": 81,
          "metadata": {},
          "output_type": "execute_result"
        }
      ],
      "source": [
        "L = [i for i in range(10)]\n",
        "\n",
        "L_iterator = iter(L)\n",
        "type(L_iterator)"
      ]
    },
    {
      "cell_type": "code",
      "execution_count": null,
      "id": "0b3f97dd-3135-4a31-9d65-c567b926eb77",
      "metadata": {
        "colab": {
          "base_uri": "https://localhost:8080/"
        },
        "id": "0b3f97dd-3135-4a31-9d65-c567b926eb77",
        "outputId": "b120db22-e573-4173-a1b7-a6c91586044a"
      },
      "outputs": [
        {
          "data": {
            "text/plain": [
              "<list_iterator at 0x7ffac8cd5630>"
            ]
          },
          "execution_count": 64,
          "metadata": {},
          "output_type": "execute_result"
        }
      ],
      "source": [
        "L.__iter__()    # непосредственный вызов метода"
      ]
    },
    {
      "cell_type": "markdown",
      "id": "86b4b0f8-e97b-4a6e-8f2d-67131341843c",
      "metadata": {
        "id": "86b4b0f8-e97b-4a6e-8f2d-67131341843c"
      },
      "source": [
        "При использовании цикла `for`, в котором перебираются элементы последовательности, за кулисами создается итератор, т.е. последовательность оборачивается в функцию `iter()`, а перебор происходит вызовом функции `next()`.\n",
        "\n",
        "Применение функции к итератору, возвращается сам итератор, так как в итераторах метод `__iter__()` возвращает просто `self` (таким образом итератор является итерируемым объетом). Поэтому при использовании итератора в цикле `for` оборачивание итератора в функцию `iter()` ничего не меняет:"
      ]
    },
    {
      "cell_type": "code",
      "execution_count": null,
      "id": "1b1ab9d7-bba8-4628-b715-1bf5b89e4db1",
      "metadata": {
        "colab": {
          "base_uri": "https://localhost:8080/"
        },
        "id": "1b1ab9d7-bba8-4628-b715-1bf5b89e4db1",
        "outputId": "3594065d-e4d1-460a-9561-00a093dd185f"
      },
      "outputs": [
        {
          "data": {
            "text/plain": [
              "True"
            ]
          },
          "execution_count": 83,
          "metadata": {},
          "output_type": "execute_result"
        }
      ],
      "source": [
        "iter(L_iterator) is L_iterator"
      ]
    },
    {
      "cell_type": "code",
      "execution_count": null,
      "id": "45863c4b-d71c-4897-86e0-e3267a7a70d5",
      "metadata": {
        "colab": {
          "base_uri": "https://localhost:8080/"
        },
        "id": "45863c4b-d71c-4897-86e0-e3267a7a70d5",
        "outputId": "e28e54f3-28cf-4fcf-cda8-ac5601e3ab50"
      },
      "outputs": [
        {
          "name": "stdout",
          "output_type": "stream",
          "text": [
            "0 1 2 3 4 5 6 7 8 9 "
          ]
        }
      ],
      "source": [
        "for item in L_iterator:\n",
        "    print(item, end=' ')"
      ]
    },
    {
      "cell_type": "markdown",
      "id": "980f9672-e7dd-41ec-ab73-557a6bc43841",
      "metadata": {
        "id": "980f9672-e7dd-41ec-ab73-557a6bc43841"
      },
      "source": [
        "### `next()`\n",
        "Функция `next()` вызывает метод `__next__()` итератора, который возвращает следующий элемент. Если в функцию будет передан не итератор, возникнет исключение `TypeError`. Если элементы итератора исчерпались, возбуждается исключение `StopIteration`."
      ]
    },
    {
      "cell_type": "code",
      "execution_count": null,
      "id": "3e62eca5-19a7-4a0e-b850-247e978a09e2",
      "metadata": {
        "id": "3e62eca5-19a7-4a0e-b850-247e978a09e2"
      },
      "outputs": [],
      "source": [
        "L_iterator = iter([i for i in range(10)])"
      ]
    },
    {
      "cell_type": "code",
      "execution_count": null,
      "id": "81a6ff14-c8f4-4268-81d2-6b7e5ac5f94f",
      "metadata": {
        "colab": {
          "base_uri": "https://localhost:8080/"
        },
        "id": "81a6ff14-c8f4-4268-81d2-6b7e5ac5f94f",
        "outputId": "4e475efd-6b05-4660-be87-388cba021bf8"
      },
      "outputs": [
        {
          "name": "stdout",
          "output_type": "stream",
          "text": [
            "0 1 2 3 4 5 6 7 8 9 \n",
            "end\n"
          ]
        }
      ],
      "source": [
        "try:\n",
        "    while True:\n",
        "        item = next(L_iterator)\n",
        "        print(item, end=\" \")\n",
        "except StopIteration:\n",
        "    print('\\nend')\n"
      ]
    },
    {
      "cell_type": "markdown",
      "id": "85d8cd01-c542-43e0-a82a-9a63db74a9a5",
      "metadata": {
        "id": "85d8cd01-c542-43e0-a82a-9a63db74a9a5"
      },
      "source": [
        "### Итератор из словаря\n",
        "\n",
        "Если в качестве аргумента передать в `iter()` словарь, то будет возвращен итератор, содержащий ключи словаря:"
      ]
    },
    {
      "cell_type": "code",
      "execution_count": null,
      "id": "b3e6907d-50eb-4a41-851b-021e00b7631d",
      "metadata": {
        "colab": {
          "base_uri": "https://localhost:8080/"
        },
        "id": "b3e6907d-50eb-4a41-851b-021e00b7631d",
        "outputId": "194d2171-cd8f-409d-baac-c77c10e94db8"
      },
      "outputs": [
        {
          "name": "stdout",
          "output_type": "stream",
          "text": [
            " next(iDict) = 'a'\n"
          ]
        }
      ],
      "source": [
        "d = {'a': 12, 'b': 13, 'c': 14}\n",
        "iDict = iter(d)\n",
        "print(f'{ next(iDict) = }')"
      ]
    },
    {
      "cell_type": "markdown",
      "id": "11b0987f-f7aa-4c1b-8126-bde60158f723",
      "metadata": {
        "id": "11b0987f-f7aa-4c1b-8126-bde60158f723"
      },
      "source": [
        "Для того, чтобы итератор содержал пары (ключ, значение), необходимо передать в функцию `iter()` не сам словарь, а объект класса `dict_items`, возвращаемый методом `items()`:"
      ]
    },
    {
      "cell_type": "code",
      "execution_count": null,
      "id": "42bef190-84be-4df7-92ef-c5ac02a521c3",
      "metadata": {
        "colab": {
          "base_uri": "https://localhost:8080/"
        },
        "id": "42bef190-84be-4df7-92ef-c5ac02a521c3",
        "outputId": "fb13e5ce-2c03-45b9-f12b-4b410629c7ce"
      },
      "outputs": [
        {
          "name": "stdout",
          "output_type": "stream",
          "text": [
            " next(iDict) = ('a', 12)\n"
          ]
        }
      ],
      "source": [
        "d = {'a': 12, 'b': 13, 'c': 14}\n",
        "iDict = iter(d.items())\n",
        "print(f'{ next(iDict) = }')"
      ]
    },
    {
      "cell_type": "markdown",
      "id": "5ea2ca3d-5066-4c26-9125-99ff68890bf1",
      "metadata": {
        "id": "5ea2ca3d-5066-4c26-9125-99ff68890bf1"
      },
      "source": [
        "### Сброс итератора\n",
        "\n",
        "Поскольку от итератора требуются только методы `__next__()` и `__iter__()`, не существует другого способа узнать, остались ли еще элементы, как только вызвать `next()` и перехватить исключение `StopInteration`.\n",
        "\n",
        "Сбросить итератор тоже невозможно. Чтобы начать обход сначала, нужно вызвать функцию `iter()` для *итерируемого* объекта и получить от нее новый итератор. Вызов `iter()` для самого итератора не поможет, поскольку, метод `__iter__()` итератора возвращает `self`, так что таким способом исчерпанный итератор не восстановить."
      ]
    },
    {
      "cell_type": "markdown",
      "id": "02edc001-9512-4000-9135-00de980de8c7",
      "metadata": {
        "id": "02edc001-9512-4000-9135-00de980de8c7"
      },
      "source": [
        "### Конвертация в `list`\n",
        "\n",
        "При конвертации в список итератор опустошается, а в список попадают оставшиеся элементы итератора."
      ]
    },
    {
      "cell_type": "code",
      "execution_count": null,
      "id": "cf342389-6394-472e-b06b-da761c9938aa",
      "metadata": {
        "colab": {
          "base_uri": "https://localhost:8080/"
        },
        "id": "cf342389-6394-472e-b06b-da761c9938aa",
        "outputId": "ce2dafcd-33e3-453d-caa0-7676ba5f8a54"
      },
      "outputs": [
        {
          "name": "stdout",
          "output_type": "stream",
          "text": [
            "d = ['a', 'b', 'c', 'd'], e = []\n"
          ]
        }
      ],
      "source": [
        "c = iter(['a', 'b', 'c', 'd'])  # итератор\n",
        "d = list(c)\n",
        "e = list(c)\n",
        "print(f\"{d = }, {e = }\")\n"
      ]
    },
    {
      "cell_type": "markdown",
      "id": "ac402836-48e5-4c1c-8c81-fccb1f16f24a",
      "metadata": {
        "id": "ac402836-48e5-4c1c-8c81-fccb1f16f24a"
      },
      "source": [
        "### Определение метода `__iter__()` при создании класса\n",
        "\n",
        "Итерируемый объект никогда не должен выступать в роли итератора для себя самого. Иными словами, итерируемые объекты должны реализовывать метод `__iter__()`, но не `__next__()`. С другой стороны, итераторы для удобства должны быть итерируемыми объектами. Просто метод `__iter__()` должен возвращать `self`. Такой подход позволяет создавать на основе одного итерируемого объекта несколько независимых итераторов для нескольких активных обходов. Создание классов, объекты которых являются одновременно итерируемыми и итераторами над самими собой является типичным антипаттероном.\n",
        "\n",
        "Пример создания итерируемого класса с методом `__iter__()` в книге Рамальо на страницах 443, 447 и 448."
      ]
    },
    {
      "cell_type": "markdown",
      "id": "ac62cccf-0e1d-4993-8f69-c6767800634f",
      "metadata": {
        "id": "ac62cccf-0e1d-4993-8f69-c6767800634f"
      },
      "source": [
        "### `zip()`\n",
        "Функция `zip()` (замок, молния) позволяет из двух и более последовательностей создать итератор состоящий из кортежей, содержащих соответствующие по индексам элементы последовательностей.\n",
        "\n",
        "> Вместо последовательностей в общем случае можно использовать множества и словари. При использовании словарей элементами, которые попадут в кортежи, будут ключи. Следует однако иметь в виду, что при использовании множеств и словарей последовательность элементов может оказаться непредсказуемой."
      ]
    },
    {
      "cell_type": "code",
      "execution_count": null,
      "id": "4e04a1b6-dada-4ea3-a4ef-7c9d99eabd06",
      "metadata": {
        "colab": {
          "base_uri": "https://localhost:8080/"
        },
        "id": "4e04a1b6-dada-4ea3-a4ef-7c9d99eabd06",
        "outputId": "77adba31-0b0f-4a78-9503-a3d0a1ff6857"
      },
      "outputs": [
        {
          "data": {
            "text/plain": [
              "zip"
            ]
          },
          "execution_count": 158,
          "metadata": {},
          "output_type": "execute_result"
        }
      ],
      "source": [
        "s = 'abcd'\n",
        "t = (0, 1, 2, 3, 4, 5)\n",
        "m = {12, 32, 34, 45, 56}\n",
        "# m = {'x': 10, 'y': 30, 'z': 40, 'w': 50}\n",
        "\n",
        "a = zip(s, t, m)    # создается итератор\n",
        "type(a)"
      ]
    },
    {
      "cell_type": "code",
      "execution_count": null,
      "id": "81a1c2d7-ca64-4b5d-bc1c-54b392566dda",
      "metadata": {
        "colab": {
          "base_uri": "https://localhost:8080/"
        },
        "id": "81a1c2d7-ca64-4b5d-bc1c-54b392566dda",
        "outputId": "de21256c-869e-449f-cb48-a62bb9f4a976"
      },
      "outputs": [
        {
          "data": {
            "text/plain": [
              "('a', 0, 32)"
            ]
          },
          "execution_count": 159,
          "metadata": {},
          "output_type": "execute_result"
        }
      ],
      "source": [
        "next(a)      # извлечение очередного элемента"
      ]
    },
    {
      "cell_type": "code",
      "execution_count": null,
      "id": "024091e3-af69-4a48-ab64-9232445ddfd2",
      "metadata": {
        "id": "024091e3-af69-4a48-ab64-9232445ddfd2"
      },
      "outputs": [],
      "source": [
        "for i, j, k in a:      # извлечение оставшихся элементов в цикле\n",
        "    print(i, j, k)"
      ]
    },
    {
      "cell_type": "markdown",
      "id": "e7efcf3b-f4f7-4fbb-95b3-2e7f78370a82",
      "metadata": {
        "id": "e7efcf3b-f4f7-4fbb-95b3-2e7f78370a82"
      },
      "source": [
        "> В python 3.10 функция `zip` может принимать необязательный логический параметр `strict`, который позволяет проверять равенство длин последовательностей, если `strict=True`, то возникнет ошибка `ValueError`, в случае, если одна последовательность короче другой"
      ]
    },
    {
      "cell_type": "markdown",
      "id": "554e5d6c-8263-4d3f-9bfe-a5cc9b78d364",
      "metadata": {
        "id": "554e5d6c-8263-4d3f-9bfe-a5cc9b78d364"
      },
      "source": [
        "С использованием функции `zip()` можно создать из двух последовательностей словарь, или добавить новые значения в уже существующий:"
      ]
    },
    {
      "cell_type": "code",
      "execution_count": null,
      "id": "95b3cd68-ee6f-4ac3-8123-ae416a9a1cdc",
      "metadata": {
        "colab": {
          "base_uri": "https://localhost:8080/"
        },
        "id": "95b3cd68-ee6f-4ac3-8123-ae416a9a1cdc",
        "outputId": "1d6f6b07-cb05-45d5-85c2-e54dbc88071a"
      },
      "outputs": [
        {
          "name": "stdout",
          "output_type": "stream",
          "text": [
            "{'a': 0, 'b': 1, 'c': 2, 'd': 3}\n"
          ]
        }
      ],
      "source": [
        "s = 'abcd'\n",
        "t = [0, 1, 2, 3, 4, 5]\n",
        "\n",
        "dictionary = dict(zip(s, t))    # создается словарь\n",
        "print(dictionary)"
      ]
    },
    {
      "cell_type": "code",
      "execution_count": null,
      "id": "76276962-0e03-4ce9-b3a4-70a05cff754a",
      "metadata": {
        "colab": {
          "base_uri": "https://localhost:8080/"
        },
        "id": "76276962-0e03-4ce9-b3a4-70a05cff754a",
        "outputId": "e3f6123d-f306-49de-f264-3cc245b88443"
      },
      "outputs": [
        {
          "name": "stdout",
          "output_type": "stream",
          "text": [
            "{'a': 1, 'b': 2, 'c': 3, 'd': 4}\n"
          ]
        }
      ],
      "source": [
        "t = [i+1 for i in t]\n",
        "dictionary.update(zip(s, t))    # словарь обновляется\n",
        "print(dictionary)"
      ]
    },
    {
      "cell_type": "markdown",
      "id": "1c7dedd8",
      "metadata": {},
      "source": [
        "Наряду с тем, что можно разбить $n$ последовательностей длины $m$ на кортежи по $n$ элементов, функция `zip()` позволяет произвести обратную операцию: из полседовательности $m$ котрежей, содержащих по $n$ элементов, получить $n$ последовательностей длины $m$. Произведем как прямую, так и обратную операции:"
      ]
    },
    {
      "cell_type": "code",
      "execution_count": 7,
      "id": "17c440d2",
      "metadata": {},
      "outputs": [
        {
          "data": {
            "text/plain": [
              "((0, 10, 20),\n",
              " (1, 11, 21),\n",
              " (2, 12, 22),\n",
              " (3, 13, 23),\n",
              " (4, 14, 24),\n",
              " (5, 15, 25),\n",
              " (6, 16, 26),\n",
              " (7, 17, 27),\n",
              " (8, 18, 28),\n",
              " (9, 19, 29))"
            ]
          },
          "execution_count": 7,
          "metadata": {},
          "output_type": "execute_result"
        }
      ],
      "source": [
        "m = 10\n",
        "a = tuple(range(m))\n",
        "b = tuple(range(m, 2*m))\n",
        "c = tuple(range(2*m, 3*m))\n",
        "t = tuple(zip(a, b, c))\n",
        "t"
      ]
    },
    {
      "cell_type": "markdown",
      "id": "0bd1e80b",
      "metadata": {},
      "source": [
        "Фактически, мы просто распаковываем кортеж `t`, и передаем таким образом в `zip()` $m$ последовательностей: "
      ]
    },
    {
      "cell_type": "code",
      "execution_count": 6,
      "id": "118206bb",
      "metadata": {},
      "outputs": [
        {
          "data": {
            "text/plain": [
              "((0, 1, 2, 3, 4, 5, 6, 7, 8, 9),\n",
              " (10, 11, 12, 13, 14, 15, 16, 17, 18, 19),\n",
              " (20, 21, 22, 23, 24, 25, 26, 27, 28, 29))"
            ]
          },
          "execution_count": 6,
          "metadata": {},
          "output_type": "execute_result"
        }
      ],
      "source": [
        "a, b, c = zip(*t)\n",
        "a, b, c"
      ]
    },
    {
      "cell_type": "markdown",
      "id": "62556a84-d81e-4618-b33d-8200089f13cc",
      "metadata": {
        "id": "62556a84-d81e-4618-b33d-8200089f13cc"
      },
      "source": [
        "### `enumerate()`\n",
        "\n",
        "Функция `enumerate()` создает из итерируемого объекта итератор, который содержит кортежи пар (индекс, значение), а для словаря (индекс, ключ)."
      ]
    },
    {
      "cell_type": "code",
      "execution_count": null,
      "id": "657246c4-25c2-4564-b35b-346d63df924e",
      "metadata": {
        "colab": {
          "base_uri": "https://localhost:8080/"
        },
        "id": "657246c4-25c2-4564-b35b-346d63df924e",
        "outputId": "f5297457-95f0-4a7f-bc75-bc74ebe92468"
      },
      "outputs": [
        {
          "name": "stdout",
          "output_type": "stream",
          "text": [
            "0 a\n",
            "1 b\n",
            "2 c\n",
            "3 d\n"
          ]
        }
      ],
      "source": [
        "b = ['a', 'b', 'c', 'd']\n",
        "for i, v in enumerate(b):\n",
        "    print(i, v)"
      ]
    },
    {
      "cell_type": "code",
      "execution_count": null,
      "id": "7e6f6244-6279-418f-bf06-6ebde7a65829",
      "metadata": {
        "colab": {
          "base_uri": "https://localhost:8080/"
        },
        "id": "7e6f6244-6279-418f-bf06-6ebde7a65829",
        "outputId": "7824f69c-5c2a-4c5c-f595-4b400256d242"
      },
      "outputs": [
        {
          "name": "stdout",
          "output_type": "stream",
          "text": [
            " = index = 0, key = 'x', value = 23\n",
            " = index = 1, key = 'y', value = 24\n",
            " = index = 2, key = 'z', value = 25\n"
          ]
        }
      ],
      "source": [
        "b = {'x': 23, 'y': 24, 'z': 25}\n",
        "for index, key in enumerate(b):\n",
        "    value = b[key]\n",
        "    print(f\" = {index = }, {key = }, {value = }\")"
      ]
    },
    {
      "cell_type": "markdown",
      "id": "9c11ccc3-bc9f-4068-9ca9-66bc34b2f82d",
      "metadata": {
        "id": "9c11ccc3-bc9f-4068-9ca9-66bc34b2f82d"
      },
      "source": [
        "# Генераторы-выражения (genexp)\n",
        "\n",
        "**Генераторы-выражения** (*generator expressions*) синтаксически похожи на генераторы списков, но с круглыми скобками `()`, а не с квадратными. Выражения возвращают объекты класса `generator`, поведение которого очень похоже на поведение итераторов. Принципиальное отличие заключается в том, что в отличие от итератора, который уже содержит в себе все значения последовательности, генераторы вычисляют каждое очередное значение при вызове функции `next()`. Аналогично итераторам, при исчерпании последовательности генератор при вызове функции `next()` возбуждает исключение `StopIteration`."
      ]
    },
    {
      "cell_type": "code",
      "execution_count": null,
      "id": "162ffa88-fc36-4404-9be3-26991376ded8",
      "metadata": {
        "colab": {
          "base_uri": "https://localhost:8080/"
        },
        "id": "162ffa88-fc36-4404-9be3-26991376ded8",
        "outputId": "34f6489c-36bf-4aee-d873-194042518425"
      },
      "outputs": [
        {
          "data": {
            "text/plain": [
              "generator"
            ]
          },
          "execution_count": 201,
          "metadata": {},
          "output_type": "execute_result"
        }
      ],
      "source": [
        "g = ((x, x**2) for x in range(5))\n",
        "type(g)"
      ]
    },
    {
      "cell_type": "code",
      "execution_count": null,
      "id": "ebfe7dfd-c454-4a85-82b5-fcae138e2af6",
      "metadata": {
        "colab": {
          "base_uri": "https://localhost:8080/"
        },
        "id": "ebfe7dfd-c454-4a85-82b5-fcae138e2af6",
        "outputId": "718a2fb8-d572-4219-d875-c9036f203baa"
      },
      "outputs": [
        {
          "data": {
            "text/plain": [
              "(1, 1)"
            ]
          },
          "execution_count": 202,
          "metadata": {},
          "output_type": "execute_result"
        }
      ],
      "source": [
        "next(g)\n",
        "next(g)"
      ]
    },
    {
      "cell_type": "code",
      "execution_count": null,
      "id": "67d7c454-85fd-41d2-9d3f-779b1cf5718b",
      "metadata": {
        "colab": {
          "base_uri": "https://localhost:8080/"
        },
        "id": "67d7c454-85fd-41d2-9d3f-779b1cf5718b",
        "outputId": "5c436e1c-2c0c-47a9-88bc-3f7d690247ee"
      },
      "outputs": [
        {
          "name": "stdout",
          "output_type": "stream",
          "text": [
            "2 4\n",
            "3 9\n",
            "4 16\n"
          ]
        }
      ],
      "source": [
        "for a, b in g:\n",
        "    print(a, b)"
      ]
    },
    {
      "cell_type": "markdown",
      "id": "1806f926-1c68-4c82-b854-a0053f66f333",
      "metadata": {
        "id": "1806f926-1c68-4c82-b854-a0053f66f333"
      },
      "source": [
        "# Генераторные функции (оператор `yield`)"
      ]
    },
    {
      "cell_type": "markdown",
      "id": "5964b015-4c06-47d2-8703-63f7e7058967",
      "metadata": {
        "id": "5964b015-4c06-47d2-8703-63f7e7058967"
      },
      "source": [
        "В **генераторных функциях** использются операторы `yield`, чтобы возвращать по одному результату за раз при вызове функции `next()`, приостанавливая выполнение с сохранением состояния, и возобновлять выполнение при очередном вызове `next()`. Функция `next()` возвращает каждый раз значение выражения, следующего за оператором `yield`.\n",
        "\n",
        "Генераторная функция строит объект-генератор, обертывающий тело функции, который приостанавливает выполнение функции на каждом операторе `yield`. Этот генератор также как и генератор, полуаемый из выражения-генератора. После того, как функция полностью выполнится, очередной вызов функции `next()` возбуждает исключение `StopIteration`.\n",
        "\n",
        "Из-за того, что генераторная функция (как и выражения генераторы) не создает сразу весь результирующий список, экономится пространство памяти и время вычисления распределяется по запросам результатов за счет протокола итераций."
      ]
    },
    {
      "cell_type": "code",
      "execution_count": null,
      "id": "30cf0844-647f-4d34-af4a-1a92968a9537",
      "metadata": {
        "id": "30cf0844-647f-4d34-af4a-1a92968a9537"
      },
      "outputs": [],
      "source": [
        "def gen_countdoun(n):\n",
        "    while n != 0:\n",
        "        yield n - 1\n",
        "        n -= 1"
      ]
    },
    {
      "cell_type": "code",
      "execution_count": null,
      "id": "74df148d-6ff4-47a8-a311-a905aab7f967",
      "metadata": {
        "colab": {
          "base_uri": "https://localhost:8080/"
        },
        "id": "74df148d-6ff4-47a8-a311-a905aab7f967",
        "outputId": "4fa85d15-121a-44b3-f68b-f77acf683a52"
      },
      "outputs": [
        {
          "name": "stdout",
          "output_type": "stream",
          "text": [
            "2\n",
            "1\n",
            "0\n"
          ]
        }
      ],
      "source": [
        "g = gen_countdoun(3)\n",
        "print(next(g))\n",
        "print(next(g))\n",
        "print(next(g))\n",
        "# print(next(g))  # приведет к исключению StopIteration"
      ]
    },
    {
      "cell_type": "markdown",
      "id": "a34ffba6-29d4-4168-8375-1505b0e57666",
      "metadata": {
        "id": "a34ffba6-29d4-4168-8375-1505b0e57666"
      },
      "source": [
        "Вызов генераторной функции в цикле:"
      ]
    },
    {
      "cell_type": "code",
      "execution_count": null,
      "id": "1ceeb04a-7c3b-40ea-8e33-372c174baec1",
      "metadata": {
        "colab": {
          "base_uri": "https://localhost:8080/"
        },
        "id": "1ceeb04a-7c3b-40ea-8e33-372c174baec1",
        "outputId": "0e0c2a64-9175-4d9d-ccce-76f2a68d399f"
      },
      "outputs": [
        {
          "name": "stdout",
          "output_type": "stream",
          "text": [
            "14 13 12 11 10 9 8 7 6 5 4 3 2 1 0 "
          ]
        }
      ],
      "source": [
        "for i in gen_countdoun(15):\n",
        "    print(i, end=' ')"
      ]
    },
    {
      "cell_type": "markdown",
      "id": "d47353d2-2803-44b8-8fde-d35966c4eef3",
      "metadata": {
        "id": "d47353d2-2803-44b8-8fde-d35966c4eef3"
      },
      "source": [
        "В общем случае у генератроной функции может быть несколько операторов `yield`. При передаче объекта-генератора функции `next()` выполнение продолжается до следующего появления `yield` в теле функции:"
      ]
    },
    {
      "cell_type": "code",
      "execution_count": null,
      "id": "8fc78771-354e-4ac0-8eb6-9c40d61a1b52",
      "metadata": {
        "id": "8fc78771-354e-4ac0-8eb6-9c40d61a1b52"
      },
      "outputs": [],
      "source": [
        "def even_odd(n):\n",
        "    while n > 1:\n",
        "        yield n\n",
        "        yield n**2\n",
        "        yield n**3\n",
        "        n -= 1"
      ]
    },
    {
      "cell_type": "code",
      "execution_count": null,
      "id": "f7139d42-e7da-40a7-b998-aa55fe8fc815",
      "metadata": {
        "colab": {
          "base_uri": "https://localhost:8080/"
        },
        "id": "f7139d42-e7da-40a7-b998-aa55fe8fc815",
        "outputId": "c34b7689-6563-42a8-f932-bf22cc1afae5"
      },
      "outputs": [
        {
          "name": "stdout",
          "output_type": "stream",
          "text": [
            "8 64 512 7 49 343 6 36 216 5 25 125 4 16 64 3 9 27 2 4 8 "
          ]
        }
      ],
      "source": [
        "for v in even_odd(8):\n",
        "    print(v, end=' ')"
      ]
    }
  ],
  "metadata": {
    "colab": {
      "include_colab_link": true,
      "provenance": []
    },
    "kernelspec": {
      "display_name": "Python 3 (ipykernel)",
      "language": "python",
      "name": "python3"
    },
    "language_info": {
      "codemirror_mode": {
        "name": "ipython",
        "version": 3
      },
      "file_extension": ".py",
      "mimetype": "text/x-python",
      "name": "python",
      "nbconvert_exporter": "python",
      "pygments_lexer": "ipython3",
      "version": "3.11.5"
    }
  },
  "nbformat": 4,
  "nbformat_minor": 5
}
