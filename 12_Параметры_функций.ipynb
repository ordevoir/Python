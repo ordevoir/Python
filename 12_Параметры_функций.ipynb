{
  "cells": [
    {
      "cell_type": "markdown",
      "metadata": {
        "id": "view-in-github",
        "colab_type": "text"
      },
      "source": [
        "<a href=\"https://colab.research.google.com/github/ordevoir/Python/blob/main/12_%D0%9F%D0%B0%D1%80%D0%B0%D0%BC%D0%B5%D1%82%D1%80%D1%8B_%D1%84%D1%83%D0%BD%D0%BA%D1%86%D0%B8%D0%B9.ipynb\" target=\"_parent\"><img src=\"https://colab.research.google.com/assets/colab-badge.svg\" alt=\"Open In Colab\"/></a>"
      ]
    },
    {
      "cell_type": "markdown",
      "id": "e32d1466",
      "metadata": {
        "id": "e32d1466"
      },
      "source": [
        "# Параметры при определении функции\n",
        "\n",
        "- `def f(n)` Нормальные: являются обязательными при вызове;\n",
        "- `def f(n=15)` Дефолтные: параметры со значениями по умолчению, являются необязательными при вызове.\n",
        "\n",
        "Дефолтные параметры должны следовать за нормальными аргументами.\n",
        "\n",
        "При вызове функции нормальные и дефолтные парараметры функции сопоставляются передаваемым в функцию аргументам в соответсвтвии с позицией, для позиционных аргументов, или в соответствии с именами, для именованных аргументов.\n",
        "\n",
        "- `def f(*args)` Избыточные позиционные аргументы упаковываются оператором `*` в кортеж с именем `args`;\n",
        "- `def f(**kwargs)` Избыточные именованные аргументы упаковываются оператором `**` в слварь с имененм `kwargs`."
      ]
    },
    {
      "cell_type": "code",
      "execution_count": null,
      "id": "2f6842d0",
      "metadata": {
        "id": "2f6842d0"
      },
      "outputs": [],
      "source": [
        "def printAll(a, b, c=True, d='None', *args, **kwargs):\n",
        "    print(f\"    {a = } {b = } {c = } {d = }\")\n",
        "    print(f'    {args = } {kwargs = }')"
      ]
    },
    {
      "cell_type": "markdown",
      "id": "432669ac",
      "metadata": {
        "id": "432669ac"
      },
      "source": [
        "## Аргументы при вызове функции\n",
        "\n",
        "- `f(a, b, c)` Позиционные аргументы;\n",
        "- `f(x=4, y=2, z=5)` Именованные аргументы;\n",
        "- `f(*sequence)` Распаковка последовательности значений. Каждый элемент последовательности будет позиционным аргументом;\n",
        "- `f(**dict)` Распаковка словаря. Каждая запись словаря будет именованным аргументом, где ключ будет соответствовать имени аргумента, а значение по ключу будет значением аргумента.\n",
        "\n",
        "Именованные аргументы должны следовать за позиционными аргументами."
      ]
    },
    {
      "cell_type": "code",
      "execution_count": null,
      "id": "38dd93d2",
      "metadata": {
        "id": "38dd93d2",
        "outputId": "4635e28d-d77b-47b2-c118-f022d00f62fc"
      },
      "outputs": [
        {
          "name": "stdout",
          "output_type": "stream",
          "text": [
            "вызов с двумя позиционными аргументами:\n",
            "    a = 10 b = 11 c = True d = 'None'\n",
            "    args = () kwargs = {}\n",
            "вызов с множеством позиционных аргументов:\n",
            "    a = 10 b = 11 c = 14 d = 32\n",
            "    args = (12, 32, 31) kwargs = {}\n",
            "вызов с \"ожидаемыми\" именованными аргументами:\n",
            "    a = 10 b = 11 c = 31 d = 14\n",
            "    args = () kwargs = {}\n",
            "вызов с \"избыточными\" именованными аргументами:\n",
            "    a = 10 b = 11 c = True d = 'None'\n",
            "    args = () kwargs = {'y': 31, 'x': 14}\n",
            "вызов с множеством позиционных арг-тов и с \"незнакомыми\" именованными арг-ми:\n",
            "    a = 10 b = 11 c = 32 d = 12\n",
            "    args = (32, 31) kwargs = {'y': 31, 'x': 14}\n"
          ]
        }
      ],
      "source": [
        "print('вызов с двумя позиционными аргументами:')\n",
        "printAll(10, 11)\n",
        "print('вызов с множеством позиционных аргументов:')\n",
        "printAll(10, 11, 14, 32, 12, 32, 31)\n",
        "print('вызов с \"ожидаемыми\" именованными аргументами:')\n",
        "printAll(10, 11, c=31, d=14)\n",
        "print('вызов с \"избыточными\" именованными аргументами:')\n",
        "printAll(10, 11, y=31, x=14)\n",
        "print('вызов с множеством позиционных арг-тов и с \"незнакомыми\" именованными арг-ми:')\n",
        "printAll(10, 11, 32, 12, 32, 31, y=31, x=14)"
      ]
    },
    {
      "cell_type": "code",
      "execution_count": null,
      "id": "799d3d4e",
      "metadata": {
        "id": "799d3d4e",
        "outputId": "8d2e4da4-7f9a-46ee-8195-8b8a390b53e2"
      },
      "outputs": [
        {
          "name": "stdout",
          "output_type": "stream",
          "text": [
            "    a = 1 b = 2 c = 3 d = 4\n",
            "    args = (5, 6, 7) kwargs = {}\n"
          ]
        }
      ],
      "source": [
        "sequence = (1, 2, 3, 4, 5, 6, 7)\n",
        "printAll(*sequence)"
      ]
    },
    {
      "cell_type": "code",
      "execution_count": null,
      "id": "16e92639",
      "metadata": {
        "id": "16e92639",
        "outputId": "519f4243-91d4-4ee0-a401-c566e117c65f"
      },
      "outputs": [
        {
          "name": "stdout",
          "output_type": "stream",
          "text": [
            "    a = 10 b = 20 c = 1 d = 2\n",
            "    args = (3, 4, 5, 6, 7) kwargs = {}\n"
          ]
        }
      ],
      "source": [
        "printAll(10, 20, *sequence)"
      ]
    },
    {
      "cell_type": "code",
      "execution_count": null,
      "id": "faa519f9",
      "metadata": {
        "id": "faa519f9",
        "outputId": "f4772ea1-8a0e-4737-b3c0-d3d207185a37"
      },
      "outputs": [
        {
          "name": "stdout",
          "output_type": "stream",
          "text": [
            "    a = 100 b = 20 c = 11 d = 200\n",
            "    args = () kwargs = {'n': 1, 'm': 15}\n"
          ]
        }
      ],
      "source": [
        "dictionary = {'b': 20, 'c': 11, 'n': 1, 'm': 15}\n",
        "printAll(100, d=200, **dictionary)"
      ]
    },
    {
      "cell_type": "markdown",
      "id": "9e28c2b7-4ec2-4c72-b985-3c6d591c0d6a",
      "metadata": {
        "id": "9e28c2b7-4ec2-4c72-b985-3c6d591c0d6a"
      },
      "source": [
        "## Предостережение!\n",
        "\n",
        ">Не стоит задавать изменяемый объект в качестве значение аргумента функции по умолчанию!\n",
        "\n",
        "Значения по умлочанию аргументов функций задаются один раз при определении функции, а не отдельно во время вызова. Поэтому при каждом вызове функции его локальная перменная, соответствующая дефолтному аргументу, ссылается на тот объект, который создан при определении функции. Для неизменяемых значений это не проблема, но для изменяемых объектов это может привести к неприятностям: первый вызов функции может изменить дефолтный объект, и тогда следующий вызов функции будет иметь дело с измененным объектом."
      ]
    },
    {
      "cell_type": "code",
      "execution_count": null,
      "id": "045ec7f5-a78f-4c16-8d61-9000f9131a18",
      "metadata": {
        "id": "045ec7f5-a78f-4c16-8d61-9000f9131a18"
      },
      "outputs": [],
      "source": [
        "def f(a, b=[]):\n",
        "    b.append(a)\n",
        "    return b\n",
        "# дефолтный объект [] создан"
      ]
    },
    {
      "cell_type": "markdown",
      "id": "6d199bf0",
      "metadata": {
        "id": "6d199bf0"
      },
      "source": [
        "В данном коде для функции `f` определяется один дефолтный объект – пустой список. Далее, при вызове функции локальная переменная `b` будет ссылаться на тот самый объект и изменит его при выполнении функции."
      ]
    },
    {
      "cell_type": "code",
      "execution_count": null,
      "id": "94019ff6",
      "metadata": {
        "id": "94019ff6",
        "outputId": "b40d2cce-8334-4aef-abba-c9e0998d20d8"
      },
      "outputs": [
        {
          "name": "stdout",
          "output_type": "stream",
          "text": [
            "[10]\n",
            "[10, 11]\n"
          ]
        }
      ],
      "source": [
        "c = f(10)   # в объект [] записывается значение 10\n",
        "print(c)    # функция возвращает этот список и на него теперь ссылается c\n",
        "d = f(11)   # в объект [10] записыается значение 11\n",
        "print(d)    # теперь и d ссылается на список, значение которого теперь [10, 11]"
      ]
    },
    {
      "cell_type": "markdown",
      "id": "13048cb2",
      "metadata": {
        "id": "13048cb2"
      },
      "source": [
        "Переменным `c` и `d` был присвоен один и тот же объект: список, созданный при определении функции, поэтому:"
      ]
    },
    {
      "cell_type": "code",
      "execution_count": null,
      "id": "b64496cc",
      "metadata": {
        "id": "b64496cc",
        "outputId": "10cf31fe-d8a7-49ea-d2e6-4f3c5677f9cf"
      },
      "outputs": [
        {
          "data": {
            "text/plain": [
              "True"
            ]
          },
          "execution_count": 112,
          "metadata": {},
          "output_type": "execute_result"
        }
      ],
      "source": [
        "c is d"
      ]
    },
    {
      "cell_type": "markdown",
      "id": "769c6f1c",
      "metadata": {
        "id": "769c6f1c"
      },
      "source": [
        "Если все же значением по умолчанию должен быть изменяемый объект, но уникальный при для каждого вызова функции, можно действовать так:"
      ]
    },
    {
      "cell_type": "code",
      "execution_count": null,
      "id": "40a1ee08",
      "metadata": {
        "id": "40a1ee08",
        "outputId": "69f69991-b08e-43e3-c254-f142952bfbfd"
      },
      "outputs": [
        {
          "name": "stdout",
          "output_type": "stream",
          "text": [
            "[10]\n",
            "[11]\n",
            "False\n"
          ]
        }
      ],
      "source": [
        "def f(a, b=None):\n",
        "    if b is None:\n",
        "        b = []\n",
        "    b.append(a)\n",
        "    return b\n",
        "\n",
        "c = f(10)\n",
        "print(c)\n",
        "d = f(11)\n",
        "print(d)\n",
        "print(c is d)"
      ]
    },
    {
      "cell_type": "markdown",
      "id": "5e4ac336",
      "metadata": {
        "id": "5e4ac336"
      },
      "source": [
        "В этом случае при определении функции создается объект `None`, а список создаются отдельно создается каждый раз при вызове функции."
      ]
    }
  ],
  "metadata": {
    "colab": {
      "provenance": [],
      "toc_visible": true,
      "include_colab_link": true
    },
    "kernelspec": {
      "display_name": "marl",
      "language": "python",
      "name": "python3"
    },
    "language_info": {
      "codemirror_mode": {
        "name": "ipython",
        "version": 3
      },
      "file_extension": ".py",
      "mimetype": "text/x-python",
      "name": "python",
      "nbconvert_exporter": "python",
      "pygments_lexer": "ipython3",
      "version": "3.12.11"
    }
  },
  "nbformat": 4,
  "nbformat_minor": 5
}