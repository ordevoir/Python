{
  "cells": [
    {
      "cell_type": "markdown",
      "metadata": {
        "id": "view-in-github",
        "colab_type": "text"
      },
      "source": [
        "<a href=\"https://colab.research.google.com/github/ordevoir/Python/blob/main/05_(adv)_Strings.ipynb\" target=\"_parent\"><img src=\"https://colab.research.google.com/assets/colab-badge.svg\" alt=\"Open In Colab\"/></a>"
      ]
    },
    {
      "cell_type": "markdown",
      "id": "bdf31465-7cc8-44d7-a902-cbf55a734e20",
      "metadata": {
        "id": "bdf31465-7cc8-44d7-a902-cbf55a734e20"
      },
      "source": [
        "# Строки"
      ]
    },
    {
      "cell_type": "markdown",
      "id": "2867e7ed-bc79-4a98-80be-836d1f0bb363",
      "metadata": {
        "id": "2867e7ed-bc79-4a98-80be-836d1f0bb363"
      },
      "source": [
        "## Разбиение строки в массив\n",
        "\n",
        "Метод `split()` разбивает строку на список фрагментов на основе разделителя, который указывается в аргументе `sep`. По умолчанию разделителем будет пробел (`sep=\" \"`). Явное проеобразование строки в список произведет разбиение на отдельные символы."
      ]
    },
    {
      "cell_type": "code",
      "execution_count": null,
      "id": "f030e72c-6d3a-4caa-95b8-9526a64c6b7f",
      "metadata": {
        "id": "f030e72c-6d3a-4caa-95b8-9526a64c6b7f",
        "outputId": "a48035b8-75ce-4232-8936-8d7d01a5bdf4"
      },
      "outputs": [
        {
          "name": "stdout",
          "output_type": "stream",
          "text": [
            "letters = ['T', 'h', 'i', 's', ' ', 'i', 's', ' ', '-', ' ', 's', 'o', 'm', 'e', ' ', ' ', 't', 'e', 'x', 't']\n",
            "words   = ['This', 'is', '-', 'some', 'text']\n",
            "phrases = ['This is ', ' some  text']\n"
          ]
        }
      ],
      "source": [
        "s = 'This is - some  text'\n",
        "\n",
        "letters = list(s)               # разбиение на символы\n",
        "words = s.split()               # разбиение на слова\n",
        "phrases = s.split('-')          # разделитель -\n",
        "\n",
        "print(f'{letters = }\\n{words   = }\\n{phrases = }')"
      ]
    },
    {
      "cell_type": "markdown",
      "id": "64bdda2b-55b0-49d1-a950-e129bfa61486",
      "metadata": {
        "id": "64bdda2b-55b0-49d1-a950-e129bfa61486"
      },
      "source": [
        "Разбиение строки на основе переноса (в метах разрыва) можно осуществить методом `splitlines()`. Единственный булевый аргумент `keepends` определяет, будут ли сохранены символы переоса (`\\n`, `\\v`) на концах фрагментов. По умолчанию `keepends=False`."
      ]
    },
    {
      "cell_type": "code",
      "execution_count": null,
      "id": "abbbabcb-cf1f-4072-bc00-a23383a68621",
      "metadata": {
        "id": "abbbabcb-cf1f-4072-bc00-a23383a68621",
        "outputId": "282621c2-f338-4c9c-fd08-b7ebccf39ad9"
      },
      "outputs": [
        {
          "name": "stdout",
          "output_type": "stream",
          "text": [
            "line 1\n",
            "line 2\n",
            " line 3\n",
            "['line 1', 'line 2', ' line 3']\n",
            "['line 1\\n', 'line 2\\n', ' line 3']\n"
          ]
        }
      ],
      "source": [
        "s = 'line 1\\nline 2\\n line 3'\n",
        "print(s)\n",
        "print(s.splitlines())       # разбиение строки в местах разрыва\n",
        "print(s.splitlines(True))   # True - с сохранением символа переноса строки"
      ]
    },
    {
      "cell_type": "markdown",
      "id": "cc570269-7f7d-45fa-b86f-1fe24f211334",
      "metadata": {
        "id": "cc570269-7f7d-45fa-b86f-1fe24f211334"
      },
      "source": [
        "## Объединение строк из списка"
      ]
    },
    {
      "cell_type": "code",
      "execution_count": null,
      "id": "fdc4f5bd-22ca-45f9-b145-bc98916835e3",
      "metadata": {
        "id": "fdc4f5bd-22ca-45f9-b145-bc98916835e3",
        "outputId": "359bf561-d9ea-4a13-8d5e-74655d26e9b0"
      },
      "outputs": [
        {
          "name": "stdout",
          "output_type": "stream",
          "text": [
            "This\n",
            "is\n",
            "-\n",
            "some\n",
            "text\n"
          ]
        },
        {
          "data": {
            "text/plain": [
              "'This is - some text'"
            ]
          },
          "execution_count": 50,
          "metadata": {},
          "output_type": "execute_result"
        }
      ],
      "source": [
        "delimiter = '\\n'\n",
        "text = delimiter.join(words)\n",
        "print(text)\n",
        "\" \".join(words)"
      ]
    },
    {
      "cell_type": "markdown",
      "id": "ef26a771-9e4e-4d7e-8377-e90a2986283c",
      "metadata": {
        "id": "ef26a771-9e4e-4d7e-8377-e90a2986283c"
      },
      "source": [
        "## Методы класса `str`"
      ]
    },
    {
      "cell_type": "markdown",
      "id": "de4229cd-fffa-4dc8-86f4-e70699fce7e1",
      "metadata": {
        "id": "de4229cd-fffa-4dc8-86f4-e70699fce7e1"
      },
      "source": [
        "### Подсчет и поиск элементов\n",
        "\n",
        "Отличие методов `find()` и `index()` в том, что если элемент не найден, то `find()` вернет значение `-1`, а `index()` вызовет исключение `ValueError` методы `rfind()` и `rindex()` работают так же, как и `find()` и `index()`, но возращают индекс последного элемента с заданным значением."
      ]
    },
    {
      "cell_type": "code",
      "execution_count": null,
      "id": "995b0cc1-9494-46fe-ad97-5ff89ef0fa1a",
      "metadata": {
        "id": "995b0cc1-9494-46fe-ad97-5ff89ef0fa1a",
        "outputId": "aff13773-f830-4aa9-b5de-8ea3bb22cef1"
      },
      "outputs": [
        {
          "name": "stdout",
          "output_type": "stream",
          "text": [
            " s.count(\"t\") =        2\n",
            " s.count(\"t\", 4, 6) =  1\n",
            " s.find(\"t\") =         5\n",
            " s.index(\"t\") =        5\n"
          ]
        }
      ],
      "source": [
        "s = 'some text'\n",
        "print(f'{ s.count(\"t\") =        }')     # количество вхождений символа t\n",
        "# количество вхождений t в диапазоне c 4 позиции до позиции с индексом 6:\n",
        "print(f'{ s.count(\"t\", 4, 6) =  }')\n",
        "print(f'{ s.find(\"t\") =         }')     # возвращает индекс первого элемента t\n",
        "print(f'{ s.index(\"t\") =        }')     # возвращает индекс первого элемента t"
      ]
    },
    {
      "cell_type": "markdown",
      "id": "d8388065-14e0-4c0b-a5a4-8c061ff65ba5",
      "metadata": {
        "id": "d8388065-14e0-4c0b-a5a4-8c061ff65ba5"
      },
      "source": [
        "### Методы `is...()`"
      ]
    },
    {
      "cell_type": "markdown",
      "id": "fad4e644-bd23-47fb-9aa7-19cbb950a093",
      "metadata": {
        "id": "fad4e644-bd23-47fb-9aa7-19cbb950a093"
      },
      "source": [
        "`isidentifier()` – строка является валидным идентификаторм, т.е. может быть именем перменной"
      ]
    },
    {
      "cell_type": "code",
      "execution_count": null,
      "id": "05f9a34f-4b99-4417-8ceb-5d428e47ae70",
      "metadata": {
        "id": "05f9a34f-4b99-4417-8ceb-5d428e47ae70",
        "outputId": "867acd12-6c0c-4500-ab93-c64052158f74"
      },
      "outputs": [
        {
          "name": "stdout",
          "output_type": "stream",
          "text": [
            " '1a'.isidentifier()   = False\n",
            " '      '.isspace()    = True\n",
            " 'dce'.startswith('d') = True\n",
            " 'dce'.endswith('e')   = True\n",
            " 'Some Text'.istitle() = True\n",
            " 'some text'.islower() = True\n",
            " 'SOME TEXT'.isupper() = True\n",
            " 'someText'.isalpha()  = True\n"
          ]
        }
      ],
      "source": [
        "print(f\"{ '1a'.isidentifier()   = }\")    # строка явл. валидным идентификатором\n",
        "print(f\"{ '      '.isspace()    = }\")    # строка содержит только пробелы\n",
        "print(f\"{ 'dce'.startswith('d') = }\")    # строка начинается с символа 'd'\n",
        "print(f\"{ 'dce'.endswith('e')   = }\")    # строка заканчивается символом 'e'\n",
        "print(f\"{ 'Some Text'.istitle() = }\")    # все слова нач. с большой буквы\n",
        "print(f\"{ 'some text'.islower() = }\")    # все буквы в нижнем регистре\n",
        "print(f\"{ 'SOME TEXT'.isupper() = }\")    # все буквы в верхнем регистре\n",
        "print(f\"{ 'someText'.isalpha()  = }\")    # строка состоит только из букв"
      ]
    },
    {
      "cell_type": "markdown",
      "id": "cacf5599-f513-4170-9e4b-8da07d5f851a",
      "metadata": {
        "id": "cacf5599-f513-4170-9e4b-8da07d5f851a"
      },
      "source": [
        "Методы `isdigit()`, `isdecimal()`, `isnumeric()` и `isalnum()` весьма похожи и в общем случае проверяют, состоит ли строка только из цифр (чисел и букв)."
      ]
    },
    {
      "cell_type": "code",
      "execution_count": null,
      "id": "6d5f917d-a531-436a-89fd-619c5f9f4235",
      "metadata": {
        "id": "6d5f917d-a531-436a-89fd-619c5f9f4235",
        "outputId": "7baec9e2-c31c-43d7-8715-38f4b98ab9e1"
      },
      "outputs": [
        {
          "name": "stdout",
          "output_type": "stream",
          "text": [
            "a = '12344', b = '12²³', c = '½¼¾⅓⅕'\n"
          ]
        }
      ],
      "source": [
        "a = '12344'                                 # строка непосредственно цифр\n",
        "b = '12\\u00B2\\u00B3'                        # ²³ специфические символы цифр\n",
        "c = '\\u00BD\\u00BC\\u00BE\\u2153\\u2155'        # ½ числовые символы\n",
        "print(f'{a = }, {b = }, {c = }')"
      ]
    },
    {
      "cell_type": "markdown",
      "id": "211abc8d-d3c4-4f06-87d3-049ebae27856",
      "metadata": {
        "id": "211abc8d-d3c4-4f06-87d3-049ebae27856"
      },
      "source": [
        "`isdigit()` возвращает `True` только в том случае, если все символы предствляют собой непосредственно цифры (`0123456789`)"
      ]
    },
    {
      "cell_type": "code",
      "execution_count": null,
      "id": "20594d9e-c9b1-43c9-b562-8f4bb29dc3e9",
      "metadata": {
        "id": "20594d9e-c9b1-43c9-b562-8f4bb29dc3e9",
        "outputId": "87324839-873c-4daa-9862-313f35e6e378"
      },
      "outputs": [
        {
          "name": "stdout",
          "output_type": "stream",
          "text": [
            "a = '12344', b = '12²³', c = '½¼¾⅓⅕'\n",
            "a.isdigit() = True\n",
            "b.isdigit() = True\n",
            "c.isdigit() = False\n"
          ]
        }
      ],
      "source": [
        "print(f'{ a = }, {b = }, {c = }')\n",
        "print(f\"{ a.isdigit() = }\")\n",
        "print(f\"{ b.isdigit() = }\")\n",
        "print(f\"{ c.isdigit() = }\")"
      ]
    },
    {
      "cell_type": "markdown",
      "id": "119293e8-8be1-4aaa-9a5f-d83ab88426cf",
      "metadata": {
        "id": "119293e8-8be1-4aaa-9a5f-d83ab88426cf"
      },
      "source": [
        "`isdecimal()` возвращает `True` также в том случае, если в строке присутствуют специфические символы *цифр* (например `²`)"
      ]
    },
    {
      "cell_type": "code",
      "execution_count": null,
      "id": "56a9d060-6ae8-4e2d-bf6f-ad217fd63c7c",
      "metadata": {
        "id": "56a9d060-6ae8-4e2d-bf6f-ad217fd63c7c",
        "outputId": "675b0a47-586a-4e9d-cb10-b3420509a4d3"
      },
      "outputs": [
        {
          "name": "stdout",
          "output_type": "stream",
          "text": [
            "a = '12344', b = '12²³', c = '½¼¾⅓⅕'\n",
            "a.isdecimal() = True\n",
            "b.isdecimal() = False\n",
            "c.isdecimal() = False\n"
          ]
        }
      ],
      "source": [
        "print(f'{ a = }, {b = }, {c = }')\n",
        "print(f\"{ a.isdecimal() = }\")\n",
        "print(f\"{ b.isdecimal() = }\")\n",
        "print(f\"{ c.isdecimal() = }\")"
      ]
    },
    {
      "cell_type": "markdown",
      "id": "55bbfeca-6992-4ff3-8a20-5258e6368cfb",
      "metadata": {
        "id": "55bbfeca-6992-4ff3-8a20-5258e6368cfb"
      },
      "source": [
        "`isnumeric()` возвращает `True` также в том случае, если в строке присутствуют *числовые* символы (например, `⅕`)"
      ]
    },
    {
      "cell_type": "code",
      "execution_count": null,
      "id": "69ed1203-c628-4cd7-a747-266d542af7cf",
      "metadata": {
        "id": "69ed1203-c628-4cd7-a747-266d542af7cf",
        "outputId": "afb8038a-455a-4a9b-aa78-ce9aa2e26303"
      },
      "outputs": [
        {
          "name": "stdout",
          "output_type": "stream",
          "text": [
            " a = '  text  ', b = '*', c = '½¼¾⅓⅕'\n",
            " a.isnumeric() = False\n",
            " b.isnumeric() = False\n",
            " c.isnumeric() = True\n"
          ]
        }
      ],
      "source": [
        "print(f'{ a = }, {b = }, {c = }')\n",
        "print(f\"{ a.isnumeric() = }\")\n",
        "print(f\"{ b.isnumeric() = }\")\n",
        "print(f\"{ c.isnumeric() = }\")"
      ]
    },
    {
      "cell_type": "markdown",
      "id": "d429a08b-4882-4b3d-9d6b-261f67197db7",
      "metadata": {
        "id": "d429a08b-4882-4b3d-9d6b-261f67197db7"
      },
      "source": [
        "`isalnum()` возвращает `True`, если строка состоит из букв, цифр, специфических символов цифр и числовых символов."
      ]
    },
    {
      "cell_type": "code",
      "execution_count": null,
      "id": "3b474c4d-6687-44d7-bc06-2fe99630f0f3",
      "metadata": {
        "id": "3b474c4d-6687-44d7-bc06-2fe99630f0f3",
        "outputId": "53d1cbc7-64b9-43d0-df50-aff8969750f0"
      },
      "outputs": [
        {
          "name": "stdout",
          "output_type": "stream",
          "text": [
            " a = '12²with½', b = '*'\n",
            " a.isalnum() = True\n",
            " b.isalnum() = False\n"
          ]
        }
      ],
      "source": [
        "a = '12\\u00B2with\\u00BD'\n",
        "b = \"*\"\n",
        "print(f\"{ a = }, {b = }\")\n",
        "print(f\"{ a.isalnum() = }\\n{ b.isalnum() = }\")"
      ]
    },
    {
      "cell_type": "markdown",
      "id": "f38e983f-6369-4e25-a712-fb45c0745290",
      "metadata": {
        "id": "f38e983f-6369-4e25-a712-fb45c0745290"
      },
      "source": [
        "### Методы для выравнивания"
      ]
    },
    {
      "cell_type": "code",
      "execution_count": null,
      "id": "ad71d1e7-d02f-4a34-8cee-c0f31a0bce0a",
      "metadata": {
        "id": "ad71d1e7-d02f-4a34-8cee-c0f31a0bce0a",
        "outputId": "f252fc52-ec06-4965-eeb2-be093e5064c5"
      },
      "outputs": [
        {
          "name": "stdout",
          "output_type": "stream",
          "text": [
            " a             = ' text '\n",
            " a.center(13)  = '     text    '\n",
            " a.ljust(10)   = ' text     '\n",
            " a.rjust(10)   = '     text '\n",
            " a.lstrip()    = 'text '\n",
            " a.rstrip()    = ' text'\n",
            " a.strip()     = 'text'\n"
          ]
        }
      ],
      "source": [
        "a = ' text '\n",
        "print(f\"{ a             = }\")\n",
        "print(f'{ a.center(13)  = }')  # центрирует строку в заданной длине\n",
        "print(f\"{ a.ljust(10)   = }\")  # выравнивание по левому краю\n",
        "print(f\"{ a.rjust(10)   = }\")  # выравнивание по правому краю\n",
        "print(f\"{ a.lstrip()    = }\")  # обрезает строку слева\n",
        "print(f\"{ a.rstrip()    = }\")  # обрезает строку справа\n",
        "print(f\"{ a.strip()     = }\")  # обрезает строку и справа и слева"
      ]
    },
    {
      "cell_type": "code",
      "execution_count": null,
      "id": "e938c035-5a26-44dd-ab32-b424fe3205e8",
      "metadata": {
        "id": "e938c035-5a26-44dd-ab32-b424fe3205e8",
        "outputId": "1d60c61e-fe77-466e-859d-054a5b3ae98b"
      },
      "outputs": [
        {
          "name": "stdout",
          "output_type": "stream",
          "text": [
            "0000000256\n"
          ]
        }
      ],
      "source": [
        "a = '256'\n",
        "print(a.zfill(10))  # дополняет строку слева нулями"
      ]
    },
    {
      "cell_type": "markdown",
      "id": "9bc45429-825e-4021-90f6-57fa3d2a51ec",
      "metadata": {
        "id": "9bc45429-825e-4021-90f6-57fa3d2a51ec"
      },
      "source": [
        "### Методы для изменения регистра букв"
      ]
    },
    {
      "cell_type": "code",
      "execution_count": null,
      "id": "b34cc39c-15d0-46be-b512-ec721152110e",
      "metadata": {
        "id": "b34cc39c-15d0-46be-b512-ec721152110e",
        "outputId": "bbdf607b-b5d2-4572-f10b-5051131e808a"
      },
      "outputs": [
        {
          "name": "stdout",
          "output_type": "stream",
          "text": [
            " this is Some Text\n",
            " this is some text\n",
            " THIS IS SOME TEXT\n",
            " this is some text\n",
            " This Is Some Text\n",
            " this is some text\n"
          ]
        }
      ],
      "source": [
        "s = ' this is Some Text'\n",
        "print(s)\n",
        "print(s.lower())        # переводит все буквы в нижний регистр\n",
        "print(s.upper())        # переводит все буквы в верхний регистр\n",
        "print(s.capitalize())   # переводит первую букву строки в верхний регистр\n",
        "print(s.title())        # переводит в верхний регистр начальные буквы\n",
        "                        # всех слов строки\n",
        "print(s.casefold())     # то же что и lower, но более универскльный"
      ]
    },
    {
      "cell_type": "markdown",
      "id": "6e050f70-ca40-4512-9ec4-0292b7f9fe12",
      "metadata": {
        "id": "6e050f70-ca40-4512-9ec4-0292b7f9fe12"
      },
      "source": [
        "## Конвертация между символами и кодами в Unicode"
      ]
    },
    {
      "cell_type": "code",
      "execution_count": null,
      "id": "0d21d1b1-2880-4134-9cf3-996bd886660d",
      "metadata": {
        "id": "0d21d1b1-2880-4134-9cf3-996bd886660d",
        "outputId": "29770310-ac88-4758-9a7e-534962245ee9"
      },
      "outputs": [
        {
          "name": "stdout",
          "output_type": "stream",
          "text": [
            "960\n",
            "π\n",
            "\n",
            "latin:\n",
            "!\"#$%&'()*+,-./0123456789:;<=>?@ABCDEFGHIJKLMNOPQRSTUVWXYZ[\\]^_`abcdefghijklmnopqrstuvwxyz{|}~\n",
            "cirilic:\n",
            "АБВГДЕЖЗИЙКЛМНОПРСТУФХЦЧШЩЪЫЬЭЮЯабвгдежзийклмнопрстуфхцчшщъыьэю\n",
            "greek:\n",
            "ΑΒΓΔΕΖΗΘΙΚΛΜΝΞΟΠΡ΢ΣΤΥΦΧΨΩΪΫάέήίΰαβγδεζηθικλμνξοπρςστυφχψ"
          ]
        }
      ],
      "source": [
        "print(ord('π'))     # возвращает код сивола\n",
        "print(chr(960))     # возвращает символ по коду\n",
        "print('\\nlatin:')\n",
        "for i in range(33, 127):\n",
        "    print(chr(i), end='')\n",
        "print('\\ncirilic:')\n",
        "for i in range(1040, 1103):\n",
        "    print(chr(i), end='')\n",
        "print('\\ngreek:')\n",
        "for i in range(913, 969):\n",
        "    print(chr(i), end='')"
      ]
    },
    {
      "cell_type": "markdown",
      "id": "2a59df90-817e-482d-bd7c-a0167f3cccc0",
      "metadata": {
        "id": "2a59df90-817e-482d-bd7c-a0167f3cccc0"
      },
      "source": [
        "## F-string"
      ]
    },
    {
      "cell_type": "code",
      "execution_count": null,
      "id": "15f64149-8e5d-4204-ad0f-fee2b1b21971",
      "metadata": {
        "id": "15f64149-8e5d-4204-ad0f-fee2b1b21971",
        "outputId": "22ccb6e6-7b20-4121-a9e1-74842b39909a"
      },
      "outputs": [
        {
          "name": "stdout",
          "output_type": "stream",
          "text": [
            "some text\n",
            "значение числа π: 3.142\n"
          ]
        }
      ],
      "source": [
        "# форматированные строки f-string (formatted string)\n",
        "from math import pi\n",
        "a = 'some'\n",
        "b = 'text'\n",
        "c = f'{a} {b}'\n",
        "print(c)\n",
        "print(f'значение числа {chr(960)}: {pi:.3f}')\n",
        "# В f-sting можно интерполировать значение словарей, списков, вызывать методы..."
      ]
    },
    {
      "cell_type": "markdown",
      "id": "4b89aa4e-a0fd-4729-b379-9489e691be56",
      "metadata": {
        "id": "4b89aa4e-a0fd-4729-b379-9489e691be56"
      },
      "source": [
        "### Выбор способа преобразования\n",
        "\n",
        "При выводе на печать интерполируемых значений, производится преобразование значений в строку. Преобразование может производиться функциями `str()`, `repr()` и `ancii()`. Для того, чтобы задать способ преобразования, можно воспользоваться операторами `!s`, `!r` и `!a`. По умолчанию используется `!r` (`repr()`)."
      ]
    },
    {
      "cell_type": "code",
      "execution_count": null,
      "id": "e78c2bc7-9edd-41d0-a47c-dd70e19664e9",
      "metadata": {
        "id": "e78c2bc7-9edd-41d0-a47c-dd70e19664e9",
        "outputId": "5eb8c2d7-e50d-47ac-8db9-67b8cec4c2e6"
      },
      "outputs": [
        {
          "name": "stdout",
          "output_type": "stream",
          "text": [
            "strValue = 'symbol π'\n",
            "str strValue = symbol π\n",
            "repr strValue = 'symbol π'\n",
            "ascii strValue = 'symbol \\u03c0'\n"
          ]
        }
      ],
      "source": [
        "strValue = 'symbol π'\n",
        "\n",
        "print(f'{strValue = }')\n",
        "print(f'str {strValue = !s}')    # <=>   print(f's: {str(strValue)}')\n",
        "print(f'repr {strValue = !r}')    # <=>   print(f'r: {repr(strValue)}')\n",
        "print(f'ascii {strValue = !a}')    # <=>   print(f'r: {ascii(strValue)}')"
      ]
    },
    {
      "cell_type": "markdown",
      "id": "1494b7fa-ded6-483f-b923-cfd992281dd0",
      "metadata": {
        "id": "1494b7fa-ded6-483f-b923-cfd992281dd0"
      },
      "source": [
        "### Фораматированный вывод datetime"
      ]
    },
    {
      "cell_type": "code",
      "execution_count": null,
      "id": "28c5bd0c-ddfa-4a1d-ac0a-4423f6237dd7",
      "metadata": {
        "id": "28c5bd0c-ddfa-4a1d-ac0a-4423f6237dd7",
        "outputId": "12d32a7f-e148-4e35-a0ed-84e3d8c97405"
      },
      "outputs": [
        {
          "name": "stdout",
          "output_type": "stream",
          "text": [
            "2023-10-08 13:11:18.086718\n",
            "2023-10-08\n",
            "now = 13:11:18\n"
          ]
        }
      ],
      "source": [
        "from datetime import datetime\n",
        "now = datetime.now()\n",
        "print(f'{now}')\n",
        "print(f'{now :%Y-%m-%d}')\n",
        "print(f'{now = :%H:%M:%S}')"
      ]
    },
    {
      "cell_type": "markdown",
      "id": "ab3ae19f",
      "metadata": {
        "id": "ab3ae19f"
      },
      "source": [
        "## Интернирование строк"
      ]
    },
    {
      "cell_type": "markdown",
      "id": "0f571cfd",
      "metadata": {
        "id": "0f571cfd"
      },
      "source": [
        "Интернирование строк-это процесс хранения в памяти только одной копии каждого отдельного строкового значения. Это означает, что, когда мы создаем две строки с одинаковым значением – вместо выделения памяти для них обоих, только одна строка фактически фиксируется в памяти.\n",
        "\n",
        "*String interning* предназначен для хранение только одной копии идентичных строк. Если создается строка `s1`, затем строки `s2` и `s3`, идентичные строке `s1`, то вместо того, чтобы создать отдельные объекты для имен `s2` и `s3`, имена будут ссылаться\n",
        "на созданный ранее объект:"
      ]
    },
    {
      "cell_type": "code",
      "execution_count": null,
      "id": "5763bbc8",
      "metadata": {
        "id": "5763bbc8"
      },
      "outputs": [],
      "source": [
        "s1 = 'abc'\n",
        "s2 = 'abc'\n",
        "s3 = 'a' + 'bc'\n",
        "\n",
        "# В данном слачае интернирование не будет работать, так как в выражении s4 = 'a'\n",
        "# создается новый строковый объект\n",
        "s4 = 'a'\n",
        "s4 += 'bc'\n",
        "\n",
        "# Но мы можем вручную произвести интернирование при помощи функции intern():\n",
        "from sys import intern\n",
        "s5 = 'a'\n",
        "s5 = intern(s5 + 'bc')\n",
        "\n",
        "print(f'{s1 = } {s2 = } {s3 = } {s4 = } ')\n",
        "print(f'{s2 is s1 = }')\n",
        "print(f'{s3 is s1 = }')\n",
        "print(f'{s4 is s1 = }')\n",
        "print(f'{s5 is s1 = }')\n",
        "print(f'{s5 is s4 = }')"
      ]
    }
  ],
  "metadata": {
    "kernelspec": {
      "display_name": "Python 3 (ipykernel)",
      "language": "python",
      "name": "python3"
    },
    "language_info": {
      "codemirror_mode": {
        "name": "ipython",
        "version": 3
      },
      "file_extension": ".py",
      "mimetype": "text/x-python",
      "name": "python",
      "nbconvert_exporter": "python",
      "pygments_lexer": "ipython3",
      "version": "3.10.10"
    },
    "colab": {
      "provenance": [],
      "include_colab_link": true
    }
  },
  "nbformat": 4,
  "nbformat_minor": 5
}