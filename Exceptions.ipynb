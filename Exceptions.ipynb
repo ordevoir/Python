{
 "cells": [
  {
   "cell_type": "markdown",
   "metadata": {
    "id": "sRGtqTvq7BRn"
   },
   "source": [
    "# Исключения (exceptions)"
   ]
  },
  {
   "cell_type": "markdown",
   "metadata": {
    "id": "jf8nECxj7BRn"
   },
   "source": [
    "Подробнее - Мартелли А.,.. - Python. Справочник стр. 201"
   ]
  },
  {
   "cell_type": "markdown",
   "metadata": {
    "id": "qrKBP6-67BRn"
   },
   "source": [
    "## Инструкция `try` / `except` / `finally`"
   ]
  },
  {
   "cell_type": "markdown",
   "metadata": {},
   "source": [
    "### `try` / `except`\n",
    "Эта форма инструкции содержит одно или несколько предложений `except` и необязательное\n",
    "предложение `else`. Тело каждого блока `except` называется обработчиком исключений."
   ]
  },
  {
   "cell_type": "code",
   "execution_count": null,
   "metadata": {
    "id": "YaTVgO1m7BRn",
    "outputId": "617fc5d4-e403-423d-d2c5-2eb8a63aac55"
   },
   "outputs": [
    {
     "name": "stdout",
     "output_type": "stream",
     "text": [
      "Ошибка типов\n"
     ]
    }
   ],
   "source": [
    "try:\n",
    "    a = 1 + '2'\n",
    "except:\n",
    "    print('Ошибка типов')   # обработчик исклбючения"
   ]
  },
  {
   "cell_type": "code",
   "execution_count": null,
   "metadata": {
    "id": "FLVzMBdk7BRn",
    "outputId": "9d1fd973-31f5-463f-afac-e1cf5946d6c7"
   },
   "outputs": [
    {
     "name": "stdout",
     "output_type": "stream",
     "text": [
      "Попытка деления на 0\n",
      "(<class 'ZeroDivisionError'>, ZeroDivisionError('division by zero'), <traceback object at 0x000002CDBE5EDA00>)\n",
      "<class 'ZeroDivisionError'>\n",
      "target = ZeroDivisionError('division by zero')\n",
      "Иструкция выполняется в любом случае\n"
     ]
    }
   ],
   "source": [
    "# общий случай\n",
    "import sys\n",
    "x = 1; y = 0; z = '2'\n",
    "\n",
    "try:\n",
    "    x / y   # заменить y на z, затем на x\n",
    "except ZeroDivisionError as target:\n",
    "    # target - идентификатор переменной которую Python связывает с объектом\n",
    "    # исключения непосредственно перед выполнением обработчика исключения\n",
    "    print('Попытка деления на 0')\n",
    "    print(sys.exc_info())       # получить текущий объект исключения\n",
    "    print(ZeroDivisionError)\n",
    "    print(f'{target = }')\n",
    "except:\n",
    "    print('Произошла некоторая ошибка')\n",
    "else:       # Необязательное предложение else инструкции try / except\n",
    "    print('Инструкция выполняется только если исключений не произошло')\n",
    "finally:\n",
    "    print('Иструкция выполняется в любом случае')"
   ]
  },
  {
   "cell_type": "markdown",
   "metadata": {
    "id": "IzqM50Ds7BRo"
   },
   "source": [
    "__try__ содержит код, в котором отслеживается возникновение исключения.\n",
    "\n",
    "__except__ - обработчик исключения, в инструкции try может содержаться несколько инструкций except - для разных видов исключений (частных или общих).\n",
    "\n",
    "__else__ - содержит код, который выполняется только в случае успешного выполнения предложения try.\n",
    "\n",
    "__finally__ - устанавливает так называемый обработчик очистки. Код этого обработчика выполняется всегда, независимо от того, каким образом было завершено выполнение предложения try. Код внутри части finally обычно освобождает критически важный ресурс или восстанавливает временно измененное состояние.\n",
    "\n",
    "Обработчики специфических исключений всегда должны предшествовать обработчикам\n",
    "более общих исключений. Несоблюдение этого правила приведет к тому, что обработчики\n",
    "более специфических исключений никогда не смогут быть выполнены.\n",
    "\n",
    "Избегайте использования \"пустых\" предложений except (т.е. предложений except без выражения), если в них не возбуждается вручную какое-либо исключение: такой небрежный стиль может затруднить поиск причин возникновения ошибки, поскольку подобные инструкции слишком общие и могут маскировать ошибки в коде и другие виды логических ошибок."
   ]
  },
  {
   "cell_type": "markdown",
   "metadata": {
    "id": "H46wKbVz7BRo"
   },
   "source": [
    "## Генерация исключения"
   ]
  },
  {
   "cell_type": "code",
   "execution_count": null,
   "metadata": {
    "id": "lhK_7oVI7BRo",
    "outputId": "d289beb4-1b05-40f9-f007-1e345e9203c5"
   },
   "outputs": [
    {
     "ename": "TypeError",
     "evalue": "This is exception",
     "output_type": "error",
     "traceback": [
      "\u001b[1;31m---------------------------------------------------------------------------\u001b[0m",
      "\u001b[1;31mTypeError\u001b[0m                                 Traceback (most recent call last)",
      "\u001b[1;32mc:\\Users\\wernadsky\\Dropbox\\Conspectus\\Python\\python.ipynb Cell 163\u001b[0m line \u001b[0;36m1\n\u001b[1;32m----> <a href='vscode-notebook-cell:/c%3A/Users/wernadsky/Dropbox/Conspectus/Python/python.ipynb#Y325sZmlsZQ%3D%3D?line=0'>1</a>\u001b[0m \u001b[39mraise\u001b[39;00m \u001b[39mTypeError\u001b[39;00m(\u001b[39m\"\u001b[39m\u001b[39mThis is exception\u001b[39m\u001b[39m\"\u001b[39m)\n",
      "\u001b[1;31mTypeError\u001b[0m: This is exception"
     ]
    }
   ],
   "source": [
    "raise TypeError(\"This is exception\")"
   ]
  },
  {
   "cell_type": "markdown",
   "metadata": {
    "id": "jWymzf_O7BRo"
   },
   "source": [
    "# Контекстные менеджеры и блоки `with`"
   ]
  },
  {
   "cell_type": "code",
   "execution_count": null,
   "metadata": {
    "id": "bxuQf7Zt7BRo",
    "outputId": "d866bc12-1a95-4b63-cc10-70e670e8e51e"
   },
   "outputs": [
    {
     "name": "stdout",
     "output_type": "stream",
     "text": [
      "<class '_io.TextIOWrapper'>\n",
      "first line: \n",
      "\n",
      "True utf-8\n"
     ]
    }
   ],
   "source": [
    "# Самый распространенный пример – гарантированное закрытие объекта файла:\n",
    "\n",
    "# open() возвращает объект класса TextIOWrapper, который является контекстным менеджером.\n",
    "# в начале блока with будет вызван метод __enter__ объект класса TextIOWrapper\n",
    "with open('Python\\\\environment.txt', encoding='utf-8') as file:\n",
    "    # file будет ссылаться на объект, возвращаемый методом __enter__ контекстного\n",
    "    # мененджера - в данном случае - это self, т.е. сам объект, возвращаемый open():\n",
    "    print(type(file))                   # объект контекстного мнеджера TextIOWrapper\n",
    "    lst = [line for line in file]       # записать все строки в список\n",
    "\n",
    "# при выходе из конструкии with вызывается метод __exit__ контекстного менеджера. В данном\n",
    "# случае, метод __exit__ класса TextIOWrapper обеспечивает закрытие файла.\n",
    "\n",
    "print('first line:', lst[0])\n",
    "\n",
    "# Переменная file все еще доступна для чтения атрибутов:\n",
    "print(file.closed, file.encoding)\n",
    "# Но выполнить операцию ввода-вывода для fp по завершении блока with нельзя, т.к. уже был\n",
    "# вызван метод TextIOWrapper.__exit__ при покидании блока with и файл закрыт."
   ]
  },
  {
   "cell_type": "markdown",
   "metadata": {
    "id": "rc4QduxT7BRo"
   },
   "source": [
    "Инструкция with - это воплощение в Python известной идиомы С++ \"получение\n",
    "ресурса есть инициализация\"\n",
    "\n",
    "https://ru.wikipedia.org/wiki/Получение_ресурса_есть_инициализация\n",
    "\n",
    "Предложение `with` было задумано, для того чтобы упростить конструкцию `try/finally`, гарантирующую, что некоторая операция будет выполнена после блока, даже если этот блок прерван в результате исключения, предложения return или вызова `sys.exit()`.\n",
    "Объекты контекстных менеджеров служат для управления предложением with, точно так же, как итераторы управляют предложением for. Протокол контекстного менеджера состоит из методов __enter__ и __exit__. В начале блока with вызывается метод __enter__ контекстного менеджера. А роль части finally играет обращение к методу __exit__ контекстного менеджера в конце блока with.\n",
    "\n",
    "Часть as в предложении with необязательна. В случае open она необходима, чтобы\n",
    "получить ссылку на файл, но некоторые контекстные менеджеры возвращают None за\n",
    "неимением чего-то полезного.\n",
    "\n",
    "Подробнее: Рамально Лучано - Python к вершинам мастерства с. 482"
   ]
  },
  {
   "cell_type": "code",
   "execution_count": null,
   "metadata": {
    "id": "pW8iYLuV7BRo",
    "outputId": "2de57c9d-279f-4ff7-ac8f-4e37bc6235b4"
   },
   "outputs": [
    {
     "name": "stdout",
     "output_type": "stream",
     "text": [
      "starting with block\n",
      "running test 1\n",
      "reached\n",
      "exited normally\n",
      "\n",
      "starting with block\n",
      "running test 2\n",
      "raise an exception! <class 'TypeError'>\n"
     ]
    },
    {
     "ename": "TypeError",
     "evalue": "",
     "output_type": "error",
     "traceback": [
      "\u001b[1;31m---------------------------------------------------------------------------\u001b[0m",
      "\u001b[1;31mTypeError\u001b[0m                                 Traceback (most recent call last)",
      "\u001b[1;32m~\\AppData\\Local\\Temp/ipykernel_11584/4068327629.py\u001b[0m in \u001b[0;36m<module>\u001b[1;34m\u001b[0m\n\u001b[0;32m     30\u001b[0m \u001b[1;32mwith\u001b[0m \u001b[0mTraceBlock\u001b[0m\u001b[1;33m(\u001b[0m\u001b[1;33m)\u001b[0m \u001b[1;32mas\u001b[0m \u001b[0maction\u001b[0m\u001b[1;33m:\u001b[0m\u001b[1;33m\u001b[0m\u001b[1;33m\u001b[0m\u001b[0m\n\u001b[0;32m     31\u001b[0m     \u001b[0maction\u001b[0m\u001b[1;33m.\u001b[0m\u001b[0mmessage\u001b[0m\u001b[1;33m(\u001b[0m\u001b[1;34m'test 2'\u001b[0m\u001b[1;33m)\u001b[0m\u001b[1;33m\u001b[0m\u001b[1;33m\u001b[0m\u001b[0m\n\u001b[1;32m---> 32\u001b[1;33m     \u001b[1;32mraise\u001b[0m \u001b[0mTypeError\u001b[0m             \u001b[1;31m# возникает исключение и последняя\u001b[0m\u001b[1;33m\u001b[0m\u001b[1;33m\u001b[0m\u001b[0m\n\u001b[0m\u001b[0;32m     33\u001b[0m     \u001b[0mprint\u001b[0m\u001b[1;33m(\u001b[0m\u001b[1;34m'not reached'\u001b[0m\u001b[1;33m)\u001b[0m        \u001b[1;31m# инструкция блока не достигается\u001b[0m\u001b[1;33m\u001b[0m\u001b[1;33m\u001b[0m\u001b[0m\n",
      "\u001b[1;31mTypeError\u001b[0m: "
     ]
    }
   ],
   "source": [
    "# контекстные менеджеры предназначены для выполнения заключительных\n",
    "# (или предаварительных) операций независимо от того, возникло ли\n",
    "# исключение на этапе выполнения основного действия.\n",
    "\n",
    "# создадим свой класс контекстного менеджера:\n",
    "\n",
    "class TraceBlock:\n",
    "    def message(self, arg):             # некий метод класса\n",
    "        print('running', arg)\n",
    "    def __enter__(self):                # это инструкция, которая\n",
    "        print('starting with block')    # запускается до выполнения блока\n",
    "        return self\n",
    "\n",
    "    # а этот метод запускается после выполнения блока в любом случае,\n",
    "    # независимо от того, было исключение или нет. В качестве аргументов\n",
    "    # она принимает тип исключения, значение и диагностическую инфу (если\n",
    "    # исключения не возникало, то эти аргументы передается значение None)\n",
    "    def __exit__(self, exc_type, exc_value, exc_tb):\n",
    "        if exc_type is None:\n",
    "            print('exited normally\\n')\n",
    "        else:\n",
    "            print('raise an exception!', exc_type)\n",
    "            return False\n",
    "\n",
    "with TraceBlock() as action:    # объект класса TraceBlock присваивается\n",
    "                                # переменной после as (если оно имеется)\n",
    "    action.message('test 1')    # здесь нет исключений и мы\n",
    "    print('reached')            # достигаем конца блока\n",
    "\n",
    "with TraceBlock() as action:\n",
    "    action.message('test 2')\n",
    "    raise TypeError             # возникает исключение и последняя\n",
    "    print('not reached')        # инструкция блока не достигается"
   ]
  },
  {
   "cell_type": "markdown",
   "metadata": {
    "id": "D5mDmoIVOl8e"
   },
   "source": [
    "# `sorted()`"
   ]
  },
  {
   "cell_type": "code",
   "execution_count": null,
   "metadata": {
    "id": "-jlFXi0-Ok_M"
   },
   "outputs": [],
   "source": [
    "# функция sorted\n",
    "s = ['This', 'is', '-', 'some', 'text']\n",
    "print(s)\n",
    "print(sorted(s))                    # упорядочивание в лексикографическом порядке\n",
    "print(sorted(s, reverse=True))      # по убыванию\n",
    "# key передается функция, по результатам которой должно быть выполнено сравнение\n",
    "print(sorted(s, key=len))           # упорядочивание по длине элемента"
   ]
  }
 ],
 "metadata": {
  "colab": {
   "include_colab_link": true,
   "provenance": [],
   "toc_visible": true
  },
  "kernelspec": {
   "display_name": "Python 3 (ipykernel)",
   "language": "python",
   "name": "python3"
  },
  "language_info": {
   "codemirror_mode": {
    "name": "ipython",
    "version": 3
   },
   "file_extension": ".py",
   "mimetype": "text/x-python",
   "name": "python",
   "nbconvert_exporter": "python",
   "pygments_lexer": "ipython3",
   "version": "3.10.10"
  },
  "vscode": {
   "interpreter": {
    "hash": "4f2921ce1fc527c47715aa0bb6344447b09c3d91cdf1e8e230806b0c3b3c2af0"
   }
  }
 },
 "nbformat": 4,
 "nbformat_minor": 4
}
