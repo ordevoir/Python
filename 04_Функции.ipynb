{
  "cells": [
    {
      "cell_type": "markdown",
      "metadata": {
        "id": "V8SMEEDssYfo"
      },
      "source": [
        "# Функции"
      ]
    },
    {
      "cell_type": "markdown",
      "metadata": {
        "id": "OPS7aYEVsYfp"
      },
      "source": [
        "## Базовый синтаксис\n",
        "\n",
        "Для **определения** функции используется ключевое слово `def` (сокращение от *define*). Тело функции прописывается с отступом. В данном примере функция имеет два параметра (`a` и `b`). Второму параметру в качестве значения по умолчанию присвоено значение `3`:"
      ]
    },
    {
      "cell_type": "code",
      "execution_count": 29,
      "metadata": {
        "id": "0imQ5i_ksYfp"
      },
      "outputs": [],
      "source": [
        "def some_function(a, b=3):\n",
        "    \"\"\"Принимает два числовых аргумента a, b\n",
        "    Возвращает: список из трех элементов (a, b и результат их произведения)\"\"\"\n",
        "    c = a * b\n",
        "    return c"
      ]
    },
    {
      "cell_type": "markdown",
      "metadata": {
        "id": "CksddMVmsYfp"
      },
      "source": [
        "При объявлении функции не производится выполнения тела функции. Выполнение осуществляется только при **вызове** (*call*) функции. Синтаксис вызова функции (в качестве аргументов в функцию передаются переменные `x` и `y`):"
      ]
    },
    {
      "cell_type": "code",
      "execution_count": 30,
      "metadata": {
        "colab": {
          "base_uri": "https://localhost:8080/"
        },
        "id": "JBtAiy56sYfp",
        "outputId": "4f0a54d0-8dbb-46ce-b1c8-c54a0eb337b0"
      },
      "outputs": [
        {
          "data": {
            "text/plain": [
              "30"
            ]
          },
          "execution_count": 30,
          "metadata": {},
          "output_type": "execute_result"
        }
      ],
      "source": [
        "x, y = 5, 6\n",
        "some_function(x, y)     # вызов функции"
      ]
    },
    {
      "cell_type": "markdown",
      "metadata": {
        "id": "3mHNMK3msYfq"
      },
      "source": [
        "Если функции при вызове передан лишь один аргумент, параметр `b` автоматически примет значение `3`:"
      ]
    },
    {
      "cell_type": "code",
      "execution_count": 31,
      "metadata": {
        "colab": {
          "base_uri": "https://localhost:8080/"
        },
        "id": "EiOsj1cIsYfq",
        "outputId": "97731514-8386-468f-fe57-196399e4d150"
      },
      "outputs": [
        {
          "name": "stdout",
          "output_type": "stream",
          "text": [
            "15\n"
          ]
        }
      ],
      "source": [
        "p = some_function(x)\n",
        "print(p)"
      ]
    },
    {
      "cell_type": "markdown",
      "metadata": {
        "id": "5q3E5maCpNSq"
      },
      "source": [
        "\n",
        "Очевидно, что вызов такой функции является выражением, результатом которого является значение, определяемое оператором `return`. Это значение, **возвращаемое** функцией, можно присвоить некоторой переменной."
      ]
    },
    {
      "cell_type": "markdown",
      "metadata": {
        "id": "j8X5RHVP0BAX"
      },
      "source": [
        "> При вызове функций всегда после имени функции идут круглые скобки `()`. Если написать имя функции без скобок, то вызова функций не произойдет: имя функции является переменной, которая ссылается на объект функции, так что если просто написать имя функции, то это будет выражение, возвращающее объект функции. Это обстоятельство позволяет передавать функции по ссылке (см. ниже)"
      ]
    },
    {
      "cell_type": "code",
      "execution_count": 32,
      "metadata": {
        "colab": {
          "base_uri": "https://localhost:8080/",
          "height": 121
        },
        "id": "xqTMugCN0a6R",
        "outputId": "ffe2710e-dc42-4314-ed56-96a898a8c962"
      },
      "outputs": [
        {
          "data": {
            "text/html": [
              "<div style=\"max-width:800px; border: 1px solid var(--colab-border-color);\"><style>\n",
              "      pre.function-repr-contents {\n",
              "        overflow-x: auto;\n",
              "        padding: 8px 12px;\n",
              "        max-height: 500px;\n",
              "      }\n",
              "\n",
              "      pre.function-repr-contents.function-repr-contents-collapsed {\n",
              "        cursor: pointer;\n",
              "        max-height: 100px;\n",
              "      }\n",
              "    </style>\n",
              "    <pre style=\"white-space: initial; background:\n",
              "         var(--colab-secondary-surface-color); padding: 8px 12px;\n",
              "         border-bottom: 1px solid var(--colab-border-color);\"><b>some_function</b><br/>def some_function(a, b=3)</pre><pre class=\"function-repr-contents function-repr-contents-collapsed\" style=\"\"><a class=\"filepath\" style=\"display:none\" href=\"#\">/tmp/ipython-input-2581395325.py</a>Принимает два числовых аргумента a, b\n",
              "Возвращает: список из трех элементов (a, b и результат их произведения)</pre></div>"
            ],
            "text/plain": [
              "<function __main__.some_function(a, b=3)>"
            ]
          },
          "execution_count": 32,
          "metadata": {},
          "output_type": "execute_result"
        }
      ],
      "source": [
        "some_function"
      ]
    },
    {
      "cell_type": "markdown",
      "metadata": {
        "id": "0CfglF3asYfq"
      },
      "source": [
        "## Функции без `return`\n",
        "\n",
        "Функции без оператора возвращения `return` используются для процедурных решений, когда функция меняет что-либо в среде выполнения. В рассматриваемом примере функция `increase_elements_of_list()` изменяет список, который передается ему в качестве аргумента."
      ]
    },
    {
      "cell_type": "code",
      "execution_count": 46,
      "metadata": {
        "id": "i-QbRDEKsYfq"
      },
      "outputs": [],
      "source": [
        "a = [1, 2, 3]    # имя \"a\" ссылается на список"
      ]
    },
    {
      "cell_type": "code",
      "execution_count": 34,
      "metadata": {
        "colab": {
          "base_uri": "https://localhost:8080/"
        },
        "id": "4WD4C32_sYfq",
        "outputId": "61164c44-17c9-419b-fb2c-4c6d85c1dd19"
      },
      "outputs": [
        {
          "name": "stdout",
          "output_type": "stream",
          "text": [
            "[2, 3, 4]\n"
          ]
        }
      ],
      "source": [
        "def increase_elements_of_list(x):\n",
        "    \"\"\" Функция принимает список чисел; Значение каждого элемента списка\n",
        "    увеличивается на 1 \"\"\"\n",
        "    for i in range(len(x)):\n",
        "        x[i] += 1\n",
        "\n",
        "increase_elements_of_list(a)   # вызов функции, функция меняет список \"a\"\n",
        "\n",
        "print(a)"
      ]
    },
    {
      "cell_type": "markdown",
      "metadata": {
        "id": "ViPDQ9vZiHKQ"
      },
      "source": [
        "При вызове в функцию передается список `a`, и итогом выполнения функции будет поэлментное увеличение значений в списке `a`.\n",
        "\n",
        "Строго говоря, функции без `return` все же кое что возвращают, а именно объект `None`:"
      ]
    },
    {
      "cell_type": "code",
      "execution_count": 35,
      "metadata": {
        "colab": {
          "base_uri": "https://localhost:8080/"
        },
        "id": "0Yv3n3g_jKQG",
        "outputId": "d132c092-d5ea-4c63-a248-cc5b28560837"
      },
      "outputs": [
        {
          "name": "stdout",
          "output_type": "stream",
          "text": [
            "None\n"
          ]
        }
      ],
      "source": [
        "result = increase_elements_of_list(a)\n",
        "print(result)"
      ]
    },
    {
      "cell_type": "markdown",
      "metadata": {
        "id": "VUc6hMiGsYfr"
      },
      "source": [
        "## Образец плохой практики\n"
      ]
    },
    {
      "cell_type": "markdown",
      "metadata": {
        "id": "I5u_-TMih_LE"
      },
      "source": [
        "Список `a` можно изменить в функции не передавая ее в качестве аргумента:"
      ]
    },
    {
      "cell_type": "code",
      "execution_count": 49,
      "metadata": {
        "colab": {
          "base_uri": "https://localhost:8080/"
        },
        "id": "fvkDQlC6sYfr",
        "outputId": "bef3fe80-5465-4a3e-de1e-5ac51480ee5b"
      },
      "outputs": [
        {
          "name": "stdout",
          "output_type": "stream",
          "text": [
            "[1, 2, 3, 4, 5, 6]\n"
          ]
        }
      ],
      "source": [
        "def f():\n",
        "    a.append(a[-1]+1)\n",
        "\n",
        "f()\n",
        "print(a)"
      ]
    },
    {
      "cell_type": "markdown",
      "metadata": {
        "id": "sbkR-1G_iR5C"
      },
      "source": [
        "Плохо здесь то, что глядя на вызов функции `f()` вряд ли можно догадаться, что она меняет объект `a`. В более сложном коде это может привести к непредсказуемым изменениям объекта `a`, при котором будет очень трудно выяснить, почему объект меняется: мы смотрим на вызов функции `f()` и не видим никаких намеков на то, что она будет менять объект с именем `a`. Более того, функция не является универсальной: кроме как менять `a`, функция ничего больше не умеет, ведь она не сможет работать с каким либо другим списком.\n",
        "\n",
        "Вишенкой на торте является то, что название функции совершенно не информативное. Оно ничего нам не говорит о поведении функции."
      ]
    },
    {
      "cell_type": "markdown",
      "metadata": {
        "id": "UmPsdPL9sYfr"
      },
      "source": [
        "## Как сделать грамотно?\n",
        "\n",
        "Во-первых следовало бы явно передавать список в качестве аргумента. Для этого в определении функции необходимо определить аргумент.\n",
        "\n",
        "Во-вторых стоит подобрать более информативное имя для функции `append_increased_last_element()`.\n",
        "\n",
        "В-третьих, можно указать подсказки, позволяющие понять, какие типы переменных принимаются функцией, и какой тип возвращается (аннотации типов). Данная функция без `return`, поэтому можно явно указать, что функция возвращает `None`.\n",
        "\n",
        "В-четвертых, можно добавить документирование внутри тройных кавычек (*docstring*). Эта строка будет отображаться в описании функции, при наведении курсора на имя функции.\n",
        "\n",
        "Таким образом мы делаем функцию наглядной, что позволяет оперативно понять, что делает функция, а чего она не делает, без необходимости анализировать тело функции."
      ]
    },
    {
      "cell_type": "code",
      "execution_count": 56,
      "metadata": {
        "colab": {
          "base_uri": "https://localhost:8080/"
        },
        "id": "Eyaw8xlhsYfs",
        "outputId": "862ab8f1-fdb9-4be8-9ae8-f5ad98d5acc9"
      },
      "outputs": [
        {
          "name": "stdout",
          "output_type": "stream",
          "text": [
            "[1, 2, 3, 4, 5, 6, 7, 8]\n"
          ]
        }
      ],
      "source": [
        "def append_increased_last_element(L: list) -> None:\n",
        "    \"\"\"Функция принимает список из чисел и добавляет в конец число, которое на\n",
        "    единицу больше последнего элемента списка\n",
        "    \"\"\"\n",
        "    L.append(L[-1]+1)\n",
        "\n",
        "append_increased_last_element(a)\n",
        "print(a)"
      ]
    },
    {
      "cell_type": "markdown",
      "metadata": {
        "id": "bVh_Cy3bsYfs"
      },
      "source": [
        "## Побочные эффекты и чистые функции\n",
        "\n",
        "В общем случае, конечно, функция может быть написана так, что она будет возвращать некоторое значение, и при этом оказывать [побочное] воздействие на переменные, определенные вне функции (т.е. влиять на среду выполнения). В таком случае говорят, что функция обладает **побочным эффектом** (*side effect*). **Чистыми функциями** (*Pure Functions*) называются функции, не обладающие побочным эффектом, и при одних и тех же аргументах, возвращающие одни и те же значения.\n",
        "\n",
        "> В процедурной функции изменение переменной может происходить в любом фрагменте тела функции, и более того, изменить можно переменную, которая напрямую не передавалась в функцию через аргумент. Это обстоятельство, несмотря на определенные преимущества, увеличивает риск допущения ошибок, которые, впоследствии, трудно отследить и отладить. Использование чистых функций с хорошо определенным интерфейсом существенно уменьшают такие риски, позволяя добиться хорошей структурированности программы."
      ]
    },
    {
      "cell_type": "markdown",
      "metadata": {
        "id": "gRqwJ1JtsYfs"
      },
      "source": [
        "## Бинарный оператор как функция\n",
        "\n",
        "Бинарные операторы представляют собой функции от двух аргументов. Например, оператор сложения `+`, применяемый к двум операндам `a` и `b` равносилен функции `add()` из модуля `operator`:"
      ]
    },
    {
      "cell_type": "code",
      "execution_count": 57,
      "metadata": {
        "colab": {
          "base_uri": "https://localhost:8080/"
        },
        "id": "C34wNebGsYfs",
        "outputId": "0d7c38c3-6fe1-4b30-a6ba-6c0afc27f5dd"
      },
      "outputs": [
        {
          "name": "stdout",
          "output_type": "stream",
          "text": [
            "15\n",
            "15\n"
          ]
        }
      ],
      "source": [
        "from operator import add\n",
        "\n",
        "a, b, c = 3, 5, 7\n",
        "\n",
        "s1 = a + b + c              # (a+b) + c\n",
        "\n",
        "s2 = add(add(a, b), c)\n",
        "\n",
        "print(s1)\n",
        "print(s2)"
      ]
    },
    {
      "cell_type": "markdown",
      "metadata": {
        "id": "7kZhqS7JsYft"
      },
      "source": [
        "Сложное выражении `a + b + c` вычисляется в два действия: сначала производится сложение значений переменных `a` и `b`, после чего результат складывается с `c`. Для вычисления суммы значений трех переменных посредством функции `add()`, результат вызова функции `add()` с аргументами `a`, `b` испльзуется в качестве первого аргумента при вызове внешней функции `add()`. Вызов функции внутри вызова функции представляет собой один из способов композиции функций."
      ]
    },
    {
      "cell_type": "markdown",
      "metadata": {
        "id": "lR639P2asYft"
      },
      "source": [
        "## Композиция функций\n",
        "\n",
        "Другой распространенный способ композиции функций - использование функций, определенных ранее, в теле другой функции. В данном примере функция `multiplication()` использует для выполнения функции\n",
        "- `add()` – сложение\n",
        "- `sub()` – вычитание\n",
        "- `abs()` – абсолютное значение числа"
      ]
    },
    {
      "cell_type": "code",
      "execution_count": 58,
      "metadata": {
        "colab": {
          "base_uri": "https://localhost:8080/"
        },
        "id": "s78y8Gl5sYft",
        "outputId": "35b663d1-39a1-4da2-83ea-2fa107dc6288"
      },
      "outputs": [
        {
          "name": "stdout",
          "output_type": "stream",
          "text": [
            "-15\n"
          ]
        }
      ],
      "source": [
        "from operator import add, sub, abs\n",
        "\n",
        "def multiplication(x, y):\n",
        "    z = 0\n",
        "    if y < 0:\n",
        "        for i in range(abs(y)):\n",
        "            z = sub(z, x)       # функция сложения\n",
        "    else:\n",
        "        for i in range(y):\n",
        "            z = add(z, x)\n",
        "    return z\n",
        "\n",
        "c = multiplication(-3, 5)\n",
        "print(c)"
      ]
    },
    {
      "cell_type": "markdown",
      "metadata": {
        "id": "deRCShO8sYfz"
      },
      "source": [
        "## Полиморфизм\n",
        "\n",
        "Полиморфизм заключается в возможности оператора (или функции) производить различные действия над операндами различных типов. В качестве примера рассмотрим оператор `+`. Если операндами будут числа, что оператор `+` произведет сложение чисел. Для строк и списков оператор `+` выполнит конкатенацию. Для массивов [NumPy](https://numpy.org/) – матричное (векторное) сложение:"
      ]
    },
    {
      "cell_type": "code",
      "execution_count": 59,
      "metadata": {
        "colab": {
          "base_uri": "https://localhost:8080/"
        },
        "id": "NFlpMXt6sYf0",
        "outputId": "1aaa4d2e-f140-4c53-e519-fd39c464afdf"
      },
      "outputs": [
        {
          "name": "stdout",
          "output_type": "stream",
          "text": [
            "3\n",
            "polymorphism\n",
            "[1, 2, 3, 4, 5, 6]\n",
            "[5 7 9]\n"
          ]
        }
      ],
      "source": [
        "import numpy as np\n",
        "\n",
        "a = np.array([1, 2, 3])\n",
        "b = np.array([4, 5, 6])\n",
        "\n",
        "print( 1 + 2 )                      # сложение чисел\n",
        "print( 'poly' + 'morphism' )        # конкатенация (склеивание)\n",
        "print( [1, 2, 3] + [4, 5, 6] )      # конкатенация (склеивание)\n",
        "print( a + b )                      # матричное сложение"
      ]
    },
    {
      "cell_type": "markdown",
      "metadata": {
        "id": "BOA5Q2E2wPBA"
      },
      "source": [
        "## Передача функции по ссылке\n",
        "\n",
        "Python позволяет передавать функции по ссылке. Так как функция является объектом, то на него может ссылаться произвольное множество имен. Создадим список из арифметических функций `add, sub, mul, truediv`. Теперь доступ к этим функциям может быть осуществлен по индексам списка `operators`. Заметим, что при размещении функций в списке мы писали имена функций без скобок `()` (скобки произвели бы вызов функций)."
      ]
    },
    {
      "cell_type": "code",
      "execution_count": 60,
      "metadata": {
        "colab": {
          "base_uri": "https://localhost:8080/"
        },
        "id": "wazrFinqwjLg",
        "outputId": "27f8dc1f-19c0-4fe9-fc41-01f70f8d552b"
      },
      "outputs": [
        {
          "name": "stdout",
          "output_type": "stream",
          "text": [
            "<built-in function sub>\n"
          ]
        }
      ],
      "source": [
        "from operator import add, sub, mul, truediv\n",
        "\n",
        "operators = [add, sub, mul, truediv]\n",
        "print(operators[1])\n"
      ]
    },
    {
      "cell_type": "markdown",
      "metadata": {
        "id": "r23Yt4Xl2FQK"
      },
      "source": [
        "Определим функцию `operate()`, которая первым аргументом принимает функцию по ссылке, и вызывает ее в операторе `return`. Вторым и третьим аргументом подразумевается передача чисел."
      ]
    },
    {
      "cell_type": "code",
      "execution_count": 61,
      "metadata": {
        "id": "98ZxhdXEyu8S"
      },
      "outputs": [],
      "source": [
        "def operate(fn, x, y):\n",
        "    return fn(x, y)"
      ]
    },
    {
      "cell_type": "markdown",
      "metadata": {
        "id": "9LefTn9a2mBS"
      },
      "source": [
        "Организуем цикл, в котором переменная `f` будет пробегаться по элементам списка `operators` (коими являются функции). В теле цикла будет вызываться функция `operate()`, в которую будут поочередно передаваться функции."
      ]
    },
    {
      "cell_type": "code",
      "execution_count": 43,
      "metadata": {
        "colab": {
          "base_uri": "https://localhost:8080/"
        },
        "id": "zGnXwjF92lil",
        "outputId": "ffce4c22-6d74-4b1c-92a7-beade9060ed5"
      },
      "outputs": [
        {
          "name": "stdout",
          "output_type": "stream",
          "text": [
            "12\n",
            "6\n",
            "27\n",
            "3.0\n"
          ]
        }
      ],
      "source": [
        "a, b = 9, 3\n",
        "\n",
        "for f in operators:\n",
        "    result = operate(f, a, b)\n",
        "    print(result)"
      ]
    },
    {
      "cell_type": "markdown",
      "metadata": {
        "id": "1fgVvfHwsYf1"
      },
      "source": [
        "## Рекурсия\n",
        "\n",
        "Рекурсивная функция обязательно должна обладать двумя свойствами:\n",
        "\n",
        "1. Должен существовать хотя бы один базовый случай, при котором\n",
        "функция проводит вычисление непосредственно, без рекурсии;\n",
        "2. Каждый рекурсивный вызов должен быть меньшим экземпляром той же\n",
        "самой задачи, чтобы вызовы достигли базового случая.\n",
        "\n",
        "У каждого вызова функции свое пространство имен: все имена `n` для каждого экземпляра вложенной функции – отдельное имя."
      ]
    },
    {
      "cell_type": "code",
      "execution_count": 62,
      "metadata": {
        "colab": {
          "base_uri": "https://localhost:8080/"
        },
        "id": "xq1ScXQSsYf1",
        "outputId": "57a6c4b6-61e6-444c-e978-738831f41d42"
      },
      "outputs": [
        {
          "name": "stdout",
          "output_type": "stream",
          "text": [
            "in, n = 4\n",
            "in, n = 3\n",
            "in, n = 2\n",
            "in, n = 1\n",
            "реализуется базовый случай\n",
            "out, n = 1\n",
            "out, n = 2\n",
            "out, n = 3\n",
            "out, n = 4\n"
          ]
        },
        {
          "data": {
            "text/plain": [
              "24"
            ]
          },
          "execution_count": 62,
          "metadata": {},
          "output_type": "execute_result"
        }
      ],
      "source": [
        "def factorial(n):\n",
        "    \"\"\" Рекурсивная функция, вычисляющая факториал числа: n! \"\"\"\n",
        "    if n < 1:   # базовый случай\n",
        "        print('реализуется базовый случай')\n",
        "        return 1\n",
        "    else:       # рекурсивный вызов\n",
        "        print('in, n =', n)\n",
        "        result = n *  factorial(n-1)\n",
        "        print('out, n =', n)\n",
        "        return  result\n",
        "\n",
        "factorial(4)"
      ]
    },
    {
      "cell_type": "markdown",
      "metadata": {
        "id": "gcLtNzJloFCa"
      },
      "source": [
        "По принтам обратите внимание на то, как происходит рекурсивное погружение погружение и всплытие."
      ]
    }
  ],
  "metadata": {
    "colab": {
      "include_colab_link": true,
      "provenance": [],
      "toc_visible": true
    },
    "kernelspec": {
      "display_name": "Python 3 (ipykernel)",
      "language": "python",
      "name": "python3"
    },
    "language_info": {
      "codemirror_mode": {
        "name": "ipython",
        "version": 3
      },
      "file_extension": ".py",
      "mimetype": "text/x-python",
      "name": "python",
      "nbconvert_exporter": "python",
      "pygments_lexer": "ipython3",
      "version": "3.10.10"
    },
    "vscode": {
      "interpreter": {
        "hash": "e20f72739ffc6c3cc505414aaab49afe57115ca17c783e620ccfd5d632835ddf"
      }
    }
  },
  "nbformat": 4,
  "nbformat_minor": 0
}
