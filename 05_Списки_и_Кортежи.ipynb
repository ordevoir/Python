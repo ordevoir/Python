{
  "cells": [
    {
      "cell_type": "markdown",
      "metadata": {
        "id": "view-in-github",
        "colab_type": "text"
      },
      "source": [
        "<a href=\"https://colab.research.google.com/github/ordevoir/Python/blob/main/05_%D0%A1%D0%BF%D0%B8%D1%81%D0%BA%D0%B8_%D0%B8_%D0%9A%D0%BE%D1%80%D1%82%D0%B5%D0%B6%D0%B8.ipynb\" target=\"_parent\"><img src=\"https://colab.research.google.com/assets/colab-badge.svg\" alt=\"Open In Colab\"/></a>"
      ]
    },
    {
      "cell_type": "markdown",
      "metadata": {
        "id": "Sp2aIyIilUEU"
      },
      "source": [
        "# Списки (list)\n",
        "\n",
        "Математическая структура **списков** (*list* or *sequence*) представляет собой **последовательность** элементов $a_0, a_1, a_2,…,a_{n-1}$. Это могут быть элементы одного типа, если последовательность однородная (гомогенная), или разных типов, если последовательность гетерогенная.\n",
        "\n",
        "Количество элементов $n$ называется длиной списка (*length*). В случае $n=0$ имеем пустой список, который не содержит элементов.\n",
        "\n",
        "Важное свойство списка заключается в том, что его элементы линейно упорядочены в соответствии с их позицией в списке: элемент $a_i$ следует за элементом $a_{i-1}$ и предшествует элементу $a_{i+1}$. Индекс элемента соответствует его позиции в списке. В программировании индексирование элемента обычно начинается с $0$. При этом первый элемент в списке будет иметь индекс $0$, а последний элемент – индекс $n-1$.\n",
        "\n",
        "В Python список реализован в виде структуры данных, представленной классом `list`, позволяющая создавать гетерогенные списки произвольной изменяемой длины. Фактически, список в Python представляет собой массив указателей, что делает `list` на нижнем уровне гомогенной структурой, однако, за счет того, что указатели могут ссылаться на объекты произвольной природы, последовательность становится гетерогенной."
      ]
    },
    {
      "cell_type": "markdown",
      "metadata": {
        "id": "j4CM11atlUEW"
      },
      "source": [
        "## Способы создания списков\n",
        "\n",
        "Список можно создать путем явного задания последовательности объектов списка:"
      ]
    },
    {
      "cell_type": "code",
      "execution_count": 1,
      "metadata": {
        "id": "sPiNJtAvlUEW"
      },
      "outputs": [],
      "source": [
        "Y = [0, 1, 3, 4, 5, 3, 1, 1]"
      ]
    },
    {
      "cell_type": "markdown",
      "metadata": {
        "id": "9SSbBQI6lUEX"
      },
      "source": [
        "Можно создать пустой список и затем добавить в него элементы:"
      ]
    },
    {
      "cell_type": "code",
      "execution_count": 2,
      "metadata": {
        "id": "y96Yf9DilUEX",
        "outputId": "38a99369-f9f2-428f-db03-423c14dfddce",
        "colab": {
          "base_uri": "https://localhost:8080/"
        }
      },
      "outputs": [
        {
          "output_type": "stream",
          "name": "stdout",
          "text": [
            "[0, 1, 4, 9, 16, 25]\n"
          ]
        }
      ],
      "source": [
        "Z = list()          #   <=>  Z = []\n",
        "for i in range(6):\n",
        "    Z.append(i**2)\n",
        "\n",
        "print(Z)"
      ]
    },
    {
      "cell_type": "markdown",
      "metadata": {
        "id": "NXRhAWQ3b35g"
      },
      "source": [
        "Важным свойством списков является их **изменяемость** (*mutability*). В отличие от базовых типов, которые не могут быть изменены после того, как они созданы, списки можно модифицировать.\n",
        "\n",
        "Ниже приведены способы генерации списков."
      ]
    },
    {
      "cell_type": "markdown",
      "metadata": {
        "id": "q90DaD7QlUEX"
      },
      "source": [
        "## Доступ к элементам по индексу"
      ]
    },
    {
      "cell_type": "code",
      "execution_count": 3,
      "metadata": {
        "id": "NvBntFLalUEY",
        "outputId": "4a9a3a74-6611-4d1c-cd41-ef55d4055293",
        "colab": {
          "base_uri": "https://localhost:8080/"
        }
      },
      "outputs": [
        {
          "output_type": "stream",
          "name": "stdout",
          "text": [
            "4\n",
            "[0, 1, 3, 4, 155, 3, 1, 1]\n"
          ]
        }
      ],
      "source": [
        "print(Y[3])     # получение элемента по индексу\n",
        "Y[4] = 155      # изменение элемента по индексу\n",
        "print(Y)"
      ]
    },
    {
      "cell_type": "markdown",
      "metadata": {
        "id": "ePn3uTrTlUEY"
      },
      "source": [
        "Можно перебрать все элементы списка при помощи оператора `in`:"
      ]
    },
    {
      "cell_type": "code",
      "execution_count": 4,
      "metadata": {
        "id": "sLonYVWHlUEY",
        "outputId": "458a2aac-19ad-4b89-a165-4aef1f055300",
        "colab": {
          "base_uri": "https://localhost:8080/"
        }
      },
      "outputs": [
        {
          "output_type": "stream",
          "name": "stdout",
          "text": [
            "0\n",
            "1\n",
            "3\n",
            "4\n",
            "155\n",
            "3\n",
            "1\n",
            "1\n"
          ]
        }
      ],
      "source": [
        "for value in Y:\n",
        "    print(value)"
      ]
    },
    {
      "cell_type": "markdown",
      "metadata": {
        "id": "WZ-Hx6u5lUEY"
      },
      "source": [
        "## Основные методы класса `list`"
      ]
    },
    {
      "cell_type": "code",
      "execution_count": 5,
      "metadata": {
        "id": "Np4879NslUEY",
        "outputId": "60b94bbb-803b-4883-c358-a4cbb197a83c",
        "colab": {
          "base_uri": "https://localhost:8080/"
        }
      },
      "outputs": [
        {
          "output_type": "stream",
          "name": "stdout",
          "text": [
            "25\n",
            "1\n",
            "2 возвращает количество элементов со значением 1\n",
            "1 возвращает индекс первого элемента со значением 3\n"
          ]
        }
      ],
      "source": [
        "Y.append(6)         # добавляет в конец списка объект 6\n",
        "Y.insert(4, 12)     # вставляет объект 12 в позицию 4\n",
        "Y.remove(1)         # удаляет из списка первый элемент со значением 1\n",
        "Y.extend(Z)\n",
        "print(Y.pop())      # удаляет и возвращаяет последний элемент\n",
        "print(Y.pop(6))     # удаляет и возвращаяет элемент с индексом 6\n",
        "print(Y.count(1),   'возвращает количество элементов со значением 1')\n",
        "print(Y.index(3),   'возвращает индекс первого элемента со значением 3')"
      ]
    },
    {
      "cell_type": "markdown",
      "metadata": {
        "id": "2dIxOT9MlUEY"
      },
      "source": [
        "## Поведение операторов `+` и `in`"
      ]
    },
    {
      "cell_type": "code",
      "execution_count": 6,
      "metadata": {
        "id": "eOKW-YVxlUEZ",
        "outputId": "8d948ee5-5b7e-41e8-b848-b78f7e627006",
        "colab": {
          "base_uri": "https://localhost:8080/"
        }
      },
      "outputs": [
        {
          "output_type": "stream",
          "name": "stdout",
          "text": [
            " Y = [0, 3, 4, 12, 155, 3, 1, 6, 0, 1, 4, 9, 16] \n",
            "Z = [0, 1, 4, 9, 16, 25]\n",
            " Y + Z = [0, 3, 4, 12, 155, 3, 1, 6, 0, 1, 4, 9, 16, 0, 1, 4, 9, 16, 25]\n",
            " 12 in Y = True\n"
          ]
        }
      ],
      "source": [
        "print(f\"{ Y = } \\n{Z = }\")\n",
        "print(f\"{ Y + Z = }\")        # оператор + производит конкатенацию двух списков\n",
        "print(f\"{ 12 in Y = }\")      # возвращает True, если элемент 12 содержится в Y"
      ]
    },
    {
      "cell_type": "markdown",
      "metadata": {
        "id": "NtLbFPjMlUEZ"
      },
      "source": [
        "## Срезы\n",
        "\n",
        "Срезы представляют собой способ получения **подпоследовательности** (*subsequence*) из последовательности (`list`, `str`, `tuple` и т.д.)."
      ]
    },
    {
      "cell_type": "code",
      "execution_count": 7,
      "metadata": {
        "id": "KJ9kYV6ElUEZ",
        "outputId": "cc65eb65-a385-4695-faad-539d09e6971b",
        "colab": {
          "base_uri": "https://localhost:8080/"
        }
      },
      "outputs": [
        {
          "output_type": "stream",
          "name": "stdout",
          "text": [
            "s = ['a', 'b', 'c', 'd']\n",
            "s[:2]  = ['a', 'b'] \n",
            "s[2:]  = ['c', 'd'] \n",
            "s[:-2] = ['a', 'b'] \n",
            "s[-2:] = ['c', 'd']\n"
          ]
        }
      ],
      "source": [
        "s = ['a', 'b', 'c', 'd']\n",
        "\n",
        "print(f\"{s = }\")\n",
        "print(f\"{s[:2]  = } \\n{s[2:]  = } \\n{s[:-2] = } \\n{s[-2:] = }\")"
      ]
    },
    {
      "cell_type": "code",
      "execution_count": 8,
      "metadata": {
        "id": "rBhrP6FqlUEZ",
        "outputId": "14ed76df-6751-4398-bda5-6e2dd21a1404",
        "colab": {
          "base_uri": "https://localhost:8080/"
        }
      },
      "outputs": [
        {
          "output_type": "stream",
          "name": "stdout",
          "text": [
            "  L         = [0, 1, 2, 3, 4, 5, 6, 7, 8, 9, 10, 11]\n",
            "  L[1::2]   = [1, 3, 5, 7, 9, 11]\n",
            "  L[::2]    = [0, 2, 4, 6, 8, 10]\n",
            "  L[::3]    = [0, 3, 6, 9]\n",
            "  L[5::4]   = [5, 9]\n",
            "  L[3:10:2] = [3, 5, 7, 9]\n"
          ]
        }
      ],
      "source": [
        "L = list(range(12))         # еще один способ создания списка\n",
        "print(f'{  L         = }')\n",
        "print(f'{  L[1::2]   = }')  # все элементы с нечетными индексами\n",
        "print(f'{  L[::2]    = }')  # все элементы с четными индексами [0::2]\n",
        "print(f'{  L[::3]    = }')  # каждый третий элемент начиная с нулевого\n",
        "print(f'{  L[5::4]   = }')  # каждый четвертый элемент начиная с 5\n",
        "print(f'{  L[3:10:2] = }')  # каждый второй элемент в диапазоне от 3 до 10"
      ]
    },
    {
      "cell_type": "markdown",
      "metadata": {
        "id": "A8htgOFxJYAY"
      },
      "source": [
        "## Генерация списков (*listcomp*)\n",
        "\n",
        "**Списковое включение** (*List Comprehension*) или **генератор списков** позволяет генерировать списки, и, как правило, выполняется быстрее, чем эквивалент с циклом, иногда даже гораздо быстрее. Однако, генератор списков сложнее отладить, потому что нельзя поместить в него инструкцию `print()`.\n",
        "\n",
        "Списковое включение может делать все, что умеют функции `map()` и `filter()`, т.е. производить отображение и фильтрацию:"
      ]
    },
    {
      "cell_type": "code",
      "execution_count": 9,
      "metadata": {
        "id": "UPTWt8c9JYAY",
        "outputId": "0845331d-97c3-4a87-e28d-761295d78ea6",
        "colab": {
          "base_uri": "https://localhost:8080/"
        }
      },
      "outputs": [
        {
          "output_type": "execute_result",
          "data": {
            "text/plain": [
              "['S', 'O', 'M', 'E', ' ', 'T', 'E', 'X', 'T']"
            ]
          },
          "metadata": {},
          "execution_count": 9
        }
      ],
      "source": [
        "# отображение (Map):\n",
        "[s.capitalize() for s in 'Some text']"
      ]
    },
    {
      "cell_type": "code",
      "execution_count": 10,
      "metadata": {
        "id": "Qy8qGtW7JYAY",
        "outputId": "da50668b-1ad1-4e96-eca6-834123ec8e27",
        "colab": {
          "base_uri": "https://localhost:8080/"
        }
      },
      "outputs": [
        {
          "output_type": "execute_result",
          "data": {
            "text/plain": [
              "['S', 'T']"
            ]
          },
          "metadata": {},
          "execution_count": 10
        }
      ],
      "source": [
        "# фильтрация (Filter):\n",
        "[s for s in 'Some Text' if s.isupper()]\n",
        "# isupper() вернет True, если s - загланая буква"
      ]
    },
    {
      "cell_type": "markdown",
      "metadata": {
        "id": "19jAJ6DoJYAY"
      },
      "source": [
        "Пусть есть массив `A` и мы хотим создать массив `B` и записать в него квадраты четных неотрицательных элеметов з A и нули, в тех случаях, когда элемент четный отрицательный. Остальные элементы (нечетные) должны быть отфильтрованы."
      ]
    },
    {
      "cell_type": "code",
      "execution_count": 11,
      "metadata": {
        "id": "YLiZyWCxJYAY",
        "outputId": "453187c4-4280-48f6-9e2d-565dbf4118fb",
        "colab": {
          "base_uri": "https://localhost:8080/"
        }
      },
      "outputs": [
        {
          "output_type": "stream",
          "name": "stdout",
          "text": [
            "A = [2, 3, 4, 6, -2, 1, -9]\n",
            "B = [4, 16, 36, 0]\n"
          ]
        }
      ],
      "source": [
        "A = [2, 3, 4, 6, -2, 1, -9]\n",
        "B = [(0 if x < 0 else x ** 2) for x in A if x % 2 == 0]\n",
        "       # тернарный оператор\n",
        "print(f\"{A = }\\n{B = }\")"
      ]
    },
    {
      "cell_type": "code",
      "execution_count": 12,
      "metadata": {
        "id": "IN8yUncRJYAY"
      },
      "outputs": [],
      "source": [
        "A, B = [0, 1, 2], [4, 5, 6]"
      ]
    },
    {
      "cell_type": "markdown",
      "metadata": {
        "id": "gLGFXtJoJYAZ"
      },
      "source": [
        "На базе списков `A`, `B` сгенерируем список, который будет содержать кортежи, с парами из элементов `A` и `B`, соответствующих между собой индексами."
      ]
    },
    {
      "cell_type": "code",
      "execution_count": 13,
      "metadata": {
        "id": "4z7UyR0zJYAZ",
        "outputId": "a34f4e7e-0e0c-48ba-f2dd-837ad17dadc5",
        "colab": {
          "base_uri": "https://localhost:8080/"
        }
      },
      "outputs": [
        {
          "output_type": "stream",
          "name": "stdout",
          "text": [
            "D = [(0, 4), (1, 5), (2, 6)]\n",
            "E = [(0, 4), (1, 5), (2, 6)]\n"
          ]
        }
      ],
      "source": [
        "D = [(a, b) for a, b in zip(A, B)]          # первый способ\n",
        "E = [(A[i], B[i]) for i in range(len(A))]   # второй способ\n",
        "print(f\"{D = }\\n{E = }\")"
      ]
    },
    {
      "cell_type": "markdown",
      "metadata": {
        "id": "77whUPDiJYAZ"
      },
      "source": [
        "На базе списков `A`, `B` сгенерируем список `E`, который будет содержать кортежи декартового произведения списков."
      ]
    },
    {
      "cell_type": "code",
      "execution_count": 14,
      "metadata": {
        "id": "pj_c_v6iJYAZ",
        "outputId": "c081c600-a1a9-477c-d3cf-88ad95d82e55",
        "colab": {
          "base_uri": "https://localhost:8080/"
        }
      },
      "outputs": [
        {
          "output_type": "stream",
          "name": "stdout",
          "text": [
            "[(0, 4), (0, 5), (0, 6), (1, 4), (1, 5), (1, 6), (2, 4), (2, 5), (2, 6)]\n"
          ]
        }
      ],
      "source": [
        "E = [(a, b) for a in A for b in B]\n",
        "print(E)"
      ]
    },
    {
      "cell_type": "markdown",
      "metadata": {
        "id": "Ar_MThEWJYAZ"
      },
      "source": [
        "Генерация вложенных списков. Создадим матрицу $n \\times m$ из случайных чисел."
      ]
    },
    {
      "cell_type": "code",
      "execution_count": 15,
      "metadata": {
        "id": "d2VZGgxpJYAZ",
        "outputId": "929d1fc3-dffb-421d-fc27-f5383a90d646",
        "colab": {
          "base_uri": "https://localhost:8080/"
        }
      },
      "outputs": [
        {
          "output_type": "execute_result",
          "data": {
            "text/plain": [
              "[[15, 2, 15, 12, 14],\n",
              " [13, 6, 9, 0, 4],\n",
              " [10, 6, 8, 10, 13],\n",
              " [12, 15, 14, 9, 4],\n",
              " [8, 0, 12, 1, 2]]"
            ]
          },
          "metadata": {},
          "execution_count": 15
        }
      ],
      "source": [
        "from random import randint\n",
        "\n",
        "n, m = 3, 5\n",
        "matrix = [[randint(0, n*m) for i in range(m)] for i in range(m)]\n",
        "matrix"
      ]
    },
    {
      "cell_type": "markdown",
      "metadata": {
        "id": "xO-nmxbqJYAZ"
      },
      "source": [
        "# Кортежи (tuple)\n",
        "\n",
        "Кортеж – это **неизменяемая** (*immutable*) упорядоченная последовательность объектов. Как и список, кортеж может содержать элементы разных типов и поддерживает индексацию, срезы, итерацию. Главное отличие от списка – элементы кортежа **нельзя изменять** после создания (нельзя присваивать по индексу, добавлять или удалять элементы).\n",
        "\n",
        "Когда кортеж полезен?\n",
        "\n",
        "- когда нужны «запечатанные» (зафиксированные) данные;\n",
        "- как ключ в словаре и элемент множества;\n",
        "- для множественного присваивания и распаковки."
      ]
    },
    {
      "cell_type": "markdown",
      "metadata": {
        "id": "WfWSX7wBJYAZ"
      },
      "source": [
        "## Создание кортежей\n",
        "\n",
        "Литералы кортежей"
      ]
    },
    {
      "cell_type": "code",
      "execution_count": 16,
      "metadata": {
        "id": "8Bs0cBqWJYAa",
        "outputId": "0175c707-3b45-45ef-a59d-82933e218b6e",
        "colab": {
          "base_uri": "https://localhost:8080/"
        }
      },
      "outputs": [
        {
          "output_type": "execute_result",
          "data": {
            "text/plain": [
              "((), (10, 20), (1, 'a', True))"
            ]
          },
          "metadata": {},
          "execution_count": 16
        }
      ],
      "source": [
        "empty = ()                 # пустой кортеж\n",
        "pair  = (10, 20)           # из двух элементов\n",
        "mix   = (1, 'a', True)     # элементы разных типов\n",
        "         # скобки можно опускать при «упаковке»\n",
        "\n",
        "empty, pair, mix"
      ]
    },
    {
      "cell_type": "markdown",
      "metadata": {
        "id": "HPHk_BgpJYAa"
      },
      "source": [
        "Функция `tuple()` для преобразований"
      ]
    },
    {
      "cell_type": "code",
      "execution_count": 17,
      "metadata": {
        "id": "Zxp3rwyrJYAa",
        "outputId": "06cd85d1-c715-4aa0-e422-40af57ff41cb",
        "colab": {
          "base_uri": "https://localhost:8080/"
        }
      },
      "outputs": [
        {
          "output_type": "execute_result",
          "data": {
            "text/plain": [
              "((1, 2, 3), ('a', 'b', 'c'))"
            ]
          },
          "metadata": {},
          "execution_count": 17
        }
      ],
      "source": [
        "from_list = tuple([1, 2, 3])\n",
        "from_str  = tuple('abc')    # ('a','b','c')\n",
        "\n",
        "from_list, from_str"
      ]
    },
    {
      "cell_type": "markdown",
      "metadata": {
        "id": "Lsvru7hHJYAa"
      },
      "source": [
        "Одноэлементный кортеж"
      ]
    },
    {
      "cell_type": "code",
      "execution_count": 18,
      "metadata": {
        "id": "bAMkXIL0JYAa",
        "outputId": "4dcbca81-1e78-4c24-acdd-e199b5291c28",
        "colab": {
          "base_uri": "https://localhost:8080/"
        }
      },
      "outputs": [
        {
          "output_type": "execute_result",
          "data": {
            "text/plain": [
              "(int, (1,), (1,))"
            ]
          },
          "metadata": {},
          "execution_count": 18
        }
      ],
      "source": [
        "\n",
        "not_tuple = (1)             # это просто число 1\n",
        "single    = (1,)            # одноэлементный кортеж, нужна запятая\n",
        "single_2  = 1,\n",
        "\n",
        "type(not_tuple), single, single_2"
      ]
    },
    {
      "cell_type": "markdown",
      "metadata": {
        "id": "fUtHhIn_JYAa"
      },
      "source": [
        "## Методы кортежей"
      ]
    },
    {
      "cell_type": "code",
      "execution_count": 19,
      "metadata": {
        "id": "kfsQ34sFJYAa",
        "outputId": "7344eae6-4487-438f-a049-ef6ecc5b2f9d",
        "colab": {
          "base_uri": "https://localhost:8080/"
        }
      },
      "outputs": [
        {
          "output_type": "stream",
          "name": "stdout",
          "text": [
            "3\n",
            "3\n"
          ]
        }
      ],
      "source": [
        "t = (1, 2, 2, 3, 2, 4)\n",
        "print(t.count(2))  # сколько раз встречается 2\n",
        "print(t.index(3))  # индекс первого вхождения 3"
      ]
    }
  ],
  "metadata": {
    "colab": {
      "provenance": [],
      "toc_visible": true,
      "include_colab_link": true
    },
    "kernelspec": {
      "display_name": "marl",
      "language": "python",
      "name": "python3"
    },
    "language_info": {
      "codemirror_mode": {
        "name": "ipython",
        "version": 3
      },
      "file_extension": ".py",
      "mimetype": "text/x-python",
      "name": "python",
      "nbconvert_exporter": "python",
      "pygments_lexer": "ipython3",
      "version": "3.12.11"
    }
  },
  "nbformat": 4,
  "nbformat_minor": 0
}