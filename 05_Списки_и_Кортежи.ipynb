{
  "cells": [
    {
      "cell_type": "markdown",
      "metadata": {
        "id": "Sp2aIyIilUEU"
      },
      "source": [
        "# Списки (list)\n",
        "\n",
        "Математическая структура **списков** (*list* or *sequence*) представляет собой **последовательность** элементов $a_0, a_1, a_2,…,a_{n-1}$. Это могут быть элементы одного типа, если последовательность однородная (гомогенная), или разных типов, если последовательность гетерогенная.\n",
        "\n",
        "Количество элементов $n$ называется длиной списка (*length*). В случае $n=0$ имеем пустой список, который не содержит элементов.\n",
        "\n",
        "Важное свойство списка заключается в том, что его элементы линейно упорядочены в соответствии с их позицией в списке: элемент $a_i$ следует за элементом $a_{i-1}$ и предшествует элементу $a_{i+1}$. Индекс элемента соответствует его позиции в списке. В программировании индексирование элемента обычно начинается с $0$. При этом первый элемент в списке будет иметь индекс $0$, а последний элемент – индекс $n-1$.\n",
        "\n",
        "В Python список реализован в виде структуры данных, представленной классом `list`, позволяющая создавать гетерогенные списки произвольной изменяемой длины. Фактически, список в Python представляет собой массив указателей, что делает `list` на нижнем уровне гомогенной структурой, однако, за счет того, что указатели могут ссылаться на объекты произвольной природы, последовательность становится гетерогенной."
      ]
    },
    {
      "cell_type": "markdown",
      "metadata": {
        "id": "j4CM11atlUEW"
      },
      "source": [
        "## Способы создания списков\n",
        "\n",
        "Список можно создать путем явного задания последовательности объектов списка:"
      ]
    },
    {
      "cell_type": "code",
      "execution_count": 5,
      "metadata": {
        "id": "sPiNJtAvlUEW"
      },
      "outputs": [],
      "source": [
        "Y = [0, 1, 3, 4, 5, 3, 1, 1]"
      ]
    },
    {
      "cell_type": "markdown",
      "metadata": {
        "id": "9SSbBQI6lUEX"
      },
      "source": [
        "Можно создать пустой список и затем добавить в него элементы:"
      ]
    },
    {
      "cell_type": "code",
      "execution_count": 6,
      "metadata": {
        "id": "y96Yf9DilUEX"
      },
      "outputs": [
        {
          "name": "stdout",
          "output_type": "stream",
          "text": [
            "[0, 1, 4, 9, 16, 25]\n"
          ]
        }
      ],
      "source": [
        "Z = list()          #   <=>  Z = []\n",
        "for i in range(6):\n",
        "    Z.append(i**2)\n",
        "\n",
        "print(Z)"
      ]
    },
    {
      "cell_type": "markdown",
      "metadata": {
        "id": "NXRhAWQ3b35g"
      },
      "source": [
        "Важным свойством списков является их **изменяемость** (*mutability*). В отличие от базовых типов, которые не могут быть изменены после того, как они созданы, списки можно модифицировать.\n",
        "\n",
        "Ниже приведены способы генерации списков."
      ]
    },
    {
      "cell_type": "markdown",
      "metadata": {
        "id": "q90DaD7QlUEX"
      },
      "source": [
        "## Доступ к элементам по индексу"
      ]
    },
    {
      "cell_type": "code",
      "execution_count": 7,
      "metadata": {
        "id": "NvBntFLalUEY"
      },
      "outputs": [
        {
          "name": "stdout",
          "output_type": "stream",
          "text": [
            "4\n",
            "[0, 1, 3, 4, 155, 3, 1, 1]\n"
          ]
        }
      ],
      "source": [
        "print(Y[3])     # получение элемента по индексу\n",
        "Y[4] = 155      # изменение элемента по индексу\n",
        "print(Y)"
      ]
    },
    {
      "cell_type": "markdown",
      "metadata": {
        "id": "ePn3uTrTlUEY"
      },
      "source": [
        "Можно перебрать все элементы списка при помощи оператора `in`:"
      ]
    },
    {
      "cell_type": "code",
      "execution_count": 8,
      "metadata": {
        "id": "sLonYVWHlUEY"
      },
      "outputs": [
        {
          "name": "stdout",
          "output_type": "stream",
          "text": [
            "0\n",
            "1\n",
            "3\n",
            "4\n",
            "155\n",
            "3\n",
            "1\n",
            "1\n"
          ]
        }
      ],
      "source": [
        "for value in Y:\n",
        "    print(value)"
      ]
    },
    {
      "cell_type": "markdown",
      "metadata": {
        "id": "WZ-Hx6u5lUEY"
      },
      "source": [
        "## Основные методы класса `list`"
      ]
    },
    {
      "cell_type": "code",
      "execution_count": 9,
      "metadata": {
        "id": "Np4879NslUEY"
      },
      "outputs": [
        {
          "name": "stdout",
          "output_type": "stream",
          "text": [
            "25\n",
            "1\n",
            "2 возвращает количество элементов со значением 1\n",
            "1 возвращает индекс первого элемента со значением 3\n"
          ]
        }
      ],
      "source": [
        "Y.append(6)         # добавляет в конец списка объект 6\n",
        "Y.insert(4, 12)     # вставляет объект 12 в позицию 4\n",
        "Y.remove(1)         # удаляет из списка первый элемент со значением 1\n",
        "Y.extend(Z)\n",
        "print(Y.pop())      # удаляет и возвращаяет последний элемент\n",
        "print(Y.pop(6))     # удаляет и возвращаяет элемент с индексом 6\n",
        "print(Y.count(1),   'возвращает количество элементов со значением 1')\n",
        "print(Y.index(3),   'возвращает индекс первого элемента со значением 3')"
      ]
    },
    {
      "cell_type": "markdown",
      "metadata": {
        "id": "2dIxOT9MlUEY"
      },
      "source": [
        "## Поведение операторов `+` и `in`"
      ]
    },
    {
      "cell_type": "code",
      "execution_count": 10,
      "metadata": {
        "id": "eOKW-YVxlUEZ"
      },
      "outputs": [
        {
          "name": "stdout",
          "output_type": "stream",
          "text": [
            " Y = [0, 3, 4, 12, 155, 3, 1, 6, 0, 1, 4, 9, 16] \n",
            "Z = [0, 1, 4, 9, 16, 25]\n",
            " Y + Z = [0, 3, 4, 12, 155, 3, 1, 6, 0, 1, 4, 9, 16, 0, 1, 4, 9, 16, 25]\n",
            " 12 in Y = True\n"
          ]
        }
      ],
      "source": [
        "print(f\"{ Y = } \\n{Z = }\")\n",
        "print(f\"{ Y + Z = }\")        # оператор + производит конкатенацию двух списков\n",
        "print(f\"{ 12 in Y = }\")      # возвращает True, если элемент 12 содержится в Y"
      ]
    },
    {
      "cell_type": "markdown",
      "metadata": {
        "id": "NtLbFPjMlUEZ"
      },
      "source": [
        "## Срезы\n",
        "\n",
        "Срезы представляют собой способ получения **подпоследовательности** (*subsequence*) из последовательности (`list`, `str`, `tuple` и т.д.)."
      ]
    },
    {
      "cell_type": "code",
      "execution_count": 11,
      "metadata": {
        "id": "KJ9kYV6ElUEZ"
      },
      "outputs": [
        {
          "name": "stdout",
          "output_type": "stream",
          "text": [
            "s = ['a', 'b', 'c', 'd']\n",
            "s[:2]  = ['a', 'b'] \n",
            "s[2:]  = ['c', 'd'] \n",
            "s[:-2] = ['a', 'b'] \n",
            "s[-2:] = ['c', 'd']\n"
          ]
        }
      ],
      "source": [
        "s = ['a', 'b', 'c', 'd']\n",
        "\n",
        "print(f\"{s = }\")\n",
        "print(f\"{s[:2]  = } \\n{s[2:]  = } \\n{s[:-2] = } \\n{s[-2:] = }\")"
      ]
    },
    {
      "cell_type": "code",
      "execution_count": 12,
      "metadata": {
        "id": "rBhrP6FqlUEZ"
      },
      "outputs": [
        {
          "name": "stdout",
          "output_type": "stream",
          "text": [
            "  L         = [0, 1, 2, 3, 4, 5, 6, 7, 8, 9, 10, 11]\n",
            "  L[1::2]   = [1, 3, 5, 7, 9, 11]\n",
            "  L[::2]    = [0, 2, 4, 6, 8, 10]\n",
            "  L[::3]    = [0, 3, 6, 9]\n",
            "  L[5::4]   = [5, 9]\n",
            "  L[3:10:2] = [3, 5, 7, 9]\n"
          ]
        }
      ],
      "source": [
        "L = list(range(12))         # еще один способ создания списка\n",
        "print(f'{  L         = }')\n",
        "print(f'{  L[1::2]   = }')  # все элементы с нечетными индексами\n",
        "print(f'{  L[::2]    = }')  # все элементы с четными индексами [0::2]\n",
        "print(f'{  L[::3]    = }')  # каждый третий элемент начиная с нулевого\n",
        "print(f'{  L[5::4]   = }')  # каждый четвертый элемент начиная с 5\n",
        "print(f'{  L[3:10:2] = }')  # каждый второй элемент в диапазоне от 3 до 10"
      ]
    },
    {
      "cell_type": "markdown",
      "metadata": {},
      "source": [
        "## Генерация списков (*listcomp*)\n",
        "\n",
        "**Списковое включение** (*List Comprehension*) или **генератор списков** позволяет генерировать списки, и, как правило, выполняется быстрее, чем эквивалент с циклом, иногда даже гораздо быстрее. Однако, генератор списков сложнее отладить, потому что нельзя поместить в него инструкцию `print()`.\n",
        "\n",
        "Списковое включение может делать все, что умеют функции `map()` и `filter()`, т.е. производить отображение и фильтрацию:"
      ]
    },
    {
      "cell_type": "code",
      "execution_count": 13,
      "metadata": {},
      "outputs": [
        {
          "data": {
            "text/plain": [
              "['S', 'O', 'M', 'E', ' ', 'T', 'E', 'X', 'T']"
            ]
          },
          "execution_count": 13,
          "metadata": {},
          "output_type": "execute_result"
        }
      ],
      "source": [
        "# отображение (Map):\n",
        "[s.capitalize() for s in 'Some text']"
      ]
    },
    {
      "cell_type": "code",
      "execution_count": 14,
      "metadata": {},
      "outputs": [
        {
          "data": {
            "text/plain": [
              "['S', 'T']"
            ]
          },
          "execution_count": 14,
          "metadata": {},
          "output_type": "execute_result"
        }
      ],
      "source": [
        "# фильтрация (Filter):\n",
        "[s for s in 'Some Text' if s.isupper()]\n",
        "# isupper() вернет True, если s - загланая буква"
      ]
    },
    {
      "cell_type": "markdown",
      "metadata": {},
      "source": [
        "Пусть есть массив `A` и мы хотим создать массив `B` и записать в него квадраты четных неотрицательных элеметов з A и нули, в тех случаях, когда элемент четный отрицательный. Остальные элементы (нечетные) должны быть отфильтрованы."
      ]
    },
    {
      "cell_type": "code",
      "execution_count": 15,
      "metadata": {},
      "outputs": [
        {
          "name": "stdout",
          "output_type": "stream",
          "text": [
            "A = [2, 3, 4, 6, -2, 1, -9]\n",
            "B = [4, 16, 36, 0]\n"
          ]
        }
      ],
      "source": [
        "A = [2, 3, 4, 6, -2, 1, -9]\n",
        "B = [(0 if x < 0 else x ** 2) for x in A if x % 2 == 0]\n",
        "       # тернарный оператор\n",
        "print(f\"{A = }\\n{B = }\")"
      ]
    },
    {
      "cell_type": "code",
      "execution_count": 16,
      "metadata": {},
      "outputs": [],
      "source": [
        "A, B = [0, 1, 2], [4, 5, 6]"
      ]
    },
    {
      "cell_type": "markdown",
      "metadata": {},
      "source": [
        "На базе списков `A`, `B` сгенерируем список, который будет содержать кортежи, с парами из элементов `A` и `B`, соответствующих между собой индексами."
      ]
    },
    {
      "cell_type": "code",
      "execution_count": 17,
      "metadata": {},
      "outputs": [
        {
          "name": "stdout",
          "output_type": "stream",
          "text": [
            "D = [(0, 4), (1, 5), (2, 6)]\n",
            "E = [(0, 4), (1, 5), (2, 6)]\n"
          ]
        }
      ],
      "source": [
        "D = [(a, b) for a, b in zip(A, B)]          # первый способ\n",
        "E = [(A[i], B[i]) for i in range(len(A))]   # второй способ\n",
        "print(f\"{D = }\\n{E = }\")"
      ]
    },
    {
      "cell_type": "markdown",
      "metadata": {},
      "source": [
        "На базе списков `A`, `B` сгенерируем список `E`, который будет содержать кортежи декартового произведения списков."
      ]
    },
    {
      "cell_type": "code",
      "execution_count": 18,
      "metadata": {},
      "outputs": [
        {
          "name": "stdout",
          "output_type": "stream",
          "text": [
            "[(0, 4), (0, 5), (0, 6), (1, 4), (1, 5), (1, 6), (2, 4), (2, 5), (2, 6)]\n"
          ]
        }
      ],
      "source": [
        "E = [(a, b) for a in A for b in B]\n",
        "print(E)"
      ]
    },
    {
      "cell_type": "markdown",
      "metadata": {},
      "source": [
        "Генерация вложенных списков. Создадим матрицу $n \\times m$ из случайных чисел."
      ]
    },
    {
      "cell_type": "code",
      "execution_count": 19,
      "metadata": {},
      "outputs": [
        {
          "data": {
            "text/plain": [
              "[[5, 10, 9, 0, 7],\n",
              " [12, 7, 14, 7, 15],\n",
              " [0, 6, 8, 15, 10],\n",
              " [8, 15, 13, 3, 5],\n",
              " [14, 1, 5, 11, 8]]"
            ]
          },
          "execution_count": 19,
          "metadata": {},
          "output_type": "execute_result"
        }
      ],
      "source": [
        "from random import randint\n",
        "\n",
        "n, m = 3, 5\n",
        "matrix = [[randint(0, n*m) for i in range(m)] for i in range(m)]\n",
        "matrix"
      ]
    },
    {
      "cell_type": "markdown",
      "metadata": {},
      "source": [
        "# Кортежи (tuple)\n",
        "\n",
        "Кортеж – это **неизменяемая** (*immutable*) упорядоченная последовательность объектов. Как и список, кортеж может содержать элементы разных типов и поддерживает индексацию, срезы, итерацию. Главное отличие от списка – элементы кортежа **нельзя изменять** после создания (нельзя присваивать по индексу, добавлять или удалять элементы).\n",
        "\n",
        "Когда кортеж полезен?\n",
        "\n",
        "- когда нужны «запечатанные» (зафиксированные) данные;\n",
        "- как ключ в словаре и элемент множества;\n",
        "- для множественного присваивания и распаковки."
      ]
    },
    {
      "cell_type": "markdown",
      "metadata": {},
      "source": [
        "## Создание кортежей\n",
        "\n",
        "Литералы кортежей"
      ]
    },
    {
      "cell_type": "code",
      "execution_count": 20,
      "metadata": {},
      "outputs": [
        {
          "data": {
            "text/plain": [
              "((), (10, 20), (1, 'a', True))"
            ]
          },
          "execution_count": 20,
          "metadata": {},
          "output_type": "execute_result"
        }
      ],
      "source": [
        "empty = ()                 # пустой кортеж\n",
        "pair  = (10, 20)           # из двух элементов\n",
        "mix   = (1, 'a', True)     # элементы разных типов\n",
        "         # скобки можно опускать при «упаковке»\n",
        "\n",
        "empty, pair, mix"
      ]
    },
    {
      "cell_type": "markdown",
      "metadata": {},
      "source": [
        "Функция `tuple()` для преобразований"
      ]
    },
    {
      "cell_type": "code",
      "execution_count": 21,
      "metadata": {},
      "outputs": [
        {
          "data": {
            "text/plain": [
              "((1, 2, 3), ('a', 'b', 'c'))"
            ]
          },
          "execution_count": 21,
          "metadata": {},
          "output_type": "execute_result"
        }
      ],
      "source": [
        "from_list = tuple([1, 2, 3])\n",
        "from_str  = tuple('abc')    # ('a','b','c')\n",
        "\n",
        "from_list, from_str"
      ]
    },
    {
      "cell_type": "markdown",
      "metadata": {},
      "source": [
        "Одноэлементный кортеж"
      ]
    },
    {
      "cell_type": "code",
      "execution_count": 22,
      "metadata": {},
      "outputs": [
        {
          "data": {
            "text/plain": [
              "(int, (1,), (1,))"
            ]
          },
          "execution_count": 22,
          "metadata": {},
          "output_type": "execute_result"
        }
      ],
      "source": [
        "\n",
        "not_tuple = (1)             # это просто число 1\n",
        "single    = (1,)            # одноэлементный кортеж, нужна запятая\n",
        "single_2  = 1,     \n",
        "\n",
        "type(not_tuple), single, single_2"
      ]
    },
    {
      "cell_type": "markdown",
      "metadata": {},
      "source": [
        "## Методы кортежей"
      ]
    },
    {
      "cell_type": "code",
      "execution_count": 23,
      "metadata": {},
      "outputs": [
        {
          "name": "stdout",
          "output_type": "stream",
          "text": [
            "3\n",
            "3\n"
          ]
        }
      ],
      "source": [
        "t = (1, 2, 2, 3, 2, 4)\n",
        "print(t.count(2))  # сколько раз встречается 2\n",
        "print(t.index(3))  # индекс первого вхождения 3"
      ]
    }
  ],
  "metadata": {
    "colab": {
      "include_colab_link": true,
      "provenance": [],
      "toc_visible": true
    },
    "kernelspec": {
      "display_name": "marl",
      "language": "python",
      "name": "python3"
    },
    "language_info": {
      "codemirror_mode": {
        "name": "ipython",
        "version": 3
      },
      "file_extension": ".py",
      "mimetype": "text/x-python",
      "name": "python",
      "nbconvert_exporter": "python",
      "pygments_lexer": "ipython3",
      "version": "3.12.11"
    }
  },
  "nbformat": 4,
  "nbformat_minor": 0
}
