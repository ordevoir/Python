{
 "cells": [
  {
   "cell_type": "markdown",
   "metadata": {
    "colab_type": "text",
    "id": "view-in-github"
   },
   "source": [
    "<a href=\"https://colab.research.google.com/github/ordevoir/Misc_Private/blob/main/python.ipynb\" target=\"_parent\"><img src=\"https://colab.research.google.com/assets/colab-badge.svg\" alt=\"Open In Colab\"/></a>"
   ]
  },
  {
   "cell_type": "markdown",
   "metadata": {},
   "source": [
    "### `__call__`"
   ]
  },
  {
   "cell_type": "code",
   "execution_count": null,
   "metadata": {},
   "outputs": [],
   "source": [
    "class Rectangle:\n",
    "    def __init__(self) -> None:\n",
    "        print('init')\n",
    "        self.x = 10\n",
    "\n",
    "    def __call__(self, y):\n",
    "        print('call', self.x * y)\n",
    "\n",
    "r = Rectangle()\n",
    "r(2)"
   ]
  },
  {
   "cell_type": "markdown",
   "metadata": {},
   "source": [
    "`__add__()` переопределяет поведение оператора +, однако, этот метод работает тогда, когда объект находится слева от оператора `__radd__()`позволяет определить поведение оператора + для случая, когда объект находится справа от + (right-sid-add)"
   ]
  },
  {
   "cell_type": "code",
   "execution_count": null,
   "metadata": {},
   "outputs": [],
   "source": [
    "class Book(object):\n",
    "    def __init__(self, author, title):  # инициализатор\n",
    "        self.author = author\n",
    "        self.title = title\n",
    "\n",
    "    def __del__(self):                  # финализатор\n",
    "        print(self, 'is deleted')\n",
    "\n",
    "    def __repr__(self):\n",
    "        return f'author: {self.author} \\ntitle: {self.title}'\n",
    "\n",
    "book = Book('Hermann Hesse', title='Das Glasperlenspiel')\n",
    "print(book)"
   ]
  },
  {
   "cell_type": "markdown",
   "metadata": {},
   "source": [
    "`__repr__` орпделеяет строковое представление класса (representation), т.е. как он будтет выводиться в `print`, и как его будет конвертировать функция `str()`. Метод `__del__` отвечает за финализацию: он вызывается перед удалением объекта."
   ]
  },
  {
   "cell_type": "code",
   "execution_count": null,
   "metadata": {},
   "outputs": [],
   "source": [
    "\n",
    "book.pageCount = 255\n",
    "\n",
    "# hasattr() позволяет узнать, есть ли атрибут у объекта\n",
    "# getattr() позволяет получить значение атрибута объекта\n",
    "attr = 'pageCount'\n",
    "if hasattr(book, attr):\n",
    "    print(attr, getattr(book, attr))"
   ]
  },
  {
   "cell_type": "markdown",
   "metadata": {
    "id": "Hk1_oNxZ7BRQ"
   },
   "source": [
    "# Разное"
   ]
  },
  {
   "cell_type": "markdown",
   "metadata": {
    "id": "JoDG67c27BRQ"
   },
   "source": [
    "## Тернарный оператор (*Conditional Expression*)"
   ]
  },
  {
   "cell_type": "code",
   "execution_count": null,
   "metadata": {
    "id": "j_usv7kT7BRR",
    "outputId": "4d68ccc2-e0ea-4b1c-9ba0-b90822488d83"
   },
   "outputs": [
    {
     "name": "stdout",
     "output_type": "stream",
     "text": [
      "not this\n"
     ]
    }
   ],
   "source": [
    "s = 'this' if 10 > 12 else 'not this'   # Conditional Expression\n",
    "\n",
    "# равносильно условной инструкции:\n",
    "if 10 > 12:                             # Conditional Statement\n",
    "    s = 'this'\n",
    "else:\n",
    "    s = 'not this'\n",
    "print(s)"
   ]
  },
  {
   "cell_type": "markdown",
   "metadata": {
    "id": "FIk0-DeS7BRS"
   },
   "source": [
    "## Not a Number (`NaN`)"
   ]
  },
  {
   "cell_type": "code",
   "execution_count": null,
   "metadata": {
    "id": "iIB6-_5p7BRS",
    "outputId": "f4730a13-2553-4c3c-c481-535b3e25271b"
   },
   "outputs": [
    {
     "name": "stdout",
     "output_type": "stream",
     "text": [
      "   NaN        = nan\n",
      "   type(NaN)  = <class 'float'>\n",
      "   bool(NaN)  = True\n"
     ]
    }
   ],
   "source": [
    "NaN = float('nan')  # Not a Number\n",
    "print(f'{   NaN        = }')\n",
    "print(f'{   type(NaN)  = }')\n",
    "print(f'{   bool(NaN)  = }')\n",
    "# np.nan - так же представляет собой NaN"
   ]
  },
  {
   "cell_type": "markdown",
   "metadata": {
    "id": "fMUtv79G7BRS"
   },
   "source": [
    "## Falsy and Truthy\n",
    "\n",
    "Falsy значениями являются такие значения, которые при преобразовании в булевый тип дают `False`. Значения, которые при преобразовании дают `True` называются Truthy значениями.\n",
    "\n",
    "В условных выражениях операторов `for`, `while`, `if`, `elif` значения Falsy интерпретируются как `False`, а значения Truthy – как `True`.\n",
    "\n",
    "Числовыми Falsy значениями являются **нули**, остальные числовые значения являются Truthy.\n",
    "\n",
    "Пустые коллекции являются Falsy, а непустые - Truthy.\n",
    "\n",
    "Объект `None` является Falsy значением."
   ]
  },
  {
   "cell_type": "code",
   "execution_count": null,
   "metadata": {
    "id": "DG3HQbjU7BRT",
    "outputId": "e68bbeb3-df04-4cdb-884b-21b8cd6f5728"
   },
   "outputs": [
    {
     "name": "stdout",
     "output_type": "stream",
     "text": [
      "  bool(0)          = False\n",
      "  bool(0.)         = False\n",
      "  bool(0j)         = False\n",
      "  bool(0 + 0j)     = False\n",
      "\n",
      "  bool(\"\")         = False\n",
      "  bool([])         = False\n",
      "  bool(())         = False\n",
      "  bool({})         = False\n",
      "  bool(dict())     = False\n",
      "  bool(range(0))   = False\n",
      "\n",
      "  bool(None)       = False\n",
      "  not None         = True\n",
      "\n",
      "  bool(NaN)        = True\n"
     ]
    }
   ],
   "source": [
    "# числа:\n",
    "print(f'{  bool(0)          = }')\n",
    "print(f'{  bool(0.)         = }')\n",
    "print(f'{  bool(0j)         = }')\n",
    "print(f'{  bool(0 + 0j)     = }\\n')\n",
    "# коллекции:\n",
    "print(f'{  bool(\"\")         = }')       # пустой string\n",
    "print(f'{  bool([])         = }')       # пустой list\n",
    "print(f'{  bool(())         = }')       # пустой tuple\n",
    "print(f'{  bool({})         = }')       # пустой set\n",
    "print(f'{  bool(dict())     = }')       # пустой dictionary\n",
    "print(f'{  bool(range(0))   = }\\n')     # пустой range\n",
    "# тип None:\n",
    "print(f'{  bool(None)       = }')\n",
    "print(f'{  not None         = }\\n')\n",
    "# Not a number не является Falsy!\n",
    "NaN = float('nan')\n",
    "print(f'{  bool(NaN)        = }')"
   ]
  },
  {
   "cell_type": "markdown",
   "metadata": {
    "id": "dTYefLlf7BRT"
   },
   "source": [
    "## Сравнение c `bool`\n",
    "\n",
    "Оператор `is` с операндом `False` возвращает `True`, в том, и только том случае, если второй операнд также является `False` (а не просто Falsy). Подобным образом оператор `is` работает и с операндом `True`. Это связано с тем, что оператор `is` проверяет, ссылаются ли операнды на один и тот же объект.\n",
    "\n",
    "Оператор `==` с операндом `False` возвращает `True` только если второй операнд является *числовым* Falsy объектом (т.е. **нулевым**) или же непосредственно объектом `False`.\n",
    "\n",
    "Оператор `==` с операндом `True` возвращает `True` только если второй операнд является *числовым* Truthy с **единичным** значением или же непосредственно объектом `True`.\n",
    "\n",
    "При сравнении остальных стандартных типов с `False` или `True` оператор `==` будет всегда возвращать `False` (так как для них `==` означает `is`).\n",
    "\n",
    ">При сравнении непосредственно булевых значений принято использовать оператор `is` вместо оператора `==`."
   ]
  },
  {
   "cell_type": "code",
   "execution_count": null,
   "metadata": {
    "id": "p4x9n3HC7BRT",
    "outputId": "aebcc0eb-5743-4d49-d247-e709438f8961"
   },
   "outputs": [
    {
     "name": "stdout",
     "output_type": "stream",
     "text": [
      "  0 == False        = True\n",
      "  0. == False       = True\n",
      "  0j == False       = True\n",
      "  0 + 0j == False   = True\n",
      "  0 + 1j == False   = False\n",
      "\n",
      "  1 == True         = True\n",
      "  1. == True        = True\n",
      "  1 + 0j == True    = True\n",
      "  0 + 1j == True    = False\n",
      "\n",
      "  \"\" == False       = False\n",
      "  \"a\" == True       = False\n",
      "\n",
      "  None == False     = False\n",
      "  None is False     = False\n",
      "  not None is True  = True\n",
      "\n"
     ]
    }
   ],
   "source": [
    "# оператор == с нулями:\n",
    "print(f'{  0 == False        = }')\n",
    "print(f'{  0. == False       = }')\n",
    "print(f'{  0j == False       = }')\n",
    "print(f'{  0 + 0j == False   = }')\n",
    "print(f'{  0 + 1j == False   = }\\n')\n",
    "\n",
    "# оператор == с единицами:\n",
    "print(f'{  1 == True         = }')\n",
    "print(f'{  1. == True        = }')\n",
    "print(f'{  1 + 0j == True    = }')\n",
    "print(f'{  0 + 1j == True    = }\\n')\n",
    "\n",
    "# коллекции:\n",
    "print(f'{  \"\" == False       = }')       # пустой string\n",
    "print(f'{  \"a\" == True       = }\\n')       # пустой string\n",
    "\n",
    "# None:\n",
    "print(f'{  None == False     = }')\n",
    "print(f'{  None is False     = }')\n",
    "\n",
    "# здесь оператор not явно преобразовывает None в тип bool:\n",
    "print(f'{  not None is True  = }\\n')"
   ]
  },
  {
   "cell_type": "code",
   "execution_count": null,
   "metadata": {
    "id": "epRYKV8Y7BRU",
    "outputId": "daa5a4c2-d46a-440c-f312-ecc4cfe4b7e8"
   },
   "outputs": [
    {
     "name": "stdout",
     "output_type": "stream",
     "text": [
      "   False <= True  = True\n",
      "   False < True   = True\n",
      "   False > True   = False\n",
      "   False >= True  = False\n"
     ]
    }
   ],
   "source": [
    "print(f'{   False <= True  = }')\n",
    "print(f'{   False < True   = }')\n",
    "print(f'{   False > True   = }')\n",
    "print(f'{   False >= True  = }')"
   ]
  },
  {
   "cell_type": "markdown",
   "metadata": {
    "id": "qZ7jJgYj7BRU"
   },
   "source": [
    "## Стравнение c `None`"
   ]
  },
  {
   "cell_type": "markdown",
   "metadata": {
    "id": "_Z08-sjCKJju"
   },
   "source": [
    "Выражение `x is None`  выдает всегда `True`, если `x` имеет значение `None`, и `False`, в любом другом случае.\n",
    "\n",
    "Выражение  `x is not None`  выдает всегда `False`, если `x` имеет значение `None`, и `True`, в любом другом случае."
   ]
  },
  {
   "cell_type": "code",
   "execution_count": null,
   "metadata": {
    "id": "1VIxBDAS7BRU",
    "outputId": "d49c5f3f-032b-4054-aea6-5616719571a6"
   },
   "outputs": [
    {
     "name": "stdout",
     "output_type": "stream",
     "text": [
      "  None is None         = True\n",
      "  None == None         = True\n",
      "  value is None        = False\n",
      "  False is None        = False\n",
      "  True is None         = False\n",
      "\n",
      "  None is not None     = False\n",
      "  None != None         = False\n",
      "  value is not None    = True\n",
      "  False is not None    = True\n",
      "  True is not None     = True\n",
      "\n"
     ]
    }
   ],
   "source": [
    "value = 3\n",
    "\n",
    "print(f'{  None is None         = }')\n",
    "print(f'{  None == None         = }')\n",
    "\n",
    "print(f'{  value is None        = }')\n",
    "print(f'{  False is None        = }')\n",
    "print(f'{  True is None         = }\\n')\n",
    "\n",
    "print(f'{  None is not None     = }')\n",
    "print(f'{  None != None         = }')\n",
    "print(f'{  value is not None    = }')\n",
    "print(f'{  False is not None    = }')\n",
    "print(f'{  True is not None     = }\\n')"
   ]
  },
  {
   "cell_type": "markdown",
   "metadata": {
    "id": "ThDXp6xZKJjx"
   },
   "source": [
    "`is not` – это отдельный оператор, а не последовательность операторов `not` и `is`, поэтому `x is not None` не то же самое что и `x is (not None)`\n",
    "\n",
    "При сравнении оператором `==` с типом `None` фактически задействуется оператор `is`, поэтому лучше всегда явно использовать `is` вместо `==`"
   ]
  },
  {
   "cell_type": "code",
   "execution_count": null,
   "metadata": {
    "id": "eXx8QaOBKJjy",
    "outputId": "50feb49c-ab1f-4af0-a89d-6720d341b069"
   },
   "outputs": [
    {
     "name": "stdout",
     "output_type": "stream",
     "text": [
      "  False is not None    = True\n",
      "  False is (not None)  = False\n",
      "  False == (not None)  = False\n",
      "  True  == (not None)  = True\n",
      "\n"
     ]
    }
   ],
   "source": [
    "print(f'{  False is not None    = }')\n",
    "print(f'{  False is (not None)  = }')\n",
    "print(f'{  False == (not None)  = }')\n",
    "print(f'{  True  == (not None)  = }\\n')"
   ]
  },
  {
   "cell_type": "markdown",
   "metadata": {
    "id": "DjDJOd8SKJjz"
   },
   "source": [
    "В одиночку, оператор `not` конвертирует `None` в булевый тип:"
   ]
  },
  {
   "cell_type": "code",
   "execution_count": null,
   "metadata": {
    "id": "hmVjVn5fKJj1",
    "outputId": "335d412e-5743-4042-90fb-27d276920c05"
   },
   "outputs": [
    {
     "name": "stdout",
     "output_type": "stream",
     "text": [
      "  not None       = True\n",
      "  type(not None) = <class 'bool'>\n"
     ]
    }
   ],
   "source": [
    "print(f'{  not None       = }')\n",
    "print(f'{  type(not None) = }')"
   ]
  },
  {
   "cell_type": "markdown",
   "metadata": {
    "id": "bCD5Bh8V7BRU"
   },
   "source": [
    "## Оператор инверсии `~`\n",
    "\n",
    "Оператор `~` производит битовую инверсию челых чисел в two's-complement (дополнительный код) представлении. Например, число `10` в дополнительном коде представляется как `00001010`, инверсии этого числа `11110101` будет соответствовать число `-11`. Заметим, что исверсией нуля (`00000000`) будет -`1` (`11111111`)."
   ]
  },
  {
   "cell_type": "code",
   "execution_count": null,
   "metadata": {
    "colab": {
     "base_uri": "https://localhost:8080/"
    },
    "id": "WVwYQF837BRU",
    "outputId": "fd35af89-24f1-41cd-8973-0c7640eb6ca6"
   },
   "outputs": [
    {
     "name": "stdout",
     "output_type": "stream",
     "text": [
      " ~10    = -11\n",
      " ~0     = -1\n",
      " ~False = -1\n",
      " ~True  = -2\n"
     ]
    }
   ],
   "source": [
    "print(f\"{ ~10    = }\")\n",
    "print(f\"{ ~0     = }\")\n",
    "print(f\"{ ~False = }\")      # заметим, что для булевых значений выполняется\n",
    "print(f\"{ ~True  = }\")      # конвертация в int, а не инверсия T в F"
   ]
  },
  {
   "cell_type": "markdown",
   "metadata": {
    "id": "aPIvPCg17BRV"
   },
   "source": [
    "Благодаря такому свойству оператор `~` может оказаться полезен при движении по массиву с конца, так как в отличие от использования отрицательных индексов, здесь сохраняется симметрия с движением по массиву с начала."
   ]
  },
  {
   "cell_type": "code",
   "execution_count": null,
   "metadata": {
    "colab": {
     "base_uri": "https://localhost:8080/"
    },
    "id": "Ul2M2p9r7BRV",
    "outputId": "8960955e-a899-4bd6-b668-4bd1fd95f4af"
   },
   "outputs": [
    {
     "name": "stdout",
     "output_type": "stream",
     "text": [
      "i  A[i]  A[-i]  A[~i]\n",
      "0    1      1      5\n",
      "1    2      5      4\n",
      "2    3      4      3\n",
      "3    4      3      2\n",
      "4    5      2      1\n"
     ]
    }
   ],
   "source": [
    "A = [1, 2, 3, 4, 5]\n",
    "print('i  A[i]  A[-i]  A[~i]')\n",
    "for i in range(len(A)):\n",
    "    print(f'{i}    {A[i]}      {A[-i]}      {A[~i]}')"
   ]
  },
  {
   "cell_type": "markdown",
   "metadata": {
    "id": "MR9dYrh87BRV"
   },
   "source": [
    "Своя специфика имеется при использовании оператора `~` с NumPy:\n",
    "- Для булевых типов NumPy (`numpy.bool_`) производтся инверсия (в отличие от стандартных типов `bool`). А если оператор применить к массиву (или матрице), состоящему из логических элементов, то результатом будет массив, содержащий инверированные элементы.\n",
    "- Если применить оператор к массиву (или матрице), состоящей из целочисленных элементов, то вернется матрица, состоящий из инвертрованных целых чисел (в соответствии с представлением в дополнительном коде)."
   ]
  },
  {
   "cell_type": "code",
   "execution_count": null,
   "metadata": {
    "id": "wWAVoMyf7BRV",
    "outputId": "0be7ea49-30a5-4be6-d3bd-d7550b788fb0"
   },
   "outputs": [
    {
     "name": "stdout",
     "output_type": "stream",
     "text": [
      "~np.False_ = True\n",
      "~np.True_  = False\n",
      "~L = array([ True, False,  True])\n",
      "~A = array([-1, -2,  1, -4])\n"
     ]
    }
   ],
   "source": [
    "import numpy as np\n",
    "\n",
    "print(f\"{~np.False_ = }\")   # для типов\n",
    "print(f\"{~np.True_  = }\")    # numpy.bool_\n",
    "\n",
    "L = np.array([False, True, False])\n",
    "\n",
    "print(f\"{~L = }\")\n",
    "\n",
    "A = np.array([0, 1, -2, 3])\n",
    "print(f\"{~A = }\")"
   ]
  },
  {
   "cell_type": "markdown",
   "metadata": {
    "id": "-ED52UWA7BRV"
   },
   "source": [
    "Для того, чтобы определить действие объекта пользовательсокго класса при воздействии оператора `~`, необходимо определить метод `__invert__()`."
   ]
  },
  {
   "cell_type": "code",
   "execution_count": null,
   "metadata": {
    "id": "xQy9-dk97BRV",
    "outputId": "bd297351-a618-4c2b-831e-f9f0bd6d9dc8"
   },
   "outputs": [
    {
     "name": "stdout",
     "output_type": "stream",
     "text": [
      "! inverse by ~ !\n"
     ]
    }
   ],
   "source": [
    "class C():\n",
    "    def __invert__(self):\n",
    "        print('! inverse by ~ !')\n",
    "x = C()\n",
    "~x"
   ]
  },
  {
   "cell_type": "markdown",
   "metadata": {
    "id": "O9wkwe477BRV"
   },
   "source": [
    "## Оператор Ellipsis (`...`)"
   ]
  },
  {
   "cell_type": "code",
   "execution_count": null,
   "metadata": {
    "id": "47jNHWNX7BRV"
   },
   "outputs": [],
   "source": [
    "# to be defined\n",
    "def f():\n",
    "    ...\n",
    "# Такая запись предполагает, что тело функции в дельнейшем должно быть\n",
    "# определено (в отличие от pass, где намеренно пропускаются действия)"
   ]
  },
  {
   "cell_type": "code",
   "execution_count": null,
   "metadata": {
    "id": "rXxqWSLx7BRW",
    "outputId": "98043b91-766f-499b-f2ae-f9fc43c9286e"
   },
   "outputs": [
    {
     "name": "stdout",
     "output_type": "stream",
     "text": [
      "[[[0.96184506 0.94883132 0.29107255]\n",
      "  [0.0860742  0.92776083 0.08257939]\n",
      "  [0.72103826 0.49672237 0.00717213]]\n",
      "\n",
      " [[0.76313745 0.99897734 0.61497782]\n",
      "  [0.79084103 0.49008086 0.62009155]\n",
      "  [0.97780974 0.77977778 0.42719729]]\n",
      "\n",
      " [[0.38995664 0.18811921 0.15066886]\n",
      "  [0.82393036 0.63199316 0.22398636]\n",
      "  [0.09558114 0.33285623 0.56451095]]]\n"
     ]
    }
   ],
   "source": [
    "import numpy as np\n",
    "\n",
    "n = np.random.rand(3, 3, 3, 3)          # shape (3, 3, 3, 3)\n",
    "print(n[..., 2])                        # <=> n[:, :, :, 2]"
   ]
  },
  {
   "cell_type": "markdown",
   "metadata": {
    "id": "sM0a7Qd77BRW"
   },
   "source": [
    "# Работа с файлами и каталогами  "
   ]
  },
  {
   "cell_type": "markdown",
   "metadata": {
    "id": "-Mvp9bHi7BRW"
   },
   "source": [
    "## Путь к интерпретатору"
   ]
  },
  {
   "cell_type": "code",
   "execution_count": null,
   "metadata": {
    "id": "hpdIYyxX7BRW",
    "outputId": "08f45d8c-2117-44e9-fdfa-defdb2eb4437"
   },
   "outputs": [
    {
     "name": "stdout",
     "output_type": "stream",
     "text": [
      "c:\\Users\\wernadsky\\miniconda3\\envs\\tf\\python.exe\n"
     ]
    }
   ],
   "source": [
    "import sys\n",
    "print(sys.executable)"
   ]
  },
  {
   "cell_type": "markdown",
   "metadata": {
    "id": "VYs2qq3oKJkD"
   },
   "source": [
    "## Путь к рабочему каталогу"
   ]
  },
  {
   "cell_type": "code",
   "execution_count": null,
   "metadata": {
    "id": "7-VZbAYbKJkF",
    "outputId": "7a4c7260-2c82-4bf0-ca9e-690f2f2ebb8e"
   },
   "outputs": [
    {
     "name": "stdout",
     "output_type": "stream",
     "text": [
      "c:\\Users\\wernadsky\\Documents\\GitHub\n"
     ]
    }
   ],
   "source": [
    "import os\n",
    "work_dir = os.path.abspath(\"\")\n",
    "print(work_dir)"
   ]
  },
  {
   "cell_type": "code",
   "execution_count": null,
   "metadata": {
    "id": "gq87GL5YKJkH",
    "outputId": "a7813f2d-39ec-49f3-9169-815dce0c5f48"
   },
   "outputs": [
    {
     "name": "stdout",
     "output_type": "stream",
     "text": [
      "c:\\Users\\wernadsky\\Documents\\GitHub\n"
     ]
    }
   ],
   "source": [
    "import os\n",
    "work_dir = os.getcwd()           # возвращает путь к рабочему каталогу\n",
    "print(work_dir)"
   ]
  },
  {
   "cell_type": "markdown",
   "metadata": {
    "id": "2MAPYrEhKJkM"
   },
   "source": [
    "## Путь к исполняемому файлу"
   ]
  },
  {
   "cell_type": "markdown",
   "metadata": {
    "id": "1QQZU77UKJkR"
   },
   "source": [
    "### Для файлов `*.ipynb`"
   ]
  },
  {
   "cell_type": "code",
   "execution_count": null,
   "metadata": {
    "id": "yiShmhfBKJkU",
    "outputId": "e01be909-aba7-4d5a-a2c3-bbb4c0c2b603"
   },
   "outputs": [
    {
     "name": "stdout",
     "output_type": "stream",
     "text": [
      "c:\\Users\\wernadsky\\Documents\\GitHub\\Misc_Private\n"
     ]
    }
   ],
   "source": [
    "import os\n",
    "file_path = globals()['_dh'][0]     # путь к исполняемому файлу\n",
    "print(str(file_path))"
   ]
  },
  {
   "cell_type": "markdown",
   "metadata": {
    "id": "3By13l-6KJkW"
   },
   "source": [
    "### Для файлов `*.py`"
   ]
  },
  {
   "cell_type": "code",
   "execution_count": null,
   "metadata": {
    "id": "nfLwMSVjKJkX"
   },
   "outputs": [],
   "source": [
    "# from os.path import abspath, dirname\n",
    "# path = abspath(__file__)      # возвращает полное имя текущего файла\n",
    "# location = dirname(path)      # извлекает путь из полного имени файла"
   ]
  },
  {
   "cell_type": "markdown",
   "metadata": {
    "id": "3YQ1KWfaKJkZ"
   },
   "source": [
    "> Пути к исполняемому файлу и рабочий каталог могут не совпадать:"
   ]
  },
  {
   "cell_type": "code",
   "execution_count": null,
   "metadata": {
    "id": "8CO6KXYSKJka",
    "outputId": "3ca9ba78-defb-4530-f96c-72dee215a56a"
   },
   "outputs": [
    {
     "name": "stdout",
     "output_type": "stream",
     "text": [
      "file_path = 'c:\\\\Users\\\\wernadsky\\\\Documents\\\\GitHub\\\\Misc_Private'\n",
      "work_dir =  'c:\\\\Users\\\\wernadsky\\\\Documents\\\\GitHub'\n"
     ]
    }
   ],
   "source": [
    "import os\n",
    "os.chdir(\"..\")\n",
    "file_path = str(globals()['_dh'][0])    # путь к исполняемому файлу\n",
    "work_dir = os.getcwd()                  # путь к рабочему каталогу\n",
    "print(f\"{file_path = }\\n{work_dir =  }\")"
   ]
  },
  {
   "cell_type": "markdown",
   "metadata": {
    "id": "wu5vV1tV7BRW"
   },
   "source": [
    "По умолчанию текущим рабочим каталогом будет каталог, из которого запускается файл в коммандной сторке, а не каталог, в котором расположен исполняемый файл.\n",
    "\n",
    "Кроме того, пути поиска файлов не имеют никакого отношения к путям поиска модулей."
   ]
  },
  {
   "cell_type": "markdown",
   "metadata": {
    "id": "7E9FrcEmKJkc"
   },
   "source": [
    "## Прочие функции\n",
    "\n",
    "\n",
    "`os.mkdir('folder')` создает новую директорию\n",
    "\n",
    "`os.makedirs('another1/another2/another3')` – сделать несколько вложенных папок.\n",
    "`os.rename(\"text.txt\", \"renamed-text.txt\")` – переименование файла или папки.\n",
    "\n",
    "Переместить (с заменой) файл в другой каталог (переименовать полный путь):\n",
    "`os.replace(\"renamed-text.txt\", \"folder/renamed-text.txt\")`.\n",
    "\n",
    "`os.path.isdir('folder')` возвращает `True`, если каталог `folder` существует.\n",
    "\n",
    "`os.path.exists()` возвращает `True`, если файл с заданным именем существует.\n",
    "\n",
    "`os.path.basename()` отбрасывает путь и оставляет тольк имя файла. Например, `'foo/bar'` превратится в `'bar'`, а `'foo/bar/'` превратится в `''`."
   ]
  },
  {
   "cell_type": "markdown",
   "metadata": {
    "id": "l2GTk3WF7BRW"
   },
   "source": [
    "## Чтение файла и запись"
   ]
  },
  {
   "cell_type": "code",
   "execution_count": null,
   "metadata": {
    "id": "ZozzuCGS7BRW"
   },
   "outputs": [],
   "source": [
    "# Чтение\n",
    "with open('Python\\\\file', 'r') as file:\n",
    "    file.read()         # получить содержимое файла\n",
    "    file.readline()     # построчное стение\n",
    "    file.readlines()    # получить список строк\n",
    "    for line in file:   # перебор строк файла\n",
    "        print(line)\n",
    "\n",
    "# Запись\n",
    "with open('Python\\\\file', 'w') as file:\n",
    "    file.write('some text')            # запись в файл\n",
    "    file.writelines(['some', 'text'])  # запись списка строк в файл"
   ]
  },
  {
   "cell_type": "markdown",
   "metadata": {
    "id": "3Neatfki7BRW"
   },
   "source": [
    "Переменная `file` является объектому класса _io.TextIOWrapper. С другими методами этого класса можно ознакомиться <a href=\"https://www.w3schools.com/python/python_ref_file.asp\">здесь</a>"
   ]
  },
  {
   "cell_type": "markdown",
   "metadata": {
    "id": "IAyHT6z87BRX"
   },
   "source": [
    "## Скачивание модуля из репозитория\n",
    "\n",
    "`os.path.urlretrieve` копирует объект на диск. Первый аргумент -\n",
    "**url** объекта. Если второй аргумент не задан, то объект будет сохранен во временных файлах. Можно задать имя файла, и тогда объект будет сохранен в рабочей директории с указанным именем. Функция возвращает кортеж `(filename, headers)` – имя файла и заголовки запроса."
   ]
  },
  {
   "cell_type": "code",
   "execution_count": null,
   "metadata": {
    "id": "0GceWzDR7BRX",
    "outputId": "2d4b37d6-5a39-43b2-e092-edf41dcc9677"
   },
   "outputs": [
    {
     "name": "stdout",
     "output_type": "stream",
     "text": [
      "file tools.py already exists\n"
     ]
    },
    {
     "data": {
      "text/plain": [
       "[]"
      ]
     },
     "execution_count": 5,
     "metadata": {},
     "output_type": "execute_result"
    }
   ],
   "source": [
    "from os.path import basename, exists\n",
    "\n",
    "def download(url):\n",
    "    filename = basename(url)\n",
    "    if not exists(filename):\n",
    "        from urllib.request import urlretrieve\n",
    "        local_filename, headers = urlretrieve(url, filename)\n",
    "        print('Downloaded ' + local_filename)\n",
    "    else:\n",
    "        print('file ' + filename + ' already exists')\n",
    "\n",
    "url = \"https://raw.githubusercontent.com/ordevoir/Miscellaneous/master/tools.py\"\n",
    "\n",
    "download(url)\n",
    "\n",
    "import tools\n",
    "\n",
    "tools.LinkedList()"
   ]
  },
  {
   "cell_type": "markdown",
   "metadata": {
    "id": "QNCktEDp7BRg"
   },
   "source": [
    "# Области видимости  \n",
    "\n",
    "Часто глобальные переменные используются в качестве флагов логических переменных, которые могут играть роль режимов или настроек программы.\n",
    "\n"
   ]
  },
  {
   "cell_type": "code",
   "execution_count": 5,
   "metadata": {
    "colab": {
     "base_uri": "https://localhost:8080/"
    },
    "id": "AKNk0zPy7BRg",
    "outputId": "b4115fca-3b47-4b68-8822-116630e99287"
   },
   "outputs": [
    {
     "name": "stdout",
     "output_type": "stream",
     "text": [
      "variable count is True!\n"
     ]
    }
   ],
   "source": [
    "count = True        # глобальная переменная\n",
    "def example():\n",
    "    if count:       # использование переменной\n",
    "        print('variable count is True!')\n",
    "\n",
    "example()"
   ]
  },
  {
   "cell_type": "markdown",
   "metadata": {
    "id": "ly046P047BRg"
   },
   "source": [
    "\n",
    "## Правило **LEGB**\n",
    "\n",
    "Когда производится обращение к переменной, интерпертатор ищет ее в следующем порядке:\n",
    "- в локальной области видимости самой функции (**Local** Scope)\n",
    "- в локальной области видимости объемлющей функции (**Enclosing** Scope)\n",
    "- в глобальной области видимости модуля (**Global** Scope)\n",
    "- во встроенной области видимости (**Built-in** Scope)\n",
    "\n",
    "Последная область относится к встроенному модулю с именем `builtins` стандартной библиотеки. Имена этого модуля представляют собой встроенные функции, такие как `print()`, `range()`, `len()`, `list()`, `object()` и т.д. Подробнее [здесь](https://docs.python.org/3/library/functions.html).\n"
   ]
  },
  {
   "cell_type": "markdown",
   "metadata": {
    "id": "FAw06mWk7BRg"
   },
   "source": [
    "## `global` и `nonlocal`\n",
    "\n",
    "Для изменение значения неизменяемой глобальной переменной внутри функции, или присвоения ей нового значения, необходимо в теле функции объявить имена переменных глобальными при помощи оператора `global`.\n",
    "\n",
    "В коде ниже содержимое глобальных перменных `a` и `b` изменится внутри функции `example()`. Перменная `c` не будет изменена: инструкция `c = 10` создаст локальную переменнус `c`."
   ]
  },
  {
   "cell_type": "code",
   "execution_count": 6,
   "metadata": {
    "colab": {
     "base_uri": "https://localhost:8080/"
    },
    "id": "pzZzw0ZR7BRg",
    "outputId": "ed8ebb50-6f40-4f72-f1ae-f706b581d8ec"
   },
   "outputs": [
    {
     "name": "stdout",
     "output_type": "stream",
     "text": [
      "a = 2, b = 5, c = 3\n"
     ]
    }
   ],
   "source": [
    "a, b, c = 1, 2, 3   # глобальная переменная\n",
    "def example1():\n",
    "    global a, b     # без этой строки не сработает\n",
    "    a += 1          # изменение глобальной переменной\n",
    "    b = 5           # присвоение нового значения глобальной переменной\n",
    "    c = 10          # создание локальной переменной внутри функции\n",
    "\n",
    "example1()\n",
    "print(f\"{a = }, {b = }, {c = }\")"
   ]
  },
  {
   "cell_type": "markdown",
   "metadata": {
    "id": "c0V1HpKP9RJf"
   },
   "source": [
    "Если глобальной переменной указанной в `global` не существует, она будет создана, однако при этом необходимо произвести инициализацию значения."
   ]
  },
  {
   "cell_type": "code",
   "execution_count": 9,
   "metadata": {
    "id": "noPETRvq7BRg"
   },
   "outputs": [],
   "source": [
    "def example2():\n",
    "    global x    # объявление глобальной переменной x\n",
    "    x = 15      # инициализация глобальной переменной\n",
    "\n",
    "def f():\n",
    "    global x    # использовать глобальную переменную x\n",
    "    x += 15     # изменение глобальной переменно внутри другой функции"
   ]
  },
  {
   "cell_type": "code",
   "execution_count": 11,
   "metadata": {
    "colab": {
     "base_uri": "https://localhost:8080/"
    },
    "id": "74KGBV9aBtMP",
    "outputId": "de5a44bc-3ac3-4a7b-fe6f-ac54fccf334b"
   },
   "outputs": [
    {
     "name": "stdout",
     "output_type": "stream",
     "text": [
      "15\n",
      "30\n",
      "40\n"
     ]
    }
   ],
   "source": [
    "example2()      # создание и инициализация глобальной переменной x внутри функции\n",
    "print(x)\n",
    "\n",
    "f()             # изменение глобальной переменно внутри другой функции\n",
    "print(x)\n",
    "\n",
    "x += 10         # изменение глобальной переменной за пределами функции\n",
    "print(x)"
   ]
  },
  {
   "cell_type": "markdown",
   "metadata": {
    "id": "5LXpOKfVC92g"
   },
   "source": [
    "> Оператор `nonlocal`, в отличие от `global` сделат переменную видимой не в глобальной области, а лишь в локальной области видимости объемлющей функции (Enclosing scope)."
   ]
  },
  {
   "cell_type": "markdown",
   "metadata": {
    "id": "9OxgPTNxIIKd"
   },
   "source": [
    "## `globals()` и `locals()`\n",
    "\n",
    "Функция `globals()` возвращает словарь, содержащий глобальные переменные.\n",
    "\n",
    "Функция `locals()` возвращает словарь, содержащий имена в локальной области видимости, внутри которой вызывается функция. Непосретственно список с именами локальных переменных возвращает функция `dir()`.\n",
    "\n",
    "> Словарь, возвращаемый функцией `locals()` при вызове из глобальной области видимости, будет совпадать со словарем, возвращаемым функцией `globals()`."
   ]
  },
  {
   "cell_type": "code",
   "execution_count": 42,
   "metadata": {
    "colab": {
     "base_uri": "https://localhost:8080/"
    },
    "id": "ByJe6NYpHfYq",
    "outputId": "0dd0e6a7-87da-48f7-c585-b6e139ba8556"
   },
   "outputs": [
    {
     "name": "stdout",
     "output_type": "stream",
     "text": [
      "Function's local variables: dict_keys(['x', 'a'])\n",
      "Function's local variables: ['a', 'x']\n",
      "Global variables: dict_keys(['__name__', '__doc__', '__package__', '__loader__', '__spec__', '__builtin__', '__builtins__', '_ih', '_oh', '_dh', 'In', 'Out', 'get_ipython', 'exit', 'quit', '_', '__', '___', '_i', '_ii', '_iii', '_i1', '_1', '_i2', '_2', '_i3', '_3', '_i4', '_4', '_i5', '_5', '_i6', '_6', '_i7', '_i8', '_i9', 'f', '_9', '_i10', '_10', '_i11', 'c', '_i12', '_12', '_i13', '_13', '_i14', '_14', '_i15', '_15', '_i16', '_16', '_i17', '_17', '_i18', '_18', '_i19', '_19', '_i20', '_20', '_i21', '_21', '_i22', '_22', '_i23', '_i24', '_24', '_i25', '_25', '_i26', '_26', '_i27', '_27', '_i28', '_i29', '_i30', 'L', '_i31', '_31', '_i32', '_i33', '_i34', 'Rectangle', 's2', 's3', '_i35', '_i36', '_i37', '_i38', '_i39', '_39', '_i40', '_i41', '_41', '_i42'])\n"
     ]
    },
    {
     "data": {
      "text/plain": [
       "True"
      ]
     },
     "execution_count": 42,
     "metadata": {},
     "output_type": "execute_result"
    }
   ],
   "source": [
    "def f(x):\n",
    "    a = 2\n",
    "    print(f\"Function's local variables: {locals().keys()}\")\n",
    "    print(f\"Function's local variables: {dir()}\")\n",
    "    print(f\"Global variables: {globals().keys()}\")\n",
    "\n",
    "c = 3\n",
    "\n",
    "f(c)\n",
    "\n",
    "locals() is globals()"
   ]
  },
  {
   "cell_type": "markdown",
   "metadata": {
    "id": "qAWbXJIK7BRg"
   },
   "source": [
    "## Замыкания (closure)"
   ]
  },
  {
   "cell_type": "markdown",
   "metadata": {
    "id": "ewffl2hy7BRg"
   },
   "source": [
    "Замыкание – это особый вид функции. Она определена в теле другой функции и создаётся каждый раз во время её выполнения. Синтаксически это выглядит как функция, находящаяся целиком в теле другой функции. При этом вложенная внутренняя функция содержит ссылки на локальные переменные внешней функции (для внутренней функции это область видимости Enclosing Scope). Каждый раз при выполнении внешней функции происходит создание нового экземпляра внутренней функции, с новыми ссылками на переменные внешней функции. Поэтому замыкания можно определить как функции с расширенной областью видииости, которая охватывает все неглобальные переменные, на которые есть ссылки в теле функции, хотя они в нем не определены.\n",
    "\n",
    "\n",
    "Ссылки на переменные внешней функции действительны внутри вложенной функции до тех пор, пока работает вложенная функция, даже если внешняя функция закончила работу, и переменные вышли из области видимости. <br>\n",
    "Замыкание связывает код функции с её лексическим окружением (местом, в котором она определена в коде). Лексические переменные замыкания отличаются от глобальных переменных тем, что они не занимают глобальное пространство имён. От переменных в объектах они отличаются тем, что привязаны к функциям, а не объектам."
   ]
  },
  {
   "cell_type": "code",
   "execution_count": 48,
   "metadata": {
    "id": "Q65qN42v7BRg",
    "outputId": "c3c130b5-53f5-4d25-ba72-cbf8ae57a596"
   },
   "outputs": [
    {
     "name": "stdout",
     "output_type": "stream",
     "text": [
      "6 32\n"
     ]
    }
   ],
   "source": [
    "def f(a):\n",
    "    b = 2\n",
    "    def g(c=10):\n",
    "        \"\"\" Функция - замыкание \"\"\"\n",
    "        print(a*b, b**c)\n",
    "    return g\n",
    "\n",
    "h = f(3)\n",
    "h(5)"
   ]
  },
  {
   "cell_type": "markdown",
   "metadata": {
    "id": "s2s1bEOa7BRg"
   },
   "source": [
    "![](images/closure.jpg)"
   ]
  },
  {
   "cell_type": "markdown",
   "metadata": {
    "id": "W8bnz5-E7BRh"
   },
   "source": [
    "В данном примере в теле внешней функции `f` определена внутренняя функция `g`, которая для своей работы ссылается на переменные `a` и `b` области видимости Enclosing Scope - локальная область видимости внешней функции. При вызове функции ее локальные переменные существуют только в процессе выполнения функции, после чего их убирает сборщик мусора. Интуитивно кажется, что после выполнения функции `f` переменные `a` и `b` должны были бы уничтожиться. Однако, внешняя функции возвращает внутреннюю фунцию `g`, которая сохраняется в перменной `h`, в результате чего она появляется в глобальной области видимости (как и функция `f`). Так как `h` ссылается на функцию `g`, определенную в ходе выполнения функции `f`, а функция `g` в свою очередь ссылается на локальные переменные фунции `f`, то после выполнения фунции `f` объекты, на которые ссылались соответствующие локальные переменные не уничтожаются, так как на них продолжает ссылаться функция `g`.\n",
    "\n",
    "Объекты замыкания содержатся в поле `__closure__` объекта функции, который представляет собой кортеж объектов класса `cell`. Для того, чтобы получть доступ непосредственно к объекту замыкания, нужно обратиться к полю `cell_contents` соответствующего объекта класса `cell`:"
   ]
  },
  {
   "cell_type": "code",
   "execution_count": 58,
   "metadata": {
    "id": "Aa47XVz67BRh",
    "outputId": "e6b708a6-3fd6-4a48-b695-ed7e4fccca7e"
   },
   "outputs": [
    {
     "name": "stdout",
     "output_type": "stream",
     "text": [
      "<class 'tuple'> <class 'cell'>\n",
      "3 2\n"
     ]
    }
   ],
   "source": [
    "print(type(h.__closure__), type(h.__closure__[0]))\n",
    "print(h.__closure__[0].cell_contents, h.__closure__[1].cell_contents)"
   ]
  },
  {
   "cell_type": "markdown",
   "metadata": {},
   "source": [
    "`a` и `b` – локальные переменные функции `f`, так как их инициализация происходит в теле функции `f`. Внутри `h` переменные `a` и `b` являются свободными, т.е. переменные не связаны с ее локальной областью видимости. \n",
    "\n",
    "Инспекция возвращенного объекта `h` показывает, что Python хранит имена локальных и свободных переменных в атрибуте `__code__` (объект класса `code`), который представляет собой откомпилированное тело функции. Каждому элементу кортежа `h.__closure__` соответствует имя в `h.__code__.co_freevars`, в котором содержатся имена свободных переменных. В `h.__code__.co_namevars` содержатся имена локальных переменных."
   ]
  },
  {
   "cell_type": "code",
   "execution_count": 53,
   "metadata": {},
   "outputs": [
    {
     "name": "stdout",
     "output_type": "stream",
     "text": [
      "<class 'code'>\n",
      "('c',) ('a', 'b')\n"
     ]
    }
   ],
   "source": [
    "print(type(h.__code__))\n",
    "print(h.__code__.co_varnames, h.__code__.co_freevars)"
   ]
  },
  {
   "cell_type": "markdown",
   "metadata": {
    "id": "mTguHn2X7BRh"
   },
   "source": [
    "Следующий пример. Реализуем счетчик как фунцию-замыкание:"
   ]
  },
  {
   "cell_type": "code",
   "execution_count": 60,
   "metadata": {
    "id": "3f8mCZju7BRh"
   },
   "outputs": [],
   "source": [
    "def make_counter(count=0):\n",
    "    def counter():\n",
    "        # сделаем count нелокальным, чтобы можно было его изменять\n",
    "        nonlocal count\n",
    "        count += 1\n",
    "        return count\n",
    "    return counter\n",
    "\n",
    "c = make_counter()"
   ]
  },
  {
   "cell_type": "code",
   "execution_count": 69,
   "metadata": {
    "id": "9DK3Wk527BRh",
    "outputId": "b6016b29-a673-44c2-a917-2854fe6df0f9"
   },
   "outputs": [
    {
     "data": {
      "text/plain": [
       "9"
      ]
     },
     "execution_count": 69,
     "metadata": {},
     "output_type": "execute_result"
    }
   ],
   "source": [
    "c()     # каждый вызов увеличивает значение count"
   ]
  },
  {
   "cell_type": "code",
   "execution_count": 1,
   "metadata": {},
   "outputs": [
    {
     "ename": "NameError",
     "evalue": "name 'mean' is not defined",
     "output_type": "error",
     "traceback": [
      "\u001b[1;31m---------------------------------------------------------------------------\u001b[0m",
      "\u001b[1;31mNameError\u001b[0m                                 Traceback (most recent call last)",
      "\u001b[1;32mc:\\Users\\wernadsky\\Documents\\GitHub\\Python\\python.ipynb Cell 82\u001b[0m line \u001b[0;36m1\n\u001b[1;32m----> <a href='vscode-notebook-cell:/c%3A/Users/wernadsky/Documents/GitHub/Python/python.ipynb#Y146sZmlsZQ%3D%3D?line=0'>1</a>\u001b[0m mean\n",
      "\u001b[1;31mNameError\u001b[0m: name 'mean' is not defined"
     ]
    }
   ],
   "source": [
    "# в программах, которые будут импортированы как модули, часто используется:\n",
    "if __name__ == '__main__':\n",
    "    print('code...')\n",
    "\n",
    "# где __name__ — это встроенная переменная, которая настраивается при запуске\n",
    "# программы. Если программа работает как скрипт, __name__ имеет значение\n",
    "# '__main__'; в этом случае тестовый код выполняется. В противном случае,\n",
    "# если модуль импортируется, тестовый код пропускается."
   ]
  }
 ],
 "metadata": {
  "colab": {
   "include_colab_link": true,
   "provenance": [],
   "toc_visible": true
  },
  "kernelspec": {
   "display_name": "Python 3 (ipykernel)",
   "language": "python",
   "name": "python3"
  },
  "language_info": {
   "codemirror_mode": {
    "name": "ipython",
    "version": 3
   },
   "file_extension": ".py",
   "mimetype": "text/x-python",
   "name": "python",
   "nbconvert_exporter": "python",
   "pygments_lexer": "ipython3",
   "version": "3.10.10"
  },
  "vscode": {
   "interpreter": {
    "hash": "4f2921ce1fc527c47715aa0bb6344447b09c3d91cdf1e8e230806b0c3b3c2af0"
   }
  }
 },
 "nbformat": 4,
 "nbformat_minor": 4
}
