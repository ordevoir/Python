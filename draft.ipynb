{
 "cells": [
  {
   "cell_type": "markdown",
   "metadata": {
    "colab_type": "text",
    "id": "view-in-github"
   },
   "source": [
    "<a href=\"https://colab.research.google.com/github/ordevoir/Misc_Private/blob/main/python.ipynb\" target=\"_parent\"><img src=\"https://colab.research.google.com/assets/colab-badge.svg\" alt=\"Open In Colab\"/></a>"
   ]
  },
  {
   "cell_type": "markdown",
   "metadata": {
    "id": "Hk1_oNxZ7BRQ"
   },
   "source": [
    "# Разное"
   ]
  },
  {
   "cell_type": "markdown",
   "metadata": {
    "id": "FIk0-DeS7BRS"
   },
   "source": [
    "## Not a Number (`NaN`)\n",
    "\n",
    "Один из способов создания объекта Not a Number – передать в конструктор класса `float` строковые значения `'nan'` или `'NaN'`:"
   ]
  },
  {
   "cell_type": "code",
   "execution_count": 2,
   "metadata": {
    "id": "iIB6-_5p7BRS",
    "outputId": "f4730a13-2553-4c3c-c481-535b3e25271b"
   },
   "outputs": [
    {
     "name": "stdout",
     "output_type": "stream",
     "text": [
      "   NaN        = nan\n",
      "   type(NaN)  = <class 'float'>\n",
      "   bool(NaN)  = True\n"
     ]
    }
   ],
   "source": [
    "NaN = float('nan')  # Not a Number\n",
    "print(f'{   NaN        = }')\n",
    "print(f'{   type(NaN)  = }')"
   ]
  },
  {
   "cell_type": "code",
   "execution_count": 16,
   "metadata": {},
   "outputs": [
    {
     "data": {
      "text/plain": [
       "False"
      ]
     },
     "execution_count": 16,
     "metadata": {},
     "output_type": "execute_result"
    }
   ],
   "source": [
    "float('NaN') is float('NaN')"
   ]
  },
  {
   "cell_type": "markdown",
   "metadata": {},
   "source": [
    "Некоторые свойства объекта `nan`:"
   ]
  },
  {
   "cell_type": "code",
   "execution_count": 40,
   "metadata": {},
   "outputs": [
    {
     "name": "stdout",
     "output_type": "stream",
     "text": [
      "   bool(NaN)  = True\n",
      "   NaN == NaN = False\n"
     ]
    }
   ],
   "source": [
    "print(f'{   bool(NaN)  = }')\n",
    "print(f'{   NaN == NaN = }')\n"
   ]
  },
  {
   "cell_type": "code",
   "execution_count": 22,
   "metadata": {},
   "outputs": [
    {
     "name": "stdout",
     "output_type": "stream",
     "text": [
      " NaN + 10 = nan\n",
      " NaN - 10 = nan\n",
      " NaN * 10 = nan\n",
      " NaN / 10 = nan\n"
     ]
    }
   ],
   "source": [
    "print(f\"{ NaN + 10 = }\")\n",
    "print(f\"{ NaN - 10 = }\")\n",
    "print(f\"{ NaN * 10 = }\")\n",
    "print(f\"{ NaN / 10 = }\")"
   ]
  },
  {
   "cell_type": "markdown",
   "metadata": {},
   "source": [
    "Объект Not a Number можно взять из библиотеки NumPy. Для этого определены константы `nan` и `NaN`, которые ссылаются на один и тот же объект:"
   ]
  },
  {
   "cell_type": "code",
   "execution_count": 37,
   "metadata": {},
   "outputs": [
    {
     "data": {
      "text/plain": [
       "True"
      ]
     },
     "execution_count": 37,
     "metadata": {},
     "output_type": "execute_result"
    }
   ],
   "source": [
    "import numpy as np\n",
    "np.nan is np.NaN"
   ]
  },
  {
   "cell_type": "markdown",
   "metadata": {},
   "source": [
    "Объект Not a Number можно взять из модуля `math`:"
   ]
  },
  {
   "cell_type": "code",
   "execution_count": 38,
   "metadata": {},
   "outputs": [
    {
     "data": {
      "text/plain": [
       "float"
      ]
     },
     "execution_count": 38,
     "metadata": {},
     "output_type": "execute_result"
    }
   ],
   "source": [
    "import math\n",
    "math.nan"
   ]
  },
  {
   "cell_type": "markdown",
   "metadata": {},
   "source": [
    "Для того, чтобы проверить является ли объект Not a Number, можно воспользоваться функцией `isnan()` из библиотеки NumPy или из модуля `math`:"
   ]
  },
  {
   "cell_type": "code",
   "execution_count": 42,
   "metadata": {},
   "outputs": [
    {
     "data": {
      "text/plain": [
       "(True, True)"
      ]
     },
     "execution_count": 42,
     "metadata": {},
     "output_type": "execute_result"
    }
   ],
   "source": [
    "np.isnan(NaN), math.isnan(NaN)"
   ]
  },
  {
   "cell_type": "markdown",
   "metadata": {},
   "source": [
    "Такая проверка позволит отфильтровать последовательность от значений Not a Number."
   ]
  },
  {
   "cell_type": "markdown",
   "metadata": {},
   "source": [
    "## Infinity"
   ]
  },
  {
   "cell_type": "markdown",
   "metadata": {
    "id": "fMUtv79G7BRS"
   },
   "source": [
    "## Falsy and Truthy\n",
    "\n",
    "Falsy значениями являются такие значения, которые при преобразовании в булевый тип дают `False`. Значения, которые при преобразовании дают `True` называются Truthy значениями.\n",
    "\n",
    "В условных выражениях операторов `for`, `while`, `if`, `elif` значения Falsy интерпретируются как `False`, а значения Truthy – как `True`.\n",
    "\n",
    "Числовыми Falsy значениями являются **нули**, остальные числовые значения являются Truthy.\n",
    "\n",
    "Пустые коллекции являются Falsy, а непустые - Truthy.\n",
    "\n",
    "Объект `None` является Falsy значением."
   ]
  },
  {
   "cell_type": "code",
   "execution_count": null,
   "metadata": {
    "id": "DG3HQbjU7BRT",
    "outputId": "e68bbeb3-df04-4cdb-884b-21b8cd6f5728"
   },
   "outputs": [
    {
     "name": "stdout",
     "output_type": "stream",
     "text": [
      "  bool(0)          = False\n",
      "  bool(0.)         = False\n",
      "  bool(0j)         = False\n",
      "  bool(0 + 0j)     = False\n",
      "\n",
      "  bool(\"\")         = False\n",
      "  bool([])         = False\n",
      "  bool(())         = False\n",
      "  bool({})         = False\n",
      "  bool(dict())     = False\n",
      "  bool(range(0))   = False\n",
      "\n",
      "  bool(None)       = False\n",
      "  not None         = True\n",
      "\n",
      "  bool(NaN)        = True\n"
     ]
    }
   ],
   "source": [
    "# числа:\n",
    "print(f'{  bool(0)          = }')\n",
    "print(f'{  bool(0.)         = }')\n",
    "print(f'{  bool(0j)         = }')\n",
    "print(f'{  bool(0 + 0j)     = }\\n')\n",
    "# коллекции:\n",
    "print(f'{  bool(\"\")         = }')       # пустой string\n",
    "print(f'{  bool([])         = }')       # пустой list\n",
    "print(f'{  bool(())         = }')       # пустой tuple\n",
    "print(f'{  bool({})         = }')       # пустой set\n",
    "print(f'{  bool(dict())     = }')       # пустой dictionary\n",
    "print(f'{  bool(range(0))   = }\\n')     # пустой range\n",
    "# тип None:\n",
    "print(f'{  bool(None)       = }')\n",
    "print(f'{  not None         = }\\n')\n",
    "# Not a number не является Falsy!\n",
    "NaN = float('nan')\n",
    "print(f'{  bool(NaN)        = }')"
   ]
  },
  {
   "cell_type": "markdown",
   "metadata": {
    "id": "dTYefLlf7BRT"
   },
   "source": [
    "## Сравнение c `bool`\n",
    "\n",
    "Оператор `is` с операндом `False` возвращает `True`, в том, и только том случае, если второй операнд также является `False` (а не просто Falsy). Подобным образом оператор `is` работает и с операндом `True`. Это связано с тем, что оператор `is` проверяет, ссылаются ли операнды на один и тот же объект.\n",
    "\n",
    "Оператор `==` с операндом `False` возвращает `True` только если второй операнд является *числовым* Falsy объектом (т.е. **нулевым**) или же непосредственно объектом `False`.\n",
    "\n",
    "Оператор `==` с операндом `True` возвращает `True` только если второй операнд является *числовым* Truthy с **единичным** значением или же непосредственно объектом `True`.\n",
    "\n",
    "При сравнении остальных стандартных типов с `False` или `True` оператор `==` будет всегда возвращать `False` (так как для них `==` означает `is`).\n",
    "\n",
    ">При сравнении непосредственно булевых значений принято использовать оператор `is` вместо оператора `==`."
   ]
  },
  {
   "cell_type": "code",
   "execution_count": null,
   "metadata": {
    "id": "p4x9n3HC7BRT",
    "outputId": "aebcc0eb-5743-4d49-d247-e709438f8961"
   },
   "outputs": [
    {
     "name": "stdout",
     "output_type": "stream",
     "text": [
      "  0 == False        = True\n",
      "  0. == False       = True\n",
      "  0j == False       = True\n",
      "  0 + 0j == False   = True\n",
      "  0 + 1j == False   = False\n",
      "\n",
      "  1 == True         = True\n",
      "  1. == True        = True\n",
      "  1 + 0j == True    = True\n",
      "  0 + 1j == True    = False\n",
      "\n",
      "  \"\" == False       = False\n",
      "  \"a\" == True       = False\n",
      "\n",
      "  None == False     = False\n",
      "  None is False     = False\n",
      "  not None is True  = True\n",
      "\n"
     ]
    }
   ],
   "source": [
    "# оператор == с нулями:\n",
    "print(f'{  0 == False        = }')\n",
    "print(f'{  0. == False       = }')\n",
    "print(f'{  0j == False       = }')\n",
    "print(f'{  0 + 0j == False   = }')\n",
    "print(f'{  0 + 1j == False   = }\\n')\n",
    "\n",
    "# оператор == с единицами:\n",
    "print(f'{  1 == True         = }')\n",
    "print(f'{  1. == True        = }')\n",
    "print(f'{  1 + 0j == True    = }')\n",
    "print(f'{  0 + 1j == True    = }\\n')\n",
    "\n",
    "# коллекции:\n",
    "print(f'{  \"\" == False       = }')       # пустой string\n",
    "print(f'{  \"a\" == True       = }\\n')       # пустой string\n",
    "\n",
    "# None:\n",
    "print(f'{  None == False     = }')\n",
    "print(f'{  None is False     = }')\n",
    "\n",
    "# здесь оператор not явно преобразовывает None в тип bool:\n",
    "print(f'{  not None is True  = }\\n')"
   ]
  },
  {
   "cell_type": "code",
   "execution_count": null,
   "metadata": {
    "id": "epRYKV8Y7BRU",
    "outputId": "daa5a4c2-d46a-440c-f312-ecc4cfe4b7e8"
   },
   "outputs": [
    {
     "name": "stdout",
     "output_type": "stream",
     "text": [
      "   False <= True  = True\n",
      "   False < True   = True\n",
      "   False > True   = False\n",
      "   False >= True  = False\n"
     ]
    }
   ],
   "source": [
    "print(f'{   False <= True  = }')\n",
    "print(f'{   False < True   = }')\n",
    "print(f'{   False > True   = }')\n",
    "print(f'{   False >= True  = }')"
   ]
  },
  {
   "cell_type": "markdown",
   "metadata": {
    "id": "qZ7jJgYj7BRU"
   },
   "source": [
    "## Стравнение c `None`"
   ]
  },
  {
   "cell_type": "markdown",
   "metadata": {
    "id": "_Z08-sjCKJju"
   },
   "source": [
    "Выражение `x is None`  выдает всегда `True`, если `x` имеет значение `None`, и `False`, в любом другом случае.\n",
    "\n",
    "Выражение  `x is not None`  выдает всегда `False`, если `x` имеет значение `None`, и `True`, в любом другом случае."
   ]
  },
  {
   "cell_type": "code",
   "execution_count": null,
   "metadata": {
    "id": "1VIxBDAS7BRU",
    "outputId": "d49c5f3f-032b-4054-aea6-5616719571a6"
   },
   "outputs": [
    {
     "name": "stdout",
     "output_type": "stream",
     "text": [
      "  None is None         = True\n",
      "  None == None         = True\n",
      "  value is None        = False\n",
      "  False is None        = False\n",
      "  True is None         = False\n",
      "\n",
      "  None is not None     = False\n",
      "  None != None         = False\n",
      "  value is not None    = True\n",
      "  False is not None    = True\n",
      "  True is not None     = True\n",
      "\n"
     ]
    }
   ],
   "source": [
    "value = 3\n",
    "\n",
    "print(f'{  None is None         = }')\n",
    "print(f'{  None == None         = }')\n",
    "\n",
    "print(f'{  value is None        = }')\n",
    "print(f'{  False is None        = }')\n",
    "print(f'{  True is None         = }\\n')\n",
    "\n",
    "print(f'{  None is not None     = }')\n",
    "print(f'{  None != None         = }')\n",
    "print(f'{  value is not None    = }')\n",
    "print(f'{  False is not None    = }')\n",
    "print(f'{  True is not None     = }\\n')"
   ]
  },
  {
   "cell_type": "markdown",
   "metadata": {
    "id": "ThDXp6xZKJjx"
   },
   "source": [
    "`is not` – это отдельный оператор, а не последовательность операторов `not` и `is`, поэтому `x is not None` не то же самое что и `x is (not None)`\n",
    "\n",
    "При сравнении оператором `==` с типом `None` фактически задействуется оператор `is`, поэтому лучше всегда явно использовать `is` вместо `==`"
   ]
  },
  {
   "cell_type": "code",
   "execution_count": null,
   "metadata": {
    "id": "eXx8QaOBKJjy",
    "outputId": "50feb49c-ab1f-4af0-a89d-6720d341b069"
   },
   "outputs": [
    {
     "name": "stdout",
     "output_type": "stream",
     "text": [
      "  False is not None    = True\n",
      "  False is (not None)  = False\n",
      "  False == (not None)  = False\n",
      "  True  == (not None)  = True\n",
      "\n"
     ]
    }
   ],
   "source": [
    "print(f'{  False is not None    = }')\n",
    "print(f'{  False is (not None)  = }')\n",
    "print(f'{  False == (not None)  = }')\n",
    "print(f'{  True  == (not None)  = }\\n')"
   ]
  },
  {
   "cell_type": "markdown",
   "metadata": {
    "id": "DjDJOd8SKJjz"
   },
   "source": [
    "В одиночку, оператор `not` конвертирует `None` в булевый тип:"
   ]
  },
  {
   "cell_type": "code",
   "execution_count": null,
   "metadata": {
    "id": "hmVjVn5fKJj1",
    "outputId": "335d412e-5743-4042-90fb-27d276920c05"
   },
   "outputs": [
    {
     "name": "stdout",
     "output_type": "stream",
     "text": [
      "  not None       = True\n",
      "  type(not None) = <class 'bool'>\n"
     ]
    }
   ],
   "source": [
    "print(f'{  not None       = }')\n",
    "print(f'{  type(not None) = }')"
   ]
  },
  {
   "cell_type": "markdown",
   "metadata": {
    "id": "bCD5Bh8V7BRU"
   },
   "source": [
    "## Оператор инверсии `~`\n",
    "\n",
    "Оператор `~` производит битовую инверсию челых чисел в two's-complement (дополнительный код) представлении. Например, число `10` в дополнительном коде представляется как `00001010`, инверсии этого числа `11110101` будет соответствовать число `-11`. Заметим, что исверсией нуля (`00000000`) будет -`1` (`11111111`)."
   ]
  },
  {
   "cell_type": "code",
   "execution_count": null,
   "metadata": {
    "colab": {
     "base_uri": "https://localhost:8080/"
    },
    "id": "WVwYQF837BRU",
    "outputId": "fd35af89-24f1-41cd-8973-0c7640eb6ca6"
   },
   "outputs": [
    {
     "name": "stdout",
     "output_type": "stream",
     "text": [
      " ~10    = -11\n",
      " ~0     = -1\n",
      " ~False = -1\n",
      " ~True  = -2\n"
     ]
    }
   ],
   "source": [
    "print(f\"{ ~10    = }\")\n",
    "print(f\"{ ~0     = }\")\n",
    "print(f\"{ ~False = }\")      # заметим, что для булевых значений выполняется\n",
    "print(f\"{ ~True  = }\")      # конвертация в int, а не инверсия T в F"
   ]
  },
  {
   "cell_type": "markdown",
   "metadata": {
    "id": "aPIvPCg17BRV"
   },
   "source": [
    "Благодаря такому свойству оператор `~` может оказаться полезен при движении по массиву с конца, так как в отличие от использования отрицательных индексов, здесь сохраняется симметрия с движением по массиву с начала."
   ]
  },
  {
   "cell_type": "code",
   "execution_count": null,
   "metadata": {
    "colab": {
     "base_uri": "https://localhost:8080/"
    },
    "id": "Ul2M2p9r7BRV",
    "outputId": "8960955e-a899-4bd6-b668-4bd1fd95f4af"
   },
   "outputs": [
    {
     "name": "stdout",
     "output_type": "stream",
     "text": [
      "i  A[i]  A[-i]  A[~i]\n",
      "0    1      1      5\n",
      "1    2      5      4\n",
      "2    3      4      3\n",
      "3    4      3      2\n",
      "4    5      2      1\n"
     ]
    }
   ],
   "source": [
    "A = [1, 2, 3, 4, 5]\n",
    "print('i  A[i]  A[-i]  A[~i]')\n",
    "for i in range(len(A)):\n",
    "    print(f'{i}    {A[i]}      {A[-i]}      {A[~i]}')"
   ]
  },
  {
   "cell_type": "markdown",
   "metadata": {
    "id": "MR9dYrh87BRV"
   },
   "source": [
    "Своя специфика имеется при использовании оператора `~` с NumPy:\n",
    "- Для булевых типов NumPy (`numpy.bool_`) производтся инверсия (в отличие от стандартных типов `bool`). А если оператор применить к массиву (или матрице), состоящему из логических элементов, то результатом будет массив, содержащий инверированные элементы.\n",
    "- Если применить оператор к массиву (или матрице), состоящей из целочисленных элементов, то вернется матрица, состоящий из инвертрованных целых чисел (в соответствии с представлением в дополнительном коде)."
   ]
  },
  {
   "cell_type": "code",
   "execution_count": null,
   "metadata": {
    "id": "wWAVoMyf7BRV",
    "outputId": "0be7ea49-30a5-4be6-d3bd-d7550b788fb0"
   },
   "outputs": [
    {
     "name": "stdout",
     "output_type": "stream",
     "text": [
      "~np.False_ = True\n",
      "~np.True_  = False\n",
      "~L = array([ True, False,  True])\n",
      "~A = array([-1, -2,  1, -4])\n"
     ]
    }
   ],
   "source": [
    "import numpy as np\n",
    "\n",
    "print(f\"{~np.False_ = }\")   # для типов\n",
    "print(f\"{~np.True_  = }\")    # numpy.bool_\n",
    "\n",
    "L = np.array([False, True, False])\n",
    "\n",
    "print(f\"{~L = }\")\n",
    "\n",
    "A = np.array([0, 1, -2, 3])\n",
    "print(f\"{~A = }\")"
   ]
  },
  {
   "cell_type": "markdown",
   "metadata": {
    "id": "-ED52UWA7BRV"
   },
   "source": [
    "Для того, чтобы определить действие объекта пользовательсокго класса при воздействии оператора `~`, необходимо определить метод `__invert__()`."
   ]
  },
  {
   "cell_type": "code",
   "execution_count": null,
   "metadata": {
    "id": "xQy9-dk97BRV",
    "outputId": "bd297351-a618-4c2b-831e-f9f0bd6d9dc8"
   },
   "outputs": [
    {
     "name": "stdout",
     "output_type": "stream",
     "text": [
      "! inverse by ~ !\n"
     ]
    }
   ],
   "source": [
    "class C():\n",
    "    def __invert__(self):\n",
    "        print('! inverse by ~ !')\n",
    "x = C()\n",
    "~x"
   ]
  },
  {
   "cell_type": "markdown",
   "metadata": {
    "id": "O9wkwe477BRV"
   },
   "source": [
    "## Оператор Ellipsis (`...`)"
   ]
  },
  {
   "cell_type": "code",
   "execution_count": null,
   "metadata": {
    "id": "47jNHWNX7BRV"
   },
   "outputs": [],
   "source": [
    "# to be defined\n",
    "def f():\n",
    "    ...\n",
    "# Такая запись предполагает, что тело функции в дельнейшем должно быть\n",
    "# определено (в отличие от pass, где намеренно пропускаются действия)"
   ]
  },
  {
   "cell_type": "code",
   "execution_count": null,
   "metadata": {
    "id": "rXxqWSLx7BRW",
    "outputId": "98043b91-766f-499b-f2ae-f9fc43c9286e"
   },
   "outputs": [
    {
     "name": "stdout",
     "output_type": "stream",
     "text": [
      "[[[0.96184506 0.94883132 0.29107255]\n",
      "  [0.0860742  0.92776083 0.08257939]\n",
      "  [0.72103826 0.49672237 0.00717213]]\n",
      "\n",
      " [[0.76313745 0.99897734 0.61497782]\n",
      "  [0.79084103 0.49008086 0.62009155]\n",
      "  [0.97780974 0.77977778 0.42719729]]\n",
      "\n",
      " [[0.38995664 0.18811921 0.15066886]\n",
      "  [0.82393036 0.63199316 0.22398636]\n",
      "  [0.09558114 0.33285623 0.56451095]]]\n"
     ]
    }
   ],
   "source": [
    "import numpy as np\n",
    "\n",
    "n = np.random.rand(3, 3, 3, 3)          # shape (3, 3, 3, 3)\n",
    "print(n[..., 2])                        # <=> n[:, :, :, 2]"
   ]
  }
 ],
 "metadata": {
  "colab": {
   "include_colab_link": true,
   "provenance": [],
   "toc_visible": true
  },
  "kernelspec": {
   "display_name": "Python 3 (ipykernel)",
   "language": "python",
   "name": "python3"
  },
  "language_info": {
   "codemirror_mode": {
    "name": "ipython",
    "version": 3
   },
   "file_extension": ".py",
   "mimetype": "text/x-python",
   "name": "python",
   "nbconvert_exporter": "python",
   "pygments_lexer": "ipython3",
   "version": "3.10.10"
  },
  "vscode": {
   "interpreter": {
    "hash": "4f2921ce1fc527c47715aa0bb6344447b09c3d91cdf1e8e230806b0c3b3c2af0"
   }
  }
 },
 "nbformat": 4,
 "nbformat_minor": 4
}
