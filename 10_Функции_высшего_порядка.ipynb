{
  "cells": [
    {
      "cell_type": "markdown",
      "metadata": {
        "id": "view-in-github",
        "colab_type": "text"
      },
      "source": [
        "<a href=\"https://colab.research.google.com/github/ordevoir/Python/blob/main/10_%D0%A4%D1%83%D0%BD%D0%BA%D1%86%D0%B8%D0%B8_%D0%B2%D1%8B%D1%81%D1%88%D0%B5%D0%B3%D0%BE_%D0%BF%D0%BE%D1%80%D1%8F%D0%B4%D0%BA%D0%B0.ipynb\" target=\"_parent\"><img src=\"https://colab.research.google.com/assets/colab-badge.svg\" alt=\"Open In Colab\"/></a>"
      ]
    },
    {
      "cell_type": "markdown",
      "id": "1dcfa716",
      "metadata": {
        "id": "1dcfa716",
        "jp-MarkdownHeadingCollapsed": true
      },
      "source": [
        "# Функции высшего порядка\n",
        "\n",
        "**Функцией высшего порядка** называется функция, которая принимает функцию в качестве аргумента или возвращает в качестве значения."
      ]
    },
    {
      "cell_type": "markdown",
      "id": "21b63ae3",
      "metadata": {
        "id": "21b63ae3"
      },
      "source": [
        "### `sorted()`\n",
        "\n",
        "Примером может служить функция `sorted()`: ее необязательный аргумент `key` позволяет задать функцию, которая применяется к каждому сортируемому элементу. Например, чтобы упорядочить список слов по длине, достаточно передать функцию `len()` в качестве аргумента `key`.\n",
        ">Если не задавать значение для `key`, функция будет упорядочивать строки в лексигографическом порядке."
      ]
    },
    {
      "cell_type": "code",
      "execution_count": null,
      "id": "4033fb56",
      "metadata": {
        "id": "4033fb56",
        "outputId": "41071df1-40b6-489e-c739-e92b30a7df49"
      },
      "outputs": [
        {
          "name": "stdout",
          "output_type": "stream",
          "text": [
            "s =                        ['This', 'is', '-', 'some', 'text']\n",
            "sorted(s) =                ['-', 'This', 'is', 'some', 'text']\n",
            "sorted(s, reverse=True) =  ['text', 'some', 'is', 'This', '-']\n",
            "sorted(s, key=len) =       ['-', 'is', 'This', 'some', 'text']\n"
          ]
        }
      ],
      "source": [
        "s = ['This', 'is', '-', 'some', 'text']\n",
        "print(f\"{s =                        }\")\n",
        "print(f\"{sorted(s) =                }\")     # в лексикографическом порядке\n",
        "print(f\"{sorted(s, reverse=True) =  }\")     # упорядочивание по убыванию\n",
        "print(f\"{sorted(s, key=len) =       }\")     # упорядочивание по длине элемента"
      ]
    },
    {
      "cell_type": "markdown",
      "id": "88064fdc",
      "metadata": {
        "id": "88064fdc"
      },
      "source": [
        "### `map()`\n",
        "\n",
        "Функция `map()` позволяет производить отображение одной последовательности в другую, в соотствии с заданной в аргументе функцией. Функцию преобразования можно задать первым аргументом по ссылке, либо определить `lambda`-функцию. Вторым аргументом задается последовательность. Функция `map()` возвращает итератор - объект класса `map`, который легко преобразовывается в `list`, `str` и тд."
      ]
    },
    {
      "cell_type": "code",
      "execution_count": null,
      "id": "5a6ef63f",
      "metadata": {
        "id": "5a6ef63f",
        "outputId": "df0f68a9-2cfc-4ff1-da77-1b1194317e71"
      },
      "outputs": [
        {
          "name": "stdout",
          "output_type": "stream",
          "text": [
            "<class 'map'>\n"
          ]
        },
        {
          "data": {
            "text/plain": [
              "[1, 4, 9, 16, 25]"
            ]
          },
          "execution_count": 29,
          "metadata": {},
          "output_type": "execute_result"
        }
      ],
      "source": [
        "L = [1, 2, 3, 4, 5]\n",
        "M = map(lambda x: x ** 2, L)\n",
        "print(type(M))\n",
        "list(M)"
      ]
    },
    {
      "cell_type": "markdown",
      "id": "ddaa9644",
      "metadata": {
        "id": "ddaa9644"
      },
      "source": [
        "### `filter()`\n",
        "\n",
        "Функция `filter()` позводяет отфильтровать последовательность в соответствии с заданной в аргументе фильтрационной функцией, которая должна возвращать булевый тип для всех элементов последовательности. Интерфейс функции похож на интерфейс функции `map()`, но возвращает итератор - объект класса `filter`, который тоже легко преобровывается в `list`, `str` и тд."
      ]
    },
    {
      "cell_type": "code",
      "execution_count": null,
      "id": "2f8fb5df",
      "metadata": {
        "id": "2f8fb5df",
        "outputId": "201d9a11-98bf-496f-8a09-aa6ce0479727"
      },
      "outputs": [
        {
          "name": "stdout",
          "output_type": "stream",
          "text": [
            "<class 'filter'>\n"
          ]
        },
        {
          "data": {
            "text/plain": [
              "2"
            ]
          },
          "execution_count": 38,
          "metadata": {},
          "output_type": "execute_result"
        }
      ],
      "source": [
        "L = [1, 2, 3, 4, 5]\n",
        "F = filter(lambda x: True if x%2==0 else False, L)\n",
        "print(type(F))\n",
        "list(F)"
      ]
    },
    {
      "cell_type": "markdown",
      "id": "a2e8ea1a",
      "metadata": {
        "id": "a2e8ea1a"
      },
      "source": [
        "> List Comprehension может делать все, что умеют функции `map()` и `filter()`..."
      ]
    },
    {
      "cell_type": "markdown",
      "id": "6cfb9cc4",
      "metadata": {
        "id": "6cfb9cc4"
      },
      "source": [
        "### Редуцирующие функции\n",
        "\n",
        "Общая идея редуцирующих функций в том, чотбы применить некую операцию к каждому элементу последовательности с аккумулированием результатов и тем самым свести (агрегировать) последовательность значений к одному. Таковы, например, функции `sum()`, `all()` и `any()`:\n",
        "- `sum()` возвращает значение суммы всей последовательности;\n",
        "- `all()` возвращает `True`, если все элементы последовательности являются Truthy, и `False`, если есть хотя бы оди Falsy элемент;\n",
        "- `any()` возвращает `True`, если хотя быодин элемент последовательности является Truthy, и `False` – в противном случае."
      ]
    },
    {
      "cell_type": "code",
      "execution_count": null,
      "id": "0b66e4ec",
      "metadata": {
        "id": "0b66e4ec",
        "outputId": "8fc39e04-0e0e-41dd-9dea-030bd44fb27f"
      },
      "outputs": [
        {
          "name": "stdout",
          "output_type": "stream",
          "text": [
            "10\n",
            "False\n",
            "True\n"
          ]
        }
      ],
      "source": [
        "print(f\"{ sum([0, 1, 2, 3, 4]) }\")\n",
        "print(f\"{ all([0, 1, 2, 3, 4]) }\")\n",
        "print(f\"{ any([0, 1, 2, 3, 4]) }\")"
      ]
    },
    {
      "cell_type": "markdown",
      "id": "580b6f8c",
      "metadata": {
        "id": "580b6f8c"
      },
      "source": [
        "### `reduce()`\n",
        "\n",
        "Функция `reduce()` из модуля `functools` кумулятивно применяет заданную агрегирующую функцию к элементам, агрегируя результаты. Задаваемая агрегирующая функция должна принимать два аргумента и возвращать одно значение. Функция `reduce()` сначала возьмет первую пару элементов последовательности и применит к ним агрегирующую функцию, затем, применит агрегирующую функцию к полученному результат и следующему в последовательности элементу, и так до конца последовательности. В результате будет получено одно значение.\n",
        "\n",
        "Рассмотрим в качестве примера агрегирующую функцию `mean()`, которая определена для пары значений и возвращает среднее арифметическое от них. Функция `reduce()` применит функцию `mean()` сначала для первой пары элементов (`1` и `2`), затем применит функцию `mean()` к полученному результату и следующему элементу (`3`) и тд. Заметим, что если поменять последовательность элементов в списке, результат изменится, так как результат в данном случае зависит от последовательности применения агрегирующей функции к элементам.\n"
      ]
    },
    {
      "cell_type": "code",
      "execution_count": null,
      "id": "0baddde4",
      "metadata": {
        "id": "0baddde4",
        "outputId": "b6468088-b42f-4c5e-da9f-0b843bf7b3c1"
      },
      "outputs": [
        {
          "data": {
            "text/plain": [
              "3.125"
            ]
          },
          "execution_count": 69,
          "metadata": {},
          "output_type": "execute_result"
        }
      ],
      "source": [
        "from functools import reduce\n",
        "\n",
        "def mean(x, y):\n",
        "    return (x + y) / 2\n",
        "\n",
        "reduce(mean, [1, 2, 3, 4])"
      ]
    },
    {
      "cell_type": "code",
      "execution_count": null,
      "id": "1b612f7b",
      "metadata": {
        "id": "1b612f7b",
        "outputId": "8937836e-d47b-4f00-a73c-3368d31d2ca0"
      },
      "outputs": [
        {
          "data": {
            "text/plain": [
              "2.0"
            ]
          },
          "execution_count": 70,
          "metadata": {},
          "output_type": "execute_result"
        }
      ],
      "source": [
        "reduce(mean, [4, 2, 3, 1])"
      ]
    },
    {
      "cell_type": "markdown",
      "id": "89be186f",
      "metadata": {
        "id": "89be186f"
      },
      "source": [
        "> Опционально можно задать третий аргумент `initial`. В этом случае функция `reduce()` начнет не с первых двух элементов последовательности, а передаст в агрегирующую функцию значение `initial` и первый элемент последовательности."
      ]
    }
  ],
  "metadata": {
    "colab": {
      "provenance": [],
      "toc_visible": true,
      "include_colab_link": true
    },
    "kernelspec": {
      "display_name": "Python 3 (ipykernel)",
      "language": "python",
      "name": "python3"
    },
    "language_info": {
      "codemirror_mode": {
        "name": "ipython",
        "version": 3
      },
      "file_extension": ".py",
      "mimetype": "text/x-python",
      "name": "python",
      "nbconvert_exporter": "python",
      "pygments_lexer": "ipython3",
      "version": "3.10.10"
    }
  },
  "nbformat": 4,
  "nbformat_minor": 5
}